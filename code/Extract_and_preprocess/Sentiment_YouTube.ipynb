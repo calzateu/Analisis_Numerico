{
  "nbformat": 4,
  "nbformat_minor": 0,
  "metadata": {
    "kernelspec": {
      "language": "python",
      "display_name": "Python 3",
      "name": "python3"
    },
    "language_info": {
      "pygments_lexer": "ipython3",
      "nbconvert_exporter": "python",
      "version": "3.6.4",
      "file_extension": ".py",
      "codemirror_mode": {
        "name": "ipython",
        "version": 3
      },
      "name": "python",
      "mimetype": "text/x-python"
    },
    "colab": {
      "name": "Sentiment_YouTube.ipynb",
      "provenance": [],
      "collapsed_sections": []
    }
  },
  "cells": [
    {
      "cell_type": "code",
      "metadata": {
        "id": "2e_qzhUj0q6v",
        "colab": {
          "base_uri": "https://localhost:8080/"
        },
        "outputId": "bce5f37a-d68f-4da9-afa7-75b96207062c"
      },
      "source": [
        "pip install -U scikit-learn"
      ],
      "execution_count": 4,
      "outputs": [
        {
          "output_type": "stream",
          "name": "stdout",
          "text": [
            "Requirement already satisfied: scikit-learn in /usr/local/lib/python3.7/dist-packages (1.0.1)\n",
            "Requirement already satisfied: joblib>=0.11 in /usr/local/lib/python3.7/dist-packages (from scikit-learn) (1.1.0)\n",
            "Requirement already satisfied: scipy>=1.1.0 in /usr/local/lib/python3.7/dist-packages (from scikit-learn) (1.4.1)\n",
            "Requirement already satisfied: numpy>=1.14.6 in /usr/local/lib/python3.7/dist-packages (from scikit-learn) (1.19.5)\n",
            "Requirement already satisfied: threadpoolctl>=2.0.0 in /usr/local/lib/python3.7/dist-packages (from scikit-learn) (3.0.0)\n"
          ]
        }
      ]
    },
    {
      "cell_type": "code",
      "metadata": {
        "id": "h9_R6yElik_z"
      },
      "source": [
        "import os\n",
        "os.chdir(\"/content/drive/My Drive/Analytic-Steps-blogs/YouTube/Sentiment/fourth_blog/\")"
      ],
      "execution_count": null,
      "outputs": []
    },
    {
      "cell_type": "code",
      "metadata": {
        "_uuid": "8f2839f25d086af736a60e9eeb907d3b93b6e0e5",
        "_cell_guid": "b1076dfc-b9ad-4769-8c92-a6c4dae69d19",
        "trusted": true,
        "id": "Os2Zzeq1fOPk"
      },
      "source": [
        "\n",
        "\n",
        "import numpy as np # linear algebra\n",
        "import pandas as pd # data processing, CSV file I/O (e.g. pd.read_csv)\n",
        "import os\n",
        "import scipy\n",
        "\n",
        "\n",
        "import warnings\n",
        "warnings.filterwarnings(\"ignore\")\n"
      ],
      "execution_count": 5,
      "outputs": []
    },
    {
      "cell_type": "code",
      "metadata": {
        "trusted": true,
        "id": "fgJSTJ_3fOPq"
      },
      "source": [
        "from textblob import TextBlob\n",
        "from sklearn import metrics\n",
        "from mlxtend.plotting import plot_confusion_matrix"
      ],
      "execution_count": 6,
      "outputs": []
    },
    {
      "cell_type": "code",
      "metadata": {
        "id": "u6HBiCN5jz0Z",
        "colab": {
          "base_uri": "https://localhost:8080/"
        },
        "outputId": "f1b7aa06-60c6-4b3f-8297-69dca4d240c6"
      },
      "source": [
        "ls"
      ],
      "execution_count": 8,
      "outputs": [
        {
          "output_type": "stream",
          "name": "stdout",
          "text": [
            "Dataset.csv  \u001b[0m\u001b[01;34msample_data\u001b[0m/\n"
          ]
        }
      ]
    },
    {
      "cell_type": "code",
      "metadata": {
        "trusted": true,
        "id": "7UzPRyFrfOPy"
      },
      "source": [
        "data = pd.read_csv(\"Dataset.csv\")"
      ],
      "execution_count": 9,
      "outputs": []
    },
    {
      "cell_type": "code",
      "metadata": {
        "trusted": true,
        "id": "8oQ_G11BfOP2",
        "colab": {
          "base_uri": "https://localhost:8080/",
          "height": 204
        },
        "outputId": "524bd3a9-c3dd-49c2-aff3-b8406d674a6d"
      },
      "source": [
        "data.head()"
      ],
      "execution_count": 10,
      "outputs": [
        {
          "output_type": "execute_result",
          "data": {
            "text/html": [
              "<div>\n",
              "<style scoped>\n",
              "    .dataframe tbody tr th:only-of-type {\n",
              "        vertical-align: middle;\n",
              "    }\n",
              "\n",
              "    .dataframe tbody tr th {\n",
              "        vertical-align: top;\n",
              "    }\n",
              "\n",
              "    .dataframe thead th {\n",
              "        text-align: right;\n",
              "    }\n",
              "</style>\n",
              "<table border=\"1\" class=\"dataframe\">\n",
              "  <thead>\n",
              "    <tr style=\"text-align: right;\">\n",
              "      <th></th>\n",
              "      <th>Video ID</th>\n",
              "      <th>Comment ID</th>\n",
              "      <th>comments</th>\n",
              "    </tr>\n",
              "  </thead>\n",
              "  <tbody>\n",
              "    <tr>\n",
              "      <th>0</th>\n",
              "      <td>MwpMEbgC7DA</td>\n",
              "      <td>UgwUJGD9twrbc2p5HsF4AaABAg</td>\n",
              "      <td>Who  else  just  randomly  remembered  this  s...</td>\n",
              "    </tr>\n",
              "    <tr>\n",
              "      <th>1</th>\n",
              "      <td>MwpMEbgC7DA</td>\n",
              "      <td>UgwatJec2ipyRetMjPJ4AaABAg</td>\n",
              "      <td>still  can't  realize  its  going  to  be  9th...</td>\n",
              "    </tr>\n",
              "    <tr>\n",
              "      <th>2</th>\n",
              "      <td>MwpMEbgC7DA</td>\n",
              "      <td>UgwUv2-t5p8tboW69vB4AaABAg</td>\n",
              "      <td>It's  October  2021    Let's  See  how  many  ...</td>\n",
              "    </tr>\n",
              "    <tr>\n",
              "      <th>3</th>\n",
              "      <td>MwpMEbgC7DA</td>\n",
              "      <td>UgxAIow1Xkh884IL9V94AaABAg</td>\n",
              "      <td>Timeless  classic    3</td>\n",
              "    </tr>\n",
              "    <tr>\n",
              "      <th>4</th>\n",
              "      <td>MwpMEbgC7DA</td>\n",
              "      <td>UgydlW8DryB7MgHl_5p4AaABAg</td>\n",
              "      <td>This  song  will  never  be  forgotten    Will...</td>\n",
              "    </tr>\n",
              "  </tbody>\n",
              "</table>\n",
              "</div>"
            ],
            "text/plain": [
              "      Video ID  ...                                           comments\n",
              "0  MwpMEbgC7DA  ...  Who  else  just  randomly  remembered  this  s...\n",
              "1  MwpMEbgC7DA  ...  still  can't  realize  its  going  to  be  9th...\n",
              "2  MwpMEbgC7DA  ...  It's  October  2021    Let's  See  how  many  ...\n",
              "3  MwpMEbgC7DA  ...                             Timeless  classic    3\n",
              "4  MwpMEbgC7DA  ...  This  song  will  never  be  forgotten    Will...\n",
              "\n",
              "[5 rows x 3 columns]"
            ]
          },
          "metadata": {},
          "execution_count": 10
        }
      ]
    },
    {
      "cell_type": "code",
      "metadata": {
        "trusted": true,
        "id": "yAKqx7vafOP6",
        "colab": {
          "base_uri": "https://localhost:8080/"
        },
        "outputId": "4084db36-b0a7-4760-e904-6651c49132d7"
      },
      "source": [
        "data.shape"
      ],
      "execution_count": 11,
      "outputs": [
        {
          "output_type": "execute_result",
          "data": {
            "text/plain": [
              "(1067, 3)"
            ]
          },
          "metadata": {},
          "execution_count": 11
        }
      ]
    },
    {
      "cell_type": "code",
      "metadata": {
        "trusted": true,
        "id": "r4vXRYZxfOQH"
      },
      "source": [
        "data['polarity'] = data['comments'].apply(lambda x: TextBlob(x).sentiment.polarity)"
      ],
      "execution_count": 12,
      "outputs": []
    },
    {
      "cell_type": "code",
      "metadata": {
        "trusted": true,
        "id": "F3VyASGDfOQL",
        "colab": {
          "base_uri": "https://localhost:8080/",
          "height": 204
        },
        "outputId": "9450f502-ca1b-4569-9a0d-4665ed87b3b3"
      },
      "source": [
        "data.head()"
      ],
      "execution_count": 13,
      "outputs": [
        {
          "output_type": "execute_result",
          "data": {
            "text/html": [
              "<div>\n",
              "<style scoped>\n",
              "    .dataframe tbody tr th:only-of-type {\n",
              "        vertical-align: middle;\n",
              "    }\n",
              "\n",
              "    .dataframe tbody tr th {\n",
              "        vertical-align: top;\n",
              "    }\n",
              "\n",
              "    .dataframe thead th {\n",
              "        text-align: right;\n",
              "    }\n",
              "</style>\n",
              "<table border=\"1\" class=\"dataframe\">\n",
              "  <thead>\n",
              "    <tr style=\"text-align: right;\">\n",
              "      <th></th>\n",
              "      <th>Video ID</th>\n",
              "      <th>Comment ID</th>\n",
              "      <th>comments</th>\n",
              "      <th>polarity</th>\n",
              "    </tr>\n",
              "  </thead>\n",
              "  <tbody>\n",
              "    <tr>\n",
              "      <th>0</th>\n",
              "      <td>MwpMEbgC7DA</td>\n",
              "      <td>UgwUJGD9twrbc2p5HsF4AaABAg</td>\n",
              "      <td>Who  else  just  randomly  remembered  this  s...</td>\n",
              "      <td>-0.500000</td>\n",
              "    </tr>\n",
              "    <tr>\n",
              "      <th>1</th>\n",
              "      <td>MwpMEbgC7DA</td>\n",
              "      <td>UgwatJec2ipyRetMjPJ4AaABAg</td>\n",
              "      <td>still  can't  realize  its  going  to  be  9th...</td>\n",
              "      <td>0.600000</td>\n",
              "    </tr>\n",
              "    <tr>\n",
              "      <th>2</th>\n",
              "      <td>MwpMEbgC7DA</td>\n",
              "      <td>UgwUv2-t5p8tboW69vB4AaABAg</td>\n",
              "      <td>It's  October  2021    Let's  See  how  many  ...</td>\n",
              "      <td>0.500000</td>\n",
              "    </tr>\n",
              "    <tr>\n",
              "      <th>3</th>\n",
              "      <td>MwpMEbgC7DA</td>\n",
              "      <td>UgxAIow1Xkh884IL9V94AaABAg</td>\n",
              "      <td>Timeless  classic    3</td>\n",
              "      <td>0.166667</td>\n",
              "    </tr>\n",
              "    <tr>\n",
              "      <th>4</th>\n",
              "      <td>MwpMEbgC7DA</td>\n",
              "      <td>UgydlW8DryB7MgHl_5p4AaABAg</td>\n",
              "      <td>This  song  will  never  be  forgotten    Will...</td>\n",
              "      <td>0.166667</td>\n",
              "    </tr>\n",
              "  </tbody>\n",
              "</table>\n",
              "</div>"
            ],
            "text/plain": [
              "      Video ID  ...  polarity\n",
              "0  MwpMEbgC7DA  ... -0.500000\n",
              "1  MwpMEbgC7DA  ...  0.600000\n",
              "2  MwpMEbgC7DA  ...  0.500000\n",
              "3  MwpMEbgC7DA  ...  0.166667\n",
              "4  MwpMEbgC7DA  ...  0.166667\n",
              "\n",
              "[5 rows x 4 columns]"
            ]
          },
          "metadata": {},
          "execution_count": 13
        }
      ]
    },
    {
      "cell_type": "markdown",
      "metadata": {
        "id": "aff7dlQffOQS"
      },
      "source": [
        "## Shuffle the dataset"
      ]
    },
    {
      "cell_type": "code",
      "metadata": {
        "trusted": true,
        "id": "fAvRRLZZfOQS"
      },
      "source": [
        "data = data.sample(frac=1).reset_index(drop=True)"
      ],
      "execution_count": 14,
      "outputs": []
    },
    {
      "cell_type": "code",
      "metadata": {
        "trusted": true,
        "id": "b3l65gBXfOQV"
      },
      "source": [
        "data['pol_cat']  = 0"
      ],
      "execution_count": 15,
      "outputs": []
    },
    {
      "cell_type": "markdown",
      "metadata": {
        "id": "5eApxikxfOQX"
      },
      "source": [
        "Continuous to categorical"
      ]
    },
    {
      "cell_type": "code",
      "metadata": {
        "trusted": true,
        "id": "FjSukaWYfOQY"
      },
      "source": [
        "# data['pol_cat'][data.polarity == 0] = 0\n",
        "data['pol_cat'][data.polarity > 0] = 1\n",
        "data['pol_cat'][data.polarity <= 0] = -1\n"
      ],
      "execution_count": 16,
      "outputs": []
    },
    {
      "cell_type": "code",
      "metadata": {
        "trusted": true,
        "id": "UqA764VKfOQh",
        "colab": {
          "base_uri": "https://localhost:8080/",
          "height": 204
        },
        "outputId": "f7fc04fc-48c4-4b3d-b398-c4db601ccc90"
      },
      "source": [
        "data.head()"
      ],
      "execution_count": 17,
      "outputs": [
        {
          "output_type": "execute_result",
          "data": {
            "text/html": [
              "<div>\n",
              "<style scoped>\n",
              "    .dataframe tbody tr th:only-of-type {\n",
              "        vertical-align: middle;\n",
              "    }\n",
              "\n",
              "    .dataframe tbody tr th {\n",
              "        vertical-align: top;\n",
              "    }\n",
              "\n",
              "    .dataframe thead th {\n",
              "        text-align: right;\n",
              "    }\n",
              "</style>\n",
              "<table border=\"1\" class=\"dataframe\">\n",
              "  <thead>\n",
              "    <tr style=\"text-align: right;\">\n",
              "      <th></th>\n",
              "      <th>Video ID</th>\n",
              "      <th>Comment ID</th>\n",
              "      <th>comments</th>\n",
              "      <th>polarity</th>\n",
              "      <th>pol_cat</th>\n",
              "    </tr>\n",
              "  </thead>\n",
              "  <tbody>\n",
              "    <tr>\n",
              "      <th>0</th>\n",
              "      <td>MwpMEbgC7DA</td>\n",
              "      <td>UgxRaaXSvOnxOpx2XBZ4AaABAg</td>\n",
              "      <td>why    have  i  just  realised  just  now  tha...</td>\n",
              "      <td>0.600000</td>\n",
              "      <td>1</td>\n",
              "    </tr>\n",
              "    <tr>\n",
              "      <th>1</th>\n",
              "      <td>MwpMEbgC7DA</td>\n",
              "      <td>UgwJ8rCuePPDV8yKzs14AaABAg</td>\n",
              "      <td>This  is  my  comfort  song    it  makes  me  ...</td>\n",
              "      <td>0.200000</td>\n",
              "      <td>1</td>\n",
              "    </tr>\n",
              "    <tr>\n",
              "      <th>2</th>\n",
              "      <td>MwpMEbgC7DA</td>\n",
              "      <td>UgydlW8DryB7MgHl_5p4AaABAg</td>\n",
              "      <td>This  song  will  never  be  forgotten    Will...</td>\n",
              "      <td>0.166667</td>\n",
              "      <td>1</td>\n",
              "    </tr>\n",
              "    <tr>\n",
              "      <th>3</th>\n",
              "      <td>MwpMEbgC7DA</td>\n",
              "      <td>UgyBWzS2Kg_xBe0oGgJ4AaABAg</td>\n",
              "      <td>I  came  here  after  vampire  diaries  season  6</td>\n",
              "      <td>0.000000</td>\n",
              "      <td>-1</td>\n",
              "    </tr>\n",
              "    <tr>\n",
              "      <th>4</th>\n",
              "      <td>MwpMEbgC7DA</td>\n",
              "      <td>UgxIQvlfp3yXOEGCXn54AaABAg</td>\n",
              "      <td>I  was  here  in  2021  and  i  will  be  here...</td>\n",
              "      <td>0.000000</td>\n",
              "      <td>-1</td>\n",
              "    </tr>\n",
              "  </tbody>\n",
              "</table>\n",
              "</div>"
            ],
            "text/plain": [
              "      Video ID                  Comment ID  ...  polarity  pol_cat\n",
              "0  MwpMEbgC7DA  UgxRaaXSvOnxOpx2XBZ4AaABAg  ...  0.600000        1\n",
              "1  MwpMEbgC7DA  UgwJ8rCuePPDV8yKzs14AaABAg  ...  0.200000        1\n",
              "2  MwpMEbgC7DA  UgydlW8DryB7MgHl_5p4AaABAg  ...  0.166667        1\n",
              "3  MwpMEbgC7DA  UgyBWzS2Kg_xBe0oGgJ4AaABAg  ...  0.000000       -1\n",
              "4  MwpMEbgC7DA  UgxIQvlfp3yXOEGCXn54AaABAg  ...  0.000000       -1\n",
              "\n",
              "[5 rows x 5 columns]"
            ]
          },
          "metadata": {},
          "execution_count": 17
        }
      ]
    },
    {
      "cell_type": "code",
      "metadata": {
        "trusted": true,
        "id": "HjyjS1yqfOQx",
        "colab": {
          "base_uri": "https://localhost:8080/"
        },
        "outputId": "c74a7f83-be51-4a21-fe71-dd6c94cbf78b"
      },
      "source": [
        "data['pol_cat'].value_counts()"
      ],
      "execution_count": 18,
      "outputs": [
        {
          "output_type": "execute_result",
          "data": {
            "text/plain": [
              "-1    565\n",
              " 1    502\n",
              "Name: pol_cat, dtype: int64"
            ]
          },
          "metadata": {},
          "execution_count": 18
        }
      ]
    },
    {
      "cell_type": "markdown",
      "metadata": {
        "id": "GUaFvHcLfOQ2"
      },
      "source": [
        "Create separate dataframes for Negative,Positive & Neutral comments "
      ]
    },
    {
      "cell_type": "code",
      "metadata": {
        "trusted": true,
        "id": "AFKmSBwcfOQ3"
      },
      "source": [
        "data_pos = data[data['pol_cat'] == 1]\n",
        "data_pos = data_pos.reset_index(drop = True)\n",
        "\n",
        "data_neg = data[data['pol_cat'] == -1]\n",
        "data_neg = data_neg.reset_index(drop = True)\n",
        "\n",
        "# data_neutral = data[data['pol_cat'] == 0]\n",
        "# data_neutral = data_neutral.reset_index(drop = True)"
      ],
      "execution_count": 19,
      "outputs": []
    },
    {
      "cell_type": "code",
      "metadata": {
        "trusted": true,
        "id": "viYbRp2ifOQ-",
        "colab": {
          "base_uri": "https://localhost:8080/",
          "height": 204
        },
        "outputId": "90cefd3a-3e66-4346-8d3d-7d3533c1ac86"
      },
      "source": [
        "data_pos.head()"
      ],
      "execution_count": 20,
      "outputs": [
        {
          "output_type": "execute_result",
          "data": {
            "text/html": [
              "<div>\n",
              "<style scoped>\n",
              "    .dataframe tbody tr th:only-of-type {\n",
              "        vertical-align: middle;\n",
              "    }\n",
              "\n",
              "    .dataframe tbody tr th {\n",
              "        vertical-align: top;\n",
              "    }\n",
              "\n",
              "    .dataframe thead th {\n",
              "        text-align: right;\n",
              "    }\n",
              "</style>\n",
              "<table border=\"1\" class=\"dataframe\">\n",
              "  <thead>\n",
              "    <tr style=\"text-align: right;\">\n",
              "      <th></th>\n",
              "      <th>Video ID</th>\n",
              "      <th>Comment ID</th>\n",
              "      <th>comments</th>\n",
              "      <th>polarity</th>\n",
              "      <th>pol_cat</th>\n",
              "    </tr>\n",
              "  </thead>\n",
              "  <tbody>\n",
              "    <tr>\n",
              "      <th>0</th>\n",
              "      <td>MwpMEbgC7DA</td>\n",
              "      <td>UgxRaaXSvOnxOpx2XBZ4AaABAg</td>\n",
              "      <td>why    have  i  just  realised  just  now  tha...</td>\n",
              "      <td>0.600000</td>\n",
              "      <td>1</td>\n",
              "    </tr>\n",
              "    <tr>\n",
              "      <th>1</th>\n",
              "      <td>MwpMEbgC7DA</td>\n",
              "      <td>UgwJ8rCuePPDV8yKzs14AaABAg</td>\n",
              "      <td>This  is  my  comfort  song    it  makes  me  ...</td>\n",
              "      <td>0.200000</td>\n",
              "      <td>1</td>\n",
              "    </tr>\n",
              "    <tr>\n",
              "      <th>2</th>\n",
              "      <td>MwpMEbgC7DA</td>\n",
              "      <td>UgydlW8DryB7MgHl_5p4AaABAg</td>\n",
              "      <td>This  song  will  never  be  forgotten    Will...</td>\n",
              "      <td>0.166667</td>\n",
              "      <td>1</td>\n",
              "    </tr>\n",
              "    <tr>\n",
              "      <th>3</th>\n",
              "      <td>MwpMEbgC7DA</td>\n",
              "      <td>Ugjo13NqRq4553gCoAEC</td>\n",
              "      <td>I  wanna  take  you  somewhere  so  you  know ...</td>\n",
              "      <td>0.356897</td>\n",
              "      <td>1</td>\n",
              "    </tr>\n",
              "    <tr>\n",
              "      <th>4</th>\n",
              "      <td>MwpMEbgC7DA</td>\n",
              "      <td>UgzR2lWAvrfjYlbfEoB4AaABAg</td>\n",
              "      <td>I  wanna  take  you  somewhere  so  you  know ...</td>\n",
              "      <td>0.356897</td>\n",
              "      <td>1</td>\n",
              "    </tr>\n",
              "  </tbody>\n",
              "</table>\n",
              "</div>"
            ],
            "text/plain": [
              "      Video ID                  Comment ID  ...  polarity  pol_cat\n",
              "0  MwpMEbgC7DA  UgxRaaXSvOnxOpx2XBZ4AaABAg  ...  0.600000        1\n",
              "1  MwpMEbgC7DA  UgwJ8rCuePPDV8yKzs14AaABAg  ...  0.200000        1\n",
              "2  MwpMEbgC7DA  UgydlW8DryB7MgHl_5p4AaABAg  ...  0.166667        1\n",
              "3  MwpMEbgC7DA        Ugjo13NqRq4553gCoAEC  ...  0.356897        1\n",
              "4  MwpMEbgC7DA  UgzR2lWAvrfjYlbfEoB4AaABAg  ...  0.356897        1\n",
              "\n",
              "[5 rows x 5 columns]"
            ]
          },
          "metadata": {},
          "execution_count": 20
        }
      ]
    },
    {
      "cell_type": "code",
      "metadata": {
        "trusted": true,
        "id": "LMQlLiuhfORF",
        "colab": {
          "base_uri": "https://localhost:8080/"
        },
        "outputId": "c0e225d1-2f33-426f-e94e-82928b73c9bf"
      },
      "source": [
        "data_pos.shape"
      ],
      "execution_count": 21,
      "outputs": [
        {
          "output_type": "execute_result",
          "data": {
            "text/plain": [
              "(502, 5)"
            ]
          },
          "metadata": {},
          "execution_count": 21
        }
      ]
    },
    {
      "cell_type": "code",
      "metadata": {
        "trusted": true,
        "id": "uEpv5BBDfORJ",
        "colab": {
          "base_uri": "https://localhost:8080/",
          "height": 204
        },
        "outputId": "c20468ae-ac25-4d20-a475-75189d5489a9"
      },
      "source": [
        "data_neg.head()"
      ],
      "execution_count": 22,
      "outputs": [
        {
          "output_type": "execute_result",
          "data": {
            "text/html": [
              "<div>\n",
              "<style scoped>\n",
              "    .dataframe tbody tr th:only-of-type {\n",
              "        vertical-align: middle;\n",
              "    }\n",
              "\n",
              "    .dataframe tbody tr th {\n",
              "        vertical-align: top;\n",
              "    }\n",
              "\n",
              "    .dataframe thead th {\n",
              "        text-align: right;\n",
              "    }\n",
              "</style>\n",
              "<table border=\"1\" class=\"dataframe\">\n",
              "  <thead>\n",
              "    <tr style=\"text-align: right;\">\n",
              "      <th></th>\n",
              "      <th>Video ID</th>\n",
              "      <th>Comment ID</th>\n",
              "      <th>comments</th>\n",
              "      <th>polarity</th>\n",
              "      <th>pol_cat</th>\n",
              "    </tr>\n",
              "  </thead>\n",
              "  <tbody>\n",
              "    <tr>\n",
              "      <th>0</th>\n",
              "      <td>MwpMEbgC7DA</td>\n",
              "      <td>UgyBWzS2Kg_xBe0oGgJ4AaABAg</td>\n",
              "      <td>I  came  here  after  vampire  diaries  season  6</td>\n",
              "      <td>0.000000</td>\n",
              "      <td>-1</td>\n",
              "    </tr>\n",
              "    <tr>\n",
              "      <th>1</th>\n",
              "      <td>MwpMEbgC7DA</td>\n",
              "      <td>UgxIQvlfp3yXOEGCXn54AaABAg</td>\n",
              "      <td>I  was  here  in  2021  and  i  will  be  here...</td>\n",
              "      <td>0.000000</td>\n",
              "      <td>-1</td>\n",
              "    </tr>\n",
              "    <tr>\n",
              "      <th>2</th>\n",
              "      <td>MwpMEbgC7DA</td>\n",
              "      <td>UgxdTG3rJbqJRfUs1at4AaABAg</td>\n",
              "      <td>Pov    you're  9  years  later</td>\n",
              "      <td>0.000000</td>\n",
              "      <td>-1</td>\n",
              "    </tr>\n",
              "    <tr>\n",
              "      <th>3</th>\n",
              "      <td>MwpMEbgC7DA</td>\n",
              "      <td>Ugw6lEn_5ReUJX506614AaABAg</td>\n",
              "      <td>Let  s  see  how  muny  people  are  listening...</td>\n",
              "      <td>0.000000</td>\n",
              "      <td>-1</td>\n",
              "    </tr>\n",
              "    <tr>\n",
              "      <th>4</th>\n",
              "      <td>MwpMEbgC7DA</td>\n",
              "      <td>UgzwkrWpL3FPed-l0qF4AaABAg</td>\n",
              "      <td>Its  so  hard  to  not  cry  while  listening ...</td>\n",
              "      <td>-0.291667</td>\n",
              "      <td>-1</td>\n",
              "    </tr>\n",
              "  </tbody>\n",
              "</table>\n",
              "</div>"
            ],
            "text/plain": [
              "      Video ID                  Comment ID  ...  polarity  pol_cat\n",
              "0  MwpMEbgC7DA  UgyBWzS2Kg_xBe0oGgJ4AaABAg  ...  0.000000       -1\n",
              "1  MwpMEbgC7DA  UgxIQvlfp3yXOEGCXn54AaABAg  ...  0.000000       -1\n",
              "2  MwpMEbgC7DA  UgxdTG3rJbqJRfUs1at4AaABAg  ...  0.000000       -1\n",
              "3  MwpMEbgC7DA  Ugw6lEn_5ReUJX506614AaABAg  ...  0.000000       -1\n",
              "4  MwpMEbgC7DA  UgzwkrWpL3FPed-l0qF4AaABAg  ... -0.291667       -1\n",
              "\n",
              "[5 rows x 5 columns]"
            ]
          },
          "metadata": {},
          "execution_count": 22
        }
      ]
    },
    {
      "cell_type": "code",
      "metadata": {
        "trusted": true,
        "id": "Zv_eLUh8fORS",
        "colab": {
          "base_uri": "https://localhost:8080/",
          "height": 35
        },
        "outputId": "4aeb00f1-946d-4011-8ac7-7576cad42f66"
      },
      "source": [
        "data_neg['comments'][40]"
      ],
      "execution_count": 23,
      "outputs": [
        {
          "output_type": "execute_result",
          "data": {
            "application/vnd.google.colaboratory.intrinsic+json": {
              "type": "string"
            },
            "text/plain": [
              "'Legends  watch    this  in  2030'"
            ]
          },
          "metadata": {},
          "execution_count": 23
        }
      ]
    },
    {
      "cell_type": "code",
      "metadata": {
        "trusted": true,
        "id": "-Js16up1fORW",
        "colab": {
          "base_uri": "https://localhost:8080/",
          "height": 316
        },
        "outputId": "31f3ae42-a4ac-40c0-9561-680d5241e58e"
      },
      "source": [
        "data.pol_cat.value_counts().plot.bar()\n",
        "data.pol_cat.value_counts()"
      ],
      "execution_count": 24,
      "outputs": [
        {
          "output_type": "execute_result",
          "data": {
            "text/plain": [
              "-1    565\n",
              " 1    502\n",
              "Name: pol_cat, dtype: int64"
            ]
          },
          "metadata": {},
          "execution_count": 24
        },
        {
          "output_type": "display_data",
          "data": {
            "image/png": "[encoded data removed]",
            "text/plain": [
              "<Figure size 432x288 with 1 Axes>"
            ]
          },
          "metadata": {
            "needs_background": "light"
          }
        }
      ]
    },
    {
      "cell_type": "markdown",
      "metadata": {
        "id": "uPIRm-0gfORj"
      },
      "source": [
        "## Data Preprocessing"
      ]
    },
    {
      "cell_type": "markdown",
      "metadata": {
        "id": "ADfF9AAZfORk"
      },
      "source": [
        "Lower the text in comments"
      ]
    },
    {
      "cell_type": "code",
      "metadata": {
        "trusted": true,
        "id": "zcUC0pIFfORl"
      },
      "source": [
        "data['comments'] = data['comments'].str.lower()"
      ],
      "execution_count": 25,
      "outputs": []
    },
    {
      "cell_type": "code",
      "metadata": {
        "trusted": true,
        "id": "X14Mvov6fORr",
        "colab": {
          "base_uri": "https://localhost:8080/"
        },
        "outputId": "3a0342e6-6410-4bfc-8e05-2e3eb9b3b55d"
      },
      "source": [
        "data['comments'].head()"
      ],
      "execution_count": 26,
      "outputs": [
        {
          "output_type": "execute_result",
          "data": {
            "text/plain": [
              "0    why    have  i  just  realised  just  now  tha...\n",
              "1    this  is  my  comfort  song    it  makes  me  ...\n",
              "2    this  song  will  never  be  forgotten    will...\n",
              "3    i  came  here  after  vampire  diaries  season  6\n",
              "4    i  was  here  in  2021  and  i  will  be  here...\n",
              "Name: comments, dtype: object"
            ]
          },
          "metadata": {},
          "execution_count": 26
        }
      ]
    },
    {
      "cell_type": "code",
      "metadata": {
        "trusted": true,
        "id": "5yFhcEwffORz",
        "colab": {
          "base_uri": "https://localhost:8080/",
          "height": 297
        },
        "outputId": "4aad16d4-8f16-4968-c147-ad4aeb335099"
      },
      "source": [
        "data.describe()"
      ],
      "execution_count": 27,
      "outputs": [
        {
          "output_type": "execute_result",
          "data": {
            "text/html": [
              "<div>\n",
              "<style scoped>\n",
              "    .dataframe tbody tr th:only-of-type {\n",
              "        vertical-align: middle;\n",
              "    }\n",
              "\n",
              "    .dataframe tbody tr th {\n",
              "        vertical-align: top;\n",
              "    }\n",
              "\n",
              "    .dataframe thead th {\n",
              "        text-align: right;\n",
              "    }\n",
              "</style>\n",
              "<table border=\"1\" class=\"dataframe\">\n",
              "  <thead>\n",
              "    <tr style=\"text-align: right;\">\n",
              "      <th></th>\n",
              "      <th>polarity</th>\n",
              "      <th>pol_cat</th>\n",
              "    </tr>\n",
              "  </thead>\n",
              "  <tbody>\n",
              "    <tr>\n",
              "      <th>count</th>\n",
              "      <td>1067.000000</td>\n",
              "      <td>1067.000000</td>\n",
              "    </tr>\n",
              "    <tr>\n",
              "      <th>mean</th>\n",
              "      <td>0.162778</td>\n",
              "      <td>-0.059044</td>\n",
              "    </tr>\n",
              "    <tr>\n",
              "      <th>std</th>\n",
              "      <td>0.327622</td>\n",
              "      <td>0.998723</td>\n",
              "    </tr>\n",
              "    <tr>\n",
              "      <th>min</th>\n",
              "      <td>-1.000000</td>\n",
              "      <td>-1.000000</td>\n",
              "    </tr>\n",
              "    <tr>\n",
              "      <th>25%</th>\n",
              "      <td>0.000000</td>\n",
              "      <td>-1.000000</td>\n",
              "    </tr>\n",
              "    <tr>\n",
              "      <th>50%</th>\n",
              "      <td>0.000000</td>\n",
              "      <td>-1.000000</td>\n",
              "    </tr>\n",
              "    <tr>\n",
              "      <th>75%</th>\n",
              "      <td>0.361667</td>\n",
              "      <td>1.000000</td>\n",
              "    </tr>\n",
              "    <tr>\n",
              "      <th>max</th>\n",
              "      <td>1.000000</td>\n",
              "      <td>1.000000</td>\n",
              "    </tr>\n",
              "  </tbody>\n",
              "</table>\n",
              "</div>"
            ],
            "text/plain": [
              "          polarity      pol_cat\n",
              "count  1067.000000  1067.000000\n",
              "mean      0.162778    -0.059044\n",
              "std       0.327622     0.998723\n",
              "min      -1.000000    -1.000000\n",
              "25%       0.000000    -1.000000\n",
              "50%       0.000000    -1.000000\n",
              "75%       0.361667     1.000000\n",
              "max       1.000000     1.000000"
            ]
          },
          "metadata": {},
          "execution_count": 27
        }
      ]
    },
    {
      "cell_type": "code",
      "metadata": {
        "trusted": true,
        "id": "km6dIMhWfOR5",
        "colab": {
          "base_uri": "https://localhost:8080/"
        },
        "outputId": "58a28dc6-9bc3-4383-8b39-d51de0cfea46"
      },
      "source": [
        "data.info()"
      ],
      "execution_count": 28,
      "outputs": [
        {
          "output_type": "stream",
          "name": "stdout",
          "text": [
            "<class 'pandas.core.frame.DataFrame'>\n",
            "RangeIndex: 1067 entries, 0 to 1066\n",
            "Data columns (total 5 columns):\n",
            " #   Column      Non-Null Count  Dtype  \n",
            "---  ------      --------------  -----  \n",
            " 0   Video ID    1067 non-null   object \n",
            " 1   Comment ID  1067 non-null   object \n",
            " 2   comments    1067 non-null   object \n",
            " 3   polarity    1067 non-null   float64\n",
            " 4   pol_cat     1067 non-null   int64  \n",
            "dtypes: float64(1), int64(1), object(3)\n",
            "memory usage: 41.8+ KB\n"
          ]
        }
      ]
    },
    {
      "cell_type": "code",
      "metadata": {
        "trusted": true,
        "id": "avjaCC79fOSE",
        "colab": {
          "base_uri": "https://localhost:8080/",
          "height": 35
        },
        "outputId": "5ed1692d-a8e9-4e3d-8116-53b0ef7a408d"
      },
      "source": [
        "data['comments'][0]"
      ],
      "execution_count": 29,
      "outputs": [
        {
          "output_type": "execute_result",
          "data": {
            "application/vnd.google.colaboratory.intrinsic+json": {
              "type": "string"
            },
            "text/plain": [
              "'why    have  i  just  realised  just  now  that  he  has  a  karen  cut  lmao'"
            ]
          },
          "metadata": {},
          "execution_count": 29
        }
      ]
    },
    {
      "cell_type": "code",
      "metadata": {
        "trusted": true,
        "id": "V4zfsTUifOSO",
        "colab": {
          "base_uri": "https://localhost:8080/",
          "height": 35
        },
        "outputId": "0e7fedab-34d5-4aa1-9982-5ec30c9c0bfa"
      },
      "source": [
        "data['comments'][0].strip()"
      ],
      "execution_count": 30,
      "outputs": [
        {
          "output_type": "execute_result",
          "data": {
            "application/vnd.google.colaboratory.intrinsic+json": {
              "type": "string"
            },
            "text/plain": [
              "'why    have  i  just  realised  just  now  that  he  has  a  karen  cut  lmao'"
            ]
          },
          "metadata": {},
          "execution_count": 30
        }
      ]
    },
    {
      "cell_type": "code",
      "metadata": {
        "id": "pVxZ8KK_vbm4",
        "colab": {
          "base_uri": "https://localhost:8080/"
        },
        "outputId": "7b1b582b-d0d6-4ed1-a82e-25d5ad081448"
      },
      "source": [
        "import nltk\n",
        "nltk.download(\"stopwords\")"
      ],
      "execution_count": 31,
      "outputs": [
        {
          "output_type": "stream",
          "name": "stdout",
          "text": [
            "[nltk_data] Downloading package stopwords to /root/nltk_data...\n",
            "[nltk_data]   Unzipping corpora/stopwords.zip.\n"
          ]
        },
        {
          "output_type": "execute_result",
          "data": {
            "text/plain": [
              "True"
            ]
          },
          "metadata": {},
          "execution_count": 31
        }
      ]
    },
    {
      "cell_type": "code",
      "metadata": {
        "id": "ugZWXdNOyBKq",
        "colab": {
          "base_uri": "https://localhost:8080/"
        },
        "outputId": "97ecb296-bb8b-49dd-cdc5-5ea14138fa80"
      },
      "source": [
        "nltk.download(\"punkt\")"
      ],
      "execution_count": 33,
      "outputs": [
        {
          "output_type": "stream",
          "name": "stdout",
          "text": [
            "[nltk_data] Downloading package punkt to /root/nltk_data...\n",
            "[nltk_data]   Package punkt is already up-to-date!\n"
          ]
        },
        {
          "output_type": "execute_result",
          "data": {
            "text/plain": [
              "True"
            ]
          },
          "metadata": {},
          "execution_count": 33
        }
      ]
    },
    {
      "cell_type": "code",
      "metadata": {
        "trusted": true,
        "id": "fC4ig8cyfOSa"
      },
      "source": [
        "from nltk.corpus import stopwords\n",
        "from nltk import word_tokenize\n",
        "import string\n",
        "import re\n",
        "import nltk"
      ],
      "execution_count": 34,
      "outputs": []
    },
    {
      "cell_type": "code",
      "metadata": {
        "id": "FdcsbqXTvYLB",
        "colab": {
          "base_uri": "https://localhost:8080/"
        },
        "outputId": "abfbfb57-8e70-4859-f162-8ad8943c6495"
      },
      "source": [
        "print(stopwords.words('english'))"
      ],
      "execution_count": 35,
      "outputs": [
        {
          "output_type": "stream",
          "name": "stdout",
          "text": [
            "['i', 'me', 'my', 'myself', 'we', 'our', 'ours', 'ourselves', 'you', \"you're\", \"you've\", \"you'll\", \"you'd\", 'your', 'yours', 'yourself', 'yourselves', 'he', 'him', 'his', 'himself', 'she', \"she's\", 'her', 'hers', 'herself', 'it', \"it's\", 'its', 'itself', 'they', 'them', 'their', 'theirs', 'themselves', 'what', 'which', 'who', 'whom', 'this', 'that', \"that'll\", 'these', 'those', 'am', 'is', 'are', 'was', 'were', 'be', 'been', 'being', 'have', 'has', 'had', 'having', 'do', 'does', 'did', 'doing', 'a', 'an', 'the', 'and', 'but', 'if', 'or', 'because', 'as', 'until', 'while', 'of', 'at', 'by', 'for', 'with', 'about', 'against', 'between', 'into', 'through', 'during', 'before', 'after', 'above', 'below', 'to', 'from', 'up', 'down', 'in', 'out', 'on', 'off', 'over', 'under', 'again', 'further', 'then', 'once', 'here', 'there', 'when', 'where', 'why', 'how', 'all', 'any', 'both', 'each', 'few', 'more', 'most', 'other', 'some', 'such', 'no', 'nor', 'not', 'only', 'own', 'same', 'so', 'than', 'too', 'very', 's', 't', 'can', 'will', 'just', 'don', \"don't\", 'should', \"should've\", 'now', 'd', 'll', 'm', 'o', 're', 've', 'y', 'ain', 'aren', \"aren't\", 'couldn', \"couldn't\", 'didn', \"didn't\", 'doesn', \"doesn't\", 'hadn', \"hadn't\", 'hasn', \"hasn't\", 'haven', \"haven't\", 'isn', \"isn't\", 'ma', 'mightn', \"mightn't\", 'mustn', \"mustn't\", 'needn', \"needn't\", 'shan', \"shan't\", 'shouldn', \"shouldn't\", 'wasn', \"wasn't\", 'weren', \"weren't\", 'won', \"won't\", 'wouldn', \"wouldn't\"]\n"
          ]
        }
      ]
    },
    {
      "cell_type": "code",
      "metadata": {
        "trusted": true,
        "id": "pYrDplBYfOSc"
      },
      "source": [
        "stop_words = set(stopwords.words('english'))"
      ],
      "execution_count": 36,
      "outputs": []
    },
    {
      "cell_type": "code",
      "metadata": {
        "trusted": true,
        "id": "k-kxFfPlfOSe"
      },
      "source": [
        "data['comments'] = data['comments'].str.strip()"
      ],
      "execution_count": null,
      "outputs": []
    },
    {
      "cell_type": "code",
      "metadata": {
        "trusted": true,
        "id": "QOJwKjV5fOSh"
      },
      "source": [
        "train = data.copy()"
      ],
      "execution_count": 37,
      "outputs": []
    },
    {
      "cell_type": "code",
      "metadata": {
        "trusted": true,
        "id": "QFxxu3HLfOSn"
      },
      "source": [
        "train['comments'] = train['comments'].str.strip()"
      ],
      "execution_count": 38,
      "outputs": []
    },
    {
      "cell_type": "code",
      "metadata": {
        "trusted": true,
        "id": "MEYK2fHjfOSq",
        "colab": {
          "base_uri": "https://localhost:8080/",
          "height": 35
        },
        "outputId": "725cdc73-6395-4fde-fe0a-ecffdaacfd98"
      },
      "source": [
        "train['comments'][0]"
      ],
      "execution_count": 39,
      "outputs": [
        {
          "output_type": "execute_result",
          "data": {
            "application/vnd.google.colaboratory.intrinsic+json": {
              "type": "string"
            },
            "text/plain": [
              "'why    have  i  just  realised  just  now  that  he  has  a  karen  cut  lmao'"
            ]
          },
          "metadata": {},
          "execution_count": 39
        }
      ]
    },
    {
      "cell_type": "code",
      "metadata": {
        "trusted": true,
        "id": "7dutEBJ9fOSt"
      },
      "source": [
        "def remove_stopwords(line):\n",
        "    word_tokens = word_tokenize(line)\n",
        "    filtered_sentence = [w for w in word_tokens if not w in stop_words]\n",
        "    return \" \".join(filtered_sentence)"
      ],
      "execution_count": 40,
      "outputs": []
    },
    {
      "cell_type": "code",
      "metadata": {
        "trusted": true,
        "id": "N6_eOPkLfOSy"
      },
      "source": [
        "data['stop_comments'] = data['comments'].apply(lambda x : remove_stopwords(x))"
      ],
      "execution_count": 41,
      "outputs": []
    },
    {
      "cell_type": "code",
      "metadata": {
        "trusted": true,
        "id": "ecShTkF6fOS3",
        "colab": {
          "base_uri": "https://localhost:8080/",
          "height": 323
        },
        "outputId": "95f95edd-bedc-4f82-9196-e419c1ac3136"
      },
      "source": [
        "data.head()"
      ],
      "execution_count": 42,
      "outputs": [
        {
          "output_type": "execute_result",
          "data": {
            "text/html": [
              "<div>\n",
              "<style scoped>\n",
              "    .dataframe tbody tr th:only-of-type {\n",
              "        vertical-align: middle;\n",
              "    }\n",
              "\n",
              "    .dataframe tbody tr th {\n",
              "        vertical-align: top;\n",
              "    }\n",
              "\n",
              "    .dataframe thead th {\n",
              "        text-align: right;\n",
              "    }\n",
              "</style>\n",
              "<table border=\"1\" class=\"dataframe\">\n",
              "  <thead>\n",
              "    <tr style=\"text-align: right;\">\n",
              "      <th></th>\n",
              "      <th>Video ID</th>\n",
              "      <th>Comment ID</th>\n",
              "      <th>comments</th>\n",
              "      <th>polarity</th>\n",
              "      <th>pol_cat</th>\n",
              "      <th>stop_comments</th>\n",
              "    </tr>\n",
              "  </thead>\n",
              "  <tbody>\n",
              "    <tr>\n",
              "      <th>0</th>\n",
              "      <td>MwpMEbgC7DA</td>\n",
              "      <td>UgxRaaXSvOnxOpx2XBZ4AaABAg</td>\n",
              "      <td>why    have  i  just  realised  just  now  tha...</td>\n",
              "      <td>0.600000</td>\n",
              "      <td>1</td>\n",
              "      <td>realised karen cut lmao</td>\n",
              "    </tr>\n",
              "    <tr>\n",
              "      <th>1</th>\n",
              "      <td>MwpMEbgC7DA</td>\n",
              "      <td>UgwJ8rCuePPDV8yKzs14AaABAg</td>\n",
              "      <td>this  is  my  comfort  song    it  makes  me  ...</td>\n",
              "      <td>0.200000</td>\n",
              "      <td>1</td>\n",
              "      <td>comfort song makes feel every emotion need fee...</td>\n",
              "    </tr>\n",
              "    <tr>\n",
              "      <th>2</th>\n",
              "      <td>MwpMEbgC7DA</td>\n",
              "      <td>UgydlW8DryB7MgHl_5p4AaABAg</td>\n",
              "      <td>this  song  will  never  be  forgotten    will...</td>\n",
              "      <td>0.166667</td>\n",
              "      <td>1</td>\n",
              "      <td>song never forgotten pass generations classic ...</td>\n",
              "    </tr>\n",
              "    <tr>\n",
              "      <th>3</th>\n",
              "      <td>MwpMEbgC7DA</td>\n",
              "      <td>UgyBWzS2Kg_xBe0oGgJ4AaABAg</td>\n",
              "      <td>i  came  here  after  vampire  diaries  season  6</td>\n",
              "      <td>0.000000</td>\n",
              "      <td>-1</td>\n",
              "      <td>came vampire diaries season 6</td>\n",
              "    </tr>\n",
              "    <tr>\n",
              "      <th>4</th>\n",
              "      <td>MwpMEbgC7DA</td>\n",
              "      <td>UgxIQvlfp3yXOEGCXn54AaABAg</td>\n",
              "      <td>i  was  here  in  2021  and  i  will  be  here...</td>\n",
              "      <td>0.000000</td>\n",
              "      <td>-1</td>\n",
              "      <td>2021 2022 2023 2024 die</td>\n",
              "    </tr>\n",
              "  </tbody>\n",
              "</table>\n",
              "</div>"
            ],
            "text/plain": [
              "      Video ID  ...                                      stop_comments\n",
              "0  MwpMEbgC7DA  ...                            realised karen cut lmao\n",
              "1  MwpMEbgC7DA  ...  comfort song makes feel every emotion need fee...\n",
              "2  MwpMEbgC7DA  ...  song never forgotten pass generations classic ...\n",
              "3  MwpMEbgC7DA  ...                      came vampire diaries season 6\n",
              "4  MwpMEbgC7DA  ...                            2021 2022 2023 2024 die\n",
              "\n",
              "[5 rows x 6 columns]"
            ]
          },
          "metadata": {},
          "execution_count": 42
        }
      ]
    },
    {
      "cell_type": "code",
      "metadata": {
        "trusted": true,
        "id": "7H8Xj_JRfOS7"
      },
      "source": [
        "from sklearn.model_selection import train_test_split"
      ],
      "execution_count": 43,
      "outputs": []
    },
    {
      "cell_type": "code",
      "metadata": {
        "trusted": true,
        "id": "PaoU_bOvfOTN"
      },
      "source": [
        "X_train,X_test,y_train,y_test = train_test_split(data['stop_comments'],data['pol_cat'],test_size = 0.2,random_state = 324)"
      ],
      "execution_count": 44,
      "outputs": []
    },
    {
      "cell_type": "code",
      "metadata": {
        "trusted": true,
        "id": "3zj--smRfOTP",
        "colab": {
          "base_uri": "https://localhost:8080/"
        },
        "outputId": "2b69ad7e-d86a-4b88-9f36-402d56b3c115"
      },
      "source": [
        "X_train.shape"
      ],
      "execution_count": 45,
      "outputs": [
        {
          "output_type": "execute_result",
          "data": {
            "text/plain": [
              "(853,)"
            ]
          },
          "metadata": {},
          "execution_count": 45
        }
      ]
    },
    {
      "cell_type": "code",
      "metadata": {
        "trusted": true,
        "id": "U05hiD8DfOTS",
        "colab": {
          "base_uri": "https://localhost:8080/"
        },
        "outputId": "e147cf3a-ebcf-4970-8037-80a1f7a5550c"
      },
      "source": [
        "X_test.shape"
      ],
      "execution_count": 46,
      "outputs": [
        {
          "output_type": "execute_result",
          "data": {
            "text/plain": [
              "(214,)"
            ]
          },
          "metadata": {},
          "execution_count": 46
        }
      ]
    },
    {
      "cell_type": "code",
      "metadata": {
        "trusted": true,
        "id": "dlw1BR_ufOTe",
        "colab": {
          "base_uri": "https://localhost:8080/"
        },
        "outputId": "a2916952-4185-43ce-a6c0-41eb163eea7b"
      },
      "source": [
        "data['pol_cat'].value_counts()"
      ],
      "execution_count": 47,
      "outputs": [
        {
          "output_type": "execute_result",
          "data": {
            "text/plain": [
              "-1    565\n",
              " 1    502\n",
              "Name: pol_cat, dtype: int64"
            ]
          },
          "metadata": {},
          "execution_count": 47
        }
      ]
    },
    {
      "cell_type": "markdown",
      "metadata": {
        "id": "xGaouqyyfOTi"
      },
      "source": [
        "## Gonna Apply Logistic Regression"
      ]
    },
    {
      "cell_type": "code",
      "metadata": {
        "trusted": true,
        "id": "Y2rtvhbufOTj"
      },
      "source": [
        "from sklearn.feature_extraction.text import CountVectorizer"
      ],
      "execution_count": 49,
      "outputs": []
    },
    {
      "cell_type": "code",
      "metadata": {
        "trusted": true,
        "id": "qMJXYfjdfOTr"
      },
      "source": [
        "from sklearn.feature_extraction.text import CountVectorizer, TfidfVectorizer \n",
        "vect = CountVectorizer()\n",
        "tf_train = vect.fit_transform(X_train)\n",
        "tf_test = vect.transform(X_test)"
      ],
      "execution_count": 50,
      "outputs": []
    },
    {
      "cell_type": "code",
      "metadata": {
        "id": "tPRk9m4PfbgT",
        "outputId": "95a72d02-bf82-4d47-ff11-41c139e35dc0",
        "colab": {
          "base_uri": "https://localhost:8080/"
        }
      },
      "source": [
        "tf_train"
      ],
      "execution_count": 57,
      "outputs": [
        {
          "output_type": "execute_result",
          "data": {
            "text/plain": [
              "<853x2224 sparse matrix of type '<class 'numpy.int64'>'\n",
              "\twith 8341 stored elements in Compressed Sparse Row format>"
            ]
          },
          "metadata": {},
          "execution_count": 57
        }
      ]
    },
    {
      "cell_type": "code",
      "metadata": {
        "trusted": true,
        "id": "QtrJNPojfOTv",
        "colab": {
          "base_uri": "https://localhost:8080/"
        },
        "outputId": "f7c7c4da-c88c-4979-8922-b8d830f57661"
      },
      "source": [
        "tf_train.shape"
      ],
      "execution_count": 51,
      "outputs": [
        {
          "output_type": "execute_result",
          "data": {
            "text/plain": [
              "(853, 2224)"
            ]
          },
          "metadata": {},
          "execution_count": 51
        }
      ]
    },
    {
      "cell_type": "markdown",
      "metadata": {
        "id": "zeWvrFV1fOTy"
      },
      "source": [
        "### Print the Vocabulary"
      ]
    },
    {
      "cell_type": "code",
      "metadata": {
        "trusted": true,
        "id": "YVIZNPOSfOTz",
        "colab": {
          "base_uri": "https://localhost:8080/"
        },
        "outputId": "d71658ce-cdcc-4d9b-af5e-f3e82f59c722"
      },
      "source": [
        "print(vect.vocabulary_)"
      ],
      "execution_count": 52,
      "outputs": [
        {
          "output_type": "stream",
          "name": "stdout",
          "text": [
            "{'way': 2135, 'song': 1824, 'years': 2209, 'old': 1425, 'im': 1067, 'hearing': 994, 'promise': 1553, 'forever': 857, 'remember': 1637, 'came': 406, 'outand': 1447, 'ago': 222, 'worry': 2187, 'one': 1432, 'listening': 1212, 'masterpiece': 1284, 'august': 285, 'september': 1728, '2021': 55, '2020': 54, 'crying': 564, 'hard': 980, 'feels': 824, 'better': 332, 'lyrics': 1262, 'wan': 2122, 'na': 1368, 'take': 1931, 'somewhere': 1822, 'know': 1160, 'care': 418, 'cold': 487, 'brought': 383, 'daffodils': 578, 'pretty': 1542, 'string': 1889, 'wo': 2174, 'flower': 852, 'like': 1204, 'last': 1169, 'spring': 1850, 'kiss': 1155, 'make': 1271, 'feel': 821, 'alright': 240, 'tired': 1993, 'share': 1737, 'nights': 1389, 'cry': 562, 'love': 1246, 'tears': 1947, 'used': 2088, 'pre': 1534, 'chorus': 459, 'another': 253, 'verse': 2100, 'somebody': 1815, 'hurts': 1051, 'fight': 829, 'hands': 970, 'broken': 381, 'many': 1278, 'times': 1992, 'll': 1221, 'use': 2087, 'voice': 2112, 'fucking': 883, 'rude': 1667, 'words': 2180, 'always': 243, 'win': 2166, 'lose': 1235, 'sing': 1768, 'sang': 1683, 'em': 718, 'heart': 995, 'learn': 1180, 'oh': 1420, 'need': 1377, 'thinking': 1972, 'bridge': 373, 'fall': 801, 'hits': 1019, 'different': 647, 'visit': 2110, 'everyday': 758, 'never': 1382, 'pay': 1475, 'money': 1343, 'kai': 1136, 'damon': 581, 'almost': 235, 'tvd': 2048, 'fans': 810, 'aaaggggggggghhh': 185, 'days': 589, 'imagine': 1069, 'stupid': 1899, 'dislike': 662, 'best': 330, 'ever': 755, '05': 10, 'mirror': 1331, 'boyz': 362, 'november': 1405, 'let': 1193, 'see': 1714, 'legends': 1189, 'still': 1871, 'masterpierce': 1286, 'listen': 1210, 'often': 1419, 'wait': 2115, 'pairs': 1455, 'missing': 1335, 'someone': 1818, 'ca': 400, 'cried': 553, 'child': 451, 'wow': 2194, 'delena': 611, 'come': 491, 'back': 295, 'bc': 310, 'promised': 1554, 'realized': 1600, 'made': 1266, 'believe': 328, 'overwhelming': 1452, 'life': 1202, 'piano': 1494, 'black': 339, 'keys': 1144, 'pain': 1453, 'white': 2155, 'happiness': 977, 'play': 1507, 'music': 1361, '2012': 45, 'singers': 1770, 'wilding': 2164, 'good': 936, 'singing': 1771, 'hand': 969, 'taste': 1940, 'act': 206, 'fine': 838, 'infront': 1091, 'everyone': 759, 'say': 1688, 'mean': 1296, 'terrible': 1959, 'ignored': 1061, 'ready': 1591, 'give': 921, 'ending': 731, 'dead': 591, 'inside': 1096, 'first': 843, 'heard': 993, 'vampire': 2094, 'diaries': 641, 'glad': 925, 'getting': 910, 'attention': 283, 'deserves': 627, 'realised': 1594, 'existence': 779, 'matter': 1292, 'happy': 978, 'feeling': 822, 'finally': 835, 'realize': 1599, 'meaning': 1297, 'kills': 1150, 'musically': 1363, 'lyrically': 1261, 'sense': 1724, 'conveys': 528, 'inability': 1077, 'person': 1486, 'want': 2123, 'already': 239, 'taken': 1932, 've': 2098, 'loved': 1247, 'much': 1357, 'clinged': 476, 'spent': 1848, 'drainage': 677, 'strong': 1891, 'respect': 1646, 'goddd': 928, 'even': 753, 'lestin': 1192, 'october': 1413, 'alot': 238, 'congrats': 512, 'hit': 1018, 'tokyo': 1997, 'die': 643, 'people': 1480, 'thought': 1978, 'living': 1220, 'teenager': 1952, 'would': 2192, 'cool': 529, 'hey': 1014, '2022': 56, 'story': 1878, 'put': 1569, 'everything': 760, 'relationship': 1628, 'took': 2003, 'nothing': 1403, 'left': 1186, 'actually': 210, 'happens': 975, 'go': 926, 'unpleasant': 2074, 'stuff': 1898, 'become': 317, 'insecure': 1094, 'afraid': 217, 'others': 1445, 'immune': 1072, 'things': 1970, 'think': 1971, 'feelings': 823, 'unable': 2056, 'live': 1217, 'experiences': 783, 'level': 1196, 'though': 1977, 'intentions': 1103, 'essence': 747, 'sad': 1676, 'omg': 1428, 'thnk': 1974, 'thank': 1962, 'ilygsm': 1066, 'mwah': 1367, 'found': 865, 'guys': 959, '100': 20, '000': 0, 'part': 1461, 'point': 1517, 'ask': 278, 'ok': 1422, 'nietzsche': 1386, 'said': 1681, 'without': 2173, 'mistake': 1336, 'earlier': 694, 'gon': 935, 'lie': 1199, 'yall': 2205, 'austin': 287, 'butler': 394, 'alter': 242, 'ego': 707, 'ishalim': 1114, 'gecti': 901, 'playing': 1510, 'dancing': 583, 'rain': 1579, 'soulmate': 1835, 'man': 1275, 'consumed': 521, 'wrong': 2199, 'girl': 918, 'loves': 1250, 'real': 1592, 'stuck': 1895, 'diffrent': 651, 'dimension': 652, 'past': 1471, 'loving': 1253, 'waiting': 2116, 'something': 1820, 'else': 717, 'haha': 962, 'get': 908, 'older': 1426, 'teenage': 1951, 'bullshit': 391, 'flies': 849, 'elena': 715, 'dance': 582, 'studying': 1897, 'smoke': 1798, 'cigarette': 463, 'parents': 1459, 'asleep': 280, 'escape': 744, 'reality': 1597, 'anymore': 258, 'novel': 1404, 'nice': 1385, 'pun': 1565, 'damn': 580, 'moment': 1340, 'find': 836, 'comments': 496, 'day': 588, 'releasing': 1633, 'sister': 1774, 'favourite': 819, 'every': 756, 'time': 1990, 'hear': 992, 'reminds': 1642, 'remaind': 1636, 'james': 1123, 'blunt': 347, 'look': 1230, 'favorite': 818, 'searching': 1708, 'trust': 2037, 'fighting': 830, 'self': 1722, 'wish': 2170, 'cuss': 572, 'draco': 676, 'malfoy': 1274, 'secretly': 1712, 'hermione': 1009, '08': 13, 'min': 1326, 'straight': 1880, 'across': 205, 'lembrei': 1190, 'da': 577, 'tomorrowland': 2002, 'tiktok': 1988, 'given': 922, 'fame': 805, 'reason': 1605, 'understand': 2061, 'fell': 825, 'bad': 297, 'powerful': 1531, 'instead': 1099, 'sadness': 1678, 'son': 1823, 'all': 231, 'smart': 1789, 'enjoy': 736, 'melody': 1304, 'tik': 1987, 'tok': 1996, 'normal': 1398, 'us': 2085, 'perfect': 1481, 'video': 2107, 'anyone': 259, '35': 87, 'choir': 457, 'starts': 1862, 'gives': 923, 'shivers': 1745, 'chills': 454, 'could': 535, 'word': 2179, 'express': 788, 'beautiful': 315, 'really': 1602, 'nailed': 1369, 'introducing': 1111, 'amazing': 245, 'excuse': 772, 'age': 219, 'makes': 1272, 'church': 462, 'extra': 790, 'british': 378, 'rest': 1648, 'peace': 1476, 'severus': 1735, 'snape': 1799, 'deam': 593, 'tom': 1999, 'odel': 1414, 'chose': 460, 'move': 1352, 'forget': 858, 'french': 873, 'difficult': 649, 'rythme': 1674, 'change': 440, '20': 43, 'kids': 1147, 'saying': 1689, 'born': 354, 'decade': 598, 'girls': 920, 'lips': 1209, 'giving': 924, 'gift': 914, 'cause': 429, 'around': 272, 'recommend': 1612, 'nostalgic': 1401, 'unpopular': 2075, 'opinion': 1440, 'generation': 905, '2037': 61, 'tell': 1954, 'movie': 1354, 'soundtrack': 1838, 'lets': 1194, 'cries': 555, 'new': 1383, 'existed': 778, 'scary': 1695, 'skin': 1779, 'crawl': 546, 'remembering': 1639, 'trauma': 2021, 'previous': 1544, 'emotional': 725, 'transmits': 2018, 'unimaginable': 2066, 'future': 891, 'near': 1375, 'dark': 585, 'going': 932, 'depart': 617, 'wife': 2162, 'girlfriend': 919, 'listened': 1211, 'icehockey': 1053, 'adored': 215, '14': 29, '10th': 22, 'grade': 941, 'means': 1299, 'mom': 1339, 'hope': 1033, 'beutiful': 333, 'moments': 1341, 'football': 856, 'started': 1861, 'high': 1016, 'school': 1698, '24': 68, 'soon': 1828, '25': 69, 'strange': 1881, 'talk': 1937, 'gather': 899, 'energy': 733, 'hang': 971, 'ghost': 912, 'busy': 393, 'world': 2183, 'smmm': 1797, 'looks': 1233, 'parker': 1460, 'blonde': 345, 'hair': 964, 'sees': 1720, 'anyway': 261, 'gifted': 915, 'young': 2218, 'writer': 2197, 'must': 1366, 'factory': 796, 'seem': 1716, 'lot': 1242, 'vampires': 2095, 'claire': 467, 'fraser': 870, 'top': 2004, 'depressed': 621, 'calm': 405, 'everytime': 761, 'thanks': 1963, 'bro': 379, 'ten': 1957, 'memories': 1305, 'flood': 851, 'head': 987, 'falling': 803, 'celebrity': 432, 'ur': 2083, 'knowing': 1161, 'happiest': 976, 'saddest': 1677, 'thing': 1969, 'experience': 782, 'album': 228, 'monsters': 1344, 'https': 1043, 'tomodell': 2000, 'lnk': 1224, 'odell': 1415, 'hq': 1042, 'painful': 1454, 'meant': 1300, 'deserve': 626, 'pillow': 1498, 'catch': 427, 'nobody': 1391, 'eight': 710, 'later': 1170, 'likes': 1206, 'views': 2109, 'herat': 1008, 'soul': 1834, 'gets': 909, 'remind': 1640, 'klaus': 1158, 'breaks': 369, 'worst': 2190, 'gilbert': 917, 'cant': 414, 'stop': 1873, 're': 1587, 'gold': 933, 'rn': 1659, 'am': 244, 'scared': 1693, 'letting': 1195, 'entertain': 738, 'quarantine': 1572, '71': 139, 'year': 2208, 'core': 530, 'rock': 1661, 'fan': 808, 'posting': 1527, 'aural': 286, 'gem': 902, 'motivate': 1350, 'trying': 2040, 'springand': 1851, 'upon': 2080, 'upoh': 2079, 'loseand': 1236, 'name': 1370, 'definition': 608, 'beauty': 316, 'god': 927, 'snippets': 1800, 'instagram': 1097, 'decided': 599, 'literally': 1215, 'longing': 1229, 'relate': 1624, 'ashamed': 277, 'showed': 1751, 'cat': 426, 'stole': 1872, 'illegale': 1064, 'thoughts': 1979, 'washed': 2128, 'appreciate': 268, 'fact': 795, 'managed': 1276, 'ignore': 1060, 'lady': 1165, 'background': 296, 'flinching': 850, 'moving': 1356, 'driver': 682, 'license': 1197, 'also': 241, 'kind': 1151, 'explain': 784, 'meaningful': 1298, 'hate': 983, 'heartbroken': 998, 'fast': 813, 'yet': 2216, 'slow': 1785, 'session': 1732, 'oct': 1412, 'wtf': 2201, 'hurt': 1049, 'boyy': 361, 'pov': 1529, 'walking': 2119, 'pointless': 1518, 'today': 1994, 'hopelessly': 1034, 'clinging': 477, 'onto': 1433, 'snowballing': 1804, 'leaving': 1185, 'shitty': 1744, 'lived': 1218, 'thus': 1986, 'far': 811, 'associated': 281, 'place': 1502, 'right': 1656, 'okay': 1423, 'flavor': 846, '2081': 63, 'connected': 515, 'memory': 1307, 'died': 644, 'popular': 1523, 'germany': 907, 'eyes': 793, 'start': 1860, 'watering': 2134, 'little': 1216, 'sure': 1915, 'shared': 1738, 'maybe': 1294, 'read': 1589, 'explained': 785, 'teenagers': 1953, '10': 19, '13': 26, 'interwine': 1109, 'mind': 1327, 'wicked': 2159, 'teaching': 1945, 'evil': 763, 'exercise': 773, 'turns': 2046, 'diamonds': 640, 'surronded': 1920, 'surprises': 1919, 'instant': 1098, 'carify': 421, 'burn': 392, 'illusion': 1065, 'confusion': 511, 'using': 2089, 'technique': 1948, 'due': 690, 'wisdom': 2169, 'hallucination': 968, 'created': 550, 'nature': 1374, 'break': 366, 'dust': 691, 'ajacent': 227, 'ways': 2136, 'wickedness': 2160, 'create': 549, 'tough': 2009, 'speak': 1842, 'facts': 797, 'truth': 2038, 'date': 586, 'becouse': 320, 'meet': 1302, 'fate': 814, 'game': 895, 'devil': 639, 'headaches': 988, 'poison': 1519, 'conjured': 513, 'enganging': 734, 'doctor': 669, 'nolan': 1392, 'holding': 1023, 'got': 940, 'blinking': 343, 'stragedies': 1879, 'evolving': 765, 'deep': 603, 'precision': 1535, 'keep': 1140, 'killing': 1149, 'second': 1711, 'remembered': 1638, 'legend': 1187, 'making': 1273, 'rerange': 1645, 'heartless': 999, 'forgive': 860, 'million': 1324, 'lover': 1249, 'takes': 1933, 'suitcase': 1907, 'leaves': 1184, 'empty': 729, 'house': 1040, 'disappears': 655, 'suddenly': 1905, 'furniture': 889, 'appear': 265, 'everywhere': 762, 'travelling': 2025, 'away': 291, 'angry': 251, 'yelling': 2211, 'hitting': 1020, 'chair': 438, 'shows': 1756, 'distant': 667, 'disconnected': 658, 'trapped': 2019, 'incapable': 1078, 'stay': 1865, 'saw': 1687, 'beginning': 323, 'ruins': 1669, 'unsaved': 2077, 'romance': 1662, 'abandoned': 187, 'alone': 236, 'aches': 202, 'addictive': 212, 'literal': 1214, 'thenk': 1965, '2031': 60, 'transition': 2017, 'silence': 1762, 'frustration': 880, 'bubbled': 386, 'emotions': 726, 'smilling': 1796, 'looked': 1231, 'tried': 2031, 'hold': 1022, 'laugh': 1171, 'exi': 775, 'stare': 1855, 'wall': 2121, 'refuse': 1618, 'released': 1632, 'sometimes': 1821, 'frightens': 878, 'miss': 1333, 'halloween': 967, 'probably': 1547, 'songs': 1825, 'recommended': 1613, 'searched': 1707, 'whenever': 2153, 'gf': 911, 'rough': 1666, 'sent': 1727, 'leave': 1183, 'wanted': 2124, 'quit': 1574, 'contact': 522, 'begged': 322, 'whole': 2157, 'didnt': 642, 'reminding': 1641, 'grandma': 946, 'met': 1316, '15': 33, 'arthur': 274, 'morgan': 1348, '8y': 169, 'anotherlove': 254, 'looking': 1232, 'thnx': 1975, 'underrated': 2060, 'artist': 275, 'least': 1182, '330': 82, 'streams': 1884, 'lovett': 1252, 'discovering': 659, 'recognition': 1609, 'iconic': 1054, 'timeless': 1991, 'classic': 468, 'anybody': 257, 'version': 2101, 'official': 1418, 'audio': 284, '30': 77, 'nine': 1390, 'olds': 1427, 'idfc': 1056, 'history': 1017, 'bruuuhhh': 385, 'averygrayson': 290, 'edit': 703, '339m': 85, 'scottish': 1701, 'peeps': 1479, 'hardstyle': 981, 'tune': 2041, 'gaffs': 893, 'italian': 1117, 'honest': 1030, 'wonderful': 2177, 'depression': 623, 'deeper': 604, 'type': 2050, 'headphones': 990, 'rainy': 1583, 'car': 417, 'staring': 1857, 'window': 2167, 'rearview': 1604, 'wonder': 2176, 'hell': 1002, 'bring': 376, 'on': 1431, 'street': 1885, 'raining': 1581, 'fu': 881, 'ed': 702, 'return': 1649, 'together': 1995, 'blew': 341, 'says': 1690, '2am': 75, 'ugly': 2054, 'since': 1766, 'lovetom': 1251, 'childhood': 452, 'responsibilities': 1647, 'expected': 781, 'anything': 260, 'excited': 771, 'small': 1788, 'gifts': 916, 'solving': 1814, 'simple': 1763, 'math': 1291, 'problem': 1548, 'abt': 192, 'cuz': 575, 'constantly': 518, 'cute': 574, 'grades': 942, 'arent': 269, 'whatever': 2150, 'dont': 673, 'outside': 1448, 'clothes': 480, 'wear': 2138, 'ill': 1063, 'judged': 1133, 'harassed': 979, 'concious': 508, 'wieght': 2161, 'wont': 2178, 'fit': 844, 'society': 1808, 'standars': 1852, 'end': 730, 'drivers': 683, 'exists': 780, 'relatable': 1623, 'embarassing': 719, 'cares': 420, 'campina': 410, 'grande': 944, 'lions': 1208, 'campaign': 409, 'cures': 569, 'incurable': 1084, 'diseases': 661, 'saves': 1686, 'lives': 1219, 'technologies': 1950, 'known': 1162, 'natural': 1373, 'physical': 1492, 'laws': 1175, 'lead': 1178, 'infinite': 1088, 'nondestructive': 1395, 'super': 1911, 'inconstant': 1080, 'controlling': 526, 'physics': 1493, 'non': 1394, 'destruction': 634, 'driving': 684, 'accumulations': 201, 'safe': 1680, 'passages': 1465, 'transforms': 2016, 'constates': 520, 'de': 590, 'propose': 1556, 'current': 570, 'destroying': 632, 'losses': 1240, 'deaths': 596, 'solve': 1813, 'controlly': 527, 'produce': 1550, 'coductivity': 484, 'realitivity': 1596, 'constant': 517, 'supernovae': 1913, 'gamma': 896, 'rays': 1586, 'oara': 1409, 'constate': 519, 'esoecific': 745, 'formation': 863, 'transformations': 2015, 'indestructible': 1085, 'machines': 1264, 'turned': 2044, 'rebuilding': 1607, 'regeneration': 1620, 'taking': 1934, 'cure': 567, 'values': 2093, 'infinitely': 1089, 'degeneration': 610, 'agitation': 221, 'disorderly': 665, 'activity': 209, 'control': 525, 'occur': 1411, 'big': 336, 'uenos': 2052, 'plasmas': 1506, 'ifinities': 1058, 'universe': 2070, 'creation': 552, 'easier': 698, 'sitetization': 1775, 'scientific': 1700, 'fiction': 827, 'prediction': 1536, 'absolutely': 191, 'beings': 325, 'immortal': 1071, 'rekativity': 1622, 'radiation': 1576, 'may': 1293, 'destroy': 630, 'igniting': 1059, 'layers': 1176, 'superficial': 1912, 'contrary': 524, 'generally': 904, 'accentuated': 196, 'systems': 1927, 'develop': 637, 'mace': 1263, 'holes': 1025, 'segments': 1721, 'light': 1203, 'moderate': 1338, 'space': 1840, 'large': 1168, 'disasters': 656, 'delivery': 614, 'errors': 742, 'founding': 866, 'text': 1960, 'development': 638, 'positivism': 1525, 'discipline': 657, 'sociology': 1809, 'work': 2181, 'provides': 1559, 'revised': 1653, 'full': 886, 'account': 200, 'theory': 1967, 'comte': 506, 'presented': 1539, 'hi': 1015, 'unnatural': 2073, 'quantum': 1571, 'multi': 1358, 'partner': 1462, 'correcting': 533, 'problems': 1549, 'kinds': 1153, 'defects': 606, 'wormhole': 2185, 'save': 1685, 'surpassing': 1917, 'science': 1699, 'fictions': 828, 'earth': 696, 'planets': 1504, 'galacies': 894, 'universes': 2071, 'well': 2146, 'techniques': 1949, 'except': 770, 'human': 1046, 'race': 1575, 'allow': 233, 'calculate': 402, 'theories': 1966, 'physi': 1491, 'cal': 401, 'law': 1174, 'axes': 293, 'examples': 769, 'strings': 1890, 'parallel': 1458, 'fusion': 890, 'nuclear': 1406, 'numbers': 1408, 'quantitative': 1570, 'subspace': 1902, 'speeds': 1847, 'middle': 1320, 'planet': 1503, 'writing': 2198, 'polluting': 1521, 'eliminating': 716, 'effect': 706, 'pollution': 1522, 'elementary': 713, 'probabilities': 1546, 'state': 1863, 'death': 595, 'regenerating': 1619, 'causing': 431, 'scaling': 1692, 'causes': 430, 'final': 834, 'emit': 722, 'great': 950, 'material': 1290, 'sticker': 1870, 'establishment': 748, 'gods': 930, 'travel': 2023, 'difficulties': 650, 'basic': 301, 'scales': 1691, 'low': 1254, 'speed': 1846, 'chaos': 444, 'correct': 532, 'covering': 542, 'coatings': 483, 'opposite': 1441, 'apply': 267, 'term': 1958, 'conditions': 509, 'capacity': 416, 'aging': 220, 'kill': 1148, 'interrupting': 1108, 'gaseous': 898, 'magnets': 1268, 'honeys': 1031, 'acids': 204, 'elements': 714, 'organic': 1444, 'ulcers': 2055, 'explosions': 787, 'listenning': 1213, 'neither': 1380, 'composer': 505, 'eiji': 711, 'ash': 276, 'kid': 1145, '29': 74, 'slowed': 1786, 'happen': 973, 'chords': 458, 'case': 425, 'goosebumps': 937, 'arms': 271, 'simply': 1765, 'magic': 1267, 'update': 2078, 'comment': 495, 'march': 1279, 'knew': 1159, 'long': 1227, 'walks': 2120, 'night': 1387, 'kissed': 1156, 'coming': 494, 'home': 1028, 'held': 1001, 'beside': 329, 'river': 1658, 'doubt': 674, 'special': 1843, 'sorry': 1832, 'english': 735, 'differently': 648, 'piece': 1497, 'poetry': 1516, 'possible': 1526, 'simplest': 1764, 'brings': 377, 'short': 1748, 'rich': 1654, 'comes': 492, '2013': 46, '2014': 47, '2015': 48, '2016': 49, '2017': 50, '2018': 51, '2019': 52, 'shut': 1758, 'unknown': 2072, 'friend': 875, 'dear': 594, 'smiling': 1795, 'phone': 1490, 'boyfriend': 359, 'watching': 2132, '9th': 183, 'reasons': 1606, 'able': 189, 'pet': 1487, 'sensation': 1723, 'eating': 701, 'food': 855, 'snow': 1802, 'warm': 2126, 'room': 1665, 'hot': 1036, '11': 23, 'smell': 1793, '12': 25, 'fresh': 874, 'cut': 573, 'grass': 948, 'summer': 1908, 'buy': 397, '16': 34, 'side': 1760, '17': 35, 'showering': 1753, 'beach': 311, '18': 36, 'proving': 1560, '19': 40, 'fireworks': 842, 'celerity': 434, '21': 64, 'eat': 700, '22': 65, 'movies': 1355, '23': 66, 'topics': 2005, 'trigger': 2032, 'suicide': 1906, 'sh': 1736, 'etc': 750, 'hugs': 1045, 'clear': 471, 'starry': 1858, 'sky': 1780, '26': 70, 'changing': 443, '27': 71, 'laughing': 1172, '28': 73, 'internet': 1106, 'friends': 876, 'ghosted': 913, 'tv': 2047, 'series': 1730, '31': 79, '32': 80, 'traveling': 2024, 'dream': 680, 'vacation': 2090, '33': 81, 'pulling': 1564, 'nighter': 1388, '34': 86, 'drive': 681, 'screaming': 1703, 'finished': 839, 'task': 1939, '36': 88, 'bed': 321, '37': 89, 'holidays': 1026, '38': 92, 'breakfast': 367, 'buffets': 387, '39': 94, 'youtube': 2220, 'videos': 2108, '40': 96, 'sleeping': 1783, '41': 97, 'steamy': 1867, 'showers': 1754, '42': 98, 'shopping': 1747, '43': 99, 'baths': 304, '44': 100, '45': 102, 'moms': 1342, 'smile': 1794, '46': 106, 'sledding': 1781, '47': 108, 'concerts': 507, '48': 110, 'heaven': 1000, '49': 111, 'finding': 837, '50': 112, '51': 114, 'mcdonalds': 1295, 'fries': 877, '52': 117, 'pets': 1488, 'animals': 252, 'cuddle': 565, '53': 120, 'jokes': 1131, 'forgotten': 862, '54': 121, 'access': 198, '55': 123, 'lost': 1241, 'battle': 306, '56': 124, '57': 125, '58': 126, 'opening': 1438, '59': 127, 'scratching': 1702, 'itch': 1119, '60': 128, 'laundry': 1173, '61': 129, 'baby': 294, '62': 130, 'nervous': 1381, 'canceled': 412, '63': 131, '64': 132, '65': 133, 'cringe': 556, '66': 134, 'decorating': 601, '67': 135, 'farm': 812, '68': 136, 'streets': 1886, '69': 137, 'sleepovers': 1784, '70': 138, 'family': 806, 'reunions': 1650, 'scenarios': 1696, '72': 140, '73': 141, 'wearing': 2139, 'fuzzy': 892, 'socks': 1810, '74': 142, 'breath': 371, '75': 143, 'imagination': 1068, '76': 144, 'clean': 470, '77': 146, 'cruise': 560, '78': 147, 'climbing': 475, 'trees': 2029, '79': 148, 'cheering': 448, '80': 149, '81': 152, 'waking': 2118, '82': 154, 'shifting': 1742, '83': 156, '84': 158, 'yelled': 2210, 'sub': 1900, '85': 159, 'substitute': 1903, 'teachers': 1944, '86': 163, 'complement': 502, '87': 164, 'complementing': 503, '88': 165, 'shower': 1752, '89': 167, 'fav': 816, 'book': 351, 'show': 1750, '90': 172, 'kisses': 1157, '91': 173, 'art': 273, 'project': 1552, '92': 175, '93': 176, 'celebs': 433, 'impact': 1073, '94': 177, 'productive': 1551, '95': 178, 'bites': 338, 'gum': 957, '96': 179, '97': 180, 'help': 1003, '98': 181, '99': 182, '8564433735': 162, 'immediate': 1070, 'hotline': 1038, 'argentina': 270, '5402234930430': 122, 'australia': 288, '131114': 27, 'austria': 289, '142': 30, 'children': 453, '147': 32, 'belgium': 326, '106': 21, 'bosnia': 355, 'herzegovina': 1013, '080': 14, '03': 8, 'botswana': 356, '3911270': 95, 'brazil': 365, '188': 39, 'cvv': 576, 'national': 1372, 'association': 282, 'canada': 411, '833': 157, '456': 103, '4566': 104, '5147234000': 115, 'montreal': 1347, '18662773553': 38, 'croatia': 558, '014833888': 6, 'denmark': 616, '4570201201': 105, 'egypt': 708, '7621602': 145, 'estonia': 749, '3726558088': 91, 'russian': 1672, '3726555688': 90, 'finland': 840, '010': 4, '195': 41, '202': 53, 'france': 869, '0145394000': 5, '08001810771': 15, 'holland': 1027, '0900767': 18, 'hong': 1032, 'kong': 1164, '852': 160, '2382': 67, '0000': 1, 'hungary': 1048, '116123': 24, 'india': 1086, '8888817666': 166, 'ireland': 1113, '44058457909090': 101, 'italy': 1118, '800860022': 151, 'japan': 1125, '810352869090': 153, 'mexico': 1318, '5255102550': 118, 'zealand': 2223, '0800543354': 16, 'norway': 1399, '4781533300': 109, 'philippines': 1489, '028969191': 7, 'poland': 1520, '5270000': 119, 'portugal': 1524, '854': 161, '07': 12, '898': 168, 'russia': 1671, '0078202577577': 2, 'spain': 1841, '914590050': 174, 'south': 1839, 'africa': 218, '0514445691': 11, 'sweden': 1925, '46317112400': 107, 'switzerland': 1926, '143': 31, 'united': 2069, 'kingdom': 1154, '08457909090': 17, 'usa': 2086, '18002738255': 37, 'veterans': 2103, 'crisis': 557, 'line': 1207, '800': 150, '273': 72, '8255': 155, '383255': 93, 'broke': 380, 'helping': 1005, 'supportive': 1914, 'mentally': 1309, 'emotinally': 723, 'destroyed': 631, 'touch': 2007, 'exis': 776, 'clearly': 472, 'changes': 442, '2030': 59, '2040': 62, 'rusted': 1673, 'minutes': 1330, 'disliked': 663, 'vanished': 2096, 'app': 264, 'goes': 931, 'wild': 2163, 'karen': 1139, 'lmao': 1222, 'message': 1313, 'generations': 906, 'open': 1437, 'scars': 1694, '8years': 170, 'yestreday': 2215, 'depressing': 622, 'matches': 1288, '2010s': 44, 'masterpieces': 1285, '333': 83, 'boy': 358, 'rainkiss': 1582, 'scene': 1697, 'definitely': 607, 'played': 1508, 'increased': 1081, 'helped': 1004, 'absolute': 190, 'debating': 597, 'whether': 2154, 'main': 1269, 'ex': 767, 'ruined': 1668, 'thr': 1981, 'tear': 1946, 'eye': 792, 'call': 403, 'definitively': 609, 'merely': 1311, 'lukaz': 1258, 'two': 2049, 'describes': 625, 'realizing': 1601, 'situation': 1778, 'done': 670, 'repeat': 1644, 'masterpice': 1283, 'beat': 313, 'bored': 353, 'remain': 1635, 'carthasis': 424, 'sensibility': 1725, 'vibes': 2106, 'reading': 1590, 'nostalgia': 1400, 'allls': 232, 'exist': 777, 'drowning': 685, 'water': 2133, 'breathe': 372, 'sun': 1909, 'mask': 1280, 'spectacular': 1845, 'weird': 2144, 'kinda': 1152, 'crier': 554, 'unbelievably': 2057, 'needs': 1379, 'despacito': 628, 'worth': 2191, 'kept': 1143, 'intense': 1102, 'unexplainable': 2064, 'bawling': 309, 'related': 1625, 'apart': 263, 'shunned': 1757, 'lovee': 1248, 'becomes': 318, 'vibe': 2105, 'chick': 450, 'raging': 1578, 'demolishing': 615, 'entire': 739, 'write': 2195, 'william': 2165, '333m': 84, 'privilege': 1545, 'stands': 1853, 'hurting': 1050, 'wrote': 2200, 'salvatore': 1682, 'picked': 1495, 'went': 2147, 'stopped': 1874, 'connections': 516, 'certain': 436, 'difference': 646, 'promising': 1555, 'relation': 1627, 'surprised': 1918, 'seemed': 1717, 'important': 1075, 'fukin': 885, 'tomorrow': 2001, 'songtime': 1826, 'flys': 853, 'gave': 900, 'crazy': 547, 'horrible': 1035, 'connect': 514, 'keeper': 1141, 'felt': 826, 'bragging': 363, 'compared': 500, 'compare': 499, 'granted': 947, 'single': 1772, 'laying': 1177, 'volume': 2113, 'ypu': 2221, 'triggers': 2033, 'cats': 428, 'fire': 841, 'release': 1631, 'build': 388, '01': 3, 'kanej': 1137, 'passed': 1466, 'escalates': 743, 'master': 1282, 'crybaby': 563, 'shit': 1743, 'watch': 2130, 'weekly': 2142, 'telling': 1955, 'next': 1384, 'changed': 441, 'prefiro': 1537, 'and': 248, 'jeez': 1126, '50k': 113, 'golf': 934, 'tdi': 1942, 'recently': 1608, 'week': 2140, 'yeah': 2207, 'pleasure': 1513, 'totally': 2006, 'sung': 1910, 'asking': 279, '51k': 116, 'dislikers': 664, 'four': 867, 'couple': 538, 'months': 1346, 'january': 1124, 'completely': 504, 'devastated': 636, 'hour': 1039, 'throughout': 1983, 'month': 1345, 'breakup': 370, 'chance': 439, 'truly': 2036, 'several': 1734, 'vomit': 2114, 'describe': 624, 'anger': 250, 'sorrow': 1831, 'perhaps': 1483, 'exhausted': 774, 'overly': 1451, 'period': 1484, 'endured': 732, 'worries': 2186, 'hence': 1007, 'issues': 1115, 'cheated': 446, 'partners': 1463, 'submit': 1901, 'corrections': 534, 'unique': 2067, 'lynd': 1260, 'reverbe': 1652, 'aah': 186, 'sounds': 1837, 'band': 299, 'called': 404, 'bright': 374, 'fornite': 864, 'mumble': 1359, 'rap': 1585, 'shorts': 1749, 'singer': 1769, 'brother': 382, 'jabr': 1122, 'sacrifice': 1675, 'yes': 2213, 'sound': 1836, 'awesome': 292, 'deadmau5': 592, 'veldt': 2099, 'trick': 2030, 'justice': 1135, 'cameron': 408, 'herrin': 1012, 'accident': 199, 'mine': 1329, 'perfection': 1482, 'offfff': 1417, 'offff': 1416, 'cok': 486, 'guzelsin': 960, 'guy': 958, 'fox': 868, 'clicked': 474, 'passion': 1468, 'realise': 1593, 'epic': 740, 'covid': 544, 'masks': 1281, 'crush': 561, 'doubted': 675, 'ps': 1561, 'realy': 1603, 'sm': 1787, 'waste': 2129, 'taday': 1930, 'june': 1134, 'ya': 2204, 'example': 768, 'try': 2039, 'ive': 1120, 'seriously': 1731, 'ln': 1223, 'somehow': 1817, 'influences': 1090, 'extent': 789, 'alive': 230, 'dedicated': 602, 'peron': 1485, 'realization': 1598, 'emptiness': 728, 'drained': 678, 'capable': 415, 'insane': 1093, 'ck': 465, 'aaaaaaaaaaaaaaaaaaaaa': 184, 'delenaaaaa': 612, 'grandad': 943, 'chest': 449, 'rip': 1657, 'taught': 1941, 'strength': 1887, 'bear': 312, 'loss': 1239, 'regret': 1621, 'either': 712, 'failed': 799, 'enough': 737, 'eventually': 754, 'storm': 1877, 'rainbow': 1580, 'might': 1322, 'especially': 746, 'otherwise': 1446, 'battled': 307, 'toughest': 2010, 'ease': 697, 'emerge': 721, 'stronger': 1892, 'choice': 456, 'carry': 423, 'planned': 1505, 'including': 1079, 'preventing': 1543, 'improve': 1076, 'gorgeous': 938, 'building': 389, 'incredibly': 1083, 'loud': 1244, 'red': 1615, 'pandas': 1456, 'diners': 653, 'three': 1982, 'morning': 1349, 'soft': 1811, 'pillows': 1499, 'pizza': 1501, 'york': 2217, 'city': 464, 'success': 1904, 'jerks': 1127, 'fail': 798, 'seeing': 1715, 'trip': 2034, 'garbage': 897, 'bonfires': 350, 'sitting': 1777, 'rooftops': 1664, 'country': 537, 'roadtrips': 1660, 'lottery': 1243, 'someday': 1816, 'record': 1614, 'player': 1509, 'eiffel': 709, 'tower': 2013, 'pictures': 1496, 'meeting': 1303, 'thousands': 1980, 'stories': 1876, 'ice': 1052, 'cream': 548, 'harry': 982, 'potter': 1528, 'books': 352, 'underwater': 2063, 'randomly': 1584, 'running': 1670, 'hero': 1010, 'fancy': 809, 'hotel': 1037, 'trampolines': 2014, 'public': 1562, 'joke': 1129, 'survival': 1921, 'treehouses': 2028, 'hanging': 972, 'mate': 1289, 'treehouse': 2027, 'snorting': 1801, 'caring': 422, 'embrace': 720, 'uniqueness': 2068, 'emperor': 727, 'chocolate': 455, 'nom': 1393, 'starbucks': 1854, 'stargazing': 1856, 'purpose': 1567, 'ahead': 225, 'stopping': 1875, 'achieving': 203, 'angels': 249, 'snowmen': 1805, 'snowball': 1803, 'fights': 831, 'everybody': 757, 'talent': 1935, 'ability': 188, 'turn': 2043, 'frowns': 879, 'upside': 2082, 'heroes': 1011, 'ordinary': 1443, 'extraordinary': 791, 'beyond': 334, 'imperfections': 1074, 'relaxing': 1630, 'bath': 302, 'stressful': 1888, 'lying': 1259, 'clouds': 482, 'smashed': 1792, 'staying': 1866, 'films': 833, 'creating': 551, 'proud': 1558, 'commit': 497, 'tea': 1943, 'coffee': 485, 'season': 1709, 'sherlock': 1741, 'cuddling': 566, 'stars': 1859, 'hug': 1044, 'havent': 986, 'seen': 1719, 'seems': 1718, 'pissed': 1500, 'breaking': 368, 'whatsoever': 2151, 'ahaha': 224, 'thats': 1964, 'ahah': 223, 'fuck': 882, 'closest': 479, 'passes': 1467, 'relationships': 1629, 'omgeee': 1429, 'corona': 531, 'heartbreak': 997, 'anthem': 256, 'dies': 645, 'becoming': 319, 'numb': 1407, 'traumatised': 2022, 'focusing': 854, 'struggling': 1894, 'clips': 478, 'leading': 1179, 'however': 1041, 'towards': 2012, 'reveals': 1651, 'adorable': 213, 'loyal': 1255, 'disease': 660, 'grief': 952, 'heartache': 996, 'sequence': 1729, 'detailed': 635, 'hmu': 1021, 'hah': 961, 'ana': 247, 'via': 2104, 'told': 1998, 'drunk': 687, 'musical': 1362, 'industry': 1087, 'desperately': 629, 'sincere': 1767, 'true': 2035, 'falseness': 804, 'faking': 800, 'vanity': 2097, 'lies': 1201, 'mainstream': 1270, 'touches': 2008, 'evokes': 764, 'depresions': 620, 'battery': 305, 'mental': 1308, 'wounds': 2193, 'fleeing': 848, 'vain': 2091, 'guess': 956, 'sings': 1773, 'happened': 974, 'smash': 1791, 'losing': 1238, 'religion': 1634, 'whaaaat': 2148, 'thai': 1961, 'gen': 903, 'bgm': 335, 'instrumental': 1100, 'vocals': 2111, 'sensitive': 1726, 'withe': 2172, 'luck': 1256, 'funeral': 887, 'evryone': 766, 'relating': 1626, 'forgiving': 861, 'missed': 1334, 'buttom': 395, 'jesus': 1128, 'christ': 461, 'father': 815, 'intermediary': 1105, 'bless': 340, 'pray': 1532, 'covert': 543, 'urself': 2084, 'believ': 327, 'gospe': 939, 'shedding': 1740, 'mgk': 1319, 'cousin': 540, 'till': 1989, 'idk': 1057, 'remove': 1643, 'accepts': 197, 'forgets': 859, 'iheart': 1062, 'whan': 2149, 'iwas': 1121, 'yers': 2212, 'wake': 2117, 'sleep': 1782, 'therapist': 1968, 'incredible': 1082, 'longer': 1228, 'nearly': 1376, 'builds': 390, 'power': 1530, 'ears': 695, 'langage': 1167, 'adore': 214, 'please': 1512, 'lonely': 1226, 'paula': 1474, 'midnight': 1321, 'bruhhh': 384, 'cured': 568, 'deppresion': 619, 'prepare': 1538, 'shed': 1739, 'saturday': 1684, 'sec': 1710, 'sits': 1776, 'camera': 407, 'woman': 2175, 'destroys': 633, 'interpret': 1107, 'distracted': 668, 'dissociated': 666, 'worship': 2189, 'wants': 2125, 'protect': 1557, 'somethig': 1819, 'reach': 1588, 'specifically': 1844, 'loses': 1237, 'patience': 1472, 'screams': 1704, 'rage': 1577, 'answer': 255, 'swear': 1924, '2023': 57, '2024': 58, 'narcissist': 1371, 'bye': 399, 'bonds': 349, 'declare': 600, 'free': 871, 'mercy': 1310, 'muny': 1360, 'licsense': 1198, 'amount': 246, 'bowling': 357, 'button': 396, 'bet': 331, 'idea': 1055, 'ta': 1928, '1b': 42, 'editing': 705, 'shocked': 1746, 'inner': 1092, 'hairs': 965, 'stick': 1869, 'musics': 1365, 'showing': 1755, 'plenty': 1514, 'yawn': 2206, 'interested': 1104, 'battlefield': 308, 'count': 536, 'sobbed': 1806, 'along': 237, 'writen': 2196, 'tanks': 1938, 'brighter': 375, 'joy': 1132, 'candle': 413, 'prayer': 1533, 'hole': 1024, 'cared': 419, '2yo': 76, 'dong': 671, 'course': 539, 'pushing': 1568, 'grown': 955, 'easy': 699, 'throwing': 1985, 'lake': 1166, 'homies': 1029, 'unreal': 2076, 'aot': 262, 'chapter': 445, '139': 28, 'introduced': 1110, 'dying': 692, 'needed': 1378, 'comfort': 493, 'dangerous': 584, 'ove': 1449, 'stefan': 1868, 'whoa': 2156, 'ooooh': 1436, 'oooh': 1435, 'si': 1759, 'x3': 2203, 'ooh': 1434, 'tho': 1976, 'claimed': 466, 'donno': 672, 'wheather': 2152, 'survived': 1923, 'worldwide': 2184, 'pandemic': 1457, 'pass': 1464, 'eternally': 751, 'omgg': 1430, 'tysm': 2051, 'kennedy': 1142, 'studio': 1896, 'sigh': 1761, 'exploded': 786, '300': 78, 'yrs': 2222, 'drug': 686, 'kang': 1138, 'saebyeok': 1679, 'body': 348, 'younger': 2219, 'committed': 498, 'weekend': 2141, 'overdosing': 1450, 'presumably': 1540, 'playlist': 1511, 'containing': 523, 'edited': 704, 'method': 1317, 'unconscious': 2058, 'peaceful': 1477, 'miley': 1323, 'order': 1442, 'peaky': 1478, 'blinders': 342, 'fix': 845, 'nore': 1397, 'loneliness': 1225, 'buzzin': 398, 'greatest': 951, 'active': 208, 'section': 1713, 'legendary': 1188, 'damaged': 579, 'healed': 991, 'iphone': 1112, 'centre': 435, 'click': 473, 'headphone': 989, 'ear': 693, 'combo': 490, 'spotify': 1849, 'worked': 2182, 'lucky': 1257, 'dryness': 688, 'insecurities': 1095, 'helps': 1006, 'surely': 1916, 'face': 794, 'emotion': 724, 'collaboration': 489, 'birdy': 337, 'hundred': 1047, 'pure': 1566, 'seven': 1733, 'hahaha': 963, 'louder': 1245, 'realising': 1595, 'turning': 2045, 'ughhh': 2053, 'mad': 1265, 'classical': 469, 'addiction': 211, 'boys': 360, 'affection': 216, 'complaints': 501, 'actions': 207, 'half': 966, '04': 9, 'deliberately': 613, 'cover': 541, 'mouth': 1351, 'versions': 2102, 'soo': 1827, 'blinks': 344, 'appeared': 266, 'grow': 954, 'recognize': 1610, '8yrs': 171, 'cheating': 447, 'grandfather': 945, 'feature': 820, 'crosses': 559, 'minds': 1328, 'kidding': 1146, 'yesterday': 2214, 'behind': 324, 'screen': 1705, 'certainly': 437, 'filled': 832, 'clouded': 481, 'misfortune': 1332, 'talented': 1936, 'favor': 817, 'stranger': 1882, 'reflection': 1617, 'bathroom': 303, 'puddle': 1563, 'prettiest': 1541, 'smartest': 1790, 'funniest': 888, 'strangers': 1883, 'confident': 510, 'treat': 2026, 'goddess': 929, 'fucks': 884, 'soooooo': 1830, 'notes': 1402, 'joker': 1130, 'trash': 2020, 'watched': 2131, 'blue': 346, 'valentine': 2092, 'fallen': 802, 'soldiers': 1812, 'ww2': 2202, 'recomend': 1611, 'plis': 1515, 'sought': 1833, 'freedom': 872, 'lied': 1200, 'famous': 807, 'knows': 1163, 'toughtens': 2011, 'throught': 1984, 'lesson': 1191, 'learned': 1181, 'passionnate': 1470, 'beating': 314, 'thinks': 1973, 'stature': 1864, 'whose': 2158, 'istg': 1116, 'struggle': 1893, 'turkey': 2042, 'passionate': 1469, 'moves': 1353, 'patient': 1473, 'warmth': 2127, 'worse': 2188, 'mess': 1312, 'coldness': 488, 'weak': 2137, 'welcome': 2145, 'manchester': 1277, 'ronaldo': 1663, 'musicians': 1364, 'grounded': 953, 'instrumentation': 1101, 'disappeared': 654, 'noor': 1396, 'dubai': 689, 'social': 1807, 'media': 1301, 'abused': 193, 'abusive': 194, 'table': 1929, 'und': 2059, 'weeks': 2143, 'upsets': 2081, 'badly': 298, 'currently': 571, 'sooner': 1829, 'brain': 364, 'tells': 1956, 'allowed': 234, 'messed': 1314, 'defective': 605, 'survive': 1922, 'unhappy': 2065, 'wishing': 2171, 'liked': 1205, 'hating': 985, 'ality': 229, 'quirks': 1573, 'draw': 679, 'hates': 984, 'screw': 1706, 'depend': 618, 'flaws': 847, 'okey': 1424, 'grateful': 949, 'masterwork': 1287, 'ohh': 1421, 'obsessed': 1410, 'rides': 1655, 'windows': 2168, 'openn': 1439, 'ahh': 226, 'cr7': 545, 'messi': 1315, 'accent': 195, 'loop': 1234, 'euphoria': 752, 'understaning': 2062, 'memorized': 1306, 'equations': 741, 'millions': 1325, 'miusic': 1337, 'dattebayo': 587, 'reel': 1616, 'bar': 300}\n"
          ]
        }
      ]
    },
    {
      "cell_type": "code",
      "metadata": {
        "trusted": true,
        "id": "fIi0Qao6fOT3"
      },
      "source": [
        "vocab = vect.vocabulary_"
      ],
      "execution_count": 53,
      "outputs": []
    },
    {
      "cell_type": "code",
      "metadata": {
        "trusted": true,
        "id": "k_0nswJkfOT8"
      },
      "source": [
        "# for key,value in vocab.items():\n",
        "#     if(value == 162):\n",
        "#         print(key)"
      ],
      "execution_count": null,
      "outputs": []
    },
    {
      "cell_type": "markdown",
      "metadata": {
        "id": "2nuCDN4fzR_B"
      },
      "source": [
        "import the logistic regression classifer and fit on the training dataset"
      ]
    },
    {
      "cell_type": "code",
      "metadata": {
        "trusted": true,
        "id": "GT0Tc8HKfOT_",
        "colab": {
          "base_uri": "https://localhost:8080/"
        },
        "outputId": "45fb7dc4-1cf7-46a9-8f35-6537041b5c07"
      },
      "source": [
        "from sklearn.linear_model import LogisticRegression\n",
        "lr = LogisticRegression()\n",
        "lr.fit(tf_train,y_train)"
      ],
      "execution_count": 58,
      "outputs": [
        {
          "output_type": "execute_result",
          "data": {
            "text/plain": [
              "LogisticRegression()"
            ]
          },
          "metadata": {},
          "execution_count": 58
        }
      ]
    },
    {
      "cell_type": "markdown",
      "metadata": {
        "id": "UBP_uI2Vzc3i"
      },
      "source": [
        "###  Accuracy score on training dataset"
      ]
    },
    {
      "cell_type": "code",
      "metadata": {
        "trusted": true,
        "id": "1P_lH-8LfOUA",
        "colab": {
          "base_uri": "https://localhost:8080/"
        },
        "outputId": "c7c3f0ad-9311-41c4-aeea-0d864dc7e2d1"
      },
      "source": [
        "lr.score(tf_train,y_train)"
      ],
      "execution_count": 59,
      "outputs": [
        {
          "output_type": "execute_result",
          "data": {
            "text/plain": [
              "0.9742086752637749"
            ]
          },
          "metadata": {},
          "execution_count": 59
        }
      ]
    },
    {
      "cell_type": "markdown",
      "metadata": {
        "id": "IDjjvJrjziJ8"
      },
      "source": [
        "### Accuracy score on test dataset i.e got from the splitting"
      ]
    },
    {
      "cell_type": "code",
      "metadata": {
        "trusted": true,
        "id": "6WrwiXH9fOUD",
        "colab": {
          "base_uri": "https://localhost:8080/"
        },
        "outputId": "245dfcef-8307-4960-e044-d1ed29d57852"
      },
      "source": [
        "lr.score(tf_test,y_test)"
      ],
      "execution_count": 61,
      "outputs": [
        {
          "output_type": "execute_result",
          "data": {
            "text/plain": [
              "0.8644859813084113"
            ]
          },
          "metadata": {},
          "execution_count": 61
        }
      ]
    },
    {
      "cell_type": "markdown",
      "metadata": {
        "id": "6q2Lbal6zpxR"
      },
      "source": [
        "### Make predictions on the test dataset i.e. unseen data to the model"
      ]
    },
    {
      "cell_type": "code",
      "metadata": {
        "trusted": true,
        "id": "ebpYgyVZfOUF"
      },
      "source": [
        "expected = y_test\n",
        "predicted = lr.predict(tf_test)"
      ],
      "execution_count": 62,
      "outputs": []
    },
    {
      "cell_type": "markdown",
      "metadata": {
        "id": "tvq5GSaCzzXE"
      },
      "source": [
        "### plot confusion matrix for the test dataset"
      ]
    },
    {
      "cell_type": "code",
      "metadata": {
        "id": "TKH8iPvS1mGJ"
      },
      "source": [
        "\n",
        "from mlxtend.plotting import plot_confusion_matrix\n",
        "import matplotlib.pyplot as plt\n",
        "import numpy as np"
      ],
      "execution_count": 63,
      "outputs": []
    },
    {
      "cell_type": "code",
      "metadata": {
        "id": "GVYDbvgt1nZ_",
        "colab": {
          "base_uri": "https://localhost:8080/"
        },
        "outputId": "b786a407-e0b8-4b0c-f0ca-23d55db1d3bc"
      },
      "source": [
        "pip install mlxtend"
      ],
      "execution_count": 64,
      "outputs": [
        {
          "output_type": "stream",
          "name": "stdout",
          "text": [
            "Requirement already satisfied: mlxtend in /usr/local/lib/python3.7/dist-packages (0.14.0)\n",
            "Requirement already satisfied: matplotlib>=1.5.1 in /usr/local/lib/python3.7/dist-packages (from mlxtend) (3.2.2)\n",
            "Requirement already satisfied: pandas>=0.17.1 in /usr/local/lib/python3.7/dist-packages (from mlxtend) (1.1.5)\n",
            "Requirement already satisfied: numpy>=1.10.4 in /usr/local/lib/python3.7/dist-packages (from mlxtend) (1.19.5)\n",
            "Requirement already satisfied: setuptools in /usr/local/lib/python3.7/dist-packages (from mlxtend) (57.4.0)\n",
            "Requirement already satisfied: scipy>=0.17 in /usr/local/lib/python3.7/dist-packages (from mlxtend) (1.4.1)\n",
            "Requirement already satisfied: scikit-learn>=0.18 in /usr/local/lib/python3.7/dist-packages (from mlxtend) (1.0.1)\n",
            "Requirement already satisfied: cycler>=0.10 in /usr/local/lib/python3.7/dist-packages (from matplotlib>=1.5.1->mlxtend) (0.11.0)\n",
            "Requirement already satisfied: kiwisolver>=1.0.1 in /usr/local/lib/python3.7/dist-packages (from matplotlib>=1.5.1->mlxtend) (1.3.2)\n",
            "Requirement already satisfied: python-dateutil>=2.1 in /usr/local/lib/python3.7/dist-packages (from matplotlib>=1.5.1->mlxtend) (2.8.2)\n",
            "Requirement already satisfied: pyparsing!=2.0.4,!=2.1.2,!=2.1.6,>=2.0.1 in /usr/local/lib/python3.7/dist-packages (from matplotlib>=1.5.1->mlxtend) (2.4.7)\n",
            "Requirement already satisfied: pytz>=2017.2 in /usr/local/lib/python3.7/dist-packages (from pandas>=0.17.1->mlxtend) (2018.9)\n",
            "Requirement already satisfied: six>=1.5 in /usr/local/lib/python3.7/dist-packages (from python-dateutil>=2.1->matplotlib>=1.5.1->mlxtend) (1.15.0)\n",
            "Requirement already satisfied: joblib>=0.11 in /usr/local/lib/python3.7/dist-packages (from scikit-learn>=0.18->mlxtend) (1.1.0)\n",
            "Requirement already satisfied: threadpoolctl>=2.0.0 in /usr/local/lib/python3.7/dist-packages (from scikit-learn>=0.18->mlxtend) (3.0.0)\n"
          ]
        }
      ]
    },
    {
      "cell_type": "code",
      "metadata": {
        "id": "bx5l8cY0z21f",
        "colab": {
          "base_uri": "https://localhost:8080/",
          "height": 313
        },
        "outputId": "237c8f3f-416f-4a7b-c019-79c5412652d7"
      },
      "source": [
        "cf = metrics.confusion_matrix(expected,predicted,labels = [1,-1])\n",
        "print(cf)\n",
        "## this command is only for google collab \n",
        "## in the below figure \" 1 is actually showing -1 and 0 is actually showing 1\"\n",
        "fig, ax = plot_confusion_matrix(conf_mat = cf)\n",
        "                                \n",
        "## It canbe used in any platform\n",
        "# fig, ax = plot_confusion_matrix(conf_mat = cf, class_names = [1,-1])\n",
        "plt.show()"
      ],
      "execution_count": 65,
      "outputs": [
        {
          "output_type": "stream",
          "name": "stdout",
          "text": [
            "[[ 77  23]\n",
            " [  6 108]]\n"
          ]
        },
        {
          "output_type": "display_data",
          "data": {
            "image/png": "[encoded data removed]",
            "text/plain": [
              "<Figure size 432x288 with 1 Axes>"
            ]
          },
          "metadata": {
            "needs_background": "light"
          }
        }
      ]
    },
    {
      "cell_type": "code",
      "metadata": {
        "trusted": true,
        "id": "8EHpanQGfOUH",
        "colab": {
          "base_uri": "https://localhost:8080/"
        },
        "outputId": "669db858-0b5c-49dc-ec8c-ff6c0bf118d1"
      },
      "source": [
        "from sklearn import metrics\n",
        "print(metrics.classification_report(expected, predicted))\n",
        "# print(metrics.confusion_matrix(expected,predicted))"
      ],
      "execution_count": 66,
      "outputs": [
        {
          "output_type": "stream",
          "name": "stdout",
          "text": [
            "              precision    recall  f1-score   support\n",
            "\n",
            "          -1       0.82      0.95      0.88       114\n",
            "           1       0.93      0.77      0.84       100\n",
            "\n",
            "    accuracy                           0.86       214\n",
            "   macro avg       0.88      0.86      0.86       214\n",
            "weighted avg       0.87      0.86      0.86       214\n",
            "\n"
          ]
        }
      ]
    },
    {
      "cell_type": "markdown",
      "metadata": {
        "id": "ywD3TAtU0B53"
      },
      "source": [
        "### find the F1 score"
      ]
    },
    {
      "cell_type": "code",
      "metadata": {
        "trusted": true,
        "id": "tXUN76kgfOUN",
        "colab": {
          "base_uri": "https://localhost:8080/"
        },
        "outputId": "304bd4d7-2519-483b-c09d-72dcad5da176"
      },
      "source": [
        "from sklearn.metrics import f1_score\n",
        "f1_score(expected, predicted, average='macro')"
      ],
      "execution_count": 67,
      "outputs": [
        {
          "output_type": "execute_result",
          "data": {
            "text/plain": [
              "0.8615813538530166"
            ]
          },
          "metadata": {},
          "execution_count": 67
        }
      ]
    },
    {
      "cell_type": "code",
      "metadata": {
        "id": "huA-d5gjiIpc"
      },
      "source": [
        ""
      ],
      "execution_count": null,
      "outputs": []
    }
  ]
}