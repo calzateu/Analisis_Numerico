{
  "nbformat": 4,
  "nbformat_minor": 0,
  "metadata": {
    "kernelspec": {
      "language": "python",
      "display_name": "Python 3",
      "name": "python3"
    },
    "language_info": {
      "pygments_lexer": "ipython3",
      "nbconvert_exporter": "python",
      "version": "3.6.4",
      "file_extension": ".py",
      "codemirror_mode": {
        "name": "ipython",
        "version": 3
      },
      "name": "python",
      "mimetype": "text/x-python"
    },
    "colab": {
      "name": "Sentiment_YouTube.ipynb",
      "provenance": [],
      "collapsed_sections": []
    }
  },
  "cells": [
    {
      "cell_type": "code",
      "metadata": {
        "id": "2e_qzhUj0q6v",
        "colab": {
          "base_uri": "https://localhost:8080/"
        },
        "outputId": "bce5f37a-d68f-4da9-afa7-75b96207062c"
      },
      "source": [
        "pip install -U scikit-learn"
      ],
      "execution_count": null,
      "outputs": [
        {
          "output_type": "stream",
          "name": "stdout",
          "text": [
            "Requirement already satisfied: scikit-learn in /usr/local/lib/python3.7/dist-packages (1.0.1)\n",
            "Requirement already satisfied: joblib>=0.11 in /usr/local/lib/python3.7/dist-packages (from scikit-learn) (1.1.0)\n",
            "Requirement already satisfied: scipy>=1.1.0 in /usr/local/lib/python3.7/dist-packages (from scikit-learn) (1.4.1)\n",
            "Requirement already satisfied: numpy>=1.14.6 in /usr/local/lib/python3.7/dist-packages (from scikit-learn) (1.19.5)\n",
            "Requirement already satisfied: threadpoolctl>=2.0.0 in /usr/local/lib/python3.7/dist-packages (from scikit-learn) (3.0.0)\n"
          ]
        }
      ]
    },
    {
      "cell_type": "code",
      "metadata": {
        "id": "h9_R6yElik_z"
      },
      "source": [
        "import os\n",
        "os.chdir(\"/content/drive/My Drive/Analytic-Steps-blogs/YouTube/Sentiment/fourth_blog/\")"
      ],
      "execution_count": null,
      "outputs": []
    },
    {
      "cell_type": "code",
      "metadata": {
        "_uuid": "8f2839f25d086af736a60e9eeb907d3b93b6e0e5",
        "_cell_guid": "b1076dfc-b9ad-4769-8c92-a6c4dae69d19",
        "trusted": true,
        "id": "Os2Zzeq1fOPk"
      },
      "source": [
        "\n",
        "\n",
        "import numpy as np # linear algebra\n",
        "import pandas as pd # data processing, CSV file I/O (e.g. pd.read_csv)\n",
        "import os\n",
        "import scipy\n",
        "\n",
        "\n",
        "import warnings\n",
        "warnings.filterwarnings(\"ignore\")\n"
      ],
      "execution_count": null,
      "outputs": []
    },
    {
      "cell_type": "code",
      "metadata": {
        "trusted": true,
        "id": "fgJSTJ_3fOPq"
      },
      "source": [
        "from textblob import TextBlob\n",
        "from sklearn import metrics\n",
        "from mlxtend.plotting import plot_confusion_matrix"
      ],
      "execution_count": null,
      "outputs": []
    },
    {
      "cell_type": "code",
      "metadata": {
        "id": "u6HBiCN5jz0Z",
        "colab": {
          "base_uri": "https://localhost:8080/"
        },
        "outputId": "f1b7aa06-60c6-4b3f-8297-69dca4d240c6"
      },
      "source": [
        "ls"
      ],
      "execution_count": null,
      "outputs": [
        {
          "output_type": "stream",
          "name": "stdout",
          "text": [
            "Dataset.csv  \u001b[0m\u001b[01;34msample_data\u001b[0m/\n"
          ]
        }
      ]
    },
    {
      "cell_type": "code",
      "metadata": {
        "trusted": true,
        "id": "7UzPRyFrfOPy"
      },
      "source": [
        "data = pd.read_csv(\"Dataset.csv\")"
      ],
      "execution_count": null,
      "outputs": []
    },
    {
      "cell_type": "code",
      "metadata": {
        "trusted": true,
        "id": "8oQ_G11BfOP2",
        "colab": {
          "base_uri": "https://localhost:8080/",
          "height": 204
        },
        "outputId": "524bd3a9-c3dd-49c2-aff3-b8406d674a6d"
      },
      "source": [
        "data.head()"
      ],
      "execution_count": null,
      "outputs": [
        {
          "output_type": "execute_result",
          "data": {
            "text/html": [
              "<div>\n",
              "<style scoped>\n",
              "    .dataframe tbody tr th:only-of-type {\n",
              "        vertical-align: middle;\n",
              "    }\n",
              "\n",
              "    .dataframe tbody tr th {\n",
              "        vertical-align: top;\n",
              "    }\n",
              "\n",
              "    .dataframe thead th {\n",
              "        text-align: right;\n",
              "    }\n",
              "</style>\n",
              "<table border=\"1\" class=\"dataframe\">\n",
              "  <thead>\n",
              "    <tr style=\"text-align: right;\">\n",
              "      <th></th>\n",
              "      <th>Video ID</th>\n",
              "      <th>Comment ID</th>\n",
              "      <th>comments</th>\n",
              "    </tr>\n",
              "  </thead>\n",
              "  <tbody>\n",
              "    <tr>\n",
              "      <th>0</th>\n",
              "      <td>MwpMEbgC7DA</td>\n",
              "      <td>UgwUJGD9twrbc2p5HsF4AaABAg</td>\n",
              "      <td>Who  else  just  randomly  remembered  this  s...</td>\n",
              "    </tr>\n",
              "    <tr>\n",
              "      <th>1</th>\n",
              "      <td>MwpMEbgC7DA</td>\n",
              "      <td>UgwatJec2ipyRetMjPJ4AaABAg</td>\n",
              "      <td>still  can't  realize  its  going  to  be  9th...</td>\n",
              "    </tr>\n",
              "    <tr>\n",
              "      <th>2</th>\n",
              "      <td>MwpMEbgC7DA</td>\n",
              "      <td>UgwUv2-t5p8tboW69vB4AaABAg</td>\n",
              "      <td>It's  October  2021    Let's  See  how  many  ...</td>\n",
              "    </tr>\n",
              "    <tr>\n",
              "      <th>3</th>\n",
              "      <td>MwpMEbgC7DA</td>\n",
              "      <td>UgxAIow1Xkh884IL9V94AaABAg</td>\n",
              "      <td>Timeless  classic    3</td>\n",
              "    </tr>\n",
              "    <tr>\n",
              "      <th>4</th>\n",
              "      <td>MwpMEbgC7DA</td>\n",
              "      <td>UgydlW8DryB7MgHl_5p4AaABAg</td>\n",
              "      <td>This  song  will  never  be  forgotten    Will...</td>\n",
              "    </tr>\n",
              "  </tbody>\n",
              "</table>\n",
              "</div>"
            ],
            "text/plain": [
              "      Video ID  ...                                           comments\n",
              "0  MwpMEbgC7DA  ...  Who  else  just  randomly  remembered  this  s...\n",
              "1  MwpMEbgC7DA  ...  still  can't  realize  its  going  to  be  9th...\n",
              "2  MwpMEbgC7DA  ...  It's  October  2021    Let's  See  how  many  ...\n",
              "3  MwpMEbgC7DA  ...                             Timeless  classic    3\n",
              "4  MwpMEbgC7DA  ...  This  song  will  never  be  forgotten    Will...\n",
              "\n",
              "[5 rows x 3 columns]"
            ]
          },
          "metadata": {},
          "execution_count": 10
        }
      ]
    },
    {
      "cell_type": "code",
      "metadata": {
        "trusted": true,
        "id": "yAKqx7vafOP6",
        "colab": {
          "base_uri": "https://localhost:8080/"
        },
        "outputId": "4084db36-b0a7-4760-e904-6651c49132d7"
      },
      "source": [
        "data.shape"
      ],
      "execution_count": null,
      "outputs": [
        {
          "output_type": "execute_result",
          "data": {
            "text/plain": [
              "(1067, 3)"
            ]
          },
          "metadata": {},
          "execution_count": 11
        }
      ]
    },
    {
      "cell_type": "code",
      "metadata": {
        "trusted": true,
        "id": "r4vXRYZxfOQH"
      },
      "source": [
        "data['polarity'] = data['comments'].apply(lambda x: TextBlob(x).sentiment.polarity)"
      ],
      "execution_count": null,
      "outputs": []
    },
    {
      "cell_type": "code",
      "metadata": {
        "trusted": true,
        "id": "F3VyASGDfOQL",
        "colab": {
          "base_uri": "https://localhost:8080/",
          "height": 204
        },
        "outputId": "9450f502-ca1b-4569-9a0d-4665ed87b3b3"
      },
      "source": [
        "data.head()"
      ],
      "execution_count": null,
      "outputs": [
        {
          "output_type": "execute_result",
          "data": {
            "text/html": [
              "<div>\n",
              "<style scoped>\n",
              "    .dataframe tbody tr th:only-of-type {\n",
              "        vertical-align: middle;\n",
              "    }\n",
              "\n",
              "    .dataframe tbody tr th {\n",
              "        vertical-align: top;\n",
              "    }\n",
              "\n",
              "    .dataframe thead th {\n",
              "        text-align: right;\n",
              "    }\n",
              "</style>\n",
              "<table border=\"1\" class=\"dataframe\">\n",
              "  <thead>\n",
              "    <tr style=\"text-align: right;\">\n",
              "      <th></th>\n",
              "      <th>Video ID</th>\n",
              "      <th>Comment ID</th>\n",
              "      <th>comments</th>\n",
              "      <th>polarity</th>\n",
              "    </tr>\n",
              "  </thead>\n",
              "  <tbody>\n",
              "    <tr>\n",
              "      <th>0</th>\n",
              "      <td>MwpMEbgC7DA</td>\n",
              "      <td>UgwUJGD9twrbc2p5HsF4AaABAg</td>\n",
              "      <td>Who  else  just  randomly  remembered  this  s...</td>\n",
              "      <td>-0.500000</td>\n",
              "    </tr>\n",
              "    <tr>\n",
              "      <th>1</th>\n",
              "      <td>MwpMEbgC7DA</td>\n",
              "      <td>UgwatJec2ipyRetMjPJ4AaABAg</td>\n",
              "      <td>still  can't  realize  its  going  to  be  9th...</td>\n",
              "      <td>0.600000</td>\n",
              "    </tr>\n",
              "    <tr>\n",
              "      <th>2</th>\n",
              "      <td>MwpMEbgC7DA</td>\n",
              "      <td>UgwUv2-t5p8tboW69vB4AaABAg</td>\n",
              "      <td>It's  October  2021    Let's  See  how  many  ...</td>\n",
              "      <td>0.500000</td>\n",
              "    </tr>\n",
              "    <tr>\n",
              "      <th>3</th>\n",
              "      <td>MwpMEbgC7DA</td>\n",
              "      <td>UgxAIow1Xkh884IL9V94AaABAg</td>\n",
              "      <td>Timeless  classic    3</td>\n",
              "      <td>0.166667</td>\n",
              "    </tr>\n",
              "    <tr>\n",
              "      <th>4</th>\n",
              "      <td>MwpMEbgC7DA</td>\n",
              "      <td>UgydlW8DryB7MgHl_5p4AaABAg</td>\n",
              "      <td>This  song  will  never  be  forgotten    Will...</td>\n",
              "      <td>0.166667</td>\n",
              "    </tr>\n",
              "  </tbody>\n",
              "</table>\n",
              "</div>"
            ],
            "text/plain": [
              "      Video ID  ...  polarity\n",
              "0  MwpMEbgC7DA  ... -0.500000\n",
              "1  MwpMEbgC7DA  ...  0.600000\n",
              "2  MwpMEbgC7DA  ...  0.500000\n",
              "3  MwpMEbgC7DA  ...  0.166667\n",
              "4  MwpMEbgC7DA  ...  0.166667\n",
              "\n",
              "[5 rows x 4 columns]"
            ]
          },
          "metadata": {},
          "execution_count": 13
        }
      ]
    },
    {
      "cell_type": "markdown",
      "metadata": {
        "id": "aff7dlQffOQS"
      },
      "source": [
        "## Shuffle the dataset"
      ]
    },
    {
      "cell_type": "code",
      "metadata": {
        "trusted": true,
        "id": "fAvRRLZZfOQS"
      },
      "source": [
        "data = data.sample(frac=1).reset_index(drop=True)"
      ],
      "execution_count": null,
      "outputs": []
    },
    {
      "cell_type": "code",
      "metadata": {
        "trusted": true,
        "id": "b3l65gBXfOQV"
      },
      "source": [
        "data['pol_cat']  = 0"
      ],
      "execution_count": null,
      "outputs": []
    },
    {
      "cell_type": "markdown",
      "metadata": {
        "id": "5eApxikxfOQX"
      },
      "source": [
        "Continuous to categorical"
      ]
    },
    {
      "cell_type": "code",
      "metadata": {
        "trusted": true,
        "id": "FjSukaWYfOQY"
      },
      "source": [
        "# data['pol_cat'][data.polarity == 0] = 0\n",
        "data['pol_cat'][data.polarity > 0] = 1\n",
        "data['pol_cat'][data.polarity <= 0] = -1\n"
      ],
      "execution_count": null,
      "outputs": []
    },
    {
      "cell_type": "code",
      "metadata": {
        "trusted": true,
        "id": "UqA764VKfOQh",
        "colab": {
          "base_uri": "https://localhost:8080/",
          "height": 204
        },
        "outputId": "f7fc04fc-48c4-4b3d-b398-c4db601ccc90"
      },
      "source": [
        "data.head()"
      ],
      "execution_count": null,
      "outputs": [
        {
          "output_type": "execute_result",
          "data": {
            "text/html": [
              "<div>\n",
              "<style scoped>\n",
              "    .dataframe tbody tr th:only-of-type {\n",
              "        vertical-align: middle;\n",
              "    }\n",
              "\n",
              "    .dataframe tbody tr th {\n",
              "        vertical-align: top;\n",
              "    }\n",
              "\n",
              "    .dataframe thead th {\n",
              "        text-align: right;\n",
              "    }\n",
              "</style>\n",
              "<table border=\"1\" class=\"dataframe\">\n",
              "  <thead>\n",
              "    <tr style=\"text-align: right;\">\n",
              "      <th></th>\n",
              "      <th>Video ID</th>\n",
              "      <th>Comment ID</th>\n",
              "      <th>comments</th>\n",
              "      <th>polarity</th>\n",
              "      <th>pol_cat</th>\n",
              "    </tr>\n",
              "  </thead>\n",
              "  <tbody>\n",
              "    <tr>\n",
              "      <th>0</th>\n",
              "      <td>MwpMEbgC7DA</td>\n",
              "      <td>UgxRaaXSvOnxOpx2XBZ4AaABAg</td>\n",
              "      <td>why    have  i  just  realised  just  now  tha...</td>\n",
              "      <td>0.600000</td>\n",
              "      <td>1</td>\n",
              "    </tr>\n",
              "    <tr>\n",
              "      <th>1</th>\n",
              "      <td>MwpMEbgC7DA</td>\n",
              "      <td>UgwJ8rCuePPDV8yKzs14AaABAg</td>\n",
              "      <td>This  is  my  comfort  song    it  makes  me  ...</td>\n",
              "      <td>0.200000</td>\n",
              "      <td>1</td>\n",
              "    </tr>\n",
              "    <tr>\n",
              "      <th>2</th>\n",
              "      <td>MwpMEbgC7DA</td>\n",
              "      <td>UgydlW8DryB7MgHl_5p4AaABAg</td>\n",
              "      <td>This  song  will  never  be  forgotten    Will...</td>\n",
              "      <td>0.166667</td>\n",
              "      <td>1</td>\n",
              "    </tr>\n",
              "    <tr>\n",
              "      <th>3</th>\n",
              "      <td>MwpMEbgC7DA</td>\n",
              "      <td>UgyBWzS2Kg_xBe0oGgJ4AaABAg</td>\n",
              "      <td>I  came  here  after  vampire  diaries  season  6</td>\n",
              "      <td>0.000000</td>\n",
              "      <td>-1</td>\n",
              "    </tr>\n",
              "    <tr>\n",
              "      <th>4</th>\n",
              "      <td>MwpMEbgC7DA</td>\n",
              "      <td>UgxIQvlfp3yXOEGCXn54AaABAg</td>\n",
              "      <td>I  was  here  in  2021  and  i  will  be  here...</td>\n",
              "      <td>0.000000</td>\n",
              "      <td>-1</td>\n",
              "    </tr>\n",
              "  </tbody>\n",
              "</table>\n",
              "</div>"
            ],
            "text/plain": [
              "      Video ID                  Comment ID  ...  polarity  pol_cat\n",
              "0  MwpMEbgC7DA  UgxRaaXSvOnxOpx2XBZ4AaABAg  ...  0.600000        1\n",
              "1  MwpMEbgC7DA  UgwJ8rCuePPDV8yKzs14AaABAg  ...  0.200000        1\n",
              "2  MwpMEbgC7DA  UgydlW8DryB7MgHl_5p4AaABAg  ...  0.166667        1\n",
              "3  MwpMEbgC7DA  UgyBWzS2Kg_xBe0oGgJ4AaABAg  ...  0.000000       -1\n",
              "4  MwpMEbgC7DA  UgxIQvlfp3yXOEGCXn54AaABAg  ...  0.000000       -1\n",
              "\n",
              "[5 rows x 5 columns]"
            ]
          },
          "metadata": {},
          "execution_count": 17
        }
      ]
    },
    {
      "cell_type": "code",
      "metadata": {
        "trusted": true,
        "id": "HjyjS1yqfOQx",
        "colab": {
          "base_uri": "https://localhost:8080/"
        },
        "outputId": "c74a7f83-be51-4a21-fe71-dd6c94cbf78b"
      },
      "source": [
        "data['pol_cat'].value_counts()"
      ],
      "execution_count": null,
      "outputs": [
        {
          "output_type": "execute_result",
          "data": {
            "text/plain": [
              "-1    565\n",
              " 1    502\n",
              "Name: pol_cat, dtype: int64"
            ]
          },
          "metadata": {},
          "execution_count": 18
        }
      ]
    },
    {
      "cell_type": "markdown",
      "metadata": {
        "id": "GUaFvHcLfOQ2"
      },
      "source": [
        "Create separate dataframes for Negative,Positive & Neutral comments "
      ]
    },
    {
      "cell_type": "code",
      "metadata": {
        "trusted": true,
        "id": "AFKmSBwcfOQ3"
      },
      "source": [
        "data_pos = data[data['pol_cat'] == 1]\n",
        "data_pos = data_pos.reset_index(drop = True)\n",
        "\n",
        "data_neg = data[data['pol_cat'] == -1]\n",
        "data_neg = data_neg.reset_index(drop = True)\n",
        "\n",
        "# data_neutral = data[data['pol_cat'] == 0]\n",
        "# data_neutral = data_neutral.reset_index(drop = True)"
      ],
      "execution_count": null,
      "outputs": []
    },
    {
      "cell_type": "code",
      "metadata": {
        "trusted": true,
        "id": "viYbRp2ifOQ-",
        "colab": {
          "base_uri": "https://localhost:8080/",
          "height": 204
        },
        "outputId": "90cefd3a-3e66-4346-8d3d-7d3533c1ac86"
      },
      "source": [
        "data_pos.head()"
      ],
      "execution_count": null,
      "outputs": [
        {
          "output_type": "execute_result",
          "data": {
            "text/html": [
              "<div>\n",
              "<style scoped>\n",
              "    .dataframe tbody tr th:only-of-type {\n",
              "        vertical-align: middle;\n",
              "    }\n",
              "\n",
              "    .dataframe tbody tr th {\n",
              "        vertical-align: top;\n",
              "    }\n",
              "\n",
              "    .dataframe thead th {\n",
              "        text-align: right;\n",
              "    }\n",
              "</style>\n",
              "<table border=\"1\" class=\"dataframe\">\n",
              "  <thead>\n",
              "    <tr style=\"text-align: right;\">\n",
              "      <th></th>\n",
              "      <th>Video ID</th>\n",
              "      <th>Comment ID</th>\n",
              "      <th>comments</th>\n",
              "      <th>polarity</th>\n",
              "      <th>pol_cat</th>\n",
              "    </tr>\n",
              "  </thead>\n",
              "  <tbody>\n",
              "    <tr>\n",
              "      <th>0</th>\n",
              "      <td>MwpMEbgC7DA</td>\n",
              "      <td>UgxRaaXSvOnxOpx2XBZ4AaABAg</td>\n",
              "      <td>why    have  i  just  realised  just  now  tha...</td>\n",
              "      <td>0.600000</td>\n",
              "      <td>1</td>\n",
              "    </tr>\n",
              "    <tr>\n",
              "      <th>1</th>\n",
              "      <td>MwpMEbgC7DA</td>\n",
              "      <td>UgwJ8rCuePPDV8yKzs14AaABAg</td>\n",
              "      <td>This  is  my  comfort  song    it  makes  me  ...</td>\n",
              "      <td>0.200000</td>\n",
              "      <td>1</td>\n",
              "    </tr>\n",
              "    <tr>\n",
              "      <th>2</th>\n",
              "      <td>MwpMEbgC7DA</td>\n",
              "      <td>UgydlW8DryB7MgHl_5p4AaABAg</td>\n",
              "      <td>This  song  will  never  be  forgotten    Will...</td>\n",
              "      <td>0.166667</td>\n",
              "      <td>1</td>\n",
              "    </tr>\n",
              "    <tr>\n",
              "      <th>3</th>\n",
              "      <td>MwpMEbgC7DA</td>\n",
              "      <td>Ugjo13NqRq4553gCoAEC</td>\n",
              "      <td>I  wanna  take  you  somewhere  so  you  know ...</td>\n",
              "      <td>0.356897</td>\n",
              "      <td>1</td>\n",
              "    </tr>\n",
              "    <tr>\n",
              "      <th>4</th>\n",
              "      <td>MwpMEbgC7DA</td>\n",
              "      <td>UgzR2lWAvrfjYlbfEoB4AaABAg</td>\n",
              "      <td>I  wanna  take  you  somewhere  so  you  know ...</td>\n",
              "      <td>0.356897</td>\n",
              "      <td>1</td>\n",
              "    </tr>\n",
              "  </tbody>\n",
              "</table>\n",
              "</div>"
            ],
            "text/plain": [
              "      Video ID                  Comment ID  ...  polarity  pol_cat\n",
              "0  MwpMEbgC7DA  UgxRaaXSvOnxOpx2XBZ4AaABAg  ...  0.600000        1\n",
              "1  MwpMEbgC7DA  UgwJ8rCuePPDV8yKzs14AaABAg  ...  0.200000        1\n",
              "2  MwpMEbgC7DA  UgydlW8DryB7MgHl_5p4AaABAg  ...  0.166667        1\n",
              "3  MwpMEbgC7DA        Ugjo13NqRq4553gCoAEC  ...  0.356897        1\n",
              "4  MwpMEbgC7DA  UgzR2lWAvrfjYlbfEoB4AaABAg  ...  0.356897        1\n",
              "\n",
              "[5 rows x 5 columns]"
            ]
          },
          "metadata": {},
          "execution_count": 20
        }
      ]
    },
    {
      "cell_type": "code",
      "metadata": {
        "trusted": true,
        "id": "LMQlLiuhfORF",
        "colab": {
          "base_uri": "https://localhost:8080/"
        },
        "outputId": "c0e225d1-2f33-426f-e94e-82928b73c9bf"
      },
      "source": [
        "data_pos.shape"
      ],
      "execution_count": null,
      "outputs": [
        {
          "output_type": "execute_result",
          "data": {
            "text/plain": [
              "(502, 5)"
            ]
          },
          "metadata": {},
          "execution_count": 21
        }
      ]
    },
    {
      "cell_type": "code",
      "metadata": {
        "trusted": true,
        "id": "uEpv5BBDfORJ",
        "colab": {
          "base_uri": "https://localhost:8080/",
          "height": 204
        },
        "outputId": "c20468ae-ac25-4d20-a475-75189d5489a9"
      },
      "source": [
        "data_neg.head()"
      ],
      "execution_count": null,
      "outputs": [
        {
          "output_type": "execute_result",
          "data": {
            "text/html": [
              "<div>\n",
              "<style scoped>\n",
              "    .dataframe tbody tr th:only-of-type {\n",
              "        vertical-align: middle;\n",
              "    }\n",
              "\n",
              "    .dataframe tbody tr th {\n",
              "        vertical-align: top;\n",
              "    }\n",
              "\n",
              "    .dataframe thead th {\n",
              "        text-align: right;\n",
              "    }\n",
              "</style>\n",
              "<table border=\"1\" class=\"dataframe\">\n",
              "  <thead>\n",
              "    <tr style=\"text-align: right;\">\n",
              "      <th></th>\n",
              "      <th>Video ID</th>\n",
              "      <th>Comment ID</th>\n",
              "      <th>comments</th>\n",
              "      <th>polarity</th>\n",
              "      <th>pol_cat</th>\n",
              "    </tr>\n",
              "  </thead>\n",
              "  <tbody>\n",
              "    <tr>\n",
              "      <th>0</th>\n",
              "      <td>MwpMEbgC7DA</td>\n",
              "      <td>UgyBWzS2Kg_xBe0oGgJ4AaABAg</td>\n",
              "      <td>I  came  here  after  vampire  diaries  season  6</td>\n",
              "      <td>0.000000</td>\n",
              "      <td>-1</td>\n",
              "    </tr>\n",
              "    <tr>\n",
              "      <th>1</th>\n",
              "      <td>MwpMEbgC7DA</td>\n",
              "      <td>UgxIQvlfp3yXOEGCXn54AaABAg</td>\n",
              "      <td>I  was  here  in  2021  and  i  will  be  here...</td>\n",
              "      <td>0.000000</td>\n",
              "      <td>-1</td>\n",
              "    </tr>\n",
              "    <tr>\n",
              "      <th>2</th>\n",
              "      <td>MwpMEbgC7DA</td>\n",
              "      <td>UgxdTG3rJbqJRfUs1at4AaABAg</td>\n",
              "      <td>Pov    you're  9  years  later</td>\n",
              "      <td>0.000000</td>\n",
              "      <td>-1</td>\n",
              "    </tr>\n",
              "    <tr>\n",
              "      <th>3</th>\n",
              "      <td>MwpMEbgC7DA</td>\n",
              "      <td>Ugw6lEn_5ReUJX506614AaABAg</td>\n",
              "      <td>Let  s  see  how  muny  people  are  listening...</td>\n",
              "      <td>0.000000</td>\n",
              "      <td>-1</td>\n",
              "    </tr>\n",
              "    <tr>\n",
              "      <th>4</th>\n",
              "      <td>MwpMEbgC7DA</td>\n",
              "      <td>UgzwkrWpL3FPed-l0qF4AaABAg</td>\n",
              "      <td>Its  so  hard  to  not  cry  while  listening ...</td>\n",
              "      <td>-0.291667</td>\n",
              "      <td>-1</td>\n",
              "    </tr>\n",
              "  </tbody>\n",
              "</table>\n",
              "</div>"
            ],
            "text/plain": [
              "      Video ID                  Comment ID  ...  polarity  pol_cat\n",
              "0  MwpMEbgC7DA  UgyBWzS2Kg_xBe0oGgJ4AaABAg  ...  0.000000       -1\n",
              "1  MwpMEbgC7DA  UgxIQvlfp3yXOEGCXn54AaABAg  ...  0.000000       -1\n",
              "2  MwpMEbgC7DA  UgxdTG3rJbqJRfUs1at4AaABAg  ...  0.000000       -1\n",
              "3  MwpMEbgC7DA  Ugw6lEn_5ReUJX506614AaABAg  ...  0.000000       -1\n",
              "4  MwpMEbgC7DA  UgzwkrWpL3FPed-l0qF4AaABAg  ... -0.291667       -1\n",
              "\n",
              "[5 rows x 5 columns]"
            ]
          },
          "metadata": {},
          "execution_count": 22
        }
      ]
    },
    {
      "cell_type": "code",
      "metadata": {
        "trusted": true,
        "id": "Zv_eLUh8fORS",
        "colab": {
          "base_uri": "https://localhost:8080/",
          "height": 35
        },
        "outputId": "4aeb00f1-946d-4011-8ac7-7576cad42f66"
      },
      "source": [
        "data_neg['comments'][40]"
      ],
      "execution_count": null,
      "outputs": [
        {
          "output_type": "execute_result",
          "data": {
            "application/vnd.google.colaboratory.intrinsic+json": {
              "type": "string"
            },
            "text/plain": [
              "'Legends  watch    this  in  2030'"
            ]
          },
          "metadata": {},
          "execution_count": 23
        }
      ]
    },
    {
      "cell_type": "code",
      "metadata": {
        "trusted": true,
        "id": "-Js16up1fORW",
        "colab": {
          "base_uri": "https://localhost:8080/",
          "height": 316
        },
        "outputId": "31f3ae42-a4ac-40c0-9561-680d5241e58e"
      },
      "source": [
        "data.pol_cat.value_counts().plot.bar()\n",
        "data.pol_cat.value_counts()"
      ],
      "execution_count": null,
      "outputs": [
        {
          "output_type": "execute_result",
          "data": {
            "text/plain": [
              "-1    565\n",
              " 1    502\n",
              "Name: pol_cat, dtype: int64"
            ]
          },
          "metadata": {},
          "execution_count": 24
        },
        {
          "output_type": "display_data",
          "data": {
            "image/png": "[encoded data removed]",
            "text/plain": [
              "<Figure size 432x288 with 1 Axes>"
            ]
          },
          "metadata": {
            "needs_background": "light"
          }
        }
      ]
    },
    {
      "cell_type": "markdown",
      "metadata": {
        "id": "uPIRm-0gfORj"
      },
      "source": [
        "## Data Preprocessing"
      ]
    },
    {
      "cell_type": "markdown",
      "metadata": {
        "id": "ADfF9AAZfORk"
      },
      "source": [
        "Lower the text in comments"
      ]
    },
    {
      "cell_type": "code",
      "metadata": {
        "trusted": true,
        "id": "zcUC0pIFfORl"
      },
      "source": [
        "data['comments'] = data['comments'].str.lower()"
      ],
      "execution_count": null,
      "outputs": []
    },
    {
      "cell_type": "code",
      "metadata": {
        "trusted": true,
        "id": "X14Mvov6fORr",
        "colab": {
          "base_uri": "https://localhost:8080/"
        },
        "outputId": "3a0342e6-6410-4bfc-8e05-2e3eb9b3b55d"
      },
      "source": [
        "data['comments'].head()"
      ],
      "execution_count": null,
      "outputs": [
        {
          "output_type": "execute_result",
          "data": {
            "text/plain": [
              "0    why    have  i  just  realised  just  now  tha...\n",
              "1    this  is  my  comfort  song    it  makes  me  ...\n",
              "2    this  song  will  never  be  forgotten    will...\n",
              "3    i  came  here  after  vampire  diaries  season  6\n",
              "4    i  was  here  in  2021  and  i  will  be  here...\n",
              "Name: comments, dtype: object"
            ]
          },
          "metadata": {},
          "execution_count": 26
        }
      ]
    },
    {
      "cell_type": "code",
      "metadata": {
        "trusted": true,
        "id": "5yFhcEwffORz",
        "colab": {
          "base_uri": "https://localhost:8080/",
          "height": 297
        },
        "outputId": "4aad16d4-8f16-4968-c147-ad4aeb335099"
      },
      "source": [
        "data.describe()"
      ],
      "execution_count": null,
      "outputs": [
        {
          "output_type": "execute_result",
          "data": {
            "text/html": [
              "<div>\n",
              "<style scoped>\n",
              "    .dataframe tbody tr th:only-of-type {\n",
              "        vertical-align: middle;\n",
              "    }\n",
              "\n",
              "    .dataframe tbody tr th {\n",
              "        vertical-align: top;\n",
              "    }\n",
              "\n",
              "    .dataframe thead th {\n",
              "        text-align: right;\n",
              "    }\n",
              "</style>\n",
              "<table border=\"1\" class=\"dataframe\">\n",
              "  <thead>\n",
              "    <tr style=\"text-align: right;\">\n",
              "      <th></th>\n",
              "      <th>polarity</th>\n",
              "      <th>pol_cat</th>\n",
              "    </tr>\n",
              "  </thead>\n",
              "  <tbody>\n",
              "    <tr>\n",
              "      <th>count</th>\n",
              "      <td>1067.000000</td>\n",
              "      <td>1067.000000</td>\n",
              "    </tr>\n",
              "    <tr>\n",
              "      <th>mean</th>\n",
              "      <td>0.162778</td>\n",
              "      <td>-0.059044</td>\n",
              "    </tr>\n",
              "    <tr>\n",
              "      <th>std</th>\n",
              "      <td>0.327622</td>\n",
              "      <td>0.998723</td>\n",
              "    </tr>\n",
              "    <tr>\n",
              "      <th>min</th>\n",
              "      <td>-1.000000</td>\n",
              "      <td>-1.000000</td>\n",
              "    </tr>\n",
              "    <tr>\n",
              "      <th>25%</th>\n",
              "      <td>0.000000</td>\n",
              "      <td>-1.000000</td>\n",
              "    </tr>\n",
              "    <tr>\n",
              "      <th>50%</th>\n",
              "      <td>0.000000</td>\n",
              "      <td>-1.000000</td>\n",
              "    </tr>\n",
              "    <tr>\n",
              "      <th>75%</th>\n",
              "      <td>0.361667</td>\n",
              "      <td>1.000000</td>\n",
              "    </tr>\n",
              "    <tr>\n",
              "      <th>max</th>\n",
              "      <td>1.000000</td>\n",
              "      <td>1.000000</td>\n",
              "    </tr>\n",
              "  </tbody>\n",
              "</table>\n",
              "</div>"
            ],
            "text/plain": [
              "          polarity      pol_cat\n",
              "count  1067.000000  1067.000000\n",
              "mean      0.162778    -0.059044\n",
              "std       0.327622     0.998723\n",
              "min      -1.000000    -1.000000\n",
              "25%       0.000000    -1.000000\n",
              "50%       0.000000    -1.000000\n",
              "75%       0.361667     1.000000\n",
              "max       1.000000     1.000000"
            ]
          },
          "metadata": {},
          "execution_count": 27
        }
      ]
    },
    {
      "cell_type": "code",
      "metadata": {
        "trusted": true,
        "id": "km6dIMhWfOR5",
        "colab": {
          "base_uri": "https://localhost:8080/"
        },
        "outputId": "58a28dc6-9bc3-4383-8b39-d51de0cfea46"
      },
      "source": [
        "data.info()"
      ],
      "execution_count": null,
      "outputs": [
        {
          "output_type": "stream",
          "name": "stdout",
          "text": [
            "<class 'pandas.core.frame.DataFrame'>\n",
            "RangeIndex: 1067 entries, 0 to 1066\n",
            "Data columns (total 5 columns):\n",
            " #   Column      Non-Null Count  Dtype  \n",
            "---  ------      --------------  -----  \n",
            " 0   Video ID    1067 non-null   object \n",
            " 1   Comment ID  1067 non-null   object \n",
            " 2   comments    1067 non-null   object \n",
            " 3   polarity    1067 non-null   float64\n",
            " 4   pol_cat     1067 non-null   int64  \n",
            "dtypes: float64(1), int64(1), object(3)\n",
            "memory usage: 41.8+ KB\n"
          ]
        }
      ]
    },
    {
      "cell_type": "code",
      "metadata": {
        "trusted": true,
        "id": "avjaCC79fOSE",
        "colab": {
          "base_uri": "https://localhost:8080/",
          "height": 35
        },
        "outputId": "5ed1692d-a8e9-4e3d-8116-53b0ef7a408d"
      },
      "source": [
        "data['comments'][0]"
      ],
      "execution_count": null,
      "outputs": [
        {
          "output_type": "execute_result",
          "data": {
            "application/vnd.google.colaboratory.intrinsic+json": {
              "type": "string"
            },
            "text/plain": [
              "'why    have  i  just  realised  just  now  that  he  has  a  karen  cut  lmao'"
            ]
          },
          "metadata": {},
          "execution_count": 29
        }
      ]
    },
    {
      "cell_type": "code",
      "metadata": {
        "trusted": true,
        "id": "V4zfsTUifOSO",
        "colab": {
          "base_uri": "https://localhost:8080/",
          "height": 35
        },
        "outputId": "0e7fedab-34d5-4aa1-9982-5ec30c9c0bfa"
      },
      "source": [
        "data['comments'][0].strip()"
      ],
      "execution_count": null,
      "outputs": [
        {
          "output_type": "execute_result",
          "data": {
            "application/vnd.google.colaboratory.intrinsic+json": {
              "type": "string"
            },
            "text/plain": [
              "'why    have  i  just  realised  just  now  that  he  has  a  karen  cut  lmao'"
            ]
          },
          "metadata": {},
          "execution_count": 30
        }
      ]
    },
    {
      "cell_type": "code",
      "metadata": {
        "id": "pVxZ8KK_vbm4",
        "colab": {
          "base_uri": "https://localhost:8080/"
        },
        "outputId": "7b1b582b-d0d6-4ed1-a82e-25d5ad081448"
      },
      "source": [
        "import nltk\n",
        "nltk.download(\"stopwords\")"
      ],
      "execution_count": null,
      "outputs": [
        {
          "output_type": "stream",
          "name": "stdout",
          "text": [
            "[nltk_data] Downloading package stopwords to /root/nltk_data...\n",
            "[nltk_data]   Unzipping corpora/stopwords.zip.\n"
          ]
        },
        {
          "output_type": "execute_result",
          "data": {
            "text/plain": [
              "True"
            ]
          },
          "metadata": {},
          "execution_count": 31
        }
      ]
    },
    {
      "cell_type": "code",
      "metadata": {
        "id": "ugZWXdNOyBKq",
        "colab": {
          "base_uri": "https://localhost:8080/"
        },
        "outputId": "97ecb296-bb8b-49dd-cdc5-5ea14138fa80"
      },
      "source": [
        "nltk.download(\"punkt\")"
      ],
      "execution_count": null,
      "outputs": [
        {
          "output_type": "stream",
          "name": "stdout",
          "text": [
            "[nltk_data] Downloading package punkt to /root/nltk_data...\n",
            "[nltk_data]   Package punkt is already up-to-date!\n"
          ]
        },
        {
          "output_type": "execute_result",
          "data": {
            "text/plain": [
              "True"
            ]
          },
          "metadata": {},
          "execution_count": 33
        }
      ]
    },
    {
      "cell_type": "code",
      "metadata": {
        "trusted": true,
        "id": "fC4ig8cyfOSa"
      },
      "source": [
        "from nltk.corpus import stopwords\n",
        "from nltk import word_tokenize\n",
        "import string\n",
        "import re\n",
        "import nltk"
      ],
      "execution_count": null,
      "outputs": []
    },
    {
      "cell_type": "code",
      "metadata": {
        "id": "FdcsbqXTvYLB",
        "colab": {
          "base_uri": "https://localhost:8080/"
        },
        "outputId": "abfbfb57-8e70-4859-f162-8ad8943c6495"
      },
      "source": [
        "print(stopwords.words('english'))"
      ],
      "execution_count": null,
      "outputs": [
        {
          "output_type": "stream",
          "name": "stdout",
          "text": [
            "['i', 'me', 'my', 'myself', 'we', 'our', 'ours', 'ourselves', 'you', \"you're\", \"you've\", \"you'll\", \"you'd\", 'your', 'yours', 'yourself', 'yourselves', 'he', 'him', 'his', 'himself', 'she', \"she's\", 'her', 'hers', 'herself', 'it', \"it's\", 'its', 'itself', 'they', 'them', 'their', 'theirs', 'themselves', 'what', 'which', 'who', 'whom', 'this', 'that', \"that'll\", 'these', 'those', 'am', 'is', 'are', 'was', 'were', 'be', 'been', 'being', 'have', 'has', 'had', 'having', 'do', 'does', 'did', 'doing', 'a', 'an', 'the', 'and', 'but', 'if', 'or', 'because', 'as', 'until', 'while', 'of', 'at', 'by', 'for', 'with', 'about', 'against', 'between', 'into', 'through', 'during', 'before', 'after', 'above', 'below', 'to', 'from', 'up', 'down', 'in', 'out', 'on', 'off', 'over', 'under', 'again', 'further', 'then', 'once', 'here', 'there', 'when', 'where', 'why', 'how', 'all', 'any', 'both', 'each', 'few', 'more', 'most', 'other', 'some', 'such', 'no', 'nor', 'not', 'only', 'own', 'same', 'so', 'than', 'too', 'very', 's', 't', 'can', 'will', 'just', 'don', \"don't\", 'should', \"should've\", 'now', 'd', 'll', 'm', 'o', 're', 've', 'y', 'ain', 'aren', \"aren't\", 'couldn', \"couldn't\", 'didn', \"didn't\", 'doesn', \"doesn't\", 'hadn', \"hadn't\", 'hasn', \"hasn't\", 'haven', \"haven't\", 'isn', \"isn't\", 'ma', 'mightn', \"mightn't\", 'mustn', \"mustn't\", 'needn', \"needn't\", 'shan', \"shan't\", 'shouldn', \"shouldn't\", 'wasn', \"wasn't\", 'weren', \"weren't\", 'won', \"won't\", 'wouldn', \"wouldn't\"]\n"
          ]
        }
      ]
    },
    {
      "cell_type": "code",
      "metadata": {
        "trusted": true,
        "id": "pYrDplBYfOSc"
      },
      "source": [
        "stop_words = set(stopwords.words('english'))"
      ],
      "execution_count": null,
      "outputs": []
    },
    {
      "cell_type": "code",
      "metadata": {
        "trusted": true,
        "id": "k-kxFfPlfOSe"
      },
      "source": [
        "data['comments'] = data['comments'].str.strip()"
      ],
      "execution_count": null,
      "outputs": []
    },
    {
      "cell_type": "code",
      "metadata": {
        "trusted": true,
        "id": "QOJwKjV5fOSh"
      },
      "source": [
        "train = data.copy()"
      ],
      "execution_count": null,
      "outputs": []
    },
    {
      "cell_type": "code",
      "metadata": {
        "trusted": true,
        "id": "QFxxu3HLfOSn"
      },
      "source": [
        "train['comments'] = train['comments'].str.strip()"
      ],
      "execution_count": null,
      "outputs": []
    },
    {
      "cell_type": "code",
      "metadata": {
        "trusted": true,
        "id": "MEYK2fHjfOSq",
        "colab": {
          "base_uri": "https://localhost:8080/",
          "height": 35
        },
        "outputId": "725cdc73-6395-4fde-fe0a-ecffdaacfd98"
      },
      "source": [
        "train['comments'][0]"
      ],
      "execution_count": null,
      "outputs": [
        {
          "output_type": "execute_result",
          "data": {
            "application/vnd.google.colaboratory.intrinsic+json": {
              "type": "string"
            },
            "text/plain": [
              "'why    have  i  just  realised  just  now  that  he  has  a  karen  cut  lmao'"
            ]
          },
          "metadata": {},
          "execution_count": 39
        }
      ]
    },
    {
      "cell_type": "code",
      "metadata": {
        "trusted": true,
        "id": "7dutEBJ9fOSt"
      },
      "source": [
        "def remove_stopwords(line):\n",
        "    word_tokens = word_tokenize(line)\n",
        "    filtered_sentence = [w for w in word_tokens if not w in stop_words]\n",
        "    return \" \".join(filtered_sentence)"
      ],
      "execution_count": null,
      "outputs": []
    },
    {
      "cell_type": "code",
      "metadata": {
        "trusted": true,
        "id": "N6_eOPkLfOSy"
      },
      "source": [
        "data['stop_comments'] = data['comments'].apply(lambda x : remove_stopwords(x))"
      ],
      "execution_count": null,
      "outputs": []
    },
    {
      "cell_type": "code",
      "metadata": {
        "trusted": true,
        "id": "ecShTkF6fOS3",
        "colab": {
          "base_uri": "https://localhost:8080/",
          "height": 323
        },
        "outputId": "95f95edd-bedc-4f82-9196-e419c1ac3136"
      },
      "source": [
        "data.head()"
      ],
      "execution_count": null,
      "outputs": [
        {
          "output_type": "execute_result",
          "data": {
            "text/html": [
              "<div>\n",
              "<style scoped>\n",
              "    .dataframe tbody tr th:only-of-type {\n",
              "        vertical-align: middle;\n",
              "    }\n",
              "\n",
              "    .dataframe tbody tr th {\n",
              "        vertical-align: top;\n",
              "    }\n",
              "\n",
              "    .dataframe thead th {\n",
              "        text-align: right;\n",
              "    }\n",
              "</style>\n",
              "<table border=\"1\" class=\"dataframe\">\n",
              "  <thead>\n",
              "    <tr style=\"text-align: right;\">\n",
              "      <th></th>\n",
              "      <th>Video ID</th>\n",
              "      <th>Comment ID</th>\n",
              "      <th>comments</th>\n",
              "      <th>polarity</th>\n",
              "      <th>pol_cat</th>\n",
              "      <th>stop_comments</th>\n",
              "    </tr>\n",
              "  </thead>\n",
              "  <tbody>\n",
              "    <tr>\n",
              "      <th>0</th>\n",
              "      <td>MwpMEbgC7DA</td>\n",
              "      <td>UgxRaaXSvOnxOpx2XBZ4AaABAg</td>\n",
              "      <td>why    have  i  just  realised  just  now  tha...</td>\n",
              "      <td>0.600000</td>\n",
              "      <td>1</td>\n",
              "      <td>realised karen cut lmao</td>\n",
              "    </tr>\n",
              "    <tr>\n",
              "      <th>1</th>\n",
              "      <td>MwpMEbgC7DA</td>\n",
              "      <td>UgwJ8rCuePPDV8yKzs14AaABAg</td>\n",
              "      <td>this  is  my  comfort  song    it  makes  me  ...</td>\n",
              "      <td>0.200000</td>\n",
              "      <td>1</td>\n",
              "      <td>comfort song makes feel every emotion need fee...</td>\n",
              "    </tr>\n",
              "    <tr>\n",
              "      <th>2</th>\n",
              "      <td>MwpMEbgC7DA</td>\n",
              "      <td>UgydlW8DryB7MgHl_5p4AaABAg</td>\n",
              "      <td>this  song  will  never  be  forgotten    will...</td>\n",
              "      <td>0.166667</td>\n",
              "      <td>1</td>\n",
              "      <td>song never forgotten pass generations classic ...</td>\n",
              "    </tr>\n",
              "    <tr>\n",
              "      <th>3</th>\n",
              "      <td>MwpMEbgC7DA</td>\n",
              "      <td>UgyBWzS2Kg_xBe0oGgJ4AaABAg</td>\n",
              "      <td>i  came  here  after  vampire  diaries  season  6</td>\n",
              "      <td>0.000000</td>\n",
              "      <td>-1</td>\n",
              "      <td>came vampire diaries season 6</td>\n",
              "    </tr>\n",
              "    <tr>\n",
              "      <th>4</th>\n",
              "      <td>MwpMEbgC7DA</td>\n",
              "      <td>UgxIQvlfp3yXOEGCXn54AaABAg</td>\n",
              "      <td>i  was  here  in  2021  and  i  will  be  here...</td>\n",
              "      <td>0.000000</td>\n",
              "      <td>-1</td>\n",
              "      <td>2021 2022 2023 2024 die</td>\n",
              "    </tr>\n",
              "  </tbody>\n",
              "</table>\n",
              "</div>"
            ],
            "text/plain": [
              "      Video ID  ...                                      stop_comments\n",
              "0  MwpMEbgC7DA  ...                            realised karen cut lmao\n",
              "1  MwpMEbgC7DA  ...  comfort song makes feel every emotion need fee...\n",
              "2  MwpMEbgC7DA  ...  song never forgotten pass generations classic ...\n",
              "3  MwpMEbgC7DA  ...                      came vampire diaries season 6\n",
              "4  MwpMEbgC7DA  ...                            2021 2022 2023 2024 die\n",
              "\n",
              "[5 rows x 6 columns]"
            ]
          },
          "metadata": {},
          "execution_count": 42
        }
      ]
    },
    {
      "cell_type": "code",
      "metadata": {
        "id": "huA-d5gjiIpc"
      },
      "source": [
        "data.to_csv('Dataset-with-sentiments.csv')"
      ],
      "execution_count": null,
      "outputs": []
    },
    {
      "cell_type": "code",
      "metadata": {
        "id": "NIR0sRJ6RBQZ"
      },
      "source": [
        ""
      ],
      "execution_count": null,
      "outputs": []
    }
  ]
}