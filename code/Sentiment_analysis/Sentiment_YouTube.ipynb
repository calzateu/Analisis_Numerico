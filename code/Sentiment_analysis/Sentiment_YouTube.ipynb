{
  "nbformat": 4,
  "nbformat_minor": 0,
  "metadata": {
    "kernelspec": {
      "language": "python",
      "display_name": "Python 3",
      "name": "python3"
    },
    "language_info": {
      "pygments_lexer": "ipython3",
      "nbconvert_exporter": "python",
      "version": "3.6.4",
      "file_extension": ".py",
      "codemirror_mode": {
        "name": "ipython",
        "version": 3
      },
      "name": "python",
      "mimetype": "text/x-python"
    },
    "colab": {
      "name": "Sentiment_YouTube.ipynb",
      "provenance": [],
      "collapsed_sections": []
    }
  },
  "cells": [
    {
      "cell_type": "code",
      "metadata": {
        "id": "2e_qzhUj0q6v",
        "colab": {
          "base_uri": "https://localhost:8080/"
        },
        "outputId": "9c7ba465-1902-43b5-f88e-4636a5a6b26d"
      },
      "source": [
        "pip install -U scikit-learn"
      ],
      "execution_count": 79,
      "outputs": [
        {
          "output_type": "stream",
          "name": "stdout",
          "text": [
            "Requirement already satisfied: scikit-learn in /usr/local/lib/python3.7/dist-packages (1.0.1)\n",
            "Requirement already satisfied: scipy>=1.1.0 in /usr/local/lib/python3.7/dist-packages (from scikit-learn) (1.4.1)\n",
            "Requirement already satisfied: numpy>=1.14.6 in /usr/local/lib/python3.7/dist-packages (from scikit-learn) (1.19.5)\n",
            "Requirement already satisfied: threadpoolctl>=2.0.0 in /usr/local/lib/python3.7/dist-packages (from scikit-learn) (3.0.0)\n",
            "Requirement already satisfied: joblib>=0.11 in /usr/local/lib/python3.7/dist-packages (from scikit-learn) (1.1.0)\n"
          ]
        }
      ]
    },
    {
      "cell_type": "code",
      "metadata": {
        "_uuid": "8f2839f25d086af736a60e9eeb907d3b93b6e0e5",
        "_cell_guid": "b1076dfc-b9ad-4769-8c92-a6c4dae69d19",
        "trusted": true,
        "id": "Os2Zzeq1fOPk"
      },
      "source": [
        "import numpy as np # linear algebra\n",
        "import pandas as pd # data processing, CSV file I/O (e.g. pd.read_csv)\n",
        "import os\n",
        "import scipy"
      ],
      "execution_count": 80,
      "outputs": []
    },
    {
      "cell_type": "code",
      "metadata": {
        "trusted": true,
        "id": "fgJSTJ_3fOPq"
      },
      "source": [
        "from textblob import TextBlob\n",
        "from sklearn import metrics\n",
        "from mlxtend.plotting import plot_confusion_matrix"
      ],
      "execution_count": 81,
      "outputs": []
    },
    {
      "cell_type": "code",
      "metadata": {
        "id": "u6HBiCN5jz0Z",
        "colab": {
          "base_uri": "https://localhost:8080/"
        },
        "outputId": "ef3f7a53-8133-4133-952f-2bf9c94c7f43"
      },
      "source": [
        "ls"
      ],
      "execution_count": 82,
      "outputs": [
        {
          "output_type": "stream",
          "name": "stdout",
          "text": [
            "Dataset.csv  Dataset-with-sentiments.csv  \u001b[0m\u001b[01;34msample_data\u001b[0m/\n"
          ]
        }
      ]
    },
    {
      "cell_type": "code",
      "metadata": {
        "trusted": true,
        "id": "7UzPRyFrfOPy"
      },
      "source": [
        "data = pd.read_csv(\"Dataset.csv\")"
      ],
      "execution_count": 83,
      "outputs": []
    },
    {
      "cell_type": "code",
      "metadata": {
        "trusted": true,
        "id": "8oQ_G11BfOP2",
        "colab": {
          "base_uri": "https://localhost:8080/",
          "height": 204
        },
        "outputId": "7e0732e8-60c4-48f7-c0d7-aff76b7b5f7d"
      },
      "source": [
        "data.head()"
      ],
      "execution_count": 84,
      "outputs": [
        {
          "output_type": "execute_result",
          "data": {
            "text/html": [
              "<div>\n",
              "<style scoped>\n",
              "    .dataframe tbody tr th:only-of-type {\n",
              "        vertical-align: middle;\n",
              "    }\n",
              "\n",
              "    .dataframe tbody tr th {\n",
              "        vertical-align: top;\n",
              "    }\n",
              "\n",
              "    .dataframe thead th {\n",
              "        text-align: right;\n",
              "    }\n",
              "</style>\n",
              "<table border=\"1\" class=\"dataframe\">\n",
              "  <thead>\n",
              "    <tr style=\"text-align: right;\">\n",
              "      <th></th>\n",
              "      <th>Video ID</th>\n",
              "      <th>Comment ID</th>\n",
              "      <th>comments</th>\n",
              "      <th>Likes</th>\n",
              "    </tr>\n",
              "  </thead>\n",
              "  <tbody>\n",
              "    <tr>\n",
              "      <th>0</th>\n",
              "      <td>OPf0YbXqDm0</td>\n",
              "      <td>UgzFWowpNY0kUV5wkIR4AaABAg</td>\n",
              "      <td>I  love  how  Mark  for  99    of  the  song  ...</td>\n",
              "      <td>939</td>\n",
              "    </tr>\n",
              "    <tr>\n",
              "      <th>1</th>\n",
              "      <td>OPf0YbXqDm0</td>\n",
              "      <td>UgzFKQENO11T0sPU8yh4AaABAg</td>\n",
              "      <td>This  masterpiece  still  feels  new  even  af...</td>\n",
              "      <td>282</td>\n",
              "    </tr>\n",
              "    <tr>\n",
              "      <th>2</th>\n",
              "      <td>OPf0YbXqDm0</td>\n",
              "      <td>Ugx7H1hqEsM1GmlDORN4AaABAg</td>\n",
              "      <td>This  song  is  a  pure  masterpiece    and  i...</td>\n",
              "      <td>187</td>\n",
              "    </tr>\n",
              "    <tr>\n",
              "      <th>3</th>\n",
              "      <td>OPf0YbXqDm0</td>\n",
              "      <td>Ugw_3WEC8Db9aqihda94AaABAg</td>\n",
              "      <td>It's  crazy  how  many  people  come  back  to...</td>\n",
              "      <td>250</td>\n",
              "    </tr>\n",
              "    <tr>\n",
              "      <th>4</th>\n",
              "      <td>OPf0YbXqDm0</td>\n",
              "      <td>UgyTFRUpLawHdjiPGd14AaABAg</td>\n",
              "      <td>It's  awesome  how  old  songs  bring  us  tog...</td>\n",
              "      <td>210</td>\n",
              "    </tr>\n",
              "  </tbody>\n",
              "</table>\n",
              "</div>"
            ],
            "text/plain": [
              "      Video ID  ... Likes\n",
              "0  OPf0YbXqDm0  ...   939\n",
              "1  OPf0YbXqDm0  ...   282\n",
              "2  OPf0YbXqDm0  ...   187\n",
              "3  OPf0YbXqDm0  ...   250\n",
              "4  OPf0YbXqDm0  ...   210\n",
              "\n",
              "[5 rows x 4 columns]"
            ]
          },
          "metadata": {},
          "execution_count": 84
        }
      ]
    },
    {
      "cell_type": "code",
      "metadata": {
        "trusted": true,
        "id": "yAKqx7vafOP6",
        "colab": {
          "base_uri": "https://localhost:8080/"
        },
        "outputId": "bfc7437a-547b-4ef6-821c-ddea2f4d4a88"
      },
      "source": [
        "data.shape"
      ],
      "execution_count": 85,
      "outputs": [
        {
          "output_type": "execute_result",
          "data": {
            "text/plain": [
              "(1352, 4)"
            ]
          },
          "metadata": {},
          "execution_count": 85
        }
      ]
    },
    {
      "cell_type": "code",
      "metadata": {
        "trusted": true,
        "id": "r4vXRYZxfOQH"
      },
      "source": [
        "data['polarity'] = data['comments'].apply(lambda x: TextBlob(x).sentiment.polarity)"
      ],
      "execution_count": 86,
      "outputs": []
    },
    {
      "cell_type": "code",
      "metadata": {
        "trusted": true,
        "id": "F3VyASGDfOQL",
        "colab": {
          "base_uri": "https://localhost:8080/",
          "height": 204
        },
        "outputId": "22a70af9-0b1c-4167-d73d-7e7a3e82d88f"
      },
      "source": [
        "data.head()"
      ],
      "execution_count": 87,
      "outputs": [
        {
          "output_type": "execute_result",
          "data": {
            "text/html": [
              "<div>\n",
              "<style scoped>\n",
              "    .dataframe tbody tr th:only-of-type {\n",
              "        vertical-align: middle;\n",
              "    }\n",
              "\n",
              "    .dataframe tbody tr th {\n",
              "        vertical-align: top;\n",
              "    }\n",
              "\n",
              "    .dataframe thead th {\n",
              "        text-align: right;\n",
              "    }\n",
              "</style>\n",
              "<table border=\"1\" class=\"dataframe\">\n",
              "  <thead>\n",
              "    <tr style=\"text-align: right;\">\n",
              "      <th></th>\n",
              "      <th>Video ID</th>\n",
              "      <th>Comment ID</th>\n",
              "      <th>comments</th>\n",
              "      <th>Likes</th>\n",
              "      <th>polarity</th>\n",
              "    </tr>\n",
              "  </thead>\n",
              "  <tbody>\n",
              "    <tr>\n",
              "      <th>0</th>\n",
              "      <td>OPf0YbXqDm0</td>\n",
              "      <td>UgzFWowpNY0kUV5wkIR4AaABAg</td>\n",
              "      <td>I  love  how  Mark  for  99    of  the  song  ...</td>\n",
              "      <td>939</td>\n",
              "      <td>0.225000</td>\n",
              "    </tr>\n",
              "    <tr>\n",
              "      <th>1</th>\n",
              "      <td>OPf0YbXqDm0</td>\n",
              "      <td>UgzFKQENO11T0sPU8yh4AaABAg</td>\n",
              "      <td>This  masterpiece  still  feels  new  even  af...</td>\n",
              "      <td>282</td>\n",
              "      <td>0.136364</td>\n",
              "    </tr>\n",
              "    <tr>\n",
              "      <th>2</th>\n",
              "      <td>OPf0YbXqDm0</td>\n",
              "      <td>Ugx7H1hqEsM1GmlDORN4AaABAg</td>\n",
              "      <td>This  song  is  a  pure  masterpiece    and  i...</td>\n",
              "      <td>187</td>\n",
              "      <td>0.214286</td>\n",
              "    </tr>\n",
              "    <tr>\n",
              "      <th>3</th>\n",
              "      <td>OPf0YbXqDm0</td>\n",
              "      <td>Ugw_3WEC8Db9aqihda94AaABAg</td>\n",
              "      <td>It's  crazy  how  many  people  come  back  to...</td>\n",
              "      <td>250</td>\n",
              "      <td>0.140000</td>\n",
              "    </tr>\n",
              "    <tr>\n",
              "      <th>4</th>\n",
              "      <td>OPf0YbXqDm0</td>\n",
              "      <td>UgyTFRUpLawHdjiPGd14AaABAg</td>\n",
              "      <td>It's  awesome  how  old  songs  bring  us  tog...</td>\n",
              "      <td>210</td>\n",
              "      <td>0.550000</td>\n",
              "    </tr>\n",
              "  </tbody>\n",
              "</table>\n",
              "</div>"
            ],
            "text/plain": [
              "      Video ID                  Comment ID  ... Likes  polarity\n",
              "0  OPf0YbXqDm0  UgzFWowpNY0kUV5wkIR4AaABAg  ...   939  0.225000\n",
              "1  OPf0YbXqDm0  UgzFKQENO11T0sPU8yh4AaABAg  ...   282  0.136364\n",
              "2  OPf0YbXqDm0  Ugx7H1hqEsM1GmlDORN4AaABAg  ...   187  0.214286\n",
              "3  OPf0YbXqDm0  Ugw_3WEC8Db9aqihda94AaABAg  ...   250  0.140000\n",
              "4  OPf0YbXqDm0  UgyTFRUpLawHdjiPGd14AaABAg  ...   210  0.550000\n",
              "\n",
              "[5 rows x 5 columns]"
            ]
          },
          "metadata": {},
          "execution_count": 87
        }
      ]
    },
    {
      "cell_type": "markdown",
      "metadata": {
        "id": "aff7dlQffOQS"
      },
      "source": [
        "## Shuffle the dataset"
      ]
    },
    {
      "cell_type": "code",
      "metadata": {
        "trusted": true,
        "id": "fAvRRLZZfOQS"
      },
      "source": [
        "data = data.sample(frac=1).reset_index(drop=True)"
      ],
      "execution_count": 88,
      "outputs": []
    },
    {
      "cell_type": "code",
      "metadata": {
        "trusted": true,
        "id": "b3l65gBXfOQV"
      },
      "source": [
        "data['pol_cat']  = 0"
      ],
      "execution_count": 89,
      "outputs": []
    },
    {
      "cell_type": "markdown",
      "metadata": {
        "id": "5eApxikxfOQX"
      },
      "source": [
        "Continuous to categorical"
      ]
    },
    {
      "cell_type": "code",
      "metadata": {
        "trusted": true,
        "id": "FjSukaWYfOQY",
        "colab": {
          "base_uri": "https://localhost:8080/"
        },
        "outputId": "f3ce5d9d-0dfb-4db6-ee5c-8672a07cead5"
      },
      "source": [
        "data['pol_cat'][data.polarity > 0] = 1\n",
        "data['pol_cat'][data.polarity < 0] = 0\n",
        "data = data[data.polarity != 0]"
      ],
      "execution_count": 90,
      "outputs": [
        {
          "output_type": "stream",
          "name": "stderr",
          "text": [
            "/usr/local/lib/python3.7/dist-packages/ipykernel_launcher.py:1: SettingWithCopyWarning: \n",
            "A value is trying to be set on a copy of a slice from a DataFrame\n",
            "\n",
            "See the caveats in the documentation: https://pandas.pydata.org/pandas-docs/stable/user_guide/indexing.html#returning-a-view-versus-a-copy\n",
            "  \"\"\"Entry point for launching an IPython kernel.\n",
            "/usr/local/lib/python3.7/dist-packages/ipykernel_launcher.py:2: SettingWithCopyWarning: \n",
            "A value is trying to be set on a copy of a slice from a DataFrame\n",
            "\n",
            "See the caveats in the documentation: https://pandas.pydata.org/pandas-docs/stable/user_guide/indexing.html#returning-a-view-versus-a-copy\n",
            "  \n"
          ]
        }
      ]
    },
    {
      "cell_type": "code",
      "metadata": {
        "trusted": true,
        "id": "UqA764VKfOQh",
        "colab": {
          "base_uri": "https://localhost:8080/",
          "height": 221
        },
        "outputId": "d424ed91-04e4-41b5-a07c-0a5a0701c3ba"
      },
      "source": [
        "data.head()"
      ],
      "execution_count": 91,
      "outputs": [
        {
          "output_type": "execute_result",
          "data": {
            "text/html": [
              "<div>\n",
              "<style scoped>\n",
              "    .dataframe tbody tr th:only-of-type {\n",
              "        vertical-align: middle;\n",
              "    }\n",
              "\n",
              "    .dataframe tbody tr th {\n",
              "        vertical-align: top;\n",
              "    }\n",
              "\n",
              "    .dataframe thead th {\n",
              "        text-align: right;\n",
              "    }\n",
              "</style>\n",
              "<table border=\"1\" class=\"dataframe\">\n",
              "  <thead>\n",
              "    <tr style=\"text-align: right;\">\n",
              "      <th></th>\n",
              "      <th>Video ID</th>\n",
              "      <th>Comment ID</th>\n",
              "      <th>comments</th>\n",
              "      <th>Likes</th>\n",
              "      <th>polarity</th>\n",
              "      <th>pol_cat</th>\n",
              "    </tr>\n",
              "  </thead>\n",
              "  <tbody>\n",
              "    <tr>\n",
              "      <th>0</th>\n",
              "      <td>OPf0YbXqDm0</td>\n",
              "      <td>UgzqT4pCow3I1CmX9L94AaABAg</td>\n",
              "      <td>I  heard  this  song  when  it  first  came  o...</td>\n",
              "      <td>0</td>\n",
              "      <td>0.225</td>\n",
              "      <td>1</td>\n",
              "    </tr>\n",
              "    <tr>\n",
              "      <th>1</th>\n",
              "      <td>OPf0YbXqDm0</td>\n",
              "      <td>UgxrrhZJJtYojX17QFp4AaABAg</td>\n",
              "      <td>It's  NOVEMBER  let's  see  how  many  legends...</td>\n",
              "      <td>18</td>\n",
              "      <td>0.500</td>\n",
              "      <td>1</td>\n",
              "    </tr>\n",
              "    <tr>\n",
              "      <th>2</th>\n",
              "      <td>OPf0YbXqDm0</td>\n",
              "      <td>UgzkwVvj_apArv6Nd654AaABAg</td>\n",
              "      <td>Fantastically  Fantastic</td>\n",
              "      <td>0</td>\n",
              "      <td>0.400</td>\n",
              "      <td>1</td>\n",
              "    </tr>\n",
              "    <tr>\n",
              "      <th>3</th>\n",
              "      <td>OPf0YbXqDm0</td>\n",
              "      <td>UgwTARx1DXr-WdxlCz14AaABAg</td>\n",
              "      <td>The  first  song  that  I  listen  to</td>\n",
              "      <td>0</td>\n",
              "      <td>0.250</td>\n",
              "      <td>1</td>\n",
              "    </tr>\n",
              "    <tr>\n",
              "      <th>6</th>\n",
              "      <td>OPf0YbXqDm0</td>\n",
              "      <td>UgwyIer02WwKCQsGI414AaABAg</td>\n",
              "      <td>Wow  what  a  great  voice</td>\n",
              "      <td>0</td>\n",
              "      <td>0.450</td>\n",
              "      <td>1</td>\n",
              "    </tr>\n",
              "  </tbody>\n",
              "</table>\n",
              "</div>"
            ],
            "text/plain": [
              "      Video ID                  Comment ID  ... polarity  pol_cat\n",
              "0  OPf0YbXqDm0  UgzqT4pCow3I1CmX9L94AaABAg  ...    0.225        1\n",
              "1  OPf0YbXqDm0  UgxrrhZJJtYojX17QFp4AaABAg  ...    0.500        1\n",
              "2  OPf0YbXqDm0  UgzkwVvj_apArv6Nd654AaABAg  ...    0.400        1\n",
              "3  OPf0YbXqDm0  UgwTARx1DXr-WdxlCz14AaABAg  ...    0.250        1\n",
              "6  OPf0YbXqDm0  UgwyIer02WwKCQsGI414AaABAg  ...    0.450        1\n",
              "\n",
              "[5 rows x 6 columns]"
            ]
          },
          "metadata": {},
          "execution_count": 91
        }
      ]
    },
    {
      "cell_type": "code",
      "metadata": {
        "trusted": true,
        "id": "HjyjS1yqfOQx",
        "colab": {
          "base_uri": "https://localhost:8080/"
        },
        "outputId": "e243cbc4-bd4c-48a9-b375-4e339af5fb66"
      },
      "source": [
        "data['pol_cat'].value_counts()"
      ],
      "execution_count": 92,
      "outputs": [
        {
          "output_type": "execute_result",
          "data": {
            "text/plain": [
              "1    873\n",
              "0     84\n",
              "Name: pol_cat, dtype: int64"
            ]
          },
          "metadata": {},
          "execution_count": 92
        }
      ]
    },
    {
      "cell_type": "markdown",
      "metadata": {
        "id": "GUaFvHcLfOQ2"
      },
      "source": [
        "Create separate dataframes for Negative,Positive & Neutral comments "
      ]
    },
    {
      "cell_type": "code",
      "metadata": {
        "trusted": true,
        "id": "AFKmSBwcfOQ3"
      },
      "source": [
        "data_pos = data[data['pol_cat'] == 1]\n",
        "data_pos = data_pos.reset_index(drop = True)\n",
        "\n",
        "data_neg = data[data['pol_cat'] == 0]\n",
        "data_neg = data_neg.reset_index(drop = True)"
      ],
      "execution_count": 93,
      "outputs": []
    },
    {
      "cell_type": "code",
      "metadata": {
        "trusted": true,
        "id": "viYbRp2ifOQ-",
        "colab": {
          "base_uri": "https://localhost:8080/",
          "height": 221
        },
        "outputId": "2eb00062-702c-48be-c4b7-8a3a2b81ee1e"
      },
      "source": [
        "data_pos.head()"
      ],
      "execution_count": 94,
      "outputs": [
        {
          "output_type": "execute_result",
          "data": {
            "text/html": [
              "<div>\n",
              "<style scoped>\n",
              "    .dataframe tbody tr th:only-of-type {\n",
              "        vertical-align: middle;\n",
              "    }\n",
              "\n",
              "    .dataframe tbody tr th {\n",
              "        vertical-align: top;\n",
              "    }\n",
              "\n",
              "    .dataframe thead th {\n",
              "        text-align: right;\n",
              "    }\n",
              "</style>\n",
              "<table border=\"1\" class=\"dataframe\">\n",
              "  <thead>\n",
              "    <tr style=\"text-align: right;\">\n",
              "      <th></th>\n",
              "      <th>Video ID</th>\n",
              "      <th>Comment ID</th>\n",
              "      <th>comments</th>\n",
              "      <th>Likes</th>\n",
              "      <th>polarity</th>\n",
              "      <th>pol_cat</th>\n",
              "    </tr>\n",
              "  </thead>\n",
              "  <tbody>\n",
              "    <tr>\n",
              "      <th>0</th>\n",
              "      <td>OPf0YbXqDm0</td>\n",
              "      <td>UgzqT4pCow3I1CmX9L94AaABAg</td>\n",
              "      <td>I  heard  this  song  when  it  first  came  o...</td>\n",
              "      <td>0</td>\n",
              "      <td>0.225</td>\n",
              "      <td>1</td>\n",
              "    </tr>\n",
              "    <tr>\n",
              "      <th>1</th>\n",
              "      <td>OPf0YbXqDm0</td>\n",
              "      <td>UgxrrhZJJtYojX17QFp4AaABAg</td>\n",
              "      <td>It's  NOVEMBER  let's  see  how  many  legends...</td>\n",
              "      <td>18</td>\n",
              "      <td>0.500</td>\n",
              "      <td>1</td>\n",
              "    </tr>\n",
              "    <tr>\n",
              "      <th>2</th>\n",
              "      <td>OPf0YbXqDm0</td>\n",
              "      <td>UgzkwVvj_apArv6Nd654AaABAg</td>\n",
              "      <td>Fantastically  Fantastic</td>\n",
              "      <td>0</td>\n",
              "      <td>0.400</td>\n",
              "      <td>1</td>\n",
              "    </tr>\n",
              "    <tr>\n",
              "      <th>3</th>\n",
              "      <td>OPf0YbXqDm0</td>\n",
              "      <td>UgwTARx1DXr-WdxlCz14AaABAg</td>\n",
              "      <td>The  first  song  that  I  listen  to</td>\n",
              "      <td>0</td>\n",
              "      <td>0.250</td>\n",
              "      <td>1</td>\n",
              "    </tr>\n",
              "    <tr>\n",
              "      <th>4</th>\n",
              "      <td>OPf0YbXqDm0</td>\n",
              "      <td>UgwyIer02WwKCQsGI414AaABAg</td>\n",
              "      <td>Wow  what  a  great  voice</td>\n",
              "      <td>0</td>\n",
              "      <td>0.450</td>\n",
              "      <td>1</td>\n",
              "    </tr>\n",
              "  </tbody>\n",
              "</table>\n",
              "</div>"
            ],
            "text/plain": [
              "      Video ID                  Comment ID  ... polarity  pol_cat\n",
              "0  OPf0YbXqDm0  UgzqT4pCow3I1CmX9L94AaABAg  ...    0.225        1\n",
              "1  OPf0YbXqDm0  UgxrrhZJJtYojX17QFp4AaABAg  ...    0.500        1\n",
              "2  OPf0YbXqDm0  UgzkwVvj_apArv6Nd654AaABAg  ...    0.400        1\n",
              "3  OPf0YbXqDm0  UgwTARx1DXr-WdxlCz14AaABAg  ...    0.250        1\n",
              "4  OPf0YbXqDm0  UgwyIer02WwKCQsGI414AaABAg  ...    0.450        1\n",
              "\n",
              "[5 rows x 6 columns]"
            ]
          },
          "metadata": {},
          "execution_count": 94
        }
      ]
    },
    {
      "cell_type": "code",
      "metadata": {
        "trusted": true,
        "id": "LMQlLiuhfORF",
        "colab": {
          "base_uri": "https://localhost:8080/"
        },
        "outputId": "70d4e2a5-a57d-4f3b-a2c0-e022251cda4c"
      },
      "source": [
        "data_pos.shape"
      ],
      "execution_count": 95,
      "outputs": [
        {
          "output_type": "execute_result",
          "data": {
            "text/plain": [
              "(873, 6)"
            ]
          },
          "metadata": {},
          "execution_count": 95
        }
      ]
    },
    {
      "cell_type": "code",
      "metadata": {
        "trusted": true,
        "id": "uEpv5BBDfORJ",
        "colab": {
          "base_uri": "https://localhost:8080/",
          "height": 204
        },
        "outputId": "649de93f-b48d-4801-cc8a-b9b8726777d8"
      },
      "source": [
        "data_neg.head()"
      ],
      "execution_count": 96,
      "outputs": [
        {
          "output_type": "execute_result",
          "data": {
            "text/html": [
              "<div>\n",
              "<style scoped>\n",
              "    .dataframe tbody tr th:only-of-type {\n",
              "        vertical-align: middle;\n",
              "    }\n",
              "\n",
              "    .dataframe tbody tr th {\n",
              "        vertical-align: top;\n",
              "    }\n",
              "\n",
              "    .dataframe thead th {\n",
              "        text-align: right;\n",
              "    }\n",
              "</style>\n",
              "<table border=\"1\" class=\"dataframe\">\n",
              "  <thead>\n",
              "    <tr style=\"text-align: right;\">\n",
              "      <th></th>\n",
              "      <th>Video ID</th>\n",
              "      <th>Comment ID</th>\n",
              "      <th>comments</th>\n",
              "      <th>Likes</th>\n",
              "      <th>polarity</th>\n",
              "      <th>pol_cat</th>\n",
              "    </tr>\n",
              "  </thead>\n",
              "  <tbody>\n",
              "    <tr>\n",
              "      <th>0</th>\n",
              "      <td>OPf0YbXqDm0</td>\n",
              "      <td>Ugyc9baCslnB0WcZhO94AaABAg</td>\n",
              "      <td>Mark      So  there's  this  song  I  needed  ...</td>\n",
              "      <td>720</td>\n",
              "      <td>-0.250</td>\n",
              "      <td>0</td>\n",
              "    </tr>\n",
              "    <tr>\n",
              "      <th>1</th>\n",
              "      <td>OPf0YbXqDm0</td>\n",
              "      <td>UgyTKOkSuzi-tqGbMi94AaABAg</td>\n",
              "      <td>I  can't  imagine  how  nostalgic  this  would...</td>\n",
              "      <td>908</td>\n",
              "      <td>-0.500</td>\n",
              "      <td>0</td>\n",
              "    </tr>\n",
              "    <tr>\n",
              "      <th>2</th>\n",
              "      <td>OPf0YbXqDm0</td>\n",
              "      <td>Ugx1xnr5N05K6iCqOIF4AaABAg</td>\n",
              "      <td>My  2  year  son  watch  this  song  about  10...</td>\n",
              "      <td>89</td>\n",
              "      <td>-0.300</td>\n",
              "      <td>0</td>\n",
              "    </tr>\n",
              "    <tr>\n",
              "      <th>3</th>\n",
              "      <td>OPf0YbXqDm0</td>\n",
              "      <td>Ugxwpxmwvg3dRv-QMXp4AaABAg</td>\n",
              "      <td>Fun  song  normally    drunk  it's  an  experi...</td>\n",
              "      <td>0</td>\n",
              "      <td>-0.100</td>\n",
              "      <td>0</td>\n",
              "    </tr>\n",
              "    <tr>\n",
              "      <th>4</th>\n",
              "      <td>OPf0YbXqDm0</td>\n",
              "      <td>Ugxm1xCxDOc-_YhQLfJ4AaABAg</td>\n",
              "      <td>It's  crazy  how  many  people  come  back  to...</td>\n",
              "      <td>100</td>\n",
              "      <td>-0.075</td>\n",
              "      <td>0</td>\n",
              "    </tr>\n",
              "  </tbody>\n",
              "</table>\n",
              "</div>"
            ],
            "text/plain": [
              "      Video ID                  Comment ID  ... polarity  pol_cat\n",
              "0  OPf0YbXqDm0  Ugyc9baCslnB0WcZhO94AaABAg  ...   -0.250        0\n",
              "1  OPf0YbXqDm0  UgyTKOkSuzi-tqGbMi94AaABAg  ...   -0.500        0\n",
              "2  OPf0YbXqDm0  Ugx1xnr5N05K6iCqOIF4AaABAg  ...   -0.300        0\n",
              "3  OPf0YbXqDm0  Ugxwpxmwvg3dRv-QMXp4AaABAg  ...   -0.100        0\n",
              "4  OPf0YbXqDm0  Ugxm1xCxDOc-_YhQLfJ4AaABAg  ...   -0.075        0\n",
              "\n",
              "[5 rows x 6 columns]"
            ]
          },
          "metadata": {},
          "execution_count": 96
        }
      ]
    },
    {
      "cell_type": "code",
      "metadata": {
        "trusted": true,
        "id": "Zv_eLUh8fORS",
        "colab": {
          "base_uri": "https://localhost:8080/",
          "height": 35
        },
        "outputId": "f33d7133-09af-4bca-a2d1-5c2712c23d0a"
      },
      "source": [
        "data_neg['comments'][1]"
      ],
      "execution_count": 97,
      "outputs": [
        {
          "output_type": "execute_result",
          "data": {
            "application/vnd.google.colaboratory.intrinsic+json": {
              "type": "string"
            },
            "text/plain": [
              "\"I  can't  imagine  how  nostalgic  this  would  be  in  20  years        \""
            ]
          },
          "metadata": {},
          "execution_count": 97
        }
      ]
    },
    {
      "cell_type": "code",
      "metadata": {
        "trusted": true,
        "id": "-Js16up1fORW",
        "colab": {
          "base_uri": "https://localhost:8080/",
          "height": 313
        },
        "outputId": "29aeff0d-28e6-4244-d368-96b36bbf54b9"
      },
      "source": [
        "data.pol_cat.value_counts().plot.bar()\n",
        "data.pol_cat.value_counts()"
      ],
      "execution_count": 98,
      "outputs": [
        {
          "output_type": "execute_result",
          "data": {
            "text/plain": [
              "1    873\n",
              "0     84\n",
              "Name: pol_cat, dtype: int64"
            ]
          },
          "metadata": {},
          "execution_count": 98
        },
        {
          "output_type": "display_data",
          "data": {
            "image/png": "[encoded data removed]",
            "text/plain": [
              "<Figure size 432x288 with 1 Axes>"
            ]
          },
          "metadata": {
            "needs_background": "light"
          }
        }
      ]
    },
    {
      "cell_type": "markdown",
      "metadata": {
        "id": "uPIRm-0gfORj"
      },
      "source": [
        "## Data Preprocessing"
      ]
    },
    {
      "cell_type": "markdown",
      "metadata": {
        "id": "ADfF9AAZfORk"
      },
      "source": [
        "Lower the text in comments"
      ]
    },
    {
      "cell_type": "code",
      "metadata": {
        "trusted": true,
        "id": "zcUC0pIFfORl"
      },
      "source": [
        "data['comments'] = data['comments'].str.lower()"
      ],
      "execution_count": 99,
      "outputs": []
    },
    {
      "cell_type": "code",
      "metadata": {
        "trusted": true,
        "id": "X14Mvov6fORr",
        "colab": {
          "base_uri": "https://localhost:8080/"
        },
        "outputId": "1b19dd12-1409-487e-c7f7-c18efcbfffb0"
      },
      "source": [
        "data['comments'].head()"
      ],
      "execution_count": 100,
      "outputs": [
        {
          "output_type": "execute_result",
          "data": {
            "text/plain": [
              "0    i  heard  this  song  when  it  first  came  o...\n",
              "1    it's  november  let's  see  how  many  legends...\n",
              "2                         fantastically  fantastic    \n",
              "3              the  first  song  that  i  listen  to  \n",
              "6                         wow  what  a  great  voice  \n",
              "Name: comments, dtype: object"
            ]
          },
          "metadata": {},
          "execution_count": 100
        }
      ]
    },
    {
      "cell_type": "code",
      "metadata": {
        "trusted": true,
        "id": "5yFhcEwffORz",
        "colab": {
          "base_uri": "https://localhost:8080/",
          "height": 297
        },
        "outputId": "def6adb9-ef81-4311-9160-dfac56e59f76"
      },
      "source": [
        "data.describe()"
      ],
      "execution_count": 101,
      "outputs": [
        {
          "output_type": "execute_result",
          "data": {
            "text/html": [
              "<div>\n",
              "<style scoped>\n",
              "    .dataframe tbody tr th:only-of-type {\n",
              "        vertical-align: middle;\n",
              "    }\n",
              "\n",
              "    .dataframe tbody tr th {\n",
              "        vertical-align: top;\n",
              "    }\n",
              "\n",
              "    .dataframe thead th {\n",
              "        text-align: right;\n",
              "    }\n",
              "</style>\n",
              "<table border=\"1\" class=\"dataframe\">\n",
              "  <thead>\n",
              "    <tr style=\"text-align: right;\">\n",
              "      <th></th>\n",
              "      <th>Likes</th>\n",
              "      <th>polarity</th>\n",
              "      <th>pol_cat</th>\n",
              "    </tr>\n",
              "  </thead>\n",
              "  <tbody>\n",
              "    <tr>\n",
              "      <th>count</th>\n",
              "      <td>957.000000</td>\n",
              "      <td>957.000000</td>\n",
              "      <td>957.000000</td>\n",
              "    </tr>\n",
              "    <tr>\n",
              "      <th>mean</th>\n",
              "      <td>288.482759</td>\n",
              "      <td>0.344692</td>\n",
              "      <td>0.912226</td>\n",
              "    </tr>\n",
              "    <tr>\n",
              "      <th>std</th>\n",
              "      <td>1987.888014</td>\n",
              "      <td>0.336256</td>\n",
              "      <td>0.283114</td>\n",
              "    </tr>\n",
              "    <tr>\n",
              "      <th>min</th>\n",
              "      <td>0.000000</td>\n",
              "      <td>-1.000000</td>\n",
              "      <td>0.000000</td>\n",
              "    </tr>\n",
              "    <tr>\n",
              "      <th>25%</th>\n",
              "      <td>0.000000</td>\n",
              "      <td>0.140000</td>\n",
              "      <td>1.000000</td>\n",
              "    </tr>\n",
              "    <tr>\n",
              "      <th>50%</th>\n",
              "      <td>2.000000</td>\n",
              "      <td>0.350000</td>\n",
              "      <td>1.000000</td>\n",
              "    </tr>\n",
              "    <tr>\n",
              "      <th>75%</th>\n",
              "      <td>72.000000</td>\n",
              "      <td>0.500000</td>\n",
              "      <td>1.000000</td>\n",
              "    </tr>\n",
              "    <tr>\n",
              "      <th>max</th>\n",
              "      <td>41453.000000</td>\n",
              "      <td>1.000000</td>\n",
              "      <td>1.000000</td>\n",
              "    </tr>\n",
              "  </tbody>\n",
              "</table>\n",
              "</div>"
            ],
            "text/plain": [
              "              Likes    polarity     pol_cat\n",
              "count    957.000000  957.000000  957.000000\n",
              "mean     288.482759    0.344692    0.912226\n",
              "std     1987.888014    0.336256    0.283114\n",
              "min        0.000000   -1.000000    0.000000\n",
              "25%        0.000000    0.140000    1.000000\n",
              "50%        2.000000    0.350000    1.000000\n",
              "75%       72.000000    0.500000    1.000000\n",
              "max    41453.000000    1.000000    1.000000"
            ]
          },
          "metadata": {},
          "execution_count": 101
        }
      ]
    },
    {
      "cell_type": "code",
      "metadata": {
        "trusted": true,
        "id": "km6dIMhWfOR5",
        "colab": {
          "base_uri": "https://localhost:8080/"
        },
        "outputId": "f286ba98-947e-4d08-e5c3-7da0c9fe555a"
      },
      "source": [
        "data.info()"
      ],
      "execution_count": 102,
      "outputs": [
        {
          "output_type": "stream",
          "name": "stdout",
          "text": [
            "<class 'pandas.core.frame.DataFrame'>\n",
            "Int64Index: 957 entries, 0 to 1351\n",
            "Data columns (total 6 columns):\n",
            " #   Column      Non-Null Count  Dtype  \n",
            "---  ------      --------------  -----  \n",
            " 0   Video ID    957 non-null    object \n",
            " 1   Comment ID  957 non-null    object \n",
            " 2   comments    957 non-null    object \n",
            " 3   Likes       957 non-null    int64  \n",
            " 4   polarity    957 non-null    float64\n",
            " 5   pol_cat     957 non-null    int64  \n",
            "dtypes: float64(1), int64(2), object(3)\n",
            "memory usage: 52.3+ KB\n"
          ]
        }
      ]
    },
    {
      "cell_type": "code",
      "metadata": {
        "trusted": true,
        "id": "avjaCC79fOSE",
        "colab": {
          "base_uri": "https://localhost:8080/",
          "height": 52
        },
        "outputId": "deeff075-fdaa-4401-dfd2-50996b058dde"
      },
      "source": [
        "data['comments'][0]"
      ],
      "execution_count": 103,
      "outputs": [
        {
          "output_type": "execute_result",
          "data": {
            "application/vnd.google.colaboratory.intrinsic+json": {
              "type": "string"
            },
            "text/plain": [
              "\"i  heard  this  song  when  it  first  came  out  in  2014    now  i'm  16    it  brings  so  much  nostalgia  \""
            ]
          },
          "metadata": {},
          "execution_count": 103
        }
      ]
    },
    {
      "cell_type": "code",
      "metadata": {
        "trusted": true,
        "id": "V4zfsTUifOSO",
        "colab": {
          "base_uri": "https://localhost:8080/",
          "height": 52
        },
        "outputId": "bff155f4-2540-4603-d75e-3e261903e9a5"
      },
      "source": [
        "data['comments'][0].strip()"
      ],
      "execution_count": 104,
      "outputs": [
        {
          "output_type": "execute_result",
          "data": {
            "application/vnd.google.colaboratory.intrinsic+json": {
              "type": "string"
            },
            "text/plain": [
              "\"i  heard  this  song  when  it  first  came  out  in  2014    now  i'm  16    it  brings  so  much  nostalgia\""
            ]
          },
          "metadata": {},
          "execution_count": 104
        }
      ]
    },
    {
      "cell_type": "code",
      "metadata": {
        "id": "pVxZ8KK_vbm4",
        "colab": {
          "base_uri": "https://localhost:8080/"
        },
        "outputId": "0f349baa-fefb-43c6-dde9-d027df12500f"
      },
      "source": [
        "import nltk\n",
        "nltk.download(\"stopwords\")"
      ],
      "execution_count": 105,
      "outputs": [
        {
          "output_type": "stream",
          "name": "stdout",
          "text": [
            "[nltk_data] Downloading package stopwords to /root/nltk_data...\n",
            "[nltk_data]   Package stopwords is already up-to-date!\n"
          ]
        },
        {
          "output_type": "execute_result",
          "data": {
            "text/plain": [
              "True"
            ]
          },
          "metadata": {},
          "execution_count": 105
        }
      ]
    },
    {
      "cell_type": "code",
      "metadata": {
        "id": "ugZWXdNOyBKq",
        "colab": {
          "base_uri": "https://localhost:8080/"
        },
        "outputId": "9ccf61f8-f465-43f9-bd68-43a6f4e55880"
      },
      "source": [
        "nltk.download(\"punkt\")"
      ],
      "execution_count": 106,
      "outputs": [
        {
          "output_type": "stream",
          "name": "stdout",
          "text": [
            "[nltk_data] Downloading package punkt to /root/nltk_data...\n",
            "[nltk_data]   Package punkt is already up-to-date!\n"
          ]
        },
        {
          "output_type": "execute_result",
          "data": {
            "text/plain": [
              "True"
            ]
          },
          "metadata": {},
          "execution_count": 106
        }
      ]
    },
    {
      "cell_type": "code",
      "metadata": {
        "trusted": true,
        "id": "fC4ig8cyfOSa"
      },
      "source": [
        "from nltk.corpus import stopwords\n",
        "from nltk import word_tokenize\n",
        "import string\n",
        "import re\n",
        "import nltk"
      ],
      "execution_count": 107,
      "outputs": []
    },
    {
      "cell_type": "code",
      "metadata": {
        "id": "FdcsbqXTvYLB",
        "colab": {
          "base_uri": "https://localhost:8080/"
        },
        "outputId": "a821e521-48db-4763-b216-5156a2af545f"
      },
      "source": [
        "print(stopwords.words('english'))"
      ],
      "execution_count": 108,
      "outputs": [
        {
          "output_type": "stream",
          "name": "stdout",
          "text": [
            "['i', 'me', 'my', 'myself', 'we', 'our', 'ours', 'ourselves', 'you', \"you're\", \"you've\", \"you'll\", \"you'd\", 'your', 'yours', 'yourself', 'yourselves', 'he', 'him', 'his', 'himself', 'she', \"she's\", 'her', 'hers', 'herself', 'it', \"it's\", 'its', 'itself', 'they', 'them', 'their', 'theirs', 'themselves', 'what', 'which', 'who', 'whom', 'this', 'that', \"that'll\", 'these', 'those', 'am', 'is', 'are', 'was', 'were', 'be', 'been', 'being', 'have', 'has', 'had', 'having', 'do', 'does', 'did', 'doing', 'a', 'an', 'the', 'and', 'but', 'if', 'or', 'because', 'as', 'until', 'while', 'of', 'at', 'by', 'for', 'with', 'about', 'against', 'between', 'into', 'through', 'during', 'before', 'after', 'above', 'below', 'to', 'from', 'up', 'down', 'in', 'out', 'on', 'off', 'over', 'under', 'again', 'further', 'then', 'once', 'here', 'there', 'when', 'where', 'why', 'how', 'all', 'any', 'both', 'each', 'few', 'more', 'most', 'other', 'some', 'such', 'no', 'nor', 'not', 'only', 'own', 'same', 'so', 'than', 'too', 'very', 's', 't', 'can', 'will', 'just', 'don', \"don't\", 'should', \"should've\", 'now', 'd', 'll', 'm', 'o', 're', 've', 'y', 'ain', 'aren', \"aren't\", 'couldn', \"couldn't\", 'didn', \"didn't\", 'doesn', \"doesn't\", 'hadn', \"hadn't\", 'hasn', \"hasn't\", 'haven', \"haven't\", 'isn', \"isn't\", 'ma', 'mightn', \"mightn't\", 'mustn', \"mustn't\", 'needn', \"needn't\", 'shan', \"shan't\", 'shouldn', \"shouldn't\", 'wasn', \"wasn't\", 'weren', \"weren't\", 'won', \"won't\", 'wouldn', \"wouldn't\"]\n"
          ]
        }
      ]
    },
    {
      "cell_type": "code",
      "metadata": {
        "trusted": true,
        "id": "pYrDplBYfOSc"
      },
      "source": [
        "stop_words = set(stopwords.words('english'))"
      ],
      "execution_count": 109,
      "outputs": []
    },
    {
      "cell_type": "code",
      "metadata": {
        "trusted": true,
        "id": "k-kxFfPlfOSe"
      },
      "source": [
        "data['comments'] = data['comments'].str.strip()"
      ],
      "execution_count": 110,
      "outputs": []
    },
    {
      "cell_type": "code",
      "metadata": {
        "trusted": true,
        "id": "QOJwKjV5fOSh"
      },
      "source": [
        "train = data.copy()"
      ],
      "execution_count": 111,
      "outputs": []
    },
    {
      "cell_type": "code",
      "metadata": {
        "trusted": true,
        "id": "QFxxu3HLfOSn"
      },
      "source": [
        "train['comments'] = train['comments'].str.strip()"
      ],
      "execution_count": 112,
      "outputs": []
    },
    {
      "cell_type": "code",
      "metadata": {
        "trusted": true,
        "id": "MEYK2fHjfOSq",
        "colab": {
          "base_uri": "https://localhost:8080/",
          "height": 52
        },
        "outputId": "98dfe845-a7df-4e53-aafe-e19f8069e088"
      },
      "source": [
        "train['comments'][0]"
      ],
      "execution_count": 113,
      "outputs": [
        {
          "output_type": "execute_result",
          "data": {
            "application/vnd.google.colaboratory.intrinsic+json": {
              "type": "string"
            },
            "text/plain": [
              "\"i  heard  this  song  when  it  first  came  out  in  2014    now  i'm  16    it  brings  so  much  nostalgia\""
            ]
          },
          "metadata": {},
          "execution_count": 113
        }
      ]
    },
    {
      "cell_type": "code",
      "metadata": {
        "trusted": true,
        "id": "7dutEBJ9fOSt"
      },
      "source": [
        "def remove_stopwords(line):\n",
        "    word_tokens = word_tokenize(line)\n",
        "    filtered_sentence = [w for w in word_tokens if not w in stop_words]\n",
        "    return \" \".join(filtered_sentence)"
      ],
      "execution_count": 114,
      "outputs": []
    },
    {
      "cell_type": "code",
      "metadata": {
        "trusted": true,
        "id": "N6_eOPkLfOSy"
      },
      "source": [
        "data['stop_comments'] = data['comments'].apply(lambda x : remove_stopwords(x))"
      ],
      "execution_count": 115,
      "outputs": []
    },
    {
      "cell_type": "code",
      "metadata": {
        "trusted": true,
        "id": "ecShTkF6fOS3",
        "colab": {
          "base_uri": "https://localhost:8080/",
          "height": 323
        },
        "outputId": "52cb9a6c-68ab-47a8-eab4-1abdd56a6b0b"
      },
      "source": [
        "data.head()"
      ],
      "execution_count": 116,
      "outputs": [
        {
          "output_type": "execute_result",
          "data": {
            "text/html": [
              "<div>\n",
              "<style scoped>\n",
              "    .dataframe tbody tr th:only-of-type {\n",
              "        vertical-align: middle;\n",
              "    }\n",
              "\n",
              "    .dataframe tbody tr th {\n",
              "        vertical-align: top;\n",
              "    }\n",
              "\n",
              "    .dataframe thead th {\n",
              "        text-align: right;\n",
              "    }\n",
              "</style>\n",
              "<table border=\"1\" class=\"dataframe\">\n",
              "  <thead>\n",
              "    <tr style=\"text-align: right;\">\n",
              "      <th></th>\n",
              "      <th>Video ID</th>\n",
              "      <th>Comment ID</th>\n",
              "      <th>comments</th>\n",
              "      <th>Likes</th>\n",
              "      <th>polarity</th>\n",
              "      <th>pol_cat</th>\n",
              "      <th>stop_comments</th>\n",
              "    </tr>\n",
              "  </thead>\n",
              "  <tbody>\n",
              "    <tr>\n",
              "      <th>0</th>\n",
              "      <td>OPf0YbXqDm0</td>\n",
              "      <td>UgzqT4pCow3I1CmX9L94AaABAg</td>\n",
              "      <td>i  heard  this  song  when  it  first  came  o...</td>\n",
              "      <td>0</td>\n",
              "      <td>0.225</td>\n",
              "      <td>1</td>\n",
              "      <td>heard song first came 2014 'm 16 brings much n...</td>\n",
              "    </tr>\n",
              "    <tr>\n",
              "      <th>1</th>\n",
              "      <td>OPf0YbXqDm0</td>\n",
              "      <td>UgxrrhZJJtYojX17QFp4AaABAg</td>\n",
              "      <td>it's  november  let's  see  how  many  legends...</td>\n",
              "      <td>18</td>\n",
              "      <td>0.500</td>\n",
              "      <td>1</td>\n",
              "      <td>'s november let 's see many legends still list...</td>\n",
              "    </tr>\n",
              "    <tr>\n",
              "      <th>2</th>\n",
              "      <td>OPf0YbXqDm0</td>\n",
              "      <td>UgzkwVvj_apArv6Nd654AaABAg</td>\n",
              "      <td>fantastically  fantastic</td>\n",
              "      <td>0</td>\n",
              "      <td>0.400</td>\n",
              "      <td>1</td>\n",
              "      <td>fantastically fantastic</td>\n",
              "    </tr>\n",
              "    <tr>\n",
              "      <th>3</th>\n",
              "      <td>OPf0YbXqDm0</td>\n",
              "      <td>UgwTARx1DXr-WdxlCz14AaABAg</td>\n",
              "      <td>the  first  song  that  i  listen  to</td>\n",
              "      <td>0</td>\n",
              "      <td>0.250</td>\n",
              "      <td>1</td>\n",
              "      <td>first song listen</td>\n",
              "    </tr>\n",
              "    <tr>\n",
              "      <th>6</th>\n",
              "      <td>OPf0YbXqDm0</td>\n",
              "      <td>UgwyIer02WwKCQsGI414AaABAg</td>\n",
              "      <td>wow  what  a  great  voice</td>\n",
              "      <td>0</td>\n",
              "      <td>0.450</td>\n",
              "      <td>1</td>\n",
              "      <td>wow great voice</td>\n",
              "    </tr>\n",
              "  </tbody>\n",
              "</table>\n",
              "</div>"
            ],
            "text/plain": [
              "      Video ID  ...                                      stop_comments\n",
              "0  OPf0YbXqDm0  ...  heard song first came 2014 'm 16 brings much n...\n",
              "1  OPf0YbXqDm0  ...  's november let 's see many legends still list...\n",
              "2  OPf0YbXqDm0  ...                            fantastically fantastic\n",
              "3  OPf0YbXqDm0  ...                                  first song listen\n",
              "6  OPf0YbXqDm0  ...                                    wow great voice\n",
              "\n",
              "[5 rows x 7 columns]"
            ]
          },
          "metadata": {},
          "execution_count": 116
        }
      ]
    },
    {
      "cell_type": "code",
      "metadata": {
        "id": "huA-d5gjiIpc"
      },
      "source": [
        "data.to_csv('Dataset-with-sentiments.csv', index = False)"
      ],
      "execution_count": 117,
      "outputs": []
    },
    {
      "cell_type": "code",
      "metadata": {
        "id": "NIR0sRJ6RBQZ"
      },
      "source": [
        ""
      ],
      "execution_count": 117,
      "outputs": []
    }
  ]
}