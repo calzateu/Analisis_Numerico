{
  "nbformat": 4,
  "nbformat_minor": 0,
  "metadata": {
    "kernelspec": {
      "language": "python",
      "display_name": "Python 3",
      "name": "python3"
    },
    "language_info": {
      "pygments_lexer": "ipython3",
      "nbconvert_exporter": "python",
      "version": "3.6.4",
      "file_extension": ".py",
      "codemirror_mode": {
        "name": "ipython",
        "version": 3
      },
      "name": "python",
      "mimetype": "text/x-python"
    },
    "colab": {
      "name": "Sentiment_YouTube.ipynb",
      "provenance": [],
      "collapsed_sections": []
    }
  },
  "cells": [
    {
      "cell_type": "code",
      "metadata": {
        "id": "2e_qzhUj0q6v",
        "colab": {
          "base_uri": "https://localhost:8080/"
        },
        "outputId": "4d314cb0-3eec-4a2d-e102-3f4b68eec70d"
      },
      "source": [
        "pip install -U scikit-learn"
      ],
      "execution_count": 213,
      "outputs": [
        {
          "output_type": "stream",
          "name": "stdout",
          "text": [
            "Requirement already satisfied: scikit-learn in /usr/local/lib/python3.7/dist-packages (1.0.1)\n",
            "Requirement already satisfied: joblib>=0.11 in /usr/local/lib/python3.7/dist-packages (from scikit-learn) (1.1.0)\n",
            "Requirement already satisfied: numpy>=1.14.6 in /usr/local/lib/python3.7/dist-packages (from scikit-learn) (1.19.5)\n",
            "Requirement already satisfied: scipy>=1.1.0 in /usr/local/lib/python3.7/dist-packages (from scikit-learn) (1.4.1)\n",
            "Requirement already satisfied: threadpoolctl>=2.0.0 in /usr/local/lib/python3.7/dist-packages (from scikit-learn) (3.0.0)\n"
          ]
        }
      ]
    },
    {
      "cell_type": "code",
      "metadata": {
        "_uuid": "8f2839f25d086af736a60e9eeb907d3b93b6e0e5",
        "_cell_guid": "b1076dfc-b9ad-4769-8c92-a6c4dae69d19",
        "trusted": true,
        "id": "Os2Zzeq1fOPk"
      },
      "source": [
        "import numpy as np # linear algebra\n",
        "import pandas as pd # data processing, CSV file I/O (e.g. pd.read_csv)\n",
        "import os\n",
        "import scipy"
      ],
      "execution_count": 214,
      "outputs": []
    },
    {
      "cell_type": "code",
      "metadata": {
        "trusted": true,
        "id": "fgJSTJ_3fOPq"
      },
      "source": [
        "from textblob import TextBlob\n",
        "from sklearn import metrics\n",
        "from mlxtend.plotting import plot_confusion_matrix"
      ],
      "execution_count": 215,
      "outputs": []
    },
    {
      "cell_type": "code",
      "metadata": {
        "id": "u6HBiCN5jz0Z",
        "colab": {
          "base_uri": "https://localhost:8080/"
        },
        "outputId": "91869e17-488d-4767-8309-5db5a50e61e1"
      },
      "source": [
        "ls"
      ],
      "execution_count": 216,
      "outputs": [
        {
          "output_type": "stream",
          "name": "stdout",
          "text": [
            "Dataset.csv  Dataset-with-sentiments.csv  \u001b[0m\u001b[01;34msample_data\u001b[0m/\n"
          ]
        }
      ]
    },
    {
      "cell_type": "code",
      "metadata": {
        "trusted": true,
        "id": "7UzPRyFrfOPy"
      },
      "source": [
        "data = pd.read_csv(\"Dataset.csv\")"
      ],
      "execution_count": 217,
      "outputs": []
    },
    {
      "cell_type": "code",
      "metadata": {
        "trusted": true,
        "id": "8oQ_G11BfOP2",
        "colab": {
          "base_uri": "https://localhost:8080/",
          "height": 204
        },
        "outputId": "95822de7-4e0e-42ef-f40c-e518f7664ceb"
      },
      "source": [
        "data.head()"
      ],
      "execution_count": 218,
      "outputs": [
        {
          "output_type": "execute_result",
          "data": {
            "text/html": [
              "<div>\n",
              "<style scoped>\n",
              "    .dataframe tbody tr th:only-of-type {\n",
              "        vertical-align: middle;\n",
              "    }\n",
              "\n",
              "    .dataframe tbody tr th {\n",
              "        vertical-align: top;\n",
              "    }\n",
              "\n",
              "    .dataframe thead th {\n",
              "        text-align: right;\n",
              "    }\n",
              "</style>\n",
              "<table border=\"1\" class=\"dataframe\">\n",
              "  <thead>\n",
              "    <tr style=\"text-align: right;\">\n",
              "      <th></th>\n",
              "      <th>Video ID</th>\n",
              "      <th>Comment ID</th>\n",
              "      <th>comments</th>\n",
              "      <th>Likes</th>\n",
              "    </tr>\n",
              "  </thead>\n",
              "  <tbody>\n",
              "    <tr>\n",
              "      <th>0</th>\n",
              "      <td>Jkj36B1YuDU</td>\n",
              "      <td>Ugzw2beVeZqddzqNvL54AaABAg</td>\n",
              "      <td>Have  you  found  your  love</td>\n",
              "      <td>36784</td>\n",
              "    </tr>\n",
              "    <tr>\n",
              "      <th>1</th>\n",
              "      <td>Jkj36B1YuDU</td>\n",
              "      <td>Ugz_Wy-18rH_Nu4QHZZ4AaABAg</td>\n",
              "      <td>It's      th  November    let's  see  how  m...</td>\n",
              "      <td>677</td>\n",
              "    </tr>\n",
              "    <tr>\n",
              "      <th>2</th>\n",
              "      <td>Jkj36B1YuDU</td>\n",
              "      <td>UgzFl7VdxMJsktBLDst4AaABAg</td>\n",
              "      <td>It's    th  November    let's  see  how  man...</td>\n",
              "      <td>1033</td>\n",
              "    </tr>\n",
              "    <tr>\n",
              "      <th>3</th>\n",
              "      <td>Jkj36B1YuDU</td>\n",
              "      <td>UgwG5dj5E_aot-1jMkB4AaABAg</td>\n",
              "      <td>It's      th  October  let's  see  how  many...</td>\n",
              "      <td>2359</td>\n",
              "    </tr>\n",
              "    <tr>\n",
              "      <th>4</th>\n",
              "      <td>Jkj36B1YuDU</td>\n",
              "      <td>UgyG7pKSxF44WOrQ7aV4AaABAg</td>\n",
              "      <td>promise  me  this  is  forever        I  pro...</td>\n",
              "      <td>299</td>\n",
              "    </tr>\n",
              "  </tbody>\n",
              "</table>\n",
              "</div>"
            ],
            "text/plain": [
              "      Video ID  ...  Likes\n",
              "0  Jkj36B1YuDU  ...  36784\n",
              "1  Jkj36B1YuDU  ...    677\n",
              "2  Jkj36B1YuDU  ...   1033\n",
              "3  Jkj36B1YuDU  ...   2359\n",
              "4  Jkj36B1YuDU  ...    299\n",
              "\n",
              "[5 rows x 4 columns]"
            ]
          },
          "metadata": {},
          "execution_count": 218
        }
      ]
    },
    {
      "cell_type": "code",
      "metadata": {
        "trusted": true,
        "id": "yAKqx7vafOP6",
        "colab": {
          "base_uri": "https://localhost:8080/"
        },
        "outputId": "3b2fea66-2090-4bfa-9d00-624a803b77f3"
      },
      "source": [
        "data.shape"
      ],
      "execution_count": 219,
      "outputs": [
        {
          "output_type": "execute_result",
          "data": {
            "text/plain": [
              "(1476, 4)"
            ]
          },
          "metadata": {},
          "execution_count": 219
        }
      ]
    },
    {
      "cell_type": "code",
      "metadata": {
        "trusted": true,
        "id": "r4vXRYZxfOQH"
      },
      "source": [
        "data['polarity'] = data['comments'].apply(lambda x: TextBlob(x).sentiment.polarity)"
      ],
      "execution_count": 220,
      "outputs": []
    },
    {
      "cell_type": "code",
      "metadata": {
        "trusted": true,
        "id": "F3VyASGDfOQL",
        "colab": {
          "base_uri": "https://localhost:8080/",
          "height": 204
        },
        "outputId": "e01365c2-9d3c-476e-a0b2-a6788cb27eb3"
      },
      "source": [
        "data.head()"
      ],
      "execution_count": 221,
      "outputs": [
        {
          "output_type": "execute_result",
          "data": {
            "text/html": [
              "<div>\n",
              "<style scoped>\n",
              "    .dataframe tbody tr th:only-of-type {\n",
              "        vertical-align: middle;\n",
              "    }\n",
              "\n",
              "    .dataframe tbody tr th {\n",
              "        vertical-align: top;\n",
              "    }\n",
              "\n",
              "    .dataframe thead th {\n",
              "        text-align: right;\n",
              "    }\n",
              "</style>\n",
              "<table border=\"1\" class=\"dataframe\">\n",
              "  <thead>\n",
              "    <tr style=\"text-align: right;\">\n",
              "      <th></th>\n",
              "      <th>Video ID</th>\n",
              "      <th>Comment ID</th>\n",
              "      <th>comments</th>\n",
              "      <th>Likes</th>\n",
              "      <th>polarity</th>\n",
              "    </tr>\n",
              "  </thead>\n",
              "  <tbody>\n",
              "    <tr>\n",
              "      <th>0</th>\n",
              "      <td>Jkj36B1YuDU</td>\n",
              "      <td>Ugzw2beVeZqddzqNvL54AaABAg</td>\n",
              "      <td>Have  you  found  your  love</td>\n",
              "      <td>36784</td>\n",
              "      <td>0.5</td>\n",
              "    </tr>\n",
              "    <tr>\n",
              "      <th>1</th>\n",
              "      <td>Jkj36B1YuDU</td>\n",
              "      <td>Ugz_Wy-18rH_Nu4QHZZ4AaABAg</td>\n",
              "      <td>It's      th  November    let's  see  how  m...</td>\n",
              "      <td>677</td>\n",
              "      <td>0.5</td>\n",
              "    </tr>\n",
              "    <tr>\n",
              "      <th>2</th>\n",
              "      <td>Jkj36B1YuDU</td>\n",
              "      <td>UgzFl7VdxMJsktBLDst4AaABAg</td>\n",
              "      <td>It's    th  November    let's  see  how  man...</td>\n",
              "      <td>1033</td>\n",
              "      <td>0.5</td>\n",
              "    </tr>\n",
              "    <tr>\n",
              "      <th>3</th>\n",
              "      <td>Jkj36B1YuDU</td>\n",
              "      <td>UgwG5dj5E_aot-1jMkB4AaABAg</td>\n",
              "      <td>It's      th  October  let's  see  how  many...</td>\n",
              "      <td>2359</td>\n",
              "      <td>0.5</td>\n",
              "    </tr>\n",
              "    <tr>\n",
              "      <th>4</th>\n",
              "      <td>Jkj36B1YuDU</td>\n",
              "      <td>UgyG7pKSxF44WOrQ7aV4AaABAg</td>\n",
              "      <td>promise  me  this  is  forever        I  pro...</td>\n",
              "      <td>299</td>\n",
              "      <td>0.0</td>\n",
              "    </tr>\n",
              "  </tbody>\n",
              "</table>\n",
              "</div>"
            ],
            "text/plain": [
              "      Video ID                  Comment ID  ...  Likes  polarity\n",
              "0  Jkj36B1YuDU  Ugzw2beVeZqddzqNvL54AaABAg  ...  36784       0.5\n",
              "1  Jkj36B1YuDU  Ugz_Wy-18rH_Nu4QHZZ4AaABAg  ...    677       0.5\n",
              "2  Jkj36B1YuDU  UgzFl7VdxMJsktBLDst4AaABAg  ...   1033       0.5\n",
              "3  Jkj36B1YuDU  UgwG5dj5E_aot-1jMkB4AaABAg  ...   2359       0.5\n",
              "4  Jkj36B1YuDU  UgyG7pKSxF44WOrQ7aV4AaABAg  ...    299       0.0\n",
              "\n",
              "[5 rows x 5 columns]"
            ]
          },
          "metadata": {},
          "execution_count": 221
        }
      ]
    },
    {
      "cell_type": "markdown",
      "metadata": {
        "id": "aff7dlQffOQS"
      },
      "source": [
        "## Shuffle the dataset"
      ]
    },
    {
      "cell_type": "code",
      "metadata": {
        "trusted": true,
        "id": "fAvRRLZZfOQS"
      },
      "source": [
        "data = data.sample(frac=1).reset_index(drop=True)"
      ],
      "execution_count": 222,
      "outputs": []
    },
    {
      "cell_type": "code",
      "metadata": {
        "trusted": true,
        "id": "b3l65gBXfOQV"
      },
      "source": [
        "data['pol_cat']  = 0"
      ],
      "execution_count": 223,
      "outputs": []
    },
    {
      "cell_type": "markdown",
      "metadata": {
        "id": "5eApxikxfOQX"
      },
      "source": [
        "Continuous to categorical"
      ]
    },
    {
      "cell_type": "code",
      "metadata": {
        "trusted": true,
        "id": "FjSukaWYfOQY",
        "colab": {
          "base_uri": "https://localhost:8080/"
        },
        "outputId": "48408fa8-8f53-4e4c-d6c7-03b628a366ef"
      },
      "source": [
        "data['pol_cat'][data.polarity > 0] = 1\n",
        "data['pol_cat'][data.polarity <= 0] = 0"
      ],
      "execution_count": 224,
      "outputs": [
        {
          "output_type": "stream",
          "name": "stderr",
          "text": [
            "/usr/local/lib/python3.7/dist-packages/ipykernel_launcher.py:1: SettingWithCopyWarning: \n",
            "A value is trying to be set on a copy of a slice from a DataFrame\n",
            "\n",
            "See the caveats in the documentation: https://pandas.pydata.org/pandas-docs/stable/user_guide/indexing.html#returning-a-view-versus-a-copy\n",
            "  \"\"\"Entry point for launching an IPython kernel.\n",
            "/usr/local/lib/python3.7/dist-packages/ipykernel_launcher.py:2: SettingWithCopyWarning: \n",
            "A value is trying to be set on a copy of a slice from a DataFrame\n",
            "\n",
            "See the caveats in the documentation: https://pandas.pydata.org/pandas-docs/stable/user_guide/indexing.html#returning-a-view-versus-a-copy\n",
            "  \n"
          ]
        }
      ]
    },
    {
      "cell_type": "code",
      "metadata": {
        "trusted": true,
        "id": "UqA764VKfOQh",
        "colab": {
          "base_uri": "https://localhost:8080/",
          "height": 204
        },
        "outputId": "6e7c4c6d-2222-4562-d2af-e99c436394ec"
      },
      "source": [
        "data.head()"
      ],
      "execution_count": 225,
      "outputs": [
        {
          "output_type": "execute_result",
          "data": {
            "text/html": [
              "<div>\n",
              "<style scoped>\n",
              "    .dataframe tbody tr th:only-of-type {\n",
              "        vertical-align: middle;\n",
              "    }\n",
              "\n",
              "    .dataframe tbody tr th {\n",
              "        vertical-align: top;\n",
              "    }\n",
              "\n",
              "    .dataframe thead th {\n",
              "        text-align: right;\n",
              "    }\n",
              "</style>\n",
              "<table border=\"1\" class=\"dataframe\">\n",
              "  <thead>\n",
              "    <tr style=\"text-align: right;\">\n",
              "      <th></th>\n",
              "      <th>Video ID</th>\n",
              "      <th>Comment ID</th>\n",
              "      <th>comments</th>\n",
              "      <th>Likes</th>\n",
              "      <th>polarity</th>\n",
              "      <th>pol_cat</th>\n",
              "    </tr>\n",
              "  </thead>\n",
              "  <tbody>\n",
              "    <tr>\n",
              "      <th>0</th>\n",
              "      <td>Jkj36B1YuDU</td>\n",
              "      <td>Ugyq7GPVNGQh5QGV9cN4AaABAg</td>\n",
              "      <td>Words    They  always  win    but      know   ...</td>\n",
              "      <td>67</td>\n",
              "      <td>0.520000</td>\n",
              "      <td>1</td>\n",
              "    </tr>\n",
              "    <tr>\n",
              "      <th>1</th>\n",
              "      <td>Jkj36B1YuDU</td>\n",
              "      <td>Ugx6V3h9OR8KAoXm3NV4AaABAg</td>\n",
              "      <td>I  found  them  they  were  the  one  right  n...</td>\n",
              "      <td>0</td>\n",
              "      <td>0.314286</td>\n",
              "      <td>1</td>\n",
              "    </tr>\n",
              "    <tr>\n",
              "      <th>2</th>\n",
              "      <td>Jkj36B1YuDU</td>\n",
              "      <td>UgyGCIzBO8lVVDKNV_t4AaABAg</td>\n",
              "      <td>Another  love</td>\n",
              "      <td>0</td>\n",
              "      <td>0.500000</td>\n",
              "      <td>1</td>\n",
              "    </tr>\n",
              "    <tr>\n",
              "      <th>3</th>\n",
              "      <td>Jkj36B1YuDU</td>\n",
              "      <td>UgwOWZJ-IvR_0w8q_4h4AaABAg</td>\n",
              "      <td>I  don't  want  to  die        I  want  to  be...</td>\n",
              "      <td>362</td>\n",
              "      <td>0.000000</td>\n",
              "      <td>0</td>\n",
              "    </tr>\n",
              "    <tr>\n",
              "      <th>4</th>\n",
              "      <td>Jkj36B1YuDU</td>\n",
              "      <td>UgweDHli5z17n0NM5Wt4AaABAg</td>\n",
              "      <td>I  stil  can't  find  my  love</td>\n",
              "      <td>0</td>\n",
              "      <td>0.500000</td>\n",
              "      <td>1</td>\n",
              "    </tr>\n",
              "  </tbody>\n",
              "</table>\n",
              "</div>"
            ],
            "text/plain": [
              "      Video ID                  Comment ID  ...  polarity  pol_cat\n",
              "0  Jkj36B1YuDU  Ugyq7GPVNGQh5QGV9cN4AaABAg  ...  0.520000        1\n",
              "1  Jkj36B1YuDU  Ugx6V3h9OR8KAoXm3NV4AaABAg  ...  0.314286        1\n",
              "2  Jkj36B1YuDU  UgyGCIzBO8lVVDKNV_t4AaABAg  ...  0.500000        1\n",
              "3  Jkj36B1YuDU  UgwOWZJ-IvR_0w8q_4h4AaABAg  ...  0.000000        0\n",
              "4  Jkj36B1YuDU  UgweDHli5z17n0NM5Wt4AaABAg  ...  0.500000        1\n",
              "\n",
              "[5 rows x 6 columns]"
            ]
          },
          "metadata": {},
          "execution_count": 225
        }
      ]
    },
    {
      "cell_type": "code",
      "metadata": {
        "trusted": true,
        "id": "HjyjS1yqfOQx",
        "colab": {
          "base_uri": "https://localhost:8080/"
        },
        "outputId": "71139bc6-f35b-4876-996d-0419202b6156"
      },
      "source": [
        "data['pol_cat'].value_counts()"
      ],
      "execution_count": 226,
      "outputs": [
        {
          "output_type": "execute_result",
          "data": {
            "text/plain": [
              "0    741\n",
              "1    735\n",
              "Name: pol_cat, dtype: int64"
            ]
          },
          "metadata": {},
          "execution_count": 226
        }
      ]
    },
    {
      "cell_type": "markdown",
      "metadata": {
        "id": "GUaFvHcLfOQ2"
      },
      "source": [
        "Create separate dataframes for Negative,Positive & Neutral comments "
      ]
    },
    {
      "cell_type": "code",
      "metadata": {
        "trusted": true,
        "id": "AFKmSBwcfOQ3"
      },
      "source": [
        "data_pos = data[data['pol_cat'] == 1]\n",
        "data_pos = data_pos.reset_index(drop = True)\n",
        "\n",
        "data_neg = data[data['pol_cat'] == 0]\n",
        "data_neg = data_neg.reset_index(drop = True)"
      ],
      "execution_count": 227,
      "outputs": []
    },
    {
      "cell_type": "code",
      "metadata": {
        "trusted": true,
        "id": "viYbRp2ifOQ-",
        "colab": {
          "base_uri": "https://localhost:8080/",
          "height": 204
        },
        "outputId": "b6df6206-05b6-431a-bdec-f3644c8553c8"
      },
      "source": [
        "data_pos.head()"
      ],
      "execution_count": 228,
      "outputs": [
        {
          "output_type": "execute_result",
          "data": {
            "text/html": [
              "<div>\n",
              "<style scoped>\n",
              "    .dataframe tbody tr th:only-of-type {\n",
              "        vertical-align: middle;\n",
              "    }\n",
              "\n",
              "    .dataframe tbody tr th {\n",
              "        vertical-align: top;\n",
              "    }\n",
              "\n",
              "    .dataframe thead th {\n",
              "        text-align: right;\n",
              "    }\n",
              "</style>\n",
              "<table border=\"1\" class=\"dataframe\">\n",
              "  <thead>\n",
              "    <tr style=\"text-align: right;\">\n",
              "      <th></th>\n",
              "      <th>Video ID</th>\n",
              "      <th>Comment ID</th>\n",
              "      <th>comments</th>\n",
              "      <th>Likes</th>\n",
              "      <th>polarity</th>\n",
              "      <th>pol_cat</th>\n",
              "    </tr>\n",
              "  </thead>\n",
              "  <tbody>\n",
              "    <tr>\n",
              "      <th>0</th>\n",
              "      <td>Jkj36B1YuDU</td>\n",
              "      <td>Ugyq7GPVNGQh5QGV9cN4AaABAg</td>\n",
              "      <td>Words    They  always  win    but      know   ...</td>\n",
              "      <td>67</td>\n",
              "      <td>0.520000</td>\n",
              "      <td>1</td>\n",
              "    </tr>\n",
              "    <tr>\n",
              "      <th>1</th>\n",
              "      <td>Jkj36B1YuDU</td>\n",
              "      <td>Ugx6V3h9OR8KAoXm3NV4AaABAg</td>\n",
              "      <td>I  found  them  they  were  the  one  right  n...</td>\n",
              "      <td>0</td>\n",
              "      <td>0.314286</td>\n",
              "      <td>1</td>\n",
              "    </tr>\n",
              "    <tr>\n",
              "      <th>2</th>\n",
              "      <td>Jkj36B1YuDU</td>\n",
              "      <td>UgyGCIzBO8lVVDKNV_t4AaABAg</td>\n",
              "      <td>Another  love</td>\n",
              "      <td>0</td>\n",
              "      <td>0.500000</td>\n",
              "      <td>1</td>\n",
              "    </tr>\n",
              "    <tr>\n",
              "      <th>3</th>\n",
              "      <td>Jkj36B1YuDU</td>\n",
              "      <td>UgweDHli5z17n0NM5Wt4AaABAg</td>\n",
              "      <td>I  stil  can't  find  my  love</td>\n",
              "      <td>0</td>\n",
              "      <td>0.500000</td>\n",
              "      <td>1</td>\n",
              "    </tr>\n",
              "    <tr>\n",
              "      <th>4</th>\n",
              "      <td>Jkj36B1YuDU</td>\n",
              "      <td>UgzmZyV-qjSOIfR75LN4AaABAg</td>\n",
              "      <td>Guys  i  found  my  love</td>\n",
              "      <td>0</td>\n",
              "      <td>0.500000</td>\n",
              "      <td>1</td>\n",
              "    </tr>\n",
              "  </tbody>\n",
              "</table>\n",
              "</div>"
            ],
            "text/plain": [
              "      Video ID                  Comment ID  ...  polarity  pol_cat\n",
              "0  Jkj36B1YuDU  Ugyq7GPVNGQh5QGV9cN4AaABAg  ...  0.520000        1\n",
              "1  Jkj36B1YuDU  Ugx6V3h9OR8KAoXm3NV4AaABAg  ...  0.314286        1\n",
              "2  Jkj36B1YuDU  UgyGCIzBO8lVVDKNV_t4AaABAg  ...  0.500000        1\n",
              "3  Jkj36B1YuDU  UgweDHli5z17n0NM5Wt4AaABAg  ...  0.500000        1\n",
              "4  Jkj36B1YuDU  UgzmZyV-qjSOIfR75LN4AaABAg  ...  0.500000        1\n",
              "\n",
              "[5 rows x 6 columns]"
            ]
          },
          "metadata": {},
          "execution_count": 228
        }
      ]
    },
    {
      "cell_type": "code",
      "metadata": {
        "trusted": true,
        "id": "LMQlLiuhfORF",
        "colab": {
          "base_uri": "https://localhost:8080/"
        },
        "outputId": "6fd80509-2960-4af2-8821-60938ceb88bb"
      },
      "source": [
        "data_pos.shape"
      ],
      "execution_count": 229,
      "outputs": [
        {
          "output_type": "execute_result",
          "data": {
            "text/plain": [
              "(735, 6)"
            ]
          },
          "metadata": {},
          "execution_count": 229
        }
      ]
    },
    {
      "cell_type": "code",
      "metadata": {
        "trusted": true,
        "id": "uEpv5BBDfORJ",
        "colab": {
          "base_uri": "https://localhost:8080/",
          "height": 204
        },
        "outputId": "2ae35dfd-288e-420e-b5dc-806197f6f41f"
      },
      "source": [
        "data_neg.head()"
      ],
      "execution_count": 230,
      "outputs": [
        {
          "output_type": "execute_result",
          "data": {
            "text/html": [
              "<div>\n",
              "<style scoped>\n",
              "    .dataframe tbody tr th:only-of-type {\n",
              "        vertical-align: middle;\n",
              "    }\n",
              "\n",
              "    .dataframe tbody tr th {\n",
              "        vertical-align: top;\n",
              "    }\n",
              "\n",
              "    .dataframe thead th {\n",
              "        text-align: right;\n",
              "    }\n",
              "</style>\n",
              "<table border=\"1\" class=\"dataframe\">\n",
              "  <thead>\n",
              "    <tr style=\"text-align: right;\">\n",
              "      <th></th>\n",
              "      <th>Video ID</th>\n",
              "      <th>Comment ID</th>\n",
              "      <th>comments</th>\n",
              "      <th>Likes</th>\n",
              "      <th>polarity</th>\n",
              "      <th>pol_cat</th>\n",
              "    </tr>\n",
              "  </thead>\n",
              "  <tbody>\n",
              "    <tr>\n",
              "      <th>0</th>\n",
              "      <td>Jkj36B1YuDU</td>\n",
              "      <td>UgwOWZJ-IvR_0w8q_4h4AaABAg</td>\n",
              "      <td>I  don't  want  to  die        I  want  to  be...</td>\n",
              "      <td>362</td>\n",
              "      <td>0.0</td>\n",
              "      <td>0</td>\n",
              "    </tr>\n",
              "    <tr>\n",
              "      <th>1</th>\n",
              "      <td>Jkj36B1YuDU</td>\n",
              "      <td>UgzcGzMLXhiNobWO8i14AaABAg</td>\n",
              "      <td>My  fovorite  music        O</td>\n",
              "      <td>0</td>\n",
              "      <td>0.0</td>\n",
              "      <td>0</td>\n",
              "    </tr>\n",
              "    <tr>\n",
              "      <th>2</th>\n",
              "      <td>Jkj36B1YuDU</td>\n",
              "      <td>UgyCzt51NxPVoDn6ddZ4AaABAg</td>\n",
              "      <td>Why  isn  t  anyone  talking  about  this  son...</td>\n",
              "      <td>960</td>\n",
              "      <td>0.0</td>\n",
              "      <td>0</td>\n",
              "    </tr>\n",
              "    <tr>\n",
              "      <th>3</th>\n",
              "      <td>Jkj36B1YuDU</td>\n",
              "      <td>UgywtO850gkmMPINH9x4AaABAg</td>\n",
              "      <td>I'm  crying</td>\n",
              "      <td>1</td>\n",
              "      <td>-0.2</td>\n",
              "      <td>0</td>\n",
              "    </tr>\n",
              "    <tr>\n",
              "      <th>4</th>\n",
              "      <td>Jkj36B1YuDU</td>\n",
              "      <td>Ugx_ARz5mZkU2UAZujp4AaABAg</td>\n",
              "      <td>Yes  but  not  anymore  but  when  I  look  i ...</td>\n",
              "      <td>1</td>\n",
              "      <td>0.0</td>\n",
              "      <td>0</td>\n",
              "    </tr>\n",
              "  </tbody>\n",
              "</table>\n",
              "</div>"
            ],
            "text/plain": [
              "      Video ID                  Comment ID  ... polarity  pol_cat\n",
              "0  Jkj36B1YuDU  UgwOWZJ-IvR_0w8q_4h4AaABAg  ...      0.0        0\n",
              "1  Jkj36B1YuDU  UgzcGzMLXhiNobWO8i14AaABAg  ...      0.0        0\n",
              "2  Jkj36B1YuDU  UgyCzt51NxPVoDn6ddZ4AaABAg  ...      0.0        0\n",
              "3  Jkj36B1YuDU  UgywtO850gkmMPINH9x4AaABAg  ...     -0.2        0\n",
              "4  Jkj36B1YuDU  Ugx_ARz5mZkU2UAZujp4AaABAg  ...      0.0        0\n",
              "\n",
              "[5 rows x 6 columns]"
            ]
          },
          "metadata": {},
          "execution_count": 230
        }
      ]
    },
    {
      "cell_type": "code",
      "metadata": {
        "trusted": true,
        "id": "Zv_eLUh8fORS",
        "colab": {
          "base_uri": "https://localhost:8080/",
          "height": 35
        },
        "outputId": "2205a90f-f2b3-4200-f6be-8922478ba924"
      },
      "source": [
        "data_neg['comments'][1]"
      ],
      "execution_count": 231,
      "outputs": [
        {
          "output_type": "execute_result",
          "data": {
            "application/vnd.google.colaboratory.intrinsic+json": {
              "type": "string"
            },
            "text/plain": [
              "'My  fovorite  music        O'"
            ]
          },
          "metadata": {},
          "execution_count": 231
        }
      ]
    },
    {
      "cell_type": "code",
      "metadata": {
        "trusted": true,
        "id": "-Js16up1fORW",
        "colab": {
          "base_uri": "https://localhost:8080/",
          "height": 313
        },
        "outputId": "edc9eeaf-0f60-42ec-9c97-7ce487e02782"
      },
      "source": [
        "data.pol_cat.value_counts().plot.bar()\n",
        "data.pol_cat.value_counts()"
      ],
      "execution_count": 232,
      "outputs": [
        {
          "output_type": "execute_result",
          "data": {
            "text/plain": [
              "0    741\n",
              "1    735\n",
              "Name: pol_cat, dtype: int64"
            ]
          },
          "metadata": {},
          "execution_count": 232
        },
        {
          "output_type": "display_data",
          "data": {
            "image/png": "[encoded data removed]",
            "text/plain": [
              "<Figure size 432x288 with 1 Axes>"
            ]
          },
          "metadata": {
            "needs_background": "light"
          }
        }
      ]
    },
    {
      "cell_type": "markdown",
      "metadata": {
        "id": "uPIRm-0gfORj"
      },
      "source": [
        "## Data Preprocessing"
      ]
    },
    {
      "cell_type": "markdown",
      "metadata": {
        "id": "ADfF9AAZfORk"
      },
      "source": [
        "Lower the text in comments"
      ]
    },
    {
      "cell_type": "code",
      "metadata": {
        "trusted": true,
        "id": "zcUC0pIFfORl"
      },
      "source": [
        "data['comments'] = data['comments'].str.lower()"
      ],
      "execution_count": 233,
      "outputs": []
    },
    {
      "cell_type": "code",
      "metadata": {
        "trusted": true,
        "id": "X14Mvov6fORr",
        "colab": {
          "base_uri": "https://localhost:8080/"
        },
        "outputId": "d58c1330-7046-484e-f4cd-6aa23d3c2dbc"
      },
      "source": [
        "data['comments'].head()"
      ],
      "execution_count": 234,
      "outputs": [
        {
          "output_type": "execute_result",
          "data": {
            "text/plain": [
              "0    words    they  always  win    but      know   ...\n",
              "1    i  found  them  they  were  the  one  right  n...\n",
              "2                                      another  love  \n",
              "3    i  don't  want  to  die        i  want  to  be...\n",
              "4                       i  stil  can't  find  my  love\n",
              "Name: comments, dtype: object"
            ]
          },
          "metadata": {},
          "execution_count": 234
        }
      ]
    },
    {
      "cell_type": "code",
      "metadata": {
        "trusted": true,
        "id": "5yFhcEwffORz",
        "colab": {
          "base_uri": "https://localhost:8080/",
          "height": 297
        },
        "outputId": "5f4f6890-df0f-412b-e3c7-84e674cdb857"
      },
      "source": [
        "data.describe()"
      ],
      "execution_count": 235,
      "outputs": [
        {
          "output_type": "execute_result",
          "data": {
            "text/html": [
              "<div>\n",
              "<style scoped>\n",
              "    .dataframe tbody tr th:only-of-type {\n",
              "        vertical-align: middle;\n",
              "    }\n",
              "\n",
              "    .dataframe tbody tr th {\n",
              "        vertical-align: top;\n",
              "    }\n",
              "\n",
              "    .dataframe thead th {\n",
              "        text-align: right;\n",
              "    }\n",
              "</style>\n",
              "<table border=\"1\" class=\"dataframe\">\n",
              "  <thead>\n",
              "    <tr style=\"text-align: right;\">\n",
              "      <th></th>\n",
              "      <th>Likes</th>\n",
              "      <th>polarity</th>\n",
              "      <th>pol_cat</th>\n",
              "    </tr>\n",
              "  </thead>\n",
              "  <tbody>\n",
              "    <tr>\n",
              "      <th>count</th>\n",
              "      <td>1476.000000</td>\n",
              "      <td>1476.000000</td>\n",
              "      <td>1476.000000</td>\n",
              "    </tr>\n",
              "    <tr>\n",
              "      <th>mean</th>\n",
              "      <td>389.159892</td>\n",
              "      <td>0.171113</td>\n",
              "      <td>0.497967</td>\n",
              "    </tr>\n",
              "    <tr>\n",
              "      <th>std</th>\n",
              "      <td>2774.849702</td>\n",
              "      <td>0.323529</td>\n",
              "      <td>0.500165</td>\n",
              "    </tr>\n",
              "    <tr>\n",
              "      <th>min</th>\n",
              "      <td>0.000000</td>\n",
              "      <td>-1.000000</td>\n",
              "      <td>0.000000</td>\n",
              "    </tr>\n",
              "    <tr>\n",
              "      <th>25%</th>\n",
              "      <td>0.000000</td>\n",
              "      <td>0.000000</td>\n",
              "      <td>0.000000</td>\n",
              "    </tr>\n",
              "    <tr>\n",
              "      <th>50%</th>\n",
              "      <td>1.000000</td>\n",
              "      <td>0.000000</td>\n",
              "      <td>0.000000</td>\n",
              "    </tr>\n",
              "    <tr>\n",
              "      <th>75%</th>\n",
              "      <td>26.000000</td>\n",
              "      <td>0.500000</td>\n",
              "      <td>1.000000</td>\n",
              "    </tr>\n",
              "    <tr>\n",
              "      <th>max</th>\n",
              "      <td>67111.000000</td>\n",
              "      <td>1.000000</td>\n",
              "      <td>1.000000</td>\n",
              "    </tr>\n",
              "  </tbody>\n",
              "</table>\n",
              "</div>"
            ],
            "text/plain": [
              "              Likes     polarity      pol_cat\n",
              "count   1476.000000  1476.000000  1476.000000\n",
              "mean     389.159892     0.171113     0.497967\n",
              "std     2774.849702     0.323529     0.500165\n",
              "min        0.000000    -1.000000     0.000000\n",
              "25%        0.000000     0.000000     0.000000\n",
              "50%        1.000000     0.000000     0.000000\n",
              "75%       26.000000     0.500000     1.000000\n",
              "max    67111.000000     1.000000     1.000000"
            ]
          },
          "metadata": {},
          "execution_count": 235
        }
      ]
    },
    {
      "cell_type": "code",
      "metadata": {
        "trusted": true,
        "id": "km6dIMhWfOR5",
        "colab": {
          "base_uri": "https://localhost:8080/"
        },
        "outputId": "d17fdf8c-c95a-4aaf-8dfb-28b9087229b5"
      },
      "source": [
        "data.info()"
      ],
      "execution_count": 236,
      "outputs": [
        {
          "output_type": "stream",
          "name": "stdout",
          "text": [
            "<class 'pandas.core.frame.DataFrame'>\n",
            "RangeIndex: 1476 entries, 0 to 1475\n",
            "Data columns (total 6 columns):\n",
            " #   Column      Non-Null Count  Dtype  \n",
            "---  ------      --------------  -----  \n",
            " 0   Video ID    1476 non-null   object \n",
            " 1   Comment ID  1476 non-null   object \n",
            " 2   comments    1476 non-null   object \n",
            " 3   Likes       1476 non-null   int64  \n",
            " 4   polarity    1476 non-null   float64\n",
            " 5   pol_cat     1476 non-null   int64  \n",
            "dtypes: float64(1), int64(2), object(3)\n",
            "memory usage: 69.3+ KB\n"
          ]
        }
      ]
    },
    {
      "cell_type": "code",
      "metadata": {
        "trusted": true,
        "id": "avjaCC79fOSE",
        "colab": {
          "base_uri": "https://localhost:8080/",
          "height": 52
        },
        "outputId": "c5031371-cfe3-4fd1-a58b-12fa9d569007"
      },
      "source": [
        "data['comments'][0]"
      ],
      "execution_count": 237,
      "outputs": [
        {
          "output_type": "execute_result",
          "data": {
            "application/vnd.google.colaboratory.intrinsic+json": {
              "type": "string"
            },
            "text/plain": [
              "'words    they  always  win    but      know      gonna  lose        i  love  this  sentence  very  much    this  song  is  a  masterpiece      '"
            ]
          },
          "metadata": {},
          "execution_count": 237
        }
      ]
    },
    {
      "cell_type": "code",
      "metadata": {
        "trusted": true,
        "id": "V4zfsTUifOSO",
        "colab": {
          "base_uri": "https://localhost:8080/",
          "height": 52
        },
        "outputId": "013d9bad-0c11-41d4-f2b7-257643563f52"
      },
      "source": [
        "data['comments'][0].strip()"
      ],
      "execution_count": 238,
      "outputs": [
        {
          "output_type": "execute_result",
          "data": {
            "application/vnd.google.colaboratory.intrinsic+json": {
              "type": "string"
            },
            "text/plain": [
              "'words    they  always  win    but      know      gonna  lose        i  love  this  sentence  very  much    this  song  is  a  masterpiece'"
            ]
          },
          "metadata": {},
          "execution_count": 238
        }
      ]
    },
    {
      "cell_type": "code",
      "metadata": {
        "id": "pVxZ8KK_vbm4",
        "colab": {
          "base_uri": "https://localhost:8080/"
        },
        "outputId": "80cfd62a-666c-4ded-8526-eb619c4ce0de"
      },
      "source": [
        "import nltk\n",
        "nltk.download(\"stopwords\")"
      ],
      "execution_count": 239,
      "outputs": [
        {
          "output_type": "stream",
          "name": "stdout",
          "text": [
            "[nltk_data] Downloading package stopwords to /root/nltk_data...\n",
            "[nltk_data]   Package stopwords is already up-to-date!\n"
          ]
        },
        {
          "output_type": "execute_result",
          "data": {
            "text/plain": [
              "True"
            ]
          },
          "metadata": {},
          "execution_count": 239
        }
      ]
    },
    {
      "cell_type": "code",
      "metadata": {
        "id": "ugZWXdNOyBKq",
        "colab": {
          "base_uri": "https://localhost:8080/"
        },
        "outputId": "d4999ca4-ccff-40b3-833e-60129840b226"
      },
      "source": [
        "nltk.download(\"punkt\")"
      ],
      "execution_count": 240,
      "outputs": [
        {
          "output_type": "stream",
          "name": "stdout",
          "text": [
            "[nltk_data] Downloading package punkt to /root/nltk_data...\n",
            "[nltk_data]   Package punkt is already up-to-date!\n"
          ]
        },
        {
          "output_type": "execute_result",
          "data": {
            "text/plain": [
              "True"
            ]
          },
          "metadata": {},
          "execution_count": 240
        }
      ]
    },
    {
      "cell_type": "code",
      "metadata": {
        "trusted": true,
        "id": "fC4ig8cyfOSa"
      },
      "source": [
        "from nltk.corpus import stopwords\n",
        "from nltk import word_tokenize\n",
        "import string\n",
        "import re\n",
        "import nltk"
      ],
      "execution_count": 241,
      "outputs": []
    },
    {
      "cell_type": "code",
      "metadata": {
        "id": "FdcsbqXTvYLB",
        "colab": {
          "base_uri": "https://localhost:8080/"
        },
        "outputId": "9891d452-b5bb-4fcd-d222-57c559400673"
      },
      "source": [
        "print(stopwords.words('english'))"
      ],
      "execution_count": 242,
      "outputs": [
        {
          "output_type": "stream",
          "name": "stdout",
          "text": [
            "['i', 'me', 'my', 'myself', 'we', 'our', 'ours', 'ourselves', 'you', \"you're\", \"you've\", \"you'll\", \"you'd\", 'your', 'yours', 'yourself', 'yourselves', 'he', 'him', 'his', 'himself', 'she', \"she's\", 'her', 'hers', 'herself', 'it', \"it's\", 'its', 'itself', 'they', 'them', 'their', 'theirs', 'themselves', 'what', 'which', 'who', 'whom', 'this', 'that', \"that'll\", 'these', 'those', 'am', 'is', 'are', 'was', 'were', 'be', 'been', 'being', 'have', 'has', 'had', 'having', 'do', 'does', 'did', 'doing', 'a', 'an', 'the', 'and', 'but', 'if', 'or', 'because', 'as', 'until', 'while', 'of', 'at', 'by', 'for', 'with', 'about', 'against', 'between', 'into', 'through', 'during', 'before', 'after', 'above', 'below', 'to', 'from', 'up', 'down', 'in', 'out', 'on', 'off', 'over', 'under', 'again', 'further', 'then', 'once', 'here', 'there', 'when', 'where', 'why', 'how', 'all', 'any', 'both', 'each', 'few', 'more', 'most', 'other', 'some', 'such', 'no', 'nor', 'not', 'only', 'own', 'same', 'so', 'than', 'too', 'very', 's', 't', 'can', 'will', 'just', 'don', \"don't\", 'should', \"should've\", 'now', 'd', 'll', 'm', 'o', 're', 've', 'y', 'ain', 'aren', \"aren't\", 'couldn', \"couldn't\", 'didn', \"didn't\", 'doesn', \"doesn't\", 'hadn', \"hadn't\", 'hasn', \"hasn't\", 'haven', \"haven't\", 'isn', \"isn't\", 'ma', 'mightn', \"mightn't\", 'mustn', \"mustn't\", 'needn', \"needn't\", 'shan', \"shan't\", 'shouldn', \"shouldn't\", 'wasn', \"wasn't\", 'weren', \"weren't\", 'won', \"won't\", 'wouldn', \"wouldn't\"]\n"
          ]
        }
      ]
    },
    {
      "cell_type": "code",
      "metadata": {
        "trusted": true,
        "id": "pYrDplBYfOSc"
      },
      "source": [
        "stop_words = set(stopwords.words('english'))"
      ],
      "execution_count": 243,
      "outputs": []
    },
    {
      "cell_type": "code",
      "metadata": {
        "trusted": true,
        "id": "k-kxFfPlfOSe"
      },
      "source": [
        "data['comments'] = data['comments'].str.strip()"
      ],
      "execution_count": 244,
      "outputs": []
    },
    {
      "cell_type": "code",
      "metadata": {
        "trusted": true,
        "id": "QOJwKjV5fOSh"
      },
      "source": [
        "train = data.copy()"
      ],
      "execution_count": 245,
      "outputs": []
    },
    {
      "cell_type": "code",
      "metadata": {
        "trusted": true,
        "id": "QFxxu3HLfOSn"
      },
      "source": [
        "train['comments'] = train['comments'].str.strip()"
      ],
      "execution_count": 246,
      "outputs": []
    },
    {
      "cell_type": "code",
      "metadata": {
        "trusted": true,
        "id": "MEYK2fHjfOSq",
        "colab": {
          "base_uri": "https://localhost:8080/",
          "height": 52
        },
        "outputId": "d5f1a347-497a-4f36-f30c-f27496071ca9"
      },
      "source": [
        "train['comments'][0]"
      ],
      "execution_count": 247,
      "outputs": [
        {
          "output_type": "execute_result",
          "data": {
            "application/vnd.google.colaboratory.intrinsic+json": {
              "type": "string"
            },
            "text/plain": [
              "'words    they  always  win    but      know      gonna  lose        i  love  this  sentence  very  much    this  song  is  a  masterpiece'"
            ]
          },
          "metadata": {},
          "execution_count": 247
        }
      ]
    },
    {
      "cell_type": "code",
      "metadata": {
        "trusted": true,
        "id": "7dutEBJ9fOSt"
      },
      "source": [
        "def remove_stopwords(line):\n",
        "    word_tokens = word_tokenize(line)\n",
        "    filtered_sentence = [w for w in word_tokens if not w in stop_words]\n",
        "    return \" \".join(filtered_sentence)"
      ],
      "execution_count": 248,
      "outputs": []
    },
    {
      "cell_type": "code",
      "metadata": {
        "trusted": true,
        "id": "N6_eOPkLfOSy"
      },
      "source": [
        "data['stop_comments'] = data['comments'].apply(lambda x : remove_stopwords(x))"
      ],
      "execution_count": 249,
      "outputs": []
    },
    {
      "cell_type": "code",
      "metadata": {
        "trusted": true,
        "id": "ecShTkF6fOS3",
        "colab": {
          "base_uri": "https://localhost:8080/",
          "height": 306
        },
        "outputId": "78d2b258-713b-470b-997a-0c987e63a123"
      },
      "source": [
        "data.head()"
      ],
      "execution_count": 250,
      "outputs": [
        {
          "output_type": "execute_result",
          "data": {
            "text/html": [
              "<div>\n",
              "<style scoped>\n",
              "    .dataframe tbody tr th:only-of-type {\n",
              "        vertical-align: middle;\n",
              "    }\n",
              "\n",
              "    .dataframe tbody tr th {\n",
              "        vertical-align: top;\n",
              "    }\n",
              "\n",
              "    .dataframe thead th {\n",
              "        text-align: right;\n",
              "    }\n",
              "</style>\n",
              "<table border=\"1\" class=\"dataframe\">\n",
              "  <thead>\n",
              "    <tr style=\"text-align: right;\">\n",
              "      <th></th>\n",
              "      <th>Video ID</th>\n",
              "      <th>Comment ID</th>\n",
              "      <th>comments</th>\n",
              "      <th>Likes</th>\n",
              "      <th>polarity</th>\n",
              "      <th>pol_cat</th>\n",
              "      <th>stop_comments</th>\n",
              "    </tr>\n",
              "  </thead>\n",
              "  <tbody>\n",
              "    <tr>\n",
              "      <th>0</th>\n",
              "      <td>Jkj36B1YuDU</td>\n",
              "      <td>Ugyq7GPVNGQh5QGV9cN4AaABAg</td>\n",
              "      <td>words    they  always  win    but      know   ...</td>\n",
              "      <td>67</td>\n",
              "      <td>0.520000</td>\n",
              "      <td>1</td>\n",
              "      <td>words always win know gon na lose love sentenc...</td>\n",
              "    </tr>\n",
              "    <tr>\n",
              "      <th>1</th>\n",
              "      <td>Jkj36B1YuDU</td>\n",
              "      <td>Ugx6V3h9OR8KAoXm3NV4AaABAg</td>\n",
              "      <td>i  found  them  they  were  the  one  right  n...</td>\n",
              "      <td>0</td>\n",
              "      <td>0.314286</td>\n",
              "      <td>1</td>\n",
              "      <td>found one right next whole time right never no...</td>\n",
              "    </tr>\n",
              "    <tr>\n",
              "      <th>2</th>\n",
              "      <td>Jkj36B1YuDU</td>\n",
              "      <td>UgyGCIzBO8lVVDKNV_t4AaABAg</td>\n",
              "      <td>another  love</td>\n",
              "      <td>0</td>\n",
              "      <td>0.500000</td>\n",
              "      <td>1</td>\n",
              "      <td>another love</td>\n",
              "    </tr>\n",
              "    <tr>\n",
              "      <th>3</th>\n",
              "      <td>Jkj36B1YuDU</td>\n",
              "      <td>UgwOWZJ-IvR_0w8q_4h4AaABAg</td>\n",
              "      <td>i  don't  want  to  die        i  want  to  be...</td>\n",
              "      <td>362</td>\n",
              "      <td>0.000000</td>\n",
              "      <td>0</td>\n",
              "      <td>n't want die want mikasa want everyone</td>\n",
              "    </tr>\n",
              "    <tr>\n",
              "      <th>4</th>\n",
              "      <td>Jkj36B1YuDU</td>\n",
              "      <td>UgweDHli5z17n0NM5Wt4AaABAg</td>\n",
              "      <td>i  stil  can't  find  my  love</td>\n",
              "      <td>0</td>\n",
              "      <td>0.500000</td>\n",
              "      <td>1</td>\n",
              "      <td>stil ca n't find love</td>\n",
              "    </tr>\n",
              "  </tbody>\n",
              "</table>\n",
              "</div>"
            ],
            "text/plain": [
              "      Video ID  ...                                      stop_comments\n",
              "0  Jkj36B1YuDU  ...  words always win know gon na lose love sentenc...\n",
              "1  Jkj36B1YuDU  ...  found one right next whole time right never no...\n",
              "2  Jkj36B1YuDU  ...                                       another love\n",
              "3  Jkj36B1YuDU  ...             n't want die want mikasa want everyone\n",
              "4  Jkj36B1YuDU  ...                              stil ca n't find love\n",
              "\n",
              "[5 rows x 7 columns]"
            ]
          },
          "metadata": {},
          "execution_count": 250
        }
      ]
    },
    {
      "cell_type": "code",
      "metadata": {
        "id": "huA-d5gjiIpc"
      },
      "source": [
        "data.to_csv('Dataset-with-sentiments.csv', index = False)"
      ],
      "execution_count": 251,
      "outputs": []
    },
    {
      "cell_type": "code",
      "metadata": {
        "id": "NIR0sRJ6RBQZ"
      },
      "source": [
        ""
      ],
      "execution_count": 251,
      "outputs": []
    }
  ]
}