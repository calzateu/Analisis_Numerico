{
  "nbformat": 4,
  "nbformat_minor": 0,
  "metadata": {
    "kernelspec": {
      "language": "python",
      "display_name": "Python 3",
      "name": "python3"
    },
    "language_info": {
      "pygments_lexer": "ipython3",
      "nbconvert_exporter": "python",
      "version": "3.6.4",
      "file_extension": ".py",
      "codemirror_mode": {
        "name": "ipython",
        "version": 3
      },
      "name": "python",
      "mimetype": "text/x-python"
    },
    "colab": {
      "name": "Sentiment_YouTube.ipynb",
      "provenance": [],
      "collapsed_sections": []
    }
  },
  "cells": [
    {
      "cell_type": "code",
      "metadata": {
        "id": "2e_qzhUj0q6v",
        "colab": {
          "base_uri": "https://localhost:8080/"
        },
        "outputId": "e924e6e4-b196-4bc0-97bb-19b50e53639a"
      },
      "source": [
        "pip install -U scikit-learn"
      ],
      "execution_count": 1,
      "outputs": [
        {
          "output_type": "stream",
          "name": "stdout",
          "text": [
            "Requirement already satisfied: scikit-learn in /usr/local/lib/python3.7/dist-packages (1.0.1)\n",
            "Requirement already satisfied: scipy>=1.1.0 in /usr/local/lib/python3.7/dist-packages (from scikit-learn) (1.4.1)\n",
            "Requirement already satisfied: threadpoolctl>=2.0.0 in /usr/local/lib/python3.7/dist-packages (from scikit-learn) (3.0.0)\n",
            "Requirement already satisfied: joblib>=0.11 in /usr/local/lib/python3.7/dist-packages (from scikit-learn) (1.1.0)\n",
            "Requirement already satisfied: numpy>=1.14.6 in /usr/local/lib/python3.7/dist-packages (from scikit-learn) (1.19.5)\n"
          ]
        }
      ]
    },
    {
      "cell_type": "code",
      "metadata": {
        "_uuid": "8f2839f25d086af736a60e9eeb907d3b93b6e0e5",
        "_cell_guid": "b1076dfc-b9ad-4769-8c92-a6c4dae69d19",
        "trusted": true,
        "id": "Os2Zzeq1fOPk"
      },
      "source": [
        "import numpy as np # linear algebra\n",
        "import pandas as pd # data processing, CSV file I/O (e.g. pd.read_csv)\n",
        "import os\n",
        "import scipy"
      ],
      "execution_count": 2,
      "outputs": []
    },
    {
      "cell_type": "code",
      "metadata": {
        "trusted": true,
        "id": "fgJSTJ_3fOPq"
      },
      "source": [
        "from textblob import TextBlob\n",
        "from sklearn import metrics\n",
        "from mlxtend.plotting import plot_confusion_matrix"
      ],
      "execution_count": 3,
      "outputs": []
    },
    {
      "cell_type": "code",
      "metadata": {
        "id": "u6HBiCN5jz0Z",
        "colab": {
          "base_uri": "https://localhost:8080/"
        },
        "outputId": "3cef530c-4c28-4882-ff69-ce5edc83a4dd"
      },
      "source": [
        "ls"
      ],
      "execution_count": 4,
      "outputs": [
        {
          "output_type": "stream",
          "name": "stdout",
          "text": [
            "Dataset.csv  \u001b[0m\u001b[01;34msample_data\u001b[0m/\n"
          ]
        }
      ]
    },
    {
      "cell_type": "code",
      "metadata": {
        "trusted": true,
        "id": "7UzPRyFrfOPy"
      },
      "source": [
        "data = pd.read_csv(\"Dataset.csv\")"
      ],
      "execution_count": 5,
      "outputs": []
    },
    {
      "cell_type": "code",
      "metadata": {
        "trusted": true,
        "id": "8oQ_G11BfOP2",
        "colab": {
          "base_uri": "https://localhost:8080/",
          "height": 204
        },
        "outputId": "c307649b-8629-4e96-93e6-92feabb8f081"
      },
      "source": [
        "data.head()"
      ],
      "execution_count": 6,
      "outputs": [
        {
          "output_type": "execute_result",
          "data": {
            "text/html": [
              "<div>\n",
              "<style scoped>\n",
              "    .dataframe tbody tr th:only-of-type {\n",
              "        vertical-align: middle;\n",
              "    }\n",
              "\n",
              "    .dataframe tbody tr th {\n",
              "        vertical-align: top;\n",
              "    }\n",
              "\n",
              "    .dataframe thead th {\n",
              "        text-align: right;\n",
              "    }\n",
              "</style>\n",
              "<table border=\"1\" class=\"dataframe\">\n",
              "  <thead>\n",
              "    <tr style=\"text-align: right;\">\n",
              "      <th></th>\n",
              "      <th>Video ID</th>\n",
              "      <th>Comment ID</th>\n",
              "      <th>comments</th>\n",
              "      <th>Likes</th>\n",
              "    </tr>\n",
              "  </thead>\n",
              "  <tbody>\n",
              "    <tr>\n",
              "      <th>0</th>\n",
              "      <td>MwpMEbgC7DA</td>\n",
              "      <td>UgxyyOolFRhwZzdeH6B4AaABAg</td>\n",
              "      <td>Almost  2022  and  this  song  is  still  a  m...</td>\n",
              "      <td>2770</td>\n",
              "    </tr>\n",
              "    <tr>\n",
              "      <th>1</th>\n",
              "      <td>MwpMEbgC7DA</td>\n",
              "      <td>UgyJIBcVyyE3WIIzpOt4AaABAg</td>\n",
              "      <td>It's  November  2021    let's  see  how  many ...</td>\n",
              "      <td>1969</td>\n",
              "    </tr>\n",
              "    <tr>\n",
              "      <th>2</th>\n",
              "      <td>MwpMEbgC7DA</td>\n",
              "      <td>UgyPundPLD47qRbQXfZ4AaABAg</td>\n",
              "      <td>This  song  has  such  a  different  atmospher...</td>\n",
              "      <td>1195</td>\n",
              "    </tr>\n",
              "    <tr>\n",
              "      <th>3</th>\n",
              "      <td>MwpMEbgC7DA</td>\n",
              "      <td>UgwyC5O-P3BBQ8lhFv54AaABAg</td>\n",
              "      <td>This  song  has  a  powerful  hit  in  it</td>\n",
              "      <td>24</td>\n",
              "    </tr>\n",
              "    <tr>\n",
              "      <th>4</th>\n",
              "      <td>MwpMEbgC7DA</td>\n",
              "      <td>UgxAI_FkDVq-jWHWSdB4AaABAg</td>\n",
              "      <td>I  just  can  t  stop  listening  to  it</td>\n",
              "      <td>10</td>\n",
              "    </tr>\n",
              "  </tbody>\n",
              "</table>\n",
              "</div>"
            ],
            "text/plain": [
              "      Video ID  ... Likes\n",
              "0  MwpMEbgC7DA  ...  2770\n",
              "1  MwpMEbgC7DA  ...  1969\n",
              "2  MwpMEbgC7DA  ...  1195\n",
              "3  MwpMEbgC7DA  ...    24\n",
              "4  MwpMEbgC7DA  ...    10\n",
              "\n",
              "[5 rows x 4 columns]"
            ]
          },
          "metadata": {},
          "execution_count": 6
        }
      ]
    },
    {
      "cell_type": "code",
      "metadata": {
        "trusted": true,
        "id": "yAKqx7vafOP6",
        "colab": {
          "base_uri": "https://localhost:8080/"
        },
        "outputId": "fbbf9338-3c50-4158-f6d7-18590f3dc79e"
      },
      "source": [
        "data.shape"
      ],
      "execution_count": 7,
      "outputs": [
        {
          "output_type": "execute_result",
          "data": {
            "text/plain": [
              "(1073, 4)"
            ]
          },
          "metadata": {},
          "execution_count": 7
        }
      ]
    },
    {
      "cell_type": "code",
      "metadata": {
        "trusted": true,
        "id": "r4vXRYZxfOQH"
      },
      "source": [
        "data['polarity'] = data['comments'].apply(lambda x: TextBlob(x).sentiment.polarity)"
      ],
      "execution_count": 8,
      "outputs": []
    },
    {
      "cell_type": "code",
      "metadata": {
        "trusted": true,
        "id": "F3VyASGDfOQL",
        "colab": {
          "base_uri": "https://localhost:8080/",
          "height": 204
        },
        "outputId": "33bbb963-047b-4562-804d-b948e1c14a9a"
      },
      "source": [
        "data.head()"
      ],
      "execution_count": 9,
      "outputs": [
        {
          "output_type": "execute_result",
          "data": {
            "text/html": [
              "<div>\n",
              "<style scoped>\n",
              "    .dataframe tbody tr th:only-of-type {\n",
              "        vertical-align: middle;\n",
              "    }\n",
              "\n",
              "    .dataframe tbody tr th {\n",
              "        vertical-align: top;\n",
              "    }\n",
              "\n",
              "    .dataframe thead th {\n",
              "        text-align: right;\n",
              "    }\n",
              "</style>\n",
              "<table border=\"1\" class=\"dataframe\">\n",
              "  <thead>\n",
              "    <tr style=\"text-align: right;\">\n",
              "      <th></th>\n",
              "      <th>Video ID</th>\n",
              "      <th>Comment ID</th>\n",
              "      <th>comments</th>\n",
              "      <th>Likes</th>\n",
              "      <th>polarity</th>\n",
              "    </tr>\n",
              "  </thead>\n",
              "  <tbody>\n",
              "    <tr>\n",
              "      <th>0</th>\n",
              "      <td>MwpMEbgC7DA</td>\n",
              "      <td>UgxyyOolFRhwZzdeH6B4AaABAg</td>\n",
              "      <td>Almost  2022  and  this  song  is  still  a  m...</td>\n",
              "      <td>2770</td>\n",
              "      <td>0.000000</td>\n",
              "    </tr>\n",
              "    <tr>\n",
              "      <th>1</th>\n",
              "      <td>MwpMEbgC7DA</td>\n",
              "      <td>UgyJIBcVyyE3WIIzpOt4AaABAg</td>\n",
              "      <td>It's  November  2021    let's  see  how  many ...</td>\n",
              "      <td>1969</td>\n",
              "      <td>0.500000</td>\n",
              "    </tr>\n",
              "    <tr>\n",
              "      <th>2</th>\n",
              "      <td>MwpMEbgC7DA</td>\n",
              "      <td>UgyPundPLD47qRbQXfZ4AaABAg</td>\n",
              "      <td>This  song  has  such  a  different  atmospher...</td>\n",
              "      <td>1195</td>\n",
              "      <td>0.045833</td>\n",
              "    </tr>\n",
              "    <tr>\n",
              "      <th>3</th>\n",
              "      <td>MwpMEbgC7DA</td>\n",
              "      <td>UgwyC5O-P3BBQ8lhFv54AaABAg</td>\n",
              "      <td>This  song  has  a  powerful  hit  in  it</td>\n",
              "      <td>24</td>\n",
              "      <td>0.300000</td>\n",
              "    </tr>\n",
              "    <tr>\n",
              "      <th>4</th>\n",
              "      <td>MwpMEbgC7DA</td>\n",
              "      <td>UgxAI_FkDVq-jWHWSdB4AaABAg</td>\n",
              "      <td>I  just  can  t  stop  listening  to  it</td>\n",
              "      <td>10</td>\n",
              "      <td>0.000000</td>\n",
              "    </tr>\n",
              "  </tbody>\n",
              "</table>\n",
              "</div>"
            ],
            "text/plain": [
              "      Video ID                  Comment ID  ... Likes  polarity\n",
              "0  MwpMEbgC7DA  UgxyyOolFRhwZzdeH6B4AaABAg  ...  2770  0.000000\n",
              "1  MwpMEbgC7DA  UgyJIBcVyyE3WIIzpOt4AaABAg  ...  1969  0.500000\n",
              "2  MwpMEbgC7DA  UgyPundPLD47qRbQXfZ4AaABAg  ...  1195  0.045833\n",
              "3  MwpMEbgC7DA  UgwyC5O-P3BBQ8lhFv54AaABAg  ...    24  0.300000\n",
              "4  MwpMEbgC7DA  UgxAI_FkDVq-jWHWSdB4AaABAg  ...    10  0.000000\n",
              "\n",
              "[5 rows x 5 columns]"
            ]
          },
          "metadata": {},
          "execution_count": 9
        }
      ]
    },
    {
      "cell_type": "markdown",
      "metadata": {
        "id": "aff7dlQffOQS"
      },
      "source": [
        "## Shuffle the dataset"
      ]
    },
    {
      "cell_type": "code",
      "metadata": {
        "trusted": true,
        "id": "fAvRRLZZfOQS"
      },
      "source": [
        "data = data.sample(frac=1).reset_index(drop=True)"
      ],
      "execution_count": 10,
      "outputs": []
    },
    {
      "cell_type": "code",
      "metadata": {
        "trusted": true,
        "id": "b3l65gBXfOQV"
      },
      "source": [
        "data['pol_cat']  = 0"
      ],
      "execution_count": 11,
      "outputs": []
    },
    {
      "cell_type": "markdown",
      "metadata": {
        "id": "5eApxikxfOQX"
      },
      "source": [
        "Continuous to categorical"
      ]
    },
    {
      "cell_type": "code",
      "metadata": {
        "trusted": true,
        "id": "FjSukaWYfOQY",
        "outputId": "4005aa75-df89-44dd-8fb2-6393ce2262bc",
        "colab": {
          "base_uri": "https://localhost:8080/"
        }
      },
      "source": [
        "data['pol_cat'][data.polarity > 0] = 1\n",
        "data['pol_cat'][data.polarity <= 0] = 0"
      ],
      "execution_count": 12,
      "outputs": [
        {
          "output_type": "stream",
          "name": "stderr",
          "text": [
            "/usr/local/lib/python3.7/dist-packages/ipykernel_launcher.py:1: SettingWithCopyWarning: \n",
            "A value is trying to be set on a copy of a slice from a DataFrame\n",
            "\n",
            "See the caveats in the documentation: https://pandas.pydata.org/pandas-docs/stable/user_guide/indexing.html#returning-a-view-versus-a-copy\n",
            "  \"\"\"Entry point for launching an IPython kernel.\n",
            "/usr/local/lib/python3.7/dist-packages/ipykernel_launcher.py:2: SettingWithCopyWarning: \n",
            "A value is trying to be set on a copy of a slice from a DataFrame\n",
            "\n",
            "See the caveats in the documentation: https://pandas.pydata.org/pandas-docs/stable/user_guide/indexing.html#returning-a-view-versus-a-copy\n",
            "  \n"
          ]
        }
      ]
    },
    {
      "cell_type": "code",
      "metadata": {
        "trusted": true,
        "id": "UqA764VKfOQh",
        "colab": {
          "base_uri": "https://localhost:8080/",
          "height": 204
        },
        "outputId": "67f436a6-eeaf-49d2-e7ee-4554d9ad3db9"
      },
      "source": [
        "data.head()"
      ],
      "execution_count": 13,
      "outputs": [
        {
          "output_type": "execute_result",
          "data": {
            "text/html": [
              "<div>\n",
              "<style scoped>\n",
              "    .dataframe tbody tr th:only-of-type {\n",
              "        vertical-align: middle;\n",
              "    }\n",
              "\n",
              "    .dataframe tbody tr th {\n",
              "        vertical-align: top;\n",
              "    }\n",
              "\n",
              "    .dataframe thead th {\n",
              "        text-align: right;\n",
              "    }\n",
              "</style>\n",
              "<table border=\"1\" class=\"dataframe\">\n",
              "  <thead>\n",
              "    <tr style=\"text-align: right;\">\n",
              "      <th></th>\n",
              "      <th>Video ID</th>\n",
              "      <th>Comment ID</th>\n",
              "      <th>comments</th>\n",
              "      <th>Likes</th>\n",
              "      <th>polarity</th>\n",
              "      <th>pol_cat</th>\n",
              "    </tr>\n",
              "  </thead>\n",
              "  <tbody>\n",
              "    <tr>\n",
              "      <th>0</th>\n",
              "      <td>MwpMEbgC7DA</td>\n",
              "      <td>Ugyms_knCg_pcQiVmiZ4AaABAg</td>\n",
              "      <td>this  song  hits  different  when  your  in  p...</td>\n",
              "      <td>282</td>\n",
              "      <td>-0.250000</td>\n",
              "      <td>0</td>\n",
              "    </tr>\n",
              "    <tr>\n",
              "      <th>1</th>\n",
              "      <td>MwpMEbgC7DA</td>\n",
              "      <td>Ugy00QFAbMDtiO7NipR4AaABAg</td>\n",
              "      <td>I  adore  talking  at  the  comments</td>\n",
              "      <td>0</td>\n",
              "      <td>0.000000</td>\n",
              "      <td>0</td>\n",
              "    </tr>\n",
              "    <tr>\n",
              "      <th>2</th>\n",
              "      <td>MwpMEbgC7DA</td>\n",
              "      <td>UgwkrC3LeADrsL8mRwJ4AaABAg</td>\n",
              "      <td>have  been  used  up  on  another  love  all  ...</td>\n",
              "      <td>0</td>\n",
              "      <td>0.500000</td>\n",
              "      <td>1</td>\n",
              "    </tr>\n",
              "    <tr>\n",
              "      <th>3</th>\n",
              "      <td>MwpMEbgC7DA</td>\n",
              "      <td>UgzZTgnJZ1gAty8psOt4AaABAg</td>\n",
              "      <td>Dear  Ana      If  you're  reading  this    th...</td>\n",
              "      <td>406</td>\n",
              "      <td>0.309804</td>\n",
              "      <td>1</td>\n",
              "    </tr>\n",
              "    <tr>\n",
              "      <th>4</th>\n",
              "      <td>MwpMEbgC7DA</td>\n",
              "      <td>UgzQfygJGxJRiYCLeD14AaABAg</td>\n",
              "      <td>Well  Men      Everyone  who  is  with  broken...</td>\n",
              "      <td>1</td>\n",
              "      <td>0.170000</td>\n",
              "      <td>1</td>\n",
              "    </tr>\n",
              "  </tbody>\n",
              "</table>\n",
              "</div>"
            ],
            "text/plain": [
              "      Video ID                  Comment ID  ...  polarity  pol_cat\n",
              "0  MwpMEbgC7DA  Ugyms_knCg_pcQiVmiZ4AaABAg  ... -0.250000        0\n",
              "1  MwpMEbgC7DA  Ugy00QFAbMDtiO7NipR4AaABAg  ...  0.000000        0\n",
              "2  MwpMEbgC7DA  UgwkrC3LeADrsL8mRwJ4AaABAg  ...  0.500000        1\n",
              "3  MwpMEbgC7DA  UgzZTgnJZ1gAty8psOt4AaABAg  ...  0.309804        1\n",
              "4  MwpMEbgC7DA  UgzQfygJGxJRiYCLeD14AaABAg  ...  0.170000        1\n",
              "\n",
              "[5 rows x 6 columns]"
            ]
          },
          "metadata": {},
          "execution_count": 13
        }
      ]
    },
    {
      "cell_type": "code",
      "metadata": {
        "trusted": true,
        "id": "HjyjS1yqfOQx",
        "colab": {
          "base_uri": "https://localhost:8080/"
        },
        "outputId": "3168481e-e46c-4b37-bcbb-b1e5a36fba27"
      },
      "source": [
        "data['pol_cat'].value_counts()"
      ],
      "execution_count": 14,
      "outputs": [
        {
          "output_type": "execute_result",
          "data": {
            "text/plain": [
              "0    551\n",
              "1    522\n",
              "Name: pol_cat, dtype: int64"
            ]
          },
          "metadata": {},
          "execution_count": 14
        }
      ]
    },
    {
      "cell_type": "markdown",
      "metadata": {
        "id": "GUaFvHcLfOQ2"
      },
      "source": [
        "Create separate dataframes for Negative,Positive & Neutral comments "
      ]
    },
    {
      "cell_type": "code",
      "metadata": {
        "trusted": true,
        "id": "AFKmSBwcfOQ3"
      },
      "source": [
        "data_pos = data[data['pol_cat'] == 1]\n",
        "data_pos = data_pos.reset_index(drop = True)\n",
        "\n",
        "data_neg = data[data['pol_cat'] == 0]\n",
        "data_neg = data_neg.reset_index(drop = True)"
      ],
      "execution_count": 22,
      "outputs": []
    },
    {
      "cell_type": "code",
      "metadata": {
        "trusted": true,
        "id": "viYbRp2ifOQ-",
        "colab": {
          "base_uri": "https://localhost:8080/",
          "height": 204
        },
        "outputId": "50fd04ac-a65e-4abc-fa1e-88ed493cb10d"
      },
      "source": [
        "data_pos.head()"
      ],
      "execution_count": 23,
      "outputs": [
        {
          "output_type": "execute_result",
          "data": {
            "text/html": [
              "<div>\n",
              "<style scoped>\n",
              "    .dataframe tbody tr th:only-of-type {\n",
              "        vertical-align: middle;\n",
              "    }\n",
              "\n",
              "    .dataframe tbody tr th {\n",
              "        vertical-align: top;\n",
              "    }\n",
              "\n",
              "    .dataframe thead th {\n",
              "        text-align: right;\n",
              "    }\n",
              "</style>\n",
              "<table border=\"1\" class=\"dataframe\">\n",
              "  <thead>\n",
              "    <tr style=\"text-align: right;\">\n",
              "      <th></th>\n",
              "      <th>Video ID</th>\n",
              "      <th>Comment ID</th>\n",
              "      <th>comments</th>\n",
              "      <th>Likes</th>\n",
              "      <th>polarity</th>\n",
              "      <th>pol_cat</th>\n",
              "    </tr>\n",
              "  </thead>\n",
              "  <tbody>\n",
              "    <tr>\n",
              "      <th>0</th>\n",
              "      <td>MwpMEbgC7DA</td>\n",
              "      <td>UgwkrC3LeADrsL8mRwJ4AaABAg</td>\n",
              "      <td>have  been  used  up  on  another  love  all  ...</td>\n",
              "      <td>0</td>\n",
              "      <td>0.500000</td>\n",
              "      <td>1</td>\n",
              "    </tr>\n",
              "    <tr>\n",
              "      <th>1</th>\n",
              "      <td>MwpMEbgC7DA</td>\n",
              "      <td>UgzZTgnJZ1gAty8psOt4AaABAg</td>\n",
              "      <td>Dear  Ana      If  you're  reading  this    th...</td>\n",
              "      <td>406</td>\n",
              "      <td>0.309804</td>\n",
              "      <td>1</td>\n",
              "    </tr>\n",
              "    <tr>\n",
              "      <th>2</th>\n",
              "      <td>MwpMEbgC7DA</td>\n",
              "      <td>UgzQfygJGxJRiYCLeD14AaABAg</td>\n",
              "      <td>Well  Men      Everyone  who  is  with  broken...</td>\n",
              "      <td>1</td>\n",
              "      <td>0.170000</td>\n",
              "      <td>1</td>\n",
              "    </tr>\n",
              "    <tr>\n",
              "      <th>3</th>\n",
              "      <td>MwpMEbgC7DA</td>\n",
              "      <td>UgwCVnTo6WNOK9MRYXF4AaABAg</td>\n",
              "      <td>the  song    8  years  ago  the  comments    a...</td>\n",
              "      <td>958</td>\n",
              "      <td>0.325000</td>\n",
              "      <td>1</td>\n",
              "    </tr>\n",
              "    <tr>\n",
              "      <th>4</th>\n",
              "      <td>MwpMEbgC7DA</td>\n",
              "      <td>UgwT4zeuS3mNiCrrHOt4AaABAg</td>\n",
              "      <td>Classic</td>\n",
              "      <td>0</td>\n",
              "      <td>0.166667</td>\n",
              "      <td>1</td>\n",
              "    </tr>\n",
              "  </tbody>\n",
              "</table>\n",
              "</div>"
            ],
            "text/plain": [
              "      Video ID                  Comment ID  ...  polarity  pol_cat\n",
              "0  MwpMEbgC7DA  UgwkrC3LeADrsL8mRwJ4AaABAg  ...  0.500000        1\n",
              "1  MwpMEbgC7DA  UgzZTgnJZ1gAty8psOt4AaABAg  ...  0.309804        1\n",
              "2  MwpMEbgC7DA  UgzQfygJGxJRiYCLeD14AaABAg  ...  0.170000        1\n",
              "3  MwpMEbgC7DA  UgwCVnTo6WNOK9MRYXF4AaABAg  ...  0.325000        1\n",
              "4  MwpMEbgC7DA  UgwT4zeuS3mNiCrrHOt4AaABAg  ...  0.166667        1\n",
              "\n",
              "[5 rows x 6 columns]"
            ]
          },
          "metadata": {},
          "execution_count": 23
        }
      ]
    },
    {
      "cell_type": "code",
      "metadata": {
        "trusted": true,
        "id": "LMQlLiuhfORF",
        "colab": {
          "base_uri": "https://localhost:8080/"
        },
        "outputId": "120b5275-f3d1-4170-fe64-7c1d04c79267"
      },
      "source": [
        "data_pos.shape"
      ],
      "execution_count": 24,
      "outputs": [
        {
          "output_type": "execute_result",
          "data": {
            "text/plain": [
              "(522, 6)"
            ]
          },
          "metadata": {},
          "execution_count": 24
        }
      ]
    },
    {
      "cell_type": "code",
      "metadata": {
        "trusted": true,
        "id": "uEpv5BBDfORJ",
        "colab": {
          "base_uri": "https://localhost:8080/",
          "height": 204
        },
        "outputId": "decbca0f-766d-42ac-b856-1433fde0b6d5"
      },
      "source": [
        "data_neg.head()"
      ],
      "execution_count": 25,
      "outputs": [
        {
          "output_type": "execute_result",
          "data": {
            "text/html": [
              "<div>\n",
              "<style scoped>\n",
              "    .dataframe tbody tr th:only-of-type {\n",
              "        vertical-align: middle;\n",
              "    }\n",
              "\n",
              "    .dataframe tbody tr th {\n",
              "        vertical-align: top;\n",
              "    }\n",
              "\n",
              "    .dataframe thead th {\n",
              "        text-align: right;\n",
              "    }\n",
              "</style>\n",
              "<table border=\"1\" class=\"dataframe\">\n",
              "  <thead>\n",
              "    <tr style=\"text-align: right;\">\n",
              "      <th></th>\n",
              "      <th>Video ID</th>\n",
              "      <th>Comment ID</th>\n",
              "      <th>comments</th>\n",
              "      <th>Likes</th>\n",
              "      <th>polarity</th>\n",
              "      <th>pol_cat</th>\n",
              "    </tr>\n",
              "  </thead>\n",
              "  <tbody>\n",
              "    <tr>\n",
              "      <th>0</th>\n",
              "      <td>MwpMEbgC7DA</td>\n",
              "      <td>Ugyms_knCg_pcQiVmiZ4AaABAg</td>\n",
              "      <td>this  song  hits  different  when  your  in  p...</td>\n",
              "      <td>282</td>\n",
              "      <td>-0.25</td>\n",
              "      <td>0</td>\n",
              "    </tr>\n",
              "    <tr>\n",
              "      <th>1</th>\n",
              "      <td>MwpMEbgC7DA</td>\n",
              "      <td>Ugy00QFAbMDtiO7NipR4AaABAg</td>\n",
              "      <td>I  adore  talking  at  the  comments</td>\n",
              "      <td>0</td>\n",
              "      <td>0.00</td>\n",
              "      <td>0</td>\n",
              "    </tr>\n",
              "    <tr>\n",
              "      <th>2</th>\n",
              "      <td>MwpMEbgC7DA</td>\n",
              "      <td>UgxD7-qO8CURg2a6vyd4AaABAg</td>\n",
              "      <td>one  of  my  favourite  songs</td>\n",
              "      <td>0</td>\n",
              "      <td>0.00</td>\n",
              "      <td>0</td>\n",
              "    </tr>\n",
              "    <tr>\n",
              "      <th>3</th>\n",
              "      <td>MwpMEbgC7DA</td>\n",
              "      <td>UgwZSufEaNKTXkcVfnZ4AaABAg</td>\n",
              "      <td>8  years  ago    How  did  I  miss  this  song</td>\n",
              "      <td>17</td>\n",
              "      <td>0.00</td>\n",
              "      <td>0</td>\n",
              "    </tr>\n",
              "    <tr>\n",
              "      <th>4</th>\n",
              "      <td>MwpMEbgC7DA</td>\n",
              "      <td>UgxP-VIVJGoslJG3n8x4AaABAg</td>\n",
              "      <td>i'ts  me  or  he  looks  like  Ash  from  bana...</td>\n",
              "      <td>0</td>\n",
              "      <td>0.00</td>\n",
              "      <td>0</td>\n",
              "    </tr>\n",
              "  </tbody>\n",
              "</table>\n",
              "</div>"
            ],
            "text/plain": [
              "      Video ID                  Comment ID  ... polarity  pol_cat\n",
              "0  MwpMEbgC7DA  Ugyms_knCg_pcQiVmiZ4AaABAg  ...    -0.25        0\n",
              "1  MwpMEbgC7DA  Ugy00QFAbMDtiO7NipR4AaABAg  ...     0.00        0\n",
              "2  MwpMEbgC7DA  UgxD7-qO8CURg2a6vyd4AaABAg  ...     0.00        0\n",
              "3  MwpMEbgC7DA  UgwZSufEaNKTXkcVfnZ4AaABAg  ...     0.00        0\n",
              "4  MwpMEbgC7DA  UgxP-VIVJGoslJG3n8x4AaABAg  ...     0.00        0\n",
              "\n",
              "[5 rows x 6 columns]"
            ]
          },
          "metadata": {},
          "execution_count": 25
        }
      ]
    },
    {
      "cell_type": "code",
      "metadata": {
        "trusted": true,
        "id": "Zv_eLUh8fORS",
        "colab": {
          "base_uri": "https://localhost:8080/",
          "height": 35
        },
        "outputId": "9f6d936b-5a6e-4fb2-8295-aacd263ee611"
      },
      "source": [
        "data_neg['comments'][1]"
      ],
      "execution_count": 27,
      "outputs": [
        {
          "output_type": "execute_result",
          "data": {
            "application/vnd.google.colaboratory.intrinsic+json": {
              "type": "string"
            },
            "text/plain": [
              "'I  adore  talking  at  the  comments  '"
            ]
          },
          "metadata": {},
          "execution_count": 27
        }
      ]
    },
    {
      "cell_type": "code",
      "metadata": {
        "trusted": true,
        "id": "-Js16up1fORW",
        "colab": {
          "base_uri": "https://localhost:8080/",
          "height": 313
        },
        "outputId": "e1b5e926-8fbb-4a82-9a76-ef410c620afb"
      },
      "source": [
        "data.pol_cat.value_counts().plot.bar()\n",
        "data.pol_cat.value_counts()"
      ],
      "execution_count": 28,
      "outputs": [
        {
          "output_type": "execute_result",
          "data": {
            "text/plain": [
              "0    551\n",
              "1    522\n",
              "Name: pol_cat, dtype: int64"
            ]
          },
          "metadata": {},
          "execution_count": 28
        },
        {
          "output_type": "display_data",
          "data": {
            "image/png": "[encoded data removed]",
            "text/plain": [
              "<Figure size 432x288 with 1 Axes>"
            ]
          },
          "metadata": {
            "needs_background": "light"
          }
        }
      ]
    },
    {
      "cell_type": "markdown",
      "metadata": {
        "id": "uPIRm-0gfORj"
      },
      "source": [
        "## Data Preprocessing"
      ]
    },
    {
      "cell_type": "markdown",
      "metadata": {
        "id": "ADfF9AAZfORk"
      },
      "source": [
        "Lower the text in comments"
      ]
    },
    {
      "cell_type": "code",
      "metadata": {
        "trusted": true,
        "id": "zcUC0pIFfORl"
      },
      "source": [
        "data['comments'] = data['comments'].str.lower()"
      ],
      "execution_count": 29,
      "outputs": []
    },
    {
      "cell_type": "code",
      "metadata": {
        "trusted": true,
        "id": "X14Mvov6fORr",
        "colab": {
          "base_uri": "https://localhost:8080/"
        },
        "outputId": "bd0cbcef-86ab-4aa3-c954-ed0c4cbb8f62"
      },
      "source": [
        "data['comments'].head()"
      ],
      "execution_count": 30,
      "outputs": [
        {
          "output_type": "execute_result",
          "data": {
            "text/plain": [
              "0    this  song  hits  different  when  your  in  p...\n",
              "1               i  adore  talking  at  the  comments  \n",
              "2    have  been  used  up  on  another  love  all  ...\n",
              "3    dear  ana      if  you're  reading  this    th...\n",
              "4    well  men      everyone  who  is  with  broken...\n",
              "Name: comments, dtype: object"
            ]
          },
          "metadata": {},
          "execution_count": 30
        }
      ]
    },
    {
      "cell_type": "code",
      "metadata": {
        "trusted": true,
        "id": "5yFhcEwffORz",
        "colab": {
          "base_uri": "https://localhost:8080/",
          "height": 297
        },
        "outputId": "53557bfe-404d-4ced-cd8a-baba5e4fb988"
      },
      "source": [
        "data.describe()"
      ],
      "execution_count": 31,
      "outputs": [
        {
          "output_type": "execute_result",
          "data": {
            "text/html": [
              "<div>\n",
              "<style scoped>\n",
              "    .dataframe tbody tr th:only-of-type {\n",
              "        vertical-align: middle;\n",
              "    }\n",
              "\n",
              "    .dataframe tbody tr th {\n",
              "        vertical-align: top;\n",
              "    }\n",
              "\n",
              "    .dataframe thead th {\n",
              "        text-align: right;\n",
              "    }\n",
              "</style>\n",
              "<table border=\"1\" class=\"dataframe\">\n",
              "  <thead>\n",
              "    <tr style=\"text-align: right;\">\n",
              "      <th></th>\n",
              "      <th>Likes</th>\n",
              "      <th>polarity</th>\n",
              "      <th>pol_cat</th>\n",
              "    </tr>\n",
              "  </thead>\n",
              "  <tbody>\n",
              "    <tr>\n",
              "      <th>count</th>\n",
              "      <td>1073.000000</td>\n",
              "      <td>1073.000000</td>\n",
              "      <td>1073.000000</td>\n",
              "    </tr>\n",
              "    <tr>\n",
              "      <th>mean</th>\n",
              "      <td>574.575955</td>\n",
              "      <td>0.159167</td>\n",
              "      <td>0.486486</td>\n",
              "    </tr>\n",
              "    <tr>\n",
              "      <th>std</th>\n",
              "      <td>2170.601964</td>\n",
              "      <td>0.318115</td>\n",
              "      <td>0.500050</td>\n",
              "    </tr>\n",
              "    <tr>\n",
              "      <th>min</th>\n",
              "      <td>0.000000</td>\n",
              "      <td>-1.000000</td>\n",
              "      <td>0.000000</td>\n",
              "    </tr>\n",
              "    <tr>\n",
              "      <th>25%</th>\n",
              "      <td>0.000000</td>\n",
              "      <td>0.000000</td>\n",
              "      <td>0.000000</td>\n",
              "    </tr>\n",
              "    <tr>\n",
              "      <th>50%</th>\n",
              "      <td>2.000000</td>\n",
              "      <td>0.000000</td>\n",
              "      <td>0.000000</td>\n",
              "    </tr>\n",
              "    <tr>\n",
              "      <th>75%</th>\n",
              "      <td>128.000000</td>\n",
              "      <td>0.361667</td>\n",
              "      <td>1.000000</td>\n",
              "    </tr>\n",
              "    <tr>\n",
              "      <th>max</th>\n",
              "      <td>27841.000000</td>\n",
              "      <td>1.000000</td>\n",
              "      <td>1.000000</td>\n",
              "    </tr>\n",
              "  </tbody>\n",
              "</table>\n",
              "</div>"
            ],
            "text/plain": [
              "              Likes     polarity      pol_cat\n",
              "count   1073.000000  1073.000000  1073.000000\n",
              "mean     574.575955     0.159167     0.486486\n",
              "std     2170.601964     0.318115     0.500050\n",
              "min        0.000000    -1.000000     0.000000\n",
              "25%        0.000000     0.000000     0.000000\n",
              "50%        2.000000     0.000000     0.000000\n",
              "75%      128.000000     0.361667     1.000000\n",
              "max    27841.000000     1.000000     1.000000"
            ]
          },
          "metadata": {},
          "execution_count": 31
        }
      ]
    },
    {
      "cell_type": "code",
      "metadata": {
        "trusted": true,
        "id": "km6dIMhWfOR5",
        "colab": {
          "base_uri": "https://localhost:8080/"
        },
        "outputId": "af3fc5b5-9784-424b-fe9b-39039f6cad78"
      },
      "source": [
        "data.info()"
      ],
      "execution_count": 32,
      "outputs": [
        {
          "output_type": "stream",
          "name": "stdout",
          "text": [
            "<class 'pandas.core.frame.DataFrame'>\n",
            "RangeIndex: 1073 entries, 0 to 1072\n",
            "Data columns (total 6 columns):\n",
            " #   Column      Non-Null Count  Dtype  \n",
            "---  ------      --------------  -----  \n",
            " 0   Video ID    1073 non-null   object \n",
            " 1   Comment ID  1073 non-null   object \n",
            " 2   comments    1073 non-null   object \n",
            " 3   Likes       1073 non-null   int64  \n",
            " 4   polarity    1073 non-null   float64\n",
            " 5   pol_cat     1073 non-null   int64  \n",
            "dtypes: float64(1), int64(2), object(3)\n",
            "memory usage: 50.4+ KB\n"
          ]
        }
      ]
    },
    {
      "cell_type": "code",
      "metadata": {
        "trusted": true,
        "id": "avjaCC79fOSE",
        "colab": {
          "base_uri": "https://localhost:8080/",
          "height": 35
        },
        "outputId": "927bcbaa-d35e-477c-908f-4542de3842b5"
      },
      "source": [
        "data['comments'][0]"
      ],
      "execution_count": 33,
      "outputs": [
        {
          "output_type": "execute_result",
          "data": {
            "application/vnd.google.colaboratory.intrinsic+json": {
              "type": "string"
            },
            "text/plain": [
              "'this  song  hits  different  when  your  in  pain  and  sad  '"
            ]
          },
          "metadata": {},
          "execution_count": 33
        }
      ]
    },
    {
      "cell_type": "code",
      "metadata": {
        "trusted": true,
        "id": "V4zfsTUifOSO",
        "colab": {
          "base_uri": "https://localhost:8080/",
          "height": 35
        },
        "outputId": "91532f6a-a527-49a4-9c34-b9ee1ad93e86"
      },
      "source": [
        "data['comments'][0].strip()"
      ],
      "execution_count": 34,
      "outputs": [
        {
          "output_type": "execute_result",
          "data": {
            "application/vnd.google.colaboratory.intrinsic+json": {
              "type": "string"
            },
            "text/plain": [
              "'this  song  hits  different  when  your  in  pain  and  sad'"
            ]
          },
          "metadata": {},
          "execution_count": 34
        }
      ]
    },
    {
      "cell_type": "code",
      "metadata": {
        "id": "pVxZ8KK_vbm4",
        "colab": {
          "base_uri": "https://localhost:8080/"
        },
        "outputId": "5a0971b9-9de4-433e-c5f3-890110fd3d1a"
      },
      "source": [
        "import nltk\n",
        "nltk.download(\"stopwords\")"
      ],
      "execution_count": 35,
      "outputs": [
        {
          "output_type": "stream",
          "name": "stdout",
          "text": [
            "[nltk_data] Downloading package stopwords to /root/nltk_data...\n",
            "[nltk_data]   Unzipping corpora/stopwords.zip.\n"
          ]
        },
        {
          "output_type": "execute_result",
          "data": {
            "text/plain": [
              "True"
            ]
          },
          "metadata": {},
          "execution_count": 35
        }
      ]
    },
    {
      "cell_type": "code",
      "metadata": {
        "id": "ugZWXdNOyBKq",
        "colab": {
          "base_uri": "https://localhost:8080/"
        },
        "outputId": "cf7216f4-8e11-41d4-9b05-e17821ef268a"
      },
      "source": [
        "nltk.download(\"punkt\")"
      ],
      "execution_count": 36,
      "outputs": [
        {
          "output_type": "stream",
          "name": "stdout",
          "text": [
            "[nltk_data] Downloading package punkt to /root/nltk_data...\n",
            "[nltk_data]   Unzipping tokenizers/punkt.zip.\n"
          ]
        },
        {
          "output_type": "execute_result",
          "data": {
            "text/plain": [
              "True"
            ]
          },
          "metadata": {},
          "execution_count": 36
        }
      ]
    },
    {
      "cell_type": "code",
      "metadata": {
        "trusted": true,
        "id": "fC4ig8cyfOSa"
      },
      "source": [
        "from nltk.corpus import stopwords\n",
        "from nltk import word_tokenize\n",
        "import string\n",
        "import re\n",
        "import nltk"
      ],
      "execution_count": 37,
      "outputs": []
    },
    {
      "cell_type": "code",
      "metadata": {
        "id": "FdcsbqXTvYLB",
        "colab": {
          "base_uri": "https://localhost:8080/"
        },
        "outputId": "670233b4-ae5e-4517-a9ac-28e899a1a57d"
      },
      "source": [
        "print(stopwords.words('english'))"
      ],
      "execution_count": 38,
      "outputs": [
        {
          "output_type": "stream",
          "name": "stdout",
          "text": [
            "['i', 'me', 'my', 'myself', 'we', 'our', 'ours', 'ourselves', 'you', \"you're\", \"you've\", \"you'll\", \"you'd\", 'your', 'yours', 'yourself', 'yourselves', 'he', 'him', 'his', 'himself', 'she', \"she's\", 'her', 'hers', 'herself', 'it', \"it's\", 'its', 'itself', 'they', 'them', 'their', 'theirs', 'themselves', 'what', 'which', 'who', 'whom', 'this', 'that', \"that'll\", 'these', 'those', 'am', 'is', 'are', 'was', 'were', 'be', 'been', 'being', 'have', 'has', 'had', 'having', 'do', 'does', 'did', 'doing', 'a', 'an', 'the', 'and', 'but', 'if', 'or', 'because', 'as', 'until', 'while', 'of', 'at', 'by', 'for', 'with', 'about', 'against', 'between', 'into', 'through', 'during', 'before', 'after', 'above', 'below', 'to', 'from', 'up', 'down', 'in', 'out', 'on', 'off', 'over', 'under', 'again', 'further', 'then', 'once', 'here', 'there', 'when', 'where', 'why', 'how', 'all', 'any', 'both', 'each', 'few', 'more', 'most', 'other', 'some', 'such', 'no', 'nor', 'not', 'only', 'own', 'same', 'so', 'than', 'too', 'very', 's', 't', 'can', 'will', 'just', 'don', \"don't\", 'should', \"should've\", 'now', 'd', 'll', 'm', 'o', 're', 've', 'y', 'ain', 'aren', \"aren't\", 'couldn', \"couldn't\", 'didn', \"didn't\", 'doesn', \"doesn't\", 'hadn', \"hadn't\", 'hasn', \"hasn't\", 'haven', \"haven't\", 'isn', \"isn't\", 'ma', 'mightn', \"mightn't\", 'mustn', \"mustn't\", 'needn', \"needn't\", 'shan', \"shan't\", 'shouldn', \"shouldn't\", 'wasn', \"wasn't\", 'weren', \"weren't\", 'won', \"won't\", 'wouldn', \"wouldn't\"]\n"
          ]
        }
      ]
    },
    {
      "cell_type": "code",
      "metadata": {
        "trusted": true,
        "id": "pYrDplBYfOSc"
      },
      "source": [
        "stop_words = set(stopwords.words('english'))"
      ],
      "execution_count": 40,
      "outputs": []
    },
    {
      "cell_type": "code",
      "metadata": {
        "trusted": true,
        "id": "k-kxFfPlfOSe"
      },
      "source": [
        "data['comments'] = data['comments'].str.strip()"
      ],
      "execution_count": 41,
      "outputs": []
    },
    {
      "cell_type": "code",
      "metadata": {
        "trusted": true,
        "id": "QOJwKjV5fOSh"
      },
      "source": [
        "train = data.copy()"
      ],
      "execution_count": 42,
      "outputs": []
    },
    {
      "cell_type": "code",
      "metadata": {
        "trusted": true,
        "id": "QFxxu3HLfOSn"
      },
      "source": [
        "train['comments'] = train['comments'].str.strip()"
      ],
      "execution_count": 43,
      "outputs": []
    },
    {
      "cell_type": "code",
      "metadata": {
        "trusted": true,
        "id": "MEYK2fHjfOSq",
        "colab": {
          "base_uri": "https://localhost:8080/",
          "height": 35
        },
        "outputId": "d8e1b44b-97fd-457d-ab43-ad022b09cad1"
      },
      "source": [
        "train['comments'][0]"
      ],
      "execution_count": 44,
      "outputs": [
        {
          "output_type": "execute_result",
          "data": {
            "application/vnd.google.colaboratory.intrinsic+json": {
              "type": "string"
            },
            "text/plain": [
              "'this  song  hits  different  when  your  in  pain  and  sad'"
            ]
          },
          "metadata": {},
          "execution_count": 44
        }
      ]
    },
    {
      "cell_type": "code",
      "metadata": {
        "trusted": true,
        "id": "7dutEBJ9fOSt"
      },
      "source": [
        "def remove_stopwords(line):\n",
        "    word_tokens = word_tokenize(line)\n",
        "    filtered_sentence = [w for w in word_tokens if not w in stop_words]\n",
        "    return \" \".join(filtered_sentence)"
      ],
      "execution_count": 45,
      "outputs": []
    },
    {
      "cell_type": "code",
      "metadata": {
        "trusted": true,
        "id": "N6_eOPkLfOSy"
      },
      "source": [
        "data['stop_comments'] = data['comments'].apply(lambda x : remove_stopwords(x))"
      ],
      "execution_count": 46,
      "outputs": []
    },
    {
      "cell_type": "code",
      "metadata": {
        "trusted": true,
        "id": "ecShTkF6fOS3",
        "colab": {
          "base_uri": "https://localhost:8080/",
          "height": 357
        },
        "outputId": "459d5694-8212-472b-d18d-9be5fb2ab7b6"
      },
      "source": [
        "data.head()"
      ],
      "execution_count": 47,
      "outputs": [
        {
          "output_type": "execute_result",
          "data": {
            "text/html": [
              "<div>\n",
              "<style scoped>\n",
              "    .dataframe tbody tr th:only-of-type {\n",
              "        vertical-align: middle;\n",
              "    }\n",
              "\n",
              "    .dataframe tbody tr th {\n",
              "        vertical-align: top;\n",
              "    }\n",
              "\n",
              "    .dataframe thead th {\n",
              "        text-align: right;\n",
              "    }\n",
              "</style>\n",
              "<table border=\"1\" class=\"dataframe\">\n",
              "  <thead>\n",
              "    <tr style=\"text-align: right;\">\n",
              "      <th></th>\n",
              "      <th>Video ID</th>\n",
              "      <th>Comment ID</th>\n",
              "      <th>comments</th>\n",
              "      <th>Likes</th>\n",
              "      <th>polarity</th>\n",
              "      <th>pol_cat</th>\n",
              "      <th>stop_comments</th>\n",
              "    </tr>\n",
              "  </thead>\n",
              "  <tbody>\n",
              "    <tr>\n",
              "      <th>0</th>\n",
              "      <td>MwpMEbgC7DA</td>\n",
              "      <td>Ugyms_knCg_pcQiVmiZ4AaABAg</td>\n",
              "      <td>this  song  hits  different  when  your  in  p...</td>\n",
              "      <td>282</td>\n",
              "      <td>-0.250000</td>\n",
              "      <td>0</td>\n",
              "      <td>song hits different pain sad</td>\n",
              "    </tr>\n",
              "    <tr>\n",
              "      <th>1</th>\n",
              "      <td>MwpMEbgC7DA</td>\n",
              "      <td>Ugy00QFAbMDtiO7NipR4AaABAg</td>\n",
              "      <td>i  adore  talking  at  the  comments</td>\n",
              "      <td>0</td>\n",
              "      <td>0.000000</td>\n",
              "      <td>0</td>\n",
              "      <td>adore talking comments</td>\n",
              "    </tr>\n",
              "    <tr>\n",
              "      <th>2</th>\n",
              "      <td>MwpMEbgC7DA</td>\n",
              "      <td>UgwkrC3LeADrsL8mRwJ4AaABAg</td>\n",
              "      <td>have  been  used  up  on  another  love  all  ...</td>\n",
              "      <td>0</td>\n",
              "      <td>0.500000</td>\n",
              "      <td>1</td>\n",
              "      <td>used another love tears want sing song 'd love</td>\n",
              "    </tr>\n",
              "    <tr>\n",
              "      <th>3</th>\n",
              "      <td>MwpMEbgC7DA</td>\n",
              "      <td>UgzZTgnJZ1gAty8psOt4AaABAg</td>\n",
              "      <td>dear  ana      if  you're  reading  this    th...</td>\n",
              "      <td>406</td>\n",
              "      <td>0.309804</td>\n",
              "      <td>1</td>\n",
              "      <td>dear ana 're reading would like apologize stro...</td>\n",
              "    </tr>\n",
              "    <tr>\n",
              "      <th>4</th>\n",
              "      <td>MwpMEbgC7DA</td>\n",
              "      <td>UgzQfygJGxJRiYCLeD14AaABAg</td>\n",
              "      <td>well  men      everyone  who  is  with  broken...</td>\n",
              "      <td>1</td>\n",
              "      <td>0.170000</td>\n",
              "      <td>1</td>\n",
              "      <td>well men everyone broken heart welcome club sl...</td>\n",
              "    </tr>\n",
              "  </tbody>\n",
              "</table>\n",
              "</div>"
            ],
            "text/plain": [
              "      Video ID  ...                                      stop_comments\n",
              "0  MwpMEbgC7DA  ...                       song hits different pain sad\n",
              "1  MwpMEbgC7DA  ...                             adore talking comments\n",
              "2  MwpMEbgC7DA  ...     used another love tears want sing song 'd love\n",
              "3  MwpMEbgC7DA  ...  dear ana 're reading would like apologize stro...\n",
              "4  MwpMEbgC7DA  ...  well men everyone broken heart welcome club sl...\n",
              "\n",
              "[5 rows x 7 columns]"
            ]
          },
          "metadata": {},
          "execution_count": 47
        }
      ]
    },
    {
      "cell_type": "code",
      "metadata": {
        "id": "huA-d5gjiIpc"
      },
      "source": [
        "data.to_csv('Dataset-with-sentiments.csv')"
      ],
      "execution_count": 48,
      "outputs": []
    },
    {
      "cell_type": "code",
      "metadata": {
        "id": "NIR0sRJ6RBQZ"
      },
      "source": [
        ""
      ],
      "execution_count": null,
      "outputs": []
    }
  ]
}