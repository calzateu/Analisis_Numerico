{
  "nbformat": 4,
  "nbformat_minor": 0,
  "metadata": {
    "colab": {
      "name": "Logistic_regression.ipynb",
      "provenance": [],
      "authorship_tag": "ABX9TyP3vaGQTPxrSBOaEWw98fPZ",
      "include_colab_link": true
    },
    "kernelspec": {
      "name": "python3",
      "display_name": "Python 3"
    },
    "language_info": {
      "name": "python"
    }
  },
  "cells": [
    {
      "cell_type": "markdown",
      "metadata": {
        "id": "view-in-github",
        "colab_type": "text"
      },
      "source": [
        "<a href=\"https://colab.research.google.com/github/calzateu/Numerical_Analysis/blob/main/code/Sentiment_analysis/Logistic_regression_new_videos.ipynb\" target=\"_parent\"><img src=\"https://colab.research.google.com/assets/colab-badge.svg\" alt=\"Open In Colab\"/></a>"
      ]
    },
    {
      "cell_type": "code",
      "metadata": {
        "id": "F5kX_ALzHloj"
      },
      "source": [
        "import pandas as pd"
      ],
      "execution_count": 133,
      "outputs": []
    },
    {
      "cell_type": "code",
      "metadata": {
        "id": "ZrmJ6UamsZOt"
      },
      "source": [
        ""
      ],
      "execution_count": 133,
      "outputs": []
    },
    {
      "cell_type": "code",
      "metadata": {
        "id": "3PrkksPeNXZX"
      },
      "source": [
        "data = pd.read_csv('Dataset-with-sentiments.csv')"
      ],
      "execution_count": 134,
      "outputs": []
    },
    {
      "cell_type": "code",
      "metadata": {
        "colab": {
          "base_uri": "https://localhost:8080/"
        },
        "id": "3YYdeLgDNZR4",
        "outputId": "cd80f777-c4f3-4e4b-ccb7-d1ad2fa1c912"
      },
      "source": [
        "sum(data['stop_comments'].isnull())"
      ],
      "execution_count": 135,
      "outputs": [
        {
          "output_type": "execute_result",
          "data": {
            "text/plain": [
              "0"
            ]
          },
          "metadata": {},
          "execution_count": 135
        }
      ]
    },
    {
      "cell_type": "code",
      "metadata": {
        "id": "mleKOWayNdkx"
      },
      "source": [
        "data = data[data['stop_comments'].notnull()]"
      ],
      "execution_count": 136,
      "outputs": []
    },
    {
      "cell_type": "code",
      "metadata": {
        "colab": {
          "base_uri": "https://localhost:8080/"
        },
        "id": "SIba_zl2NgNB",
        "outputId": "6700f52e-cd5f-4daa-f43d-e3c308778818"
      },
      "source": [
        "sum(data['stop_comments'].isnull())"
      ],
      "execution_count": 137,
      "outputs": [
        {
          "output_type": "execute_result",
          "data": {
            "text/plain": [
              "0"
            ]
          },
          "metadata": {},
          "execution_count": 137
        }
      ]
    },
    {
      "cell_type": "code",
      "metadata": {
        "id": "ylkTdNWqNhxU"
      },
      "source": [
        "from sklearn.model_selection import train_test_split"
      ],
      "execution_count": 138,
      "outputs": []
    },
    {
      "cell_type": "code",
      "metadata": {
        "id": "CGImf2LJNjcV"
      },
      "source": [
        "X_train,X_test,y_train,y_test = train_test_split(data['stop_comments'],data['pol_cat'],test_size = 0.2,random_state = 324)"
      ],
      "execution_count": 139,
      "outputs": []
    },
    {
      "cell_type": "code",
      "metadata": {
        "colab": {
          "base_uri": "https://localhost:8080/"
        },
        "id": "CMPCz52ANk6z",
        "outputId": "5a7e29d3-4d83-4c8b-85f2-e4c5b973968c"
      },
      "source": [
        "X_train.shape"
      ],
      "execution_count": 140,
      "outputs": [
        {
          "output_type": "execute_result",
          "data": {
            "text/plain": [
              "(1180,)"
            ]
          },
          "metadata": {},
          "execution_count": 140
        }
      ]
    },
    {
      "cell_type": "code",
      "metadata": {
        "colab": {
          "base_uri": "https://localhost:8080/"
        },
        "id": "XkXV9IW6Nmrd",
        "outputId": "aff71ab2-f36c-420a-da41-884299829b87"
      },
      "source": [
        "X_test.shape"
      ],
      "execution_count": 141,
      "outputs": [
        {
          "output_type": "execute_result",
          "data": {
            "text/plain": [
              "(296,)"
            ]
          },
          "metadata": {},
          "execution_count": 141
        }
      ]
    },
    {
      "cell_type": "code",
      "metadata": {
        "colab": {
          "base_uri": "https://localhost:8080/"
        },
        "id": "AIAcoHwYNod6",
        "outputId": "85e67a92-2710-4c56-d205-5be0e10793ce"
      },
      "source": [
        "data['pol_cat'].value_counts()"
      ],
      "execution_count": 142,
      "outputs": [
        {
          "output_type": "execute_result",
          "data": {
            "text/plain": [
              "1    738\n",
              "0    738\n",
              "Name: pol_cat, dtype: int64"
            ]
          },
          "metadata": {},
          "execution_count": 142
        }
      ]
    },
    {
      "cell_type": "markdown",
      "metadata": {
        "id": "DXsyy6SaNvDU"
      },
      "source": [
        "## **Gonna Apply Logistic Regression**"
      ]
    },
    {
      "cell_type": "code",
      "metadata": {
        "id": "yYebhI4-NqJI"
      },
      "source": [
        "from sklearn.feature_extraction.text import CountVectorizer"
      ],
      "execution_count": 143,
      "outputs": []
    },
    {
      "cell_type": "code",
      "metadata": {
        "id": "_RSmaajYOzuF"
      },
      "source": [
        "#from sklearn.feature_extraction.text import CountVectorizer, TfidfVectorizer \n",
        "#vect = CountVectorizer()\n",
        "#tf_train = vect.fit_transform(X_train)\n",
        "#tf_test = vect.transform(X_test)"
      ],
      "execution_count": 144,
      "outputs": []
    },
    {
      "cell_type": "code",
      "metadata": {
        "id": "e4SOFX4Liaup"
      },
      "source": [
        "from sklearn.feature_extraction.text import CountVectorizer, TfidfVectorizer \n",
        "vect = TfidfVectorizer()\n",
        "tf_train = vect.fit_transform(X_train)\n",
        "tf_test = vect.transform(X_test)"
      ],
      "execution_count": 145,
      "outputs": []
    },
    {
      "cell_type": "code",
      "metadata": {
        "colab": {
          "base_uri": "https://localhost:8080/"
        },
        "id": "tipNaNdHPB9e",
        "outputId": "e743c01e-3378-48c6-b107-9ce53613b7e9"
      },
      "source": [
        "tf_train"
      ],
      "execution_count": 146,
      "outputs": [
        {
          "output_type": "execute_result",
          "data": {
            "text/plain": [
              "<1180x1857 sparse matrix of type '<class 'numpy.float64'>'\n",
              "\twith 8078 stored elements in Compressed Sparse Row format>"
            ]
          },
          "metadata": {},
          "execution_count": 146
        }
      ]
    },
    {
      "cell_type": "code",
      "metadata": {
        "colab": {
          "base_uri": "https://localhost:8080/"
        },
        "id": "cajxhm3ag00d",
        "outputId": "d8a6e957-f8b5-48f1-e4ad-4a0c710a134e"
      },
      "source": [
        "tf_train.toarray()[0].sum()"
      ],
      "execution_count": 147,
      "outputs": [
        {
          "output_type": "execute_result",
          "data": {
            "text/plain": [
              "1.953970114145758"
            ]
          },
          "metadata": {},
          "execution_count": 147
        }
      ]
    },
    {
      "cell_type": "code",
      "metadata": {
        "id": "-mSx2n5Jhurf"
      },
      "source": [
        "#vect?"
      ],
      "execution_count": 148,
      "outputs": []
    },
    {
      "cell_type": "code",
      "metadata": {
        "id": "gh-XyUDIi15P"
      },
      "source": [
        "#vect.get_feature_names()"
      ],
      "execution_count": 149,
      "outputs": []
    },
    {
      "cell_type": "code",
      "metadata": {
        "id": "oRvy-A6Ihp4e"
      },
      "source": [
        "#X_train[0]"
      ],
      "execution_count": 150,
      "outputs": []
    },
    {
      "cell_type": "code",
      "metadata": {
        "id": "yZWr8N3ChVeb"
      },
      "source": [
        "#for i in tf_train.toarray()[0]:\n",
        "#  if (i != 0):\n",
        "#    print(i)"
      ],
      "execution_count": 151,
      "outputs": []
    },
    {
      "cell_type": "code",
      "metadata": {
        "colab": {
          "base_uri": "https://localhost:8080/"
        },
        "id": "BeCfNr6tPIyE",
        "outputId": "661410c9-7b4c-4f6c-dcb9-a515109fa1a3"
      },
      "source": [
        "tf_train.shape"
      ],
      "execution_count": 152,
      "outputs": [
        {
          "output_type": "execute_result",
          "data": {
            "text/plain": [
              "(1180, 1857)"
            ]
          },
          "metadata": {},
          "execution_count": 152
        }
      ]
    },
    {
      "cell_type": "markdown",
      "metadata": {
        "id": "F7Pugi10PV5n"
      },
      "source": [
        "**Print the Vocabulary**"
      ]
    },
    {
      "cell_type": "code",
      "metadata": {
        "id": "IfF_OxHFPLs9"
      },
      "source": [
        "#print(vect.vocabulary_)"
      ],
      "execution_count": 153,
      "outputs": []
    },
    {
      "cell_type": "code",
      "metadata": {
        "id": "4W8CYAucPaUO"
      },
      "source": [
        "#vocab = vect.vocabulary_"
      ],
      "execution_count": 154,
      "outputs": []
    },
    {
      "cell_type": "code",
      "metadata": {
        "colab": {
          "base_uri": "https://localhost:8080/"
        },
        "id": "y3D1zMx5PfuB",
        "outputId": "303e5309-f2eb-43a0-bb4d-5ec2eca342dd"
      },
      "source": [
        "from sklearn.linear_model import LogisticRegression\n",
        "lr = LogisticRegression()\n",
        "lr.fit(tf_train,y_train)"
      ],
      "execution_count": 155,
      "outputs": [
        {
          "output_type": "execute_result",
          "data": {
            "text/plain": [
              "LogisticRegression()"
            ]
          },
          "metadata": {},
          "execution_count": 155
        }
      ]
    },
    {
      "cell_type": "markdown",
      "metadata": {
        "id": "asEO9XOIPkrN"
      },
      "source": [
        "**Accuracy score on training dataset**"
      ]
    },
    {
      "cell_type": "code",
      "metadata": {
        "colab": {
          "base_uri": "https://localhost:8080/"
        },
        "id": "EzKEEqrwPhW2",
        "outputId": "b0f8bc5f-ee7b-478e-8dad-6b476199d557"
      },
      "source": [
        "lr.score(tf_train,y_train)"
      ],
      "execution_count": 156,
      "outputs": [
        {
          "output_type": "execute_result",
          "data": {
            "text/plain": [
              "0.9211864406779661"
            ]
          },
          "metadata": {},
          "execution_count": 156
        }
      ]
    },
    {
      "cell_type": "markdown",
      "metadata": {
        "id": "X8j22NanPq3e"
      },
      "source": [
        "**Accuracy score on test dataset i.e got from the splitting**"
      ]
    },
    {
      "cell_type": "code",
      "metadata": {
        "colab": {
          "base_uri": "https://localhost:8080/"
        },
        "id": "t5FFTb6CPo-j",
        "outputId": "7e095abc-ab48-4f65-a93e-0e7fa955b542"
      },
      "source": [
        "lr.score(tf_test,y_test)"
      ],
      "execution_count": 157,
      "outputs": [
        {
          "output_type": "execute_result",
          "data": {
            "text/plain": [
              "0.8445945945945946"
            ]
          },
          "metadata": {},
          "execution_count": 157
        }
      ]
    },
    {
      "cell_type": "markdown",
      "metadata": {
        "id": "g4Nee4c3PwjF"
      },
      "source": [
        "**Make predictions on the test dataset i.e. unseen data to the model**"
      ]
    },
    {
      "cell_type": "code",
      "metadata": {
        "id": "lixrvN6hPt3u"
      },
      "source": [
        "expected = y_test\n",
        "predicted = lr.predict(tf_test)"
      ],
      "execution_count": 158,
      "outputs": []
    },
    {
      "cell_type": "markdown",
      "metadata": {
        "id": "GKQQfZNdP1J1"
      },
      "source": [
        "**plot confusion matrix for the test dataset**"
      ]
    },
    {
      "cell_type": "code",
      "metadata": {
        "id": "1Jk-FHkgPzOK"
      },
      "source": [
        "from mlxtend.plotting import plot_confusion_matrix\n",
        "import matplotlib.pyplot as plt\n",
        "import numpy as np\n",
        "\n",
        "from sklearn import metrics"
      ],
      "execution_count": 159,
      "outputs": []
    },
    {
      "cell_type": "code",
      "metadata": {
        "colab": {
          "base_uri": "https://localhost:8080/"
        },
        "id": "Y2wCHWyMP4Mk",
        "outputId": "4d8ff14a-b730-4142-ce4d-6a76b173eea5"
      },
      "source": [
        "pip install mlxtend"
      ],
      "execution_count": 160,
      "outputs": [
        {
          "output_type": "stream",
          "name": "stdout",
          "text": [
            "Requirement already satisfied: mlxtend in /usr/local/lib/python3.7/dist-packages (0.14.0)\n",
            "Requirement already satisfied: scikit-learn>=0.18 in /usr/local/lib/python3.7/dist-packages (from mlxtend) (1.0.1)\n",
            "Requirement already satisfied: numpy>=1.10.4 in /usr/local/lib/python3.7/dist-packages (from mlxtend) (1.19.5)\n",
            "Requirement already satisfied: setuptools in /usr/local/lib/python3.7/dist-packages (from mlxtend) (57.4.0)\n",
            "Requirement already satisfied: pandas>=0.17.1 in /usr/local/lib/python3.7/dist-packages (from mlxtend) (1.1.5)\n",
            "Requirement already satisfied: matplotlib>=1.5.1 in /usr/local/lib/python3.7/dist-packages (from mlxtend) (3.2.2)\n",
            "Requirement already satisfied: scipy>=0.17 in /usr/local/lib/python3.7/dist-packages (from mlxtend) (1.4.1)\n",
            "Requirement already satisfied: kiwisolver>=1.0.1 in /usr/local/lib/python3.7/dist-packages (from matplotlib>=1.5.1->mlxtend) (1.3.2)\n",
            "Requirement already satisfied: cycler>=0.10 in /usr/local/lib/python3.7/dist-packages (from matplotlib>=1.5.1->mlxtend) (0.11.0)\n",
            "Requirement already satisfied: pyparsing!=2.0.4,!=2.1.2,!=2.1.6,>=2.0.1 in /usr/local/lib/python3.7/dist-packages (from matplotlib>=1.5.1->mlxtend) (3.0.6)\n",
            "Requirement already satisfied: python-dateutil>=2.1 in /usr/local/lib/python3.7/dist-packages (from matplotlib>=1.5.1->mlxtend) (2.8.2)\n",
            "Requirement already satisfied: pytz>=2017.2 in /usr/local/lib/python3.7/dist-packages (from pandas>=0.17.1->mlxtend) (2018.9)\n",
            "Requirement already satisfied: six>=1.5 in /usr/local/lib/python3.7/dist-packages (from python-dateutil>=2.1->matplotlib>=1.5.1->mlxtend) (1.15.0)\n",
            "Requirement already satisfied: joblib>=0.11 in /usr/local/lib/python3.7/dist-packages (from scikit-learn>=0.18->mlxtend) (1.1.0)\n",
            "Requirement already satisfied: threadpoolctl>=2.0.0 in /usr/local/lib/python3.7/dist-packages (from scikit-learn>=0.18->mlxtend) (3.0.0)\n"
          ]
        }
      ]
    },
    {
      "cell_type": "code",
      "metadata": {
        "colab": {
          "base_uri": "https://localhost:8080/",
          "height": 367
        },
        "id": "tsjb9fGxP6TR",
        "outputId": "9c79b534-c04f-46a0-9a13-e6ffe255c4c3"
      },
      "source": [
        "cf = metrics.confusion_matrix(expected,predicted,labels = [1,-1])\n",
        "print(cf)\n",
        "## this command is only for google collab \n",
        "## in the below figure \" 1 is actually showing -1 and 0 is actually showing 1\"\n",
        "fig, ax = plot_confusion_matrix(conf_mat = cf)\n",
        "                                \n",
        "## It canbe used in any platform\n",
        "# fig, ax = plot_confusion_matrix(conf_mat = cf, class_names = [1,-1])\n",
        "plt.show()"
      ],
      "execution_count": 161,
      "outputs": [
        {
          "output_type": "stream",
          "name": "stdout",
          "text": [
            "[[117   0]\n",
            " [  0   0]]\n"
          ]
        },
        {
          "output_type": "stream",
          "name": "stderr",
          "text": [
            "/usr/local/lib/python3.7/dist-packages/mlxtend/plotting/plot_confusion_matrix.py:59: RuntimeWarning: invalid value encountered in true_divide\n",
            "  normed_conf_mat = conf_mat.astype('float') / total_samples\n"
          ]
        },
        {
          "output_type": "display_data",
          "data": {
            "image/png": "[encoded data removed]",
            "text/plain": [
              "<Figure size 432x288 with 1 Axes>"
            ]
          },
          "metadata": {
            "needs_background": "light"
          }
        }
      ]
    },
    {
      "cell_type": "code",
      "metadata": {
        "colab": {
          "base_uri": "https://localhost:8080/"
        },
        "id": "mvyyqJu5QEg3",
        "outputId": "07e3bf29-97f1-464f-c3ce-462110e21d5c"
      },
      "source": [
        "from sklearn import metrics\n",
        "print(metrics.classification_report(expected, predicted))\n",
        "# print(metrics.confusion_matrix(expected,predicted))"
      ],
      "execution_count": 162,
      "outputs": [
        {
          "output_type": "stream",
          "name": "stdout",
          "text": [
            "              precision    recall  f1-score   support\n",
            "\n",
            "           0       0.80      0.91      0.85       146\n",
            "           1       0.90      0.78      0.84       150\n",
            "\n",
            "    accuracy                           0.84       296\n",
            "   macro avg       0.85      0.85      0.84       296\n",
            "weighted avg       0.85      0.84      0.84       296\n",
            "\n"
          ]
        }
      ]
    },
    {
      "cell_type": "markdown",
      "metadata": {
        "id": "cHgUm1hkQU1B"
      },
      "source": [
        "**find the F1 score**"
      ]
    },
    {
      "cell_type": "code",
      "metadata": {
        "colab": {
          "base_uri": "https://localhost:8080/"
        },
        "id": "V_V3UiHrQQwq",
        "outputId": "28d28058-23f0-48a6-8598-b34550b46490"
      },
      "source": [
        "from sklearn.metrics import f1_score\n",
        "f1_score(expected, predicted, average='macro')"
      ],
      "execution_count": 163,
      "outputs": [
        {
          "output_type": "execute_result",
          "data": {
            "text/plain": [
              "0.8441391941391941"
            ]
          },
          "metadata": {},
          "execution_count": 163
        }
      ]
    },
    {
      "cell_type": "code",
      "metadata": {
        "id": "-qKrhrlNQYZz"
      },
      "source": [
        ""
      ],
      "execution_count": 163,
      "outputs": []
    },
    {
      "cell_type": "markdown",
      "metadata": {
        "id": "MkH-siBEW_CK"
      },
      "source": [
        "# **Test the model with the comments of the other video**"
      ]
    },
    {
      "cell_type": "code",
      "metadata": {
        "id": "49aYl4abW-Q_"
      },
      "source": [
        "data_test = pd.read_csv('Video_2/Dataset-with-sentiments.csv')"
      ],
      "execution_count": 164,
      "outputs": []
    },
    {
      "cell_type": "code",
      "metadata": {
        "colab": {
          "base_uri": "https://localhost:8080/"
        },
        "id": "7x-Lg57dW-TR",
        "outputId": "2a5fbb98-5960-4333-942e-b67ebbc303e3"
      },
      "source": [
        "sum(data_test['stop_comments'].isnull())"
      ],
      "execution_count": 165,
      "outputs": [
        {
          "output_type": "execute_result",
          "data": {
            "text/plain": [
              "2"
            ]
          },
          "metadata": {},
          "execution_count": 165
        }
      ]
    },
    {
      "cell_type": "code",
      "metadata": {
        "id": "2sZagICvW-V4"
      },
      "source": [
        "data_test = data_test[data_test['stop_comments'].notnull()]"
      ],
      "execution_count": 166,
      "outputs": []
    },
    {
      "cell_type": "code",
      "metadata": {
        "colab": {
          "base_uri": "https://localhost:8080/"
        },
        "id": "ZTVY0bXoXUiU",
        "outputId": "55fda28f-85b1-4a20-98dd-762f9133c174"
      },
      "source": [
        "sum(data_test['stop_comments'].isnull())"
      ],
      "execution_count": 167,
      "outputs": [
        {
          "output_type": "execute_result",
          "data": {
            "text/plain": [
              "0"
            ]
          },
          "metadata": {},
          "execution_count": 167
        }
      ]
    },
    {
      "cell_type": "code",
      "metadata": {
        "colab": {
          "base_uri": "https://localhost:8080/"
        },
        "id": "FyuQy3KlXauP",
        "outputId": "a991d363-0ac6-4b86-bde4-27f6a7eb4301"
      },
      "source": [
        "data_test['pol_cat'].value_counts()"
      ],
      "execution_count": 168,
      "outputs": [
        {
          "output_type": "execute_result",
          "data": {
            "text/plain": [
              "1    1217\n",
              "0    1035\n",
              "Name: pol_cat, dtype: int64"
            ]
          },
          "metadata": {},
          "execution_count": 168
        }
      ]
    },
    {
      "cell_type": "code",
      "metadata": {
        "id": "TJ__6hRSXUpa"
      },
      "source": [
        "tf_test = vect.transform(data_test['stop_comments'])"
      ],
      "execution_count": 169,
      "outputs": []
    },
    {
      "cell_type": "code",
      "metadata": {
        "colab": {
          "base_uri": "https://localhost:8080/"
        },
        "id": "V9mqYkrpXh6m",
        "outputId": "5823d0a9-b7e5-47a2-c280-1daf8ba2af98"
      },
      "source": [
        "tf_test"
      ],
      "execution_count": 170,
      "outputs": [
        {
          "output_type": "execute_result",
          "data": {
            "text/plain": [
              "<2252x1857 sparse matrix of type '<class 'numpy.float64'>'\n",
              "\twith 14783 stored elements in Compressed Sparse Row format>"
            ]
          },
          "metadata": {},
          "execution_count": 170
        }
      ]
    },
    {
      "cell_type": "code",
      "metadata": {
        "colab": {
          "base_uri": "https://localhost:8080/"
        },
        "id": "-GPQ1HUOXh81",
        "outputId": "9d35f926-53a9-457a-9a36-5d7d58560c46"
      },
      "source": [
        "tf_test.toarray()[0].sum()"
      ],
      "execution_count": 171,
      "outputs": [
        {
          "output_type": "execute_result",
          "data": {
            "text/plain": [
              "2.1699263152947146"
            ]
          },
          "metadata": {},
          "execution_count": 171
        }
      ]
    },
    {
      "cell_type": "code",
      "metadata": {
        "colab": {
          "base_uri": "https://localhost:8080/"
        },
        "id": "ChzcASkeZJoL",
        "outputId": "71fec60a-d042-45d1-dd2a-0e04505857af"
      },
      "source": [
        "tf_train.toarray().shape"
      ],
      "execution_count": 172,
      "outputs": [
        {
          "output_type": "execute_result",
          "data": {
            "text/plain": [
              "(1180, 1857)"
            ]
          },
          "metadata": {},
          "execution_count": 172
        }
      ]
    },
    {
      "cell_type": "code",
      "metadata": {
        "colab": {
          "base_uri": "https://localhost:8080/"
        },
        "id": "8-B07HAkZQ8G",
        "outputId": "9c93392b-0e52-4fce-c453-e315916dbe9e"
      },
      "source": [
        "tf_test.toarray().shape"
      ],
      "execution_count": 173,
      "outputs": [
        {
          "output_type": "execute_result",
          "data": {
            "text/plain": [
              "(2252, 1857)"
            ]
          },
          "metadata": {},
          "execution_count": 173
        }
      ]
    },
    {
      "cell_type": "code",
      "metadata": {
        "colab": {
          "base_uri": "https://localhost:8080/"
        },
        "id": "UchRzX24Y6qf",
        "outputId": "f29f635d-02d9-4676-c757-a76eb7924562"
      },
      "source": [
        "diferencia = tf_train.toarray().shape[1] - tf_test.toarray().shape[1]\n",
        "print(diferencia)\n",
        "if (diferencia != 0):\n",
        "  if (diferencia > 0):\n",
        "    tf_test = tf_test.toarray()\n",
        "\n",
        "    m = tf_test.shape[0]\n",
        "    tf_test = np.hstack([tf_test, np.zeros([m, diferencia])])\n",
        "\n",
        "  elif (diferencia < 0):\n",
        "    tf_test = tf_test.toarray()\n",
        "    n = tf_test.shape[1]\n",
        "    limite = n+diferencia\n",
        "    print(limite)\n",
        "    tf_test = tf_test[:,0:limite]\n",
        "\n",
        "tf_test.shape"
      ],
      "execution_count": 174,
      "outputs": [
        {
          "output_type": "stream",
          "name": "stdout",
          "text": [
            "0\n"
          ]
        },
        {
          "output_type": "execute_result",
          "data": {
            "text/plain": [
              "(2252, 1857)"
            ]
          },
          "metadata": {},
          "execution_count": 174
        }
      ]
    },
    {
      "cell_type": "code",
      "metadata": {
        "colab": {
          "base_uri": "https://localhost:8080/"
        },
        "id": "Kj2u3qRSXiBA",
        "outputId": "cc300e49-1750-476d-9393-2b9869c32e91"
      },
      "source": [
        "lr.score(tf_test, data_test['pol_cat'])"
      ],
      "execution_count": 175,
      "outputs": [
        {
          "output_type": "execute_result",
          "data": {
            "text/plain": [
              "0.7912966252220248"
            ]
          },
          "metadata": {},
          "execution_count": 175
        }
      ]
    },
    {
      "cell_type": "code",
      "metadata": {
        "id": "54vd9k-0bDCx"
      },
      "source": [
        ""
      ],
      "execution_count": 175,
      "outputs": []
    }
  ]
}