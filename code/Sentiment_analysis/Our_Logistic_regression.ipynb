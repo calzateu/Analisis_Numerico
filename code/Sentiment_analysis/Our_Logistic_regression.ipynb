{
  "nbformat": 4,
  "nbformat_minor": 0,
  "metadata": {
    "colab": {
      "name": "Our_Logistic_regression.ipynb",
      "provenance": [],
      "collapsed_sections": [],
      "authorship_tag": "ABX9TyNJ9SPn7QxuVJe1LKs5GmzE",
      "include_colab_link": true
    },
    "kernelspec": {
      "name": "python3",
      "display_name": "Python 3"
    },
    "language_info": {
      "name": "python"
    }
  },
  "cells": [
    {
      "cell_type": "markdown",
      "metadata": {
        "id": "view-in-github",
        "colab_type": "text"
      },
      "source": [
        "<a href=\"https://colab.research.google.com/github/calzateu/Numerical_Analysis/blob/main/code/Sentiment_analysis/Our_Logistic_regression.ipynb\" target=\"_parent\"><img src=\"https://colab.research.google.com/assets/colab-badge.svg\" alt=\"Open In Colab\"/></a>"
      ]
    },
    {
      "cell_type": "code",
      "metadata": {
        "id": "J5gFZ-WNWB_E"
      },
      "source": [
        "import pandas as pd"
      ],
      "execution_count": 1,
      "outputs": []
    },
    {
      "cell_type": "code",
      "metadata": {
        "colab": {
          "base_uri": "https://localhost:8080/",
          "height": 255
        },
        "id": "sOc_oI2WKASW",
        "outputId": "977c6fd9-2192-46af-9905-7de68fb44817"
      },
      "source": [
        "data = pd.read_csv('Dataset-with-sentiments.csv')\n",
        "data.head(5)"
      ],
      "execution_count": 2,
      "outputs": [
        {
          "output_type": "execute_result",
          "data": {
            "text/html": [
              "<div>\n",
              "<style scoped>\n",
              "    .dataframe tbody tr th:only-of-type {\n",
              "        vertical-align: middle;\n",
              "    }\n",
              "\n",
              "    .dataframe tbody tr th {\n",
              "        vertical-align: top;\n",
              "    }\n",
              "\n",
              "    .dataframe thead th {\n",
              "        text-align: right;\n",
              "    }\n",
              "</style>\n",
              "<table border=\"1\" class=\"dataframe\">\n",
              "  <thead>\n",
              "    <tr style=\"text-align: right;\">\n",
              "      <th></th>\n",
              "      <th>Unnamed: 0</th>\n",
              "      <th>Video ID</th>\n",
              "      <th>Comment ID</th>\n",
              "      <th>comments</th>\n",
              "      <th>polarity</th>\n",
              "      <th>pol_cat</th>\n",
              "      <th>stop_comments</th>\n",
              "    </tr>\n",
              "  </thead>\n",
              "  <tbody>\n",
              "    <tr>\n",
              "      <th>0</th>\n",
              "      <td>0</td>\n",
              "      <td>MwpMEbgC7DA</td>\n",
              "      <td>UgxEo2shbVYOBPxhS2R4AaABAg</td>\n",
              "      <td>this  song  is  so  nostalgic    sad  but  goo...</td>\n",
              "      <td>-0.100000</td>\n",
              "      <td>-1</td>\n",
              "      <td>song nostalgic sad good nostalgia</td>\n",
              "    </tr>\n",
              "    <tr>\n",
              "      <th>1</th>\n",
              "      <td>1</td>\n",
              "      <td>MwpMEbgC7DA</td>\n",
              "      <td>UgwyVvB0_bUiN_JBaIt4AaABAg</td>\n",
              "      <td>this  is  my  favourite  music</td>\n",
              "      <td>0.000000</td>\n",
              "      <td>-1</td>\n",
              "      <td>favourite music</td>\n",
              "    </tr>\n",
              "    <tr>\n",
              "      <th>2</th>\n",
              "      <td>2</td>\n",
              "      <td>MwpMEbgC7DA</td>\n",
              "      <td>UgzyDTnlLvy1oE13SHB4AaABAg</td>\n",
              "      <td>the  perfect  song  for  claire  fraser</td>\n",
              "      <td>1.000000</td>\n",
              "      <td>1</td>\n",
              "      <td>perfect song claire fraser</td>\n",
              "    </tr>\n",
              "    <tr>\n",
              "      <th>3</th>\n",
              "      <td>3</td>\n",
              "      <td>MwpMEbgC7DA</td>\n",
              "      <td>UgzCD5ScVZF1QLfiRAB4AaABAg</td>\n",
              "      <td>who  s  sad  and  still  listening  in  june  ...</td>\n",
              "      <td>-0.450000</td>\n",
              "      <td>-1</td>\n",
              "      <td>sad still listening june 2021 never get tired ...</td>\n",
              "    </tr>\n",
              "    <tr>\n",
              "      <th>4</th>\n",
              "      <td>4</td>\n",
              "      <td>MwpMEbgC7DA</td>\n",
              "      <td>Ugx0ZotxLAxxHUPuBQ54AaABAg</td>\n",
              "      <td>i  would  cry  because  now  i  understand  th...</td>\n",
              "      <td>0.061905</td>\n",
              "      <td>1</td>\n",
              "      <td>would cry understand song tears used update wr...</td>\n",
              "    </tr>\n",
              "  </tbody>\n",
              "</table>\n",
              "</div>"
            ],
            "text/plain": [
              "   Unnamed: 0  ...                                      stop_comments\n",
              "0           0  ...                  song nostalgic sad good nostalgia\n",
              "1           1  ...                                    favourite music\n",
              "2           2  ...                         perfect song claire fraser\n",
              "3           3  ...  sad still listening june 2021 never get tired ...\n",
              "4           4  ...  would cry understand song tears used update wr...\n",
              "\n",
              "[5 rows x 7 columns]"
            ]
          },
          "metadata": {},
          "execution_count": 2
        }
      ]
    },
    {
      "cell_type": "code",
      "metadata": {
        "id": "NAVjRxpEXhzs"
      },
      "source": [
        ""
      ],
      "execution_count": 2,
      "outputs": []
    },
    {
      "cell_type": "code",
      "metadata": {
        "id": "f_gyN-auXh2F"
      },
      "source": [
        ""
      ],
      "execution_count": 2,
      "outputs": []
    },
    {
      "cell_type": "code",
      "metadata": {
        "id": "HIdiQSNaXh62"
      },
      "source": [
        ""
      ],
      "execution_count": 2,
      "outputs": []
    },
    {
      "cell_type": "code",
      "metadata": {
        "colab": {
          "base_uri": "https://localhost:8080/"
        },
        "id": "mpRMqsFCXsmq",
        "outputId": "bbb1d269-da6e-462c-8f7b-15ca814f5bc3"
      },
      "source": [
        "sum(data['stop_comments'].isnull())\n"
      ],
      "execution_count": 3,
      "outputs": [
        {
          "output_type": "execute_result",
          "data": {
            "text/plain": [
              "2"
            ]
          },
          "metadata": {},
          "execution_count": 3
        }
      ]
    },
    {
      "cell_type": "code",
      "metadata": {
        "id": "J2c0AVHVXsom"
      },
      "source": [
        "data = data[data['stop_comments'].notnull()]"
      ],
      "execution_count": 4,
      "outputs": []
    },
    {
      "cell_type": "code",
      "metadata": {
        "colab": {
          "base_uri": "https://localhost:8080/"
        },
        "id": "X47G8LtaXsqa",
        "outputId": "1b2ff99c-eab4-4f06-8402-f33a5e89aba4"
      },
      "source": [
        "sum(data['stop_comments'].isnull())"
      ],
      "execution_count": 5,
      "outputs": [
        {
          "output_type": "execute_result",
          "data": {
            "text/plain": [
              "0"
            ]
          },
          "metadata": {},
          "execution_count": 5
        }
      ]
    },
    {
      "cell_type": "code",
      "metadata": {
        "id": "4oJdYZIfkahB"
      },
      "source": [
        ""
      ],
      "execution_count": 5,
      "outputs": []
    },
    {
      "cell_type": "code",
      "metadata": {
        "id": "MGATddlAkanR"
      },
      "source": [
        ""
      ],
      "execution_count": 5,
      "outputs": []
    },
    {
      "cell_type": "code",
      "metadata": {
        "colab": {
          "base_uri": "https://localhost:8080/"
        },
        "id": "s3j4DacKXssL",
        "outputId": "a641ddb7-6bff-4609-d685-284bd32b909a"
      },
      "source": [
        "data['pol_cat']"
      ],
      "execution_count": 6,
      "outputs": [
        {
          "output_type": "execute_result",
          "data": {
            "text/plain": [
              "0      -1\n",
              "1      -1\n",
              "2       1\n",
              "3      -1\n",
              "4       1\n",
              "       ..\n",
              "1062   -1\n",
              "1063    1\n",
              "1064    1\n",
              "1065   -1\n",
              "1066    1\n",
              "Name: pol_cat, Length: 1065, dtype: int64"
            ]
          },
          "metadata": {},
          "execution_count": 6
        }
      ]
    },
    {
      "cell_type": "code",
      "metadata": {
        "id": "AGN10wmnkbnJ"
      },
      "source": [
        "data[data['pol_cat']==-1] = 0"
      ],
      "execution_count": 7,
      "outputs": []
    },
    {
      "cell_type": "code",
      "metadata": {
        "colab": {
          "base_uri": "https://localhost:8080/"
        },
        "id": "qVmBbynlkbt5",
        "outputId": "e226619c-1922-4447-abae-193b04811c4b"
      },
      "source": [
        "data['pol_cat']"
      ],
      "execution_count": 8,
      "outputs": [
        {
          "output_type": "execute_result",
          "data": {
            "text/plain": [
              "0       0\n",
              "1       0\n",
              "2       1\n",
              "3       0\n",
              "4       1\n",
              "       ..\n",
              "1062    0\n",
              "1063    1\n",
              "1064    1\n",
              "1065    0\n",
              "1066    1\n",
              "Name: pol_cat, Length: 1065, dtype: int64"
            ]
          },
          "metadata": {},
          "execution_count": 8
        }
      ]
    },
    {
      "cell_type": "code",
      "metadata": {
        "id": "q-vcKnLxlYzE"
      },
      "source": [
        ""
      ],
      "execution_count": 8,
      "outputs": []
    },
    {
      "cell_type": "code",
      "metadata": {
        "colab": {
          "base_uri": "https://localhost:8080/"
        },
        "id": "5JrH_VwMlY2C",
        "outputId": "be658b33-8503-473e-9d2b-029e292aa0a1"
      },
      "source": [
        "data.info()"
      ],
      "execution_count": 9,
      "outputs": [
        {
          "output_type": "stream",
          "name": "stdout",
          "text": [
            "<class 'pandas.core.frame.DataFrame'>\n",
            "Int64Index: 1065 entries, 0 to 1066\n",
            "Data columns (total 7 columns):\n",
            " #   Column         Non-Null Count  Dtype  \n",
            "---  ------         --------------  -----  \n",
            " 0   Unnamed: 0     1065 non-null   int64  \n",
            " 1   Video ID       1065 non-null   object \n",
            " 2   Comment ID     1065 non-null   object \n",
            " 3   comments       1065 non-null   object \n",
            " 4   polarity       1065 non-null   float64\n",
            " 5   pol_cat        1065 non-null   int64  \n",
            " 6   stop_comments  1065 non-null   object \n",
            "dtypes: float64(1), int64(2), object(4)\n",
            "memory usage: 66.6+ KB\n"
          ]
        }
      ]
    },
    {
      "cell_type": "code",
      "metadata": {
        "id": "1HEC6o4mlwxg"
      },
      "source": [
        "data['stop_comments'] = data[['stop_comments']].astype(str)"
      ],
      "execution_count": 10,
      "outputs": []
    },
    {
      "cell_type": "code",
      "metadata": {
        "id": "5AMmchcUXsue"
      },
      "source": [
        ""
      ],
      "execution_count": 10,
      "outputs": []
    },
    {
      "cell_type": "code",
      "metadata": {
        "id": "2c7nj5ojXfk9"
      },
      "source": [
        "from sklearn.model_selection import train_test_split"
      ],
      "execution_count": 11,
      "outputs": []
    },
    {
      "cell_type": "code",
      "metadata": {
        "id": "w4zTUfJVXcV7"
      },
      "source": [
        "X_train,X_test,y_train,y_test = train_test_split(data['stop_comments'],data['pol_cat'],test_size = 0.2,random_state = 324)"
      ],
      "execution_count": 12,
      "outputs": []
    },
    {
      "cell_type": "code",
      "metadata": {
        "id": "GaDH7-GalgVs"
      },
      "source": [
        ""
      ],
      "execution_count": 12,
      "outputs": []
    },
    {
      "cell_type": "code",
      "metadata": {
        "id": "6w5FIpXfW_Y3"
      },
      "source": [
        "from sklearn.feature_extraction.text import CountVectorizer, TfidfVectorizer \n",
        "vect = CountVectorizer()\n",
        "tf_train = vect.fit_transform(X_train)\n",
        "tf_test = vect.transform(X_test)"
      ],
      "execution_count": 13,
      "outputs": []
    },
    {
      "cell_type": "code",
      "metadata": {
        "id": "eCPw36U2YelA"
      },
      "source": [
        "tf_train = tf_train.toarray()\n",
        "tf_test = tf_test.toarray()"
      ],
      "execution_count": 14,
      "outputs": []
    },
    {
      "cell_type": "code",
      "metadata": {
        "id": "mzRWCOF7banF"
      },
      "source": [
        "# Importing libraries\n",
        "import numpy as np\n",
        "import pandas as pd\n",
        "from sklearn.model_selection import train_test_split\n",
        "import warnings\n",
        "warnings.filterwarnings( \"ignore\" )\n",
        "\n",
        "# to compare our model's accuracy with sklearn model\n",
        "from sklearn.linear_model import LogisticRegression\n",
        "# Logistic Regression\n",
        "class LogitRegression() :\n",
        "    def __init__( self, learning_rate, iterations ) :        \n",
        "        self.learning_rate = learning_rate        \n",
        "        self.iterations = iterations\n",
        "          \n",
        "    # Function for model training    \n",
        "    def fit( self, X, Y ) :        \n",
        "        # no_of_training_examples, no_of_features        \n",
        "        self.m, self.n = X.shape        \n",
        "        # weight initialization        \n",
        "        self.W = np.zeros( self.n )        \n",
        "        self.b = 0        \n",
        "        self.X = X        \n",
        "        self.Y = Y\n",
        "          \n",
        "        # gradient descent learning\n",
        "                  \n",
        "        for i in range( self.iterations ) :            \n",
        "            self.update_weights()            \n",
        "        return self\n",
        "      \n",
        "    # Helper function to update weights in gradient descent\n",
        "      \n",
        "    def update_weights( self ) :           \n",
        "        A = 1 / ( 1 + np.exp( - ( self.X.dot( self.W ) + self.b ) ) )\n",
        "          \n",
        "        # calculate gradients        \n",
        "        tmp = ( A - self.Y.T )        \n",
        "        tmp = np.reshape( tmp, self.m )        \n",
        "        dW = np.dot( self.X.T, tmp ) / self.m\n",
        "        db = np.sum( tmp ) / self.m \n",
        "          \n",
        "        # update weights    \n",
        "        self.W = self.W - self.learning_rate * dW    \n",
        "        self.b = self.b - self.learning_rate * db\n",
        "          \n",
        "        return self\n",
        "      \n",
        "    # Hypothetical function  h( x ) \n",
        "      \n",
        "    def predict( self, X ) :    \n",
        "        Z = 1 / ( 1 + np.exp( - ( X.dot( self.W ) + self.b ) ) )        \n",
        "        Y = np.where( Z > 0.5, 1, 0 )        \n",
        "        return Y\n"
      ],
      "execution_count": 15,
      "outputs": []
    },
    {
      "cell_type": "markdown",
      "metadata": {
        "id": "MNNGiSaxpuCt"
      },
      "source": [
        "## Using median intead of mean"
      ]
    },
    {
      "cell_type": "code",
      "metadata": {
        "id": "NW6Prn19ptPx"
      },
      "source": [
        "# Importing libraries\n",
        "import numpy as np\n",
        "import pandas as pd\n",
        "from sklearn.model_selection import train_test_split\n",
        "import warnings\n",
        "warnings.filterwarnings( \"ignore\" )\n",
        "\n",
        "# to compare our model's accuracy with sklearn model\n",
        "from sklearn.linear_model import LogisticRegression\n",
        "# Logistic Regression\n",
        "class LogitRegression() :\n",
        "    def __init__( self, learning_rate, iterations ) :        \n",
        "        self.learning_rate = learning_rate        \n",
        "        self.iterations = iterations\n",
        "          \n",
        "    # Function for model training    \n",
        "    def fit( self, X, Y ) :        \n",
        "        # no_of_training_examples, no_of_features        \n",
        "        self.m, self.n = X.shape        \n",
        "        # weight initialization        \n",
        "        self.W = np.zeros( self.n )        \n",
        "        self.b = 0        \n",
        "        self.X = X        \n",
        "        self.Y = Y\n",
        "          \n",
        "        # gradient descent learning\n",
        "                  \n",
        "        for i in range( self.iterations ) :            \n",
        "            self.update_weights()            \n",
        "        return self\n",
        "      \n",
        "    # Helper function to update weights in gradient descent\n",
        "      \n",
        "    def update_weights( self ) :           \n",
        "        A = 1 / ( 1 + np.exp( - ( self.X.dot( self.W ) + self.b ) ) )\n",
        "          \n",
        "        # calculate gradients        \n",
        "        tmp = ( A - self.Y.T )        \n",
        "        tmp = np.reshape( tmp, self.m )        \n",
        "        dW = np.dot( self.X.T, tmp ) / self.m\n",
        "        db = np.median( tmp )\n",
        "          \n",
        "        # update weights    \n",
        "        self.W = self.W - self.learning_rate * dW    \n",
        "        self.b = self.b - self.learning_rate * db\n",
        "          \n",
        "        return self\n",
        "      \n",
        "    # Hypothetical function  h( x ) \n",
        "      \n",
        "    def predict( self, X ) :    \n",
        "        Z = 1 / ( 1 + np.exp( - ( X.dot( self.W ) + self.b ) ) )        \n",
        "        Y = np.where( Z > 0.5, 1, 0 )        \n",
        "        return Y"
      ],
      "execution_count": 16,
      "outputs": []
    },
    {
      "cell_type": "code",
      "metadata": {
        "colab": {
          "base_uri": "https://localhost:8080/"
        },
        "id": "3Oa_AzkcZEoM",
        "outputId": "64ab412f-5c9a-41bb-c0c2-4c8cc0e73759"
      },
      "source": [
        "# Driver code\n",
        "  \n",
        "def main() :\n",
        "      \n",
        "    '''# Importing dataset    \n",
        "    df = pd.read_csv( \"diabetes.csv\" )\n",
        "    X = df.iloc[:,:-1].values\n",
        "    Y = df.iloc[:,-1:].values\n",
        "      \n",
        "    # Splitting dataset into train and test set\n",
        "    X_train, X_test, Y_train, Y_test = train_test_split(\n",
        "      X, Y, test_size = 1/3, random_state = 0 )'''\n",
        "      \n",
        "    # Model training    \n",
        "    model = LogitRegression( learning_rate = 1, iterations = 10000 )\n",
        "      \n",
        "    model.fit( tf_train, y_train )    \n",
        "    model1 = LogisticRegression()    \n",
        "    model1.fit( tf_train, y_train)\n",
        "\n",
        "    # Prediction on test set\n",
        "    Y_pred = model.predict( tf_test )    \n",
        "    Y_pred1 = model1.predict( tf_test )\n",
        "    \n",
        "    # measure performance    \n",
        "    correctly_classified = 0    \n",
        "    correctly_classified1 = 0\n",
        "\n",
        "\n",
        "    Y_test = y_test.to_xarray()\n",
        "    \n",
        "    # counter    \n",
        "    count = 0    \n",
        "    for count in range( np.size( Y_pred ) ) :  \n",
        "        \n",
        "        if Y_test[count] == Y_pred[count] :            \n",
        "            correctly_classified = correctly_classified + 1\n",
        "          \n",
        "        if Y_test[count] == Y_pred1[count] :            \n",
        "            correctly_classified1 = correctly_classified1 + 1\n",
        "              \n",
        "        count = count + 1\n",
        "          \n",
        "    print( \"Accuracy on test set by our model       :  \", ( \n",
        "      correctly_classified / count ) * 100 )\n",
        "    print( \"Accuracy on test set by sklearn model   :  \", ( \n",
        "      correctly_classified1 / count ) * 100 )\n",
        "  \n",
        "  \n",
        "if __name__ == \"__main__\" :     \n",
        "    main()"
      ],
      "execution_count": 17,
      "outputs": [
        {
          "output_type": "stream",
          "name": "stdout",
          "text": [
            "Accuracy on test set by our model       :   92.95774647887323\n",
            "Accuracy on test set by sklearn model   :   92.01877934272301\n"
          ]
        }
      ]
    },
    {
      "cell_type": "code",
      "metadata": {
        "id": "zBYVJEleeRnx"
      },
      "source": [
        ""
      ],
      "execution_count": null,
      "outputs": []
    },
    {
      "cell_type": "code",
      "metadata": {
        "id": "6871Nae2eTHW"
      },
      "source": [
        ""
      ],
      "execution_count": null,
      "outputs": []
    }
  ]
}