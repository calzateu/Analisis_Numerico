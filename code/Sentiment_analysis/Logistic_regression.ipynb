{
  "nbformat": 4,
  "nbformat_minor": 0,
  "metadata": {
    "colab": {
      "name": "Logistic_regression.ipynb",
      "provenance": [],
      "authorship_tag": "ABX9TyN4lWpQ22rY92GcYSUFG+7/",
      "include_colab_link": true
    },
    "kernelspec": {
      "name": "python3",
      "display_name": "Python 3"
    },
    "language_info": {
      "name": "python"
    }
  },
  "cells": [
    {
      "cell_type": "markdown",
      "metadata": {
        "id": "view-in-github",
        "colab_type": "text"
      },
      "source": [
        "<a href=\"https://colab.research.google.com/github/calzateu/Numerical_Analysis/blob/main/code/Sentiment_analysis/Logistic_regression.ipynb\" target=\"_parent\"><img src=\"https://colab.research.google.com/assets/colab-badge.svg\" alt=\"Open In Colab\"/></a>"
      ]
    },
    {
      "cell_type": "code",
      "metadata": {
        "id": "F5kX_ALzHloj"
      },
      "source": [
        "import pandas as pd"
      ],
      "execution_count": 1,
      "outputs": []
    },
    {
      "cell_type": "code",
      "metadata": {
        "id": "3PrkksPeNXZX"
      },
      "source": [
        "data = pd.read_csv('Dataset-with-sentiments.csv')"
      ],
      "execution_count": 3,
      "outputs": []
    },
    {
      "cell_type": "code",
      "metadata": {
        "colab": {
          "base_uri": "https://localhost:8080/"
        },
        "id": "3YYdeLgDNZR4",
        "outputId": "5bad5cbd-7735-47e2-d0b4-68b68911e323"
      },
      "source": [
        "sum(data['stop_comments'].isnull())"
      ],
      "execution_count": 4,
      "outputs": [
        {
          "output_type": "execute_result",
          "data": {
            "text/plain": [
              "2"
            ]
          },
          "metadata": {},
          "execution_count": 4
        }
      ]
    },
    {
      "cell_type": "code",
      "metadata": {
        "id": "mleKOWayNdkx"
      },
      "source": [
        "data = data[data['stop_comments'].notnull()]"
      ],
      "execution_count": 5,
      "outputs": []
    },
    {
      "cell_type": "code",
      "metadata": {
        "colab": {
          "base_uri": "https://localhost:8080/"
        },
        "id": "SIba_zl2NgNB",
        "outputId": "9aae63b0-ad88-48eb-faf8-b4af082b5bd1"
      },
      "source": [
        "sum(data['stop_comments'].isnull())"
      ],
      "execution_count": 6,
      "outputs": [
        {
          "output_type": "execute_result",
          "data": {
            "text/plain": [
              "0"
            ]
          },
          "metadata": {},
          "execution_count": 6
        }
      ]
    },
    {
      "cell_type": "code",
      "metadata": {
        "id": "ylkTdNWqNhxU"
      },
      "source": [
        "from sklearn.model_selection import train_test_split"
      ],
      "execution_count": 7,
      "outputs": []
    },
    {
      "cell_type": "code",
      "metadata": {
        "id": "CGImf2LJNjcV"
      },
      "source": [
        "X_train,X_test,y_train,y_test = train_test_split(data['stop_comments'],data['pol_cat'],test_size = 0.2,random_state = 324)"
      ],
      "execution_count": 8,
      "outputs": []
    },
    {
      "cell_type": "code",
      "metadata": {
        "colab": {
          "base_uri": "https://localhost:8080/"
        },
        "id": "CMPCz52ANk6z",
        "outputId": "0d0972af-4b09-4dbe-ca47-748e02521a20"
      },
      "source": [
        "X_train.shape"
      ],
      "execution_count": 9,
      "outputs": [
        {
          "output_type": "execute_result",
          "data": {
            "text/plain": [
              "(852,)"
            ]
          },
          "metadata": {},
          "execution_count": 9
        }
      ]
    },
    {
      "cell_type": "code",
      "metadata": {
        "colab": {
          "base_uri": "https://localhost:8080/"
        },
        "id": "XkXV9IW6Nmrd",
        "outputId": "33b3ee2f-98e9-45a2-f8a6-3a4c321e70f0"
      },
      "source": [
        "X_test.shape"
      ],
      "execution_count": 10,
      "outputs": [
        {
          "output_type": "execute_result",
          "data": {
            "text/plain": [
              "(213,)"
            ]
          },
          "metadata": {},
          "execution_count": 10
        }
      ]
    },
    {
      "cell_type": "code",
      "metadata": {
        "colab": {
          "base_uri": "https://localhost:8080/"
        },
        "id": "AIAcoHwYNod6",
        "outputId": "da78eec7-ae7d-443e-f509-a653da625bd5"
      },
      "source": [
        "data['pol_cat'].value_counts()"
      ],
      "execution_count": 11,
      "outputs": [
        {
          "output_type": "execute_result",
          "data": {
            "text/plain": [
              "-1    563\n",
              " 1    502\n",
              "Name: pol_cat, dtype: int64"
            ]
          },
          "metadata": {},
          "execution_count": 11
        }
      ]
    },
    {
      "cell_type": "markdown",
      "metadata": {
        "id": "DXsyy6SaNvDU"
      },
      "source": [
        "## **Gonna Apply Logistic Regression**"
      ]
    },
    {
      "cell_type": "code",
      "metadata": {
        "id": "yYebhI4-NqJI"
      },
      "source": [
        "from sklearn.feature_extraction.text import CountVectorizer"
      ],
      "execution_count": 13,
      "outputs": []
    },
    {
      "cell_type": "code",
      "metadata": {
        "id": "_RSmaajYOzuF"
      },
      "source": [
        "from sklearn.feature_extraction.text import CountVectorizer, TfidfVectorizer \n",
        "vect = CountVectorizer()\n",
        "tf_train = vect.fit_transform(X_train)\n",
        "tf_test = vect.transform(X_test)"
      ],
      "execution_count": 14,
      "outputs": []
    },
    {
      "cell_type": "code",
      "metadata": {
        "colab": {
          "base_uri": "https://localhost:8080/"
        },
        "id": "tipNaNdHPB9e",
        "outputId": "e9af7d5a-c71d-4f90-d2fa-736b62bf1157"
      },
      "source": [
        "tf_train"
      ],
      "execution_count": 15,
      "outputs": [
        {
          "output_type": "execute_result",
          "data": {
            "text/plain": [
              "<852x2434 sparse matrix of type '<class 'numpy.int64'>'\n",
              "\twith 8908 stored elements in Compressed Sparse Row format>"
            ]
          },
          "metadata": {},
          "execution_count": 15
        }
      ]
    },
    {
      "cell_type": "code",
      "metadata": {
        "colab": {
          "base_uri": "https://localhost:8080/"
        },
        "id": "BeCfNr6tPIyE",
        "outputId": "a7c9d4f6-72d2-4a51-ffb9-29424a2ad510"
      },
      "source": [
        "tf_train.shape"
      ],
      "execution_count": 16,
      "outputs": [
        {
          "output_type": "execute_result",
          "data": {
            "text/plain": [
              "(852, 2434)"
            ]
          },
          "metadata": {},
          "execution_count": 16
        }
      ]
    },
    {
      "cell_type": "markdown",
      "metadata": {
        "id": "F7Pugi10PV5n"
      },
      "source": [
        "**Print the Vocabulary**"
      ]
    },
    {
      "cell_type": "code",
      "metadata": {
        "colab": {
          "base_uri": "https://localhost:8080/"
        },
        "id": "IfF_OxHFPLs9",
        "outputId": "672d8341-74e9-4be4-d5f4-01055809e13e"
      },
      "source": [
        "print(vect.vocabulary_)"
      ],
      "execution_count": 17,
      "outputs": [
        {
          "output_type": "stream",
          "name": "stdout",
          "text": [
            "{'promise': 1701, 'forever': 934, 'im': 1154, 'germany': 987, 'sitting': 1949, 'table': 2109, 'und': 2253, 'cry': 628, 'girlfriend': 998, 'dont': 736, 'love': 1354, 'best': 379, 'sad': 1835, 'song': 1995, 'ever': 824, 'fact': 867, 'hello': 1085, 'iraqi': 1204, 'come': 551, 'tik': 2166, 'tok': 2176, 'music': 1475, 'beautiful': 359, 'takes': 2113, 'away': 331, 'worries': 2392, 'world': 2389, 'thank': 2139, 'always': 277, 'delena': 681, '13': 52, 'reasons': 1759, 'another': 290, 'brings': 428, 'moments': 1455, 'life': 1306, 'crying': 631, 'listen': 1315, 'realize': 1751, 'short': 1917, 'still': 2047, 'like': 1308, 'baby': 334, 'ca': 451, 'believe': 373, 'masterpiece': 1396, 'became': 362, 'famous': 880, 'years': 2416, 'tom': 2179, 've': 2297, 'saved': 1847, 'cheated': 503, 'understand': 2255, 'get': 988, 'depressed': 690, 'make': 1380, 'feel': 896, 'calm': 458, 'everytime': 830, 'thanks': 2140, 'bro': 430, 'smmm': 1968, 'cause': 486, 'many': 1389, 'different': 716, 'ways': 2342, 'interpret': 1198, 'way': 2341, 'know': 1257, 'made': 1375, 'interpreted': 1199, 'general': 983, 'reminds': 1796, 'struggle': 2067, 'self': 1886, 'overthinking': 1577, 'depression': 692, 'want': 2329, 'someone': 1989, 'things': 2148, 'nearly': 1493, 'impossible': 1164, 'capable': 471, 'loving': 1362, 'able': 215, 'first': 922, 'accept': 224, 'idea': 1143, 'lovable': 1353, 'singing': 1942, 'told': 2178, 'us': 2279, 'eyes': 864, 'tell': 2131, 'might': 1438, 'drunk': 754, 'smoke': 1969, 'cigarette': 525, 'listening': 1317, 'parents': 1587, 'asleep': 317, 'thinking': 2150, 'one': 1560, 'deserves': 696, 'much': 1471, 'likes': 1310, 'views': 2309, 'time': 2169, 'hearing': 1076, 'sounds': 2009, 'noise': 1514, 'honestly': 1113, 'people': 1611, 'stop': 2048, 'great': 1029, 'appreciate': 304, 'managed': 1386, 'ignore': 1147, 'lady': 1265, 'background': 337, 'without': 2378, 'flinching': 927, 'moving': 1470, 'started': 2035, 'going': 1011, 'high': 1098, 'school': 1862, 'came': 459, '24': 90, 'soon': 2000, '25': 91, 'strange': 2056, 'person': 1620, 'currently': 639, 'taking': 2114, 'read': 1742, 'see': 1878, 'hear': 1074, 'pain': 1581, 'proud': 1706, 'held': 1083, 'together': 2175, 'll': 1326, 'sooner': 2001, 'later': 1271, 'hope': 1116, 'even': 822, 'brain': 416, 'tells': 2133, 're': 1741, 'allowed': 268, 'messed': 1427, 'inside': 1184, 'mean': 1408, 'defective': 675, 'means': 1411, 'human': 1131, 'survive': 2101, 'almost': 269, 'anything': 296, 'unhappy': 2259, 'perfect': 1614, 'wishing': 2376, 'looked': 1337, 'else': 787, 'liked': 1309, 'trying': 2228, 'attention': 321, 'hurt': 1134, 'hating': 1067, 'body': 403, 'face': 866, 'ality': 263, 'quirks': 1726, 'would': 2397, 'anyone': 295, 'confident': 572, 'smile': 1965, 'draw': 743, 'hates': 1066, 'happy': 1059, 'say': 1850, 'screw': 1869, 'happiness': 1058, 'depend': 687, 'others': 1569, 'anymore': 294, 'flaws': 924, 'imperfections': 1162, 'week': 2349, '12': 45, 'soul': 2006, 'left': 1289, 'chat': 501, 'visit': 2311, 'everyday': 827, 'never': 1503, 'pay': 1605, 'money': 1457, 'exhaustion': 846, 'nothing': 1527, 'taste': 2119, 'gold': 1012, 'die': 712, 'odell': 1541, 'wonderful': 2383, 'everyone': 828, 'share': 1903, 'rappers': 1738, 'sings': 1944, 'fancy': 882, 'place': 1641, 'cars': 481, 'girls': 999, 'chair': 493, 'grandad': 1023, 'died': 713, 'today': 2173, 'fighting': 908, 'hard': 1061, 'heart': 1077, 'broken': 432, 'chest': 507, 'gon': 1013, 'na': 1482, 'rip': 1813, 'second': 1874, 'taught': 2120, 'strong': 2065, 'knew': 1256, 'day': 658, 'need': 1494, 'strength': 2060, 'bear': 355, 'loss': 1345, 'may': 1405, 'rest': 1802, 'peace': 1606, 'sometimes': 1991, 'makes': 1381, 'interesting': 1195, 'crip': 621, 'listened': 1316, 'least': 1285, 'wish': 2375, 'every': 825, 'unknown': 2266, 'friend': 954, 'lembrei': 1293, 'da': 646, 'tomorrowland': 2182, 'kinda': 1247, 'hurts': 1136, 'feelings': 898, 'tho': 2154, 'claimed': 528, 'probably': 1695, 'underrated': 2254, 'guy': 1038, 'seen': 1883, 'bruhhh': 436, 'cured': 636, 'deppresion': 688, 'last': 1269, 'night': 1507, 'really': 1754, 'dream': 744, 'created': 615, 'entire': 808, 'narrative': 1488, 'slept': 1956, 'based': 345, 'around': 308, 'foundation': 944, 'played': 1649, 'movie': 1468, 'main': 1378, 'character': 500, 'fictional': 905, 'awoke': 332, 'regretting': 1774, 'said': 1840, 'done': 735, 'mind': 1442, 'sorry': 2004, 'figment': 910, 'imagination': 1155, 'ai': 260, 'deserve': 695, 'comfort': 553, 'emotion': 793, 'showed': 1920, 'cat': 484, 'someday': 1988, 'feeling': 897, 'bet': 380, 'lives': 1324, 'impact': 1160, 'kept': 1238, 'video': 2307, 'simple': 1934, 'intense': 1191, 'aches': 229, 'addictive': 242, '2020': 80, 'good': 1015, 'lie': 1303, 'yall': 2412, 'used': 2283, 'think': 2149, 'austin': 326, 'butler': 445, 'alter': 275, 'ego': 776, 'relationship': 1782, 'taken': 2112, 'please': 1653, 'keep': 1234, 'wont': 2384, 'fangirl': 883, 'bit': 390, 'ship': 1910, 'house': 1124, 'covid': 608, 'masks': 1392, 'tiktok': 2167, 'better': 381, 'insane': 1181, 'watching': 2338, 'legend': 1290, 'vampire': 2294, 'diaries': 710, 'introducing': 1202, 'amazing': 280, 'meaning': 1409, 'real': 1745, 'songs': 1996, 'related': 1779, 'letting': 1298, 'entertain': 807, 'quarantine': 1723, 'glad': 1004, 'getting': 990, 'cant': 466, 'unreal': 2270, 'vibe': 2305, 'back': 336, 'yes': 2421, '2021': 81, 'wan': 2328, 'take': 2111, 'somewhere': 1993, 'care': 474, 'cold': 546, 'brought': 435, 'daffodils': 647, 'pretty': 1689, 'string': 2062, 'wo': 2380, 'flower': 930, 'spring': 2022, 'kiss': 1251, 'right': 1812, 'tired': 2172, 'nights': 1510, 'tears': 2125, 'chorus': 518, 'verse': 2300, 'somebody': 1987, 'fight': 907, 'hands': 1050, 'times': 2171, 'use': 2282, 'voice': 2315, 'fucking': 962, 'rude': 1826, 'words': 2387, 'win': 2372, 'lose': 1341, 'sing': 1939, 'sang': 1842, 'em': 788, 'learn': 1282, 'bridge': 425, 'oh': 1546, 'fall': 874, 'wait': 2320, 'pairs': 1583, 'ove': 1574, 'missing': 1449, 'grow': 1033, 'powerful': 1678, '330': 104, 'million': 1440, 'streams': 2057, 'realised': 1747, 'ago': 254, 'yo': 2426, 'lyrics': 1370, 'hit': 1100, 'wayyy': 2343, 'french': 952, 'difficult': 717, 'rythme': 1833, 'change': 495, 'button': 447, 'feels': 899, 'alright': 273, 'hand': 1049, 'toughtens': 2190, 'making': 1382, 'go': 1006, 'throught': 2162, 'lesson': 1294, 'learned': 1283, 'safe': 1838, 'explained': 856, 'everything': 829, '2015': 74, '2016': 75, '2017': 76, '2018': 77, '2019': 78, 'cryig': 630, 'harder': 1062, 'hoping': 1118, 'fell': 900, 'bad': 339, 'ten': 2134, 'memories': 1418, 'flood': 929, 'head': 1069, 'anotherlove': 291, 'ex': 838, 'look': 1336, 'remind': 1794, 'amo': 281, 'dislike': 729, 'cried': 618, 'waiting': 2321, 'recognize': 1762, 'special': 2015, 'weird': 2354, '8yrs': 195, 'finally': 913, 'lot': 1348, 'rainkiss': 1733, 'scene': 1861, 'literally': 1320, 'frightens': 957, 'breakup': 422, 'closest': 538, 'passes': 1598, 'next': 1505, 'relationships': 1783, 'angry': 288, 'gf': 991, 'breaking': 420, 'new': 1504, 'also': 274, 'leave': 1286, 'soundtrack': 2010, 'saddest': 1836, 'gone': 1014, 'fast': 888, 'younger': 2429, 'sister': 1945, 'committed': 558, 'suicide': 2082, 'weekend': 2350, 'overdosing': 1575, 'something': 1990, 'found': 943, 'headphones': 1071, 'presumably': 1688, 'youtube': 2431, 'account': 227, 'playlist': 1652, 'containing': 585, 'edited': 773, 'passed': 1597, 'method': 1430, 'dead': 662, '30': 99, 'minutes': 1445, 'unconscious': 2252, 'peaceful': 1607, 'miley': 1439, 'miss': 1447, 'favorite': 893, 'gives': 1002, 'chills': 512, 'reason': 1757, 'teenagers': 2130, '10': 21, 'experience': 852, 'thoughts': 2157, 'interwine': 1201, 'wicked': 2367, 'teaching': 2123, 'evil': 833, 'exercise': 844, 'turns': 2236, 'diamonds': 709, 'surronded': 2099, 'surprises': 2098, 'instant': 1187, 'carify': 477, 'burn': 444, 'illusion': 1152, 'confusion': 573, 'using': 2286, 'technique': 2126, 'due': 756, 'wisdom': 2374, 'play': 1648, 'hallucination': 1047, 'nature': 1491, 'break': 418, 'dust': 757, 'ajacent': 261, 'wickedness': 2368, 'create': 614, 'tough': 2188, 'speak': 2014, 'facts': 869, 'find': 914, 'truth': 2226, 'date': 656, 'matter': 1404, 'becouse': 366, 'meet': 1414, 'fate': 889, 'playing': 1651, 'game': 976, 'devil': 707, 'giving': 1003, 'headaches': 1070, 'poison': 1661, 'conjured': 575, 'enganging': 803, 'trauma': 2205, 'doctor': 734, 'nolan': 1515, 'holding': 1105, 'onto': 1562, 'got': 1019, 'blinking': 398, 'stragedies': 2054, 'evolving': 836, 'deep': 674, 'precision': 1683, 'killing': 1244, 'remembered': 1792, 'living': 1325, 'rerange': 1799, 'elena': 785, 'damon': 651, 'swear': 2103, 'imagine': 1156, 'dancing': 653, 'rain': 1730, 'soulmate': 2007, 'corona': 594, 'future': 972, 'respect': 1800, 'generation': 985, 'rn': 1815, 'smart': 1961, 'man': 1385, 'enjoy': 805, 'melody': 1417, 'nine': 1511, 'year': 2415, 'olds': 1553, 'falling': 876, 'celebrity': 489, 'ur': 2277, 'knowing': 1258, 'happiest': 1057, 'thing': 2147, 'recommended': 1765, 'searched': 1871, 'acting': 236, 'friends': 955, 'band': 343, 'realized': 1752, 'old': 1551, 'wow': 2399, '01': 3, '53': 144, 'kanej': 1233, 'planning': 1646, 'wedding': 2348, 'funeral': 969, 'whaaaat': 2358, 'thought': 2156, '50k': 137, 'seriously': 1896, 'alive': 264, 'joker': 1226, 'kid': 1240, 'child': 509, 'little': 1321, 'beating': 358, 'crazy': 612, 'running': 1830, 'thinks': 2151, 'clouds': 540, 'small': 1960, 'age': 251, 'stature': 2040, 'whose': 2366, 'big': 385, 'reading': 1743, 'correct': 595, 'seems': 1882, 'pissed': 1639, 'show': 1919, 'emotions': 795, 'whatsoever': 2361, 'draco': 740, 'malfoy': 1384, 'nailed': 1483, 'feature': 895, 'describes': 694, 'well': 2356, 'scary': 1858, 'part': 1590, 'realizing': 1753, 'situation': 1950, 'give': 1000, 'rich': 1811, 'moment': 1454, 'comes': 552, '2012': 71, 'edit': 772, 'campina': 462, 'grande': 1024, 'lions': 1313, 'campaign': 461, 'cures': 637, 'incurable': 1173, 'diseases': 728, 'saves': 1848, 'technologies': 2128, 'known': 1259, 'natural': 1490, 'physical': 1630, 'laws': 1277, 'lead': 1281, 'infinite': 1177, 'nondestructive': 1518, 'super': 2089, 'inconstant': 1169, 'controlling': 588, 'physics': 1631, 'non': 1517, 'destruction': 703, 'driving': 750, 'accumulations': 228, 'passages': 1596, 'transforms': 2199, 'constates': 582, 'de': 661, 'reality': 1750, 'propose': 1705, 'current': 638, 'destroying': 701, 'losses': 1346, 'deaths': 667, 'solve': 1985, 'controlly': 589, 'produce': 1698, 'coductivity': 543, 'realitivity': 1749, 'constant': 579, 'level': 1299, 'type': 2242, 'supernovae': 2091, 'gamma': 977, 'rays': 1740, 'oara': 1534, 'constate': 581, 'esoecific': 814, 'formation': 940, 'transformations': 2198, 'indestructible': 1174, 'machines': 1373, 'turned': 2234, 'rebuilding': 1760, 'regeneration': 1772, 'cure': 635, 'values': 2293, 'infinitely': 1178, 'degeneration': 680, 'agitation': 253, 'disorderly': 732, 'activity': 239, 'control': 587, 'occur': 1536, 'uenos': 2244, 'plasmas': 1647, 'ifinities': 1145, 'universe': 2264, 'creation': 617, 'easier': 766, 'sitetization': 1946, 'scientific': 1864, 'fiction': 904, 'prediction': 1684, 'absolutely': 217, 'beings': 370, 'immortal': 1158, 'rekativity': 1776, 'radiation': 1729, 'destroy': 700, 'igniting': 1146, 'layers': 1278, 'superficial': 2090, 'contrary': 586, 'generally': 984, 'accentuated': 223, 'systems': 2108, 'develop': 705, 'mace': 1372, 'black': 393, 'holes': 1108, 'segments': 1885, 'light': 1307, 'moderate': 1452, 'space': 2012, 'large': 1268, 'disasters': 724, 'delivery': 684, 'errors': 811, 'founding': 945, 'text': 2137, 'development': 706, 'positivism': 1671, 'discipline': 725, 'sociology': 1980, 'work': 2388, 'provides': 1708, 'revised': 1808, 'full': 966, 'theory': 2144, 'comte': 567, 'presented': 1687, 'earlier': 761, 'hi': 1097, 'unnatural': 2267, 'quantum': 1722, 'multi': 1472, 'partner': 1593, 'correcting': 596, 'problems': 1697, 'kinds': 1249, 'defects': 676, 'wormhole': 2391, 'save': 1846, 'surpassing': 2096, 'science': 1863, 'fictions': 906, 'earth': 764, 'planets': 1644, 'galacies': 975, 'universes': 2265, 'techniques': 2127, 'except': 841, 'race': 1728, 'allow': 267, 'calculate': 454, 'theories': 2143, 'physi': 1629, 'cal': 453, 'law': 1276, 'axes': 333, 'must': 1479, 'examples': 840, 'strings': 2064, 'parallel': 1586, 'fusion': 971, 'nuclear': 1531, 'numbers': 1533, 'quantitative': 1721, 'subspace': 2077, 'speeds': 2018, 'middle': 1435, 'planet': 1643, 'writing': 2403, 'polluting': 1663, 'energy': 802, 'eliminating': 786, 'effect': 775, 'pollution': 1664, 'elementary': 783, 'probabilities': 1694, 'whatever': 2360, 'state': 2039, 'death': 666, 'regenerating': 1771, 'causing': 488, 'scaling': 1854, 'causes': 487, 'final': 912, 'emit': 791, 'material': 1402, 'sticker': 2046, 'establishment': 817, 'gods': 1009, 'god': 1007, 'travel': 2207, 'difficulties': 718, 'basic': 346, 'scales': 1853, 'often': 1545, 'low': 1363, 'speed': 2017, 'chaos': 498, 'sense': 1889, 'covering': 606, 'coatings': 542, 'opposite': 1566, 'apply': 303, 'term': 2135, 'conditions': 570, 'capacity': 472, 'aging': 252, 'kill': 1243, 'interrupting': 1200, 'gaseous': 979, 'magnets': 1377, 'honeys': 1114, 'acids': 232, 'elements': 784, 'organic': 1568, 'ulcers': 2247, 'explosions': 857, 'dangerous': 654, '9th': 207, 'jesus': 1221, 'christ': 520, 'father': 890, 'intermediary': 1196, 'bless': 396, 'trust': 2225, 'pray': 1680, 'covert': 607, 'urself': 2278, 'believ': 372, 'gospe': 1018, 'trash': 2204, 'watched': 2337, 'blue': 401, 'valentine': 2292, 'passion': 1599, 'shit': 1911, '300': 100, 'screaming': 1868, 'could': 599, 'hits': 1101, 'struggling': 2068, 'ed': 771, 'pushing': 1716, '2037': 85, 'loved': 1355, 'heard': 1075, 'talk': 2116, 'stands': 2027, 'asking': 316, '51k': 140, 'dislikers': 731, '2022': 82, 'musically': 1477, 'lyrically': 1369, 'conveys': 590, 'inability': 1166, 'already': 272, 'clinged': 535, 'spent': 2019, 'drainage': 741, 'aot': 298, 'chapter': 499, '139': 54, 'long': 1333, 'days': 660, 'appeared': 302, 'let': 1296, 'tomorrow': 2181, 'given': 1001, 'fame': 878, 'october': 1539, 'legends': 1292, 'watch': 2336, '2030': 84, 'august': 324, 'upsets': 2275, 'badly': 340, 'hurting': 1135, 'wrote': 2406, 'william': 2371, 'slowed': 1958, 'weeknds': 2352, 'advice': 246, 'reverbe': 1806, 'aah': 212, '32': 102, 'live': 1322, 'pet': 1624, 'sensation': 1888, 'car': 473, 'eating': 770, 'food': 932, 'looking': 1338, 'snow': 1973, 'rainy': 1734, 'walking': 2325, 'warm': 2332, 'room': 1823, 'hot': 1120, '11': 33, 'smell': 1964, 'fresh': 953, 'cut': 642, 'grass': 1027, 'summer': 2084, '14': 55, 'buy': 448, 'gift': 993, 'wanted': 2330, '15': 59, '16': 60, 'side': 1929, 'pillow': 1637, '17': 61, 'showering': 1922, 'beach': 354, '18': 62, 'proving': 1709, 'wrong': 2405, '19': 66, 'fireworks': 921, '20': 69, 'celerity': 491, '21': 86, 'eat': 769, '22': 87, 'movies': 1469, '23': 88, 'topics': 2185, 'trigger': 2218, 'sh': 1901, 'etc': 819, 'hugs': 1130, 'clear': 533, 'starry': 2032, 'sky': 1951, '26': 92, 'changing': 497, '27': 93, 'laughing': 1273, '28': 95, 'meant': 1412, '29': 96, 'internet': 1197, 'ghosted': 992, 'tv': 2239, 'series': 1895, '31': 101, 'traveling': 2208, 'vacation': 2289, '33': 103, 'pulling': 1712, 'nighter': 1508, '34': 108, 'drive': 747, '35': 109, 'finished': 917, 'task': 2118, '36': 110, 'bed': 367, '37': 111, 'holidays': 1109, '38': 114, 'breakfast': 419, 'buffets': 440, '39': 116, 'videos': 2308, '40': 119, 'sleeping': 1954, '41': 120, 'steamy': 2043, 'showers': 1923, '42': 121, 'shopping': 1916, '43': 122, 'nice': 1506, 'baths': 348, '44': 123, '45': 125, 'moms': 1456, '46': 129, 'sledding': 1952, '47': 131, 'concerts': 568, '48': 133, 'heaven': 1081, '49': 134, 'finding': 915, 'loves': 1359, '50': 136, '51': 138, 'mcdonalds': 1407, 'fries': 956, '52': 141, 'pets': 1625, 'animals': 289, 'cuddle': 632, 'jokes': 1227, 'forgotten': 939, '54': 145, 'access': 226, 'phone': 1628, '55': 147, 'lost': 1347, 'battle': 350, '56': 148, '57': 149, '58': 150, 'opening': 1564, 'gifts': 995, '59': 151, 'scratching': 1867, 'itch': 1210, '60': 152, 'laundry': 1274, '61': 153, 'laugh': 1272, '62': 154, 'nervous': 1499, 'canceled': 464, '63': 155, '64': 156, '65': 157, 'cringe': 620, '66': 158, 'decorating': 672, '67': 159, 'farm': 886, '68': 160, 'streets': 2059, '69': 161, 'sleepovers': 1955, '70': 162, 'family': 879, 'reunions': 1805, '71': 163, 'scenarios': 1860, '72': 164, '73': 165, 'wearing': 2347, 'fuzzy': 973, 'socks': 1981, '74': 166, 'breath': 423, 'outside': 1573, '75': 167, '76': 168, 'clean': 532, '77': 170, 'cruise': 626, '78': 171, 'climbing': 534, 'trees': 2215, '79': 172, 'cheering': 505, '80': 173, '81': 176, 'waking': 2323, '82': 178, 'shifting': 1909, '83': 180, '84': 182, 'kids': 1242, 'yelled': 2417, 'sub': 2075, '85': 184, 'substitute': 2078, 'teachers': 2122, '86': 188, 'complement': 563, '87': 189, 'complementing': 564, '88': 190, 'shower': 1921, '89': 192, 'fav': 892, 'book': 406, 'coming': 554, '90': 196, 'kisses': 1253, '91': 197, 'stupid': 2073, 'art': 309, 'project': 1700, '92': 199, '93': 200, 'celebs': 490, '94': 201, 'productive': 1699, '95': 202, 'bites': 391, 'gum': 1037, '96': 203, '97': 204, 'help': 1086, '98': 205, '99': 206, '100': 22, '8564433735': 187, 'immediate': 1157, 'hotline': 1122, 'argentina': 306, '5402234930430': 146, 'australia': 327, '131114': 53, 'austria': 328, '142': 56, 'children': 511, 'young': 2428, '147': 58, 'belgium': 371, '106': 28, 'bosnia': 410, 'herzegovina': 1095, '080': 15, '05': 11, '03': 9, 'botswana': 411, '3911270': 117, 'brazil': 417, '188': 65, 'cvv': 645, 'national': 1489, 'association': 319, 'canada': 463, '833': 181, '456': 126, '4566': 127, '5147234000': 139, 'montreal': 1461, '18662773553': 64, 'croatia': 624, '014833888': 7, 'denmark': 685, '4570201201': 128, 'egypt': 777, '7621602': 169, 'estonia': 818, '3726558088': 113, 'russian': 1832, '3726555688': 112, 'finland': 918, '010': 4, '195': 67, '202': 79, 'france': 947, '0145394000': 6, '08001810771': 17, 'holland': 1110, '0900767': 20, 'hong': 1115, 'kong': 1261, '852': 185, '2382': 89, '0000': 1, 'hungary': 1133, '116123': 41, 'india': 1175, '8888817666': 191, 'ireland': 1205, '44058457909090': 124, 'italy': 1209, '800860022': 175, 'japan': 1217, '810352869090': 177, 'mexico': 1431, '5255102550': 142, 'zealand': 2433, '0800543354': 18, 'norway': 1522, '4781533300': 132, 'philippines': 1627, '028969191': 8, 'poland': 1662, '5270000': 143, 'portugal': 1670, '854': 186, '07': 13, '898': 193, 'russia': 1831, '0078202577577': 2, 'spain': 2013, '914590050': 198, 'south': 2011, 'africa': 250, '0514445691': 12, 'sweden': 2104, '46317112400': 130, 'switzerland': 2106, '143': 57, 'united': 2263, 'kingdom': 1250, '08457909090': 19, 'usa': 2280, '18002738255': 63, 'veterans': 2303, 'crisis': 622, 'line': 1312, '800': 174, '273': 94, '8255': 179, '383255': 115, 'explain': 855, 'brooo': 433, 'fireeee': 920, 'core': 593, 'rock': 1818, 'fan': 881, 'posting': 1673, 'aural': 325, 'gem': 981, 'damn': 650, 'remembering': 1793, 'horrible': 1119, 'went': 2357, 'move': 1466, 'boyfriend': 414, 'four': 946, 'calls': 457, 'name': 1484, 'wasnt': 2334, 'relevant': 1787, 'asked': 315, 'written': 2404, 'wa': 2319, 'try': 2227, 'useless': 2284, 'keeps': 1236, 'comparing': 561, 'exs': 859, 'maybe': 1406, 'thats': 2141, 'problem': 1696, 'cus': 640, 'supposedly': 2093, 'meaningful': 1410, 'hate': 1065, 'dark': 655, 'heartbroken': 1078, 'escape': 813, 'gifted': 994, 'writer': 2402, 'factory': 868, 'seem': 1880, 'icehockey': 1141, 'adored': 245, '10th': 32, 'grade': 1021, 'scare': 1855, 'jhanam': 1222, 'jannah': 1215, 'unpopular': 2269, 'opinion': 1565, 'pov': 1675, 'pointless': 1660, 'remember': 1791, 'hopelessly': 1117, 'clinging': 536, 'snowballing': 1975, 'leaving': 1288, 'shitty': 1912, 'lived': 1323, 'thus': 2164, 'far': 885, 'associated': 318, 'okay': 1549, 'worst': 2395, 'oct': 1538, 'adore': 244, 'evoked': 834, 'active': 238, 'comment': 555, 'section': 1876, 'shows': 1925, 'legendary': 1291, 'popular': 1666, 'mad': 1374, 'on': 1559, 'boy': 413, 'sought': 2005, 'freedom': 951, '2027': 83, 'nore': 1520, 'kai': 1232, 'tvd': 2240, 'fans': 884, 'aaaggggggggghhh': 211, 'consumed': 584, 'past': 1602, 'girl': 997, 'gave': 980, 'surely': 2095, 'true': 2223, 'till': 2168, 'collaboration': 548, 'birdy': 388, 'lovett': 1361, 'took': 2183, 'realise': 1746, 'eiji': 780, 'ash': 312, 'editing': 774, 'staring': 2031, 'camera': 460, 'creating': 616, 'thenk': 2142, 'felt': 901, 'learnt': 1284, 'paid': 1580, 'beauty': 361, 'pre': 1682, 'cheating': 504, 'sadness': 1837, 'ohh': 1547, 'obsessed': 1535, 'spotify': 2020, 'repeat': 1797, 'mental': 1422, 'wounds': 2398, 'fleeing': 925, 'vain': 2291, 'painful': 1582, 'guess': 1036, 'breathe': 424, 'happened': 1054, 'suddenly': 2080, 'smash': 1962, 'start': 2034, 'masterclass': 1394, 'battery': 349, 'ok': 1548, 'relatable': 1777, 'british': 429, 'vibes': 2306, 'congrats': 574, 'relate': 1778, 'accepts': 225, 'forgets': 936, 'road': 1816, 'recovery': 1767, 'battling': 352, 'health': 1073, 'definitely': 677, 'holds': 1106, 'prove': 1707, 'suffering': 2081, 'alone': 270, 'says': 1852, 'fine': 916, '2am': 97, 'ugly': 2246, 'blew': 397, 'xs': 2409, 'existed': 849, 'eight': 779, 'nostalgic': 1524, 'pass': 1595, 'generations': 986, 'classic': 530, 'across': 233, 'actually': 240, 'sm': 1959, 'breaks': 421, 'beautifully': 360, 'called': 456, 'bright': 426, 'outand': 1572, 'exists': 850, 'worth': 2396, 'eventually': 823, 'otherwise': 1570, 'plenty': 1655, 'youre': 2430, 'cares': 476, 'stronger': 2066, 'worry': 2393, 'planned': 1645, 'singer': 1940, 'rapper': 1737, 'loud': 1351, 'including': 1168, 'gorgeous': 1017, 'success': 2079, 'jerks': 1220, 'doubted': 738, 'fail': 870, 'building': 441, 'public': 1711, 'helping': 1088, 'nighters': 1509, 'commit': 557, 'nobody': 1513, 'replace': 1798, 'unique': 2261, 'petting': 1626, 'netflix': 1501, 'christmas': 522, 'tree': 2212, 'dreams': 745, 'clothes': 539, 'shoes': 1915, 'books': 407, 'sunrises': 2087, 'sunsets': 2088, 'ocean': 1537, 'sunlight': 2086, 'birthdays': 389, 'traditions': 2194, 'places': 1642, 'ability': 214, 'peruse': 1623, 'choose': 516, 'billion': 387, 'afraid': 249, 'earn': 762, 'rewards': 1809, 'flip': 928, 'job': 1224, 'career': 475, 'pizza': 1640, 'kittens': 1254, 'haircuts': 1043, 'roller': 1819, 'coasters': 541, 'cake': 452, 'growing': 1034, 'icecream': 1140, 'cookies': 591, 'candy': 465, 'popcorn': 1665, 'daydreaming': 659, 'halloween': 1046, 'parties': 1592, 'personality': 1622, 'bonfires': 405, 'rooftops': 1822, '101': 23, 'vacations': 2290, '102': 24, 'stories': 2051, '103': 25, 'telling': 2132, '104': 26, 'treehouses': 2214, '105': 27, 'starbucks': 2028, 'changed': 496, '107': 29, 'achieve': 230, '108': 30, 'talent': 2115, '109': 31, '110': 34, 'hanging': 1051, '111': 35, '112': 36, '113': 37, 'fulfilling': 965, '114': 38, 'fullest': 967, '115': 39, 'heck': 1082, '116': 40, 'devastated': 704, '117': 42, 'constantly': 580, 'praying': 1681, '118': 43, '119': 44, '120': 46, 'disappear': 720, '121': 47, 'bigger': 386, '122': 48, '123': 49, '124': 50, '125': 51, 'important': 1163, 'happen': 1053, 'netherlands': 1502, '0800': 16, '0113': 5, 'personal': 1621, 'hrvy': 1127, 'yjpe': 2425, 'lauv': 1275, 'ozwa': 1579, 'mkto': 1451, 'a4ds': 208, 'jordy': 1228, 'einm': 781, 'eastside': 767, 'benny': 376, 'blanco': 394, 'halsey': 1048, 'khalid': 1239, 'uvgy': 2287, '1d': 68, 'a4e': 209, 'cheerleader': 506, 'omi': 1557, 'qfw8': 1718, 'everybody': 826, 'talks': 2117, 'neon': 1498, '84le': 183, 'dear': 665, 'husband': 1137, 'meghan': 1416, 'trainor': 2196, 'backyard': 338, 'claire': 529, 'rosinkranz': 1824, 'shy8': 1927, 'shut': 1926, 'dance': 652, 'walk': 2324, 'moon': 1462, 'lx6q': 1366, 'ispy': 1207, 'kyle': 1262, 'gmpu': 1005, 'trap': 2202, 'queen': 1724, 'fetty': 903, 'wap': 2331, 'nkio': 1512, 'lmk': 1328, 'lil': 1311, 'xxel': 2410, 'ic24': 1138, 'dynamite': 759, 'bts': 438, 'wnzg': 2379, 'fun': 968, 'otters': 1571, 'hold': 1104, 'drift': 746, 'penguins': 1610, 'mate': 1401, 'pebble': 1608, 'cows': 609, 'message': 1426, 'bullied': 443, 'abused': 220, 'anxiety': 292, 'poverty': 1676, 'insecurities': 1183, 'forget': 935, 'weakness': 2345, 'gets': 989, 'ones': 1561, 'remain': 1789, 'hearts': 1080, 'stand': 2025, 'lovers': 1358, 'abuse': 219, 'kindness': 1248, 'treat': 2210, 'hole': 1107, 'chests': 508, 'whether': 2363, 'white': 2364, 'lgbtq': 1300, 'christian': 521, 'atheist': 320, 'criticize': 623, 'beg': 368, 'drugs': 753, 'starve': 2037, 'supposed': 2092, 'faith': 872, 'spreading': 2021, 'awareness': 330, 'happening': 1055, 'however': 1125, 'agree': 255, 'single': 1943, 'word': 2386, 'destroys': 702, 'ask': 314, 'woman': 2381, 'tryna': 2229, 'artist': 311, 'evryone': 837, 'story': 2053, 'relating': 1780, 'forgiving': 938, 'definitively': 679, 'merely': 1424, 'crybaby': 629, 'ready': 1744, 'studying': 2071, 'driver': 748, 'license': 1302, 'gen': 982, 'picked': 1634, 'stopped': 2049, 'connections': 578, 'certain': 492, 'difference': 715, 'snippets': 1971, 'instagram': 1186, 'decided': 670, 'longing': 1335, 'ashamed': 313, 'saw': 1849, 'ahaha': 257, 'searching': 1872, 'ahah': 256, 'fuck': 961, 'sittin': 1948, 'epic': 809, 'starts': 2036, 'open': 1563, 'scars': 1857, 'yet': 2424, 'month': 1459, 'depresions': 689, 'beutiful': 382, 'football': 933, 'grown': 1035, 'mgk': 1432, 'cousin': 604, 'severus': 1900, 'snape': 1970, 'scottish': 1866, 'peeps': 1609, 'hardstyle': 1063, 'tune': 2230, 'gaffs': 974, 'version': 2301, 'fukin': 964, 'hell': 1084, 'broke': 431, 'couple': 602, 'months': 1460, 'january': 1216, 'completely': 565, 'two': 2241, 'hour': 1123, 'throughout': 2161, 'though': 2155, 'chance': 494, 'truly': 2224, 'several': 1899, 'vomit': 2318, 'simply': 1936, 'describe': 693, 'anger': 287, 'sorrow': 2003, 'perhaps': 1617, 'exhausted': 845, 'overly': 1576, 'emotional': 794, 'period': 1618, 'endured': 801, 'hence': 1090, 'sure': 2094, 'issues': 1208, 'partners': 1594, 'reverbed': 1807, 'gotten': 1020, 'recently': 1761, 'iheart': 1149, 'whan': 2359, 'iwas': 1212, 'yers': 2420, 'dying': 758, 'since': 1937, 'grandma': 1025, 'needed': 1495, 'todays': 2174, 'emoji': 792, 'drivers': 749, 'released': 1785, 'normal': 1521, '2013': 72, '2014': 73, 'literal': 1319, 'goddd': 1008, 'near': 1492, 'loneliness': 1331, 'whole': 2365, 'oml': 1558, 'illnesses': 1151, 'toxic': 2193, 'baggage': 341, 'nostalgia': 1523, 'hey': 1096, 'welcome': 2355, 'manchester': 1387, 'ronaldo': 1821, 'put': 1717, 'tear': 2124, 'apart': 299, 'touch': 2186, 'wtf': 2407, 'bored': 408, 'september': 1894, '2yo': 98, 'kidding': 1241, 'yesterday': 2422, 'drug': 752, 'songtime': 1997, 'flys': 931, 'depressing': 691, 'matches': 1400, '333': 105, 'catch': 485, 'november': 1530, 'lets': 1297, 'become': 363, 'tokyo': 2177, 'prepare': 1686, 'shed': 1906, 'allls': 266, 'favourite': 894, 'older': 1552, 'crosses': 625, 'minds': 1443, 'album': 262, 'monsters': 1458, 'https': 1128, 'tomodell': 2180, 'lnk': 1329, 'hq': 1126, 'either': 782, 'iconic': 1142, 'turn': 2233, 'beat': 356, 'midnight': 1436, 'herat': 1091, 'losing': 1344, 'religion': 1788, 'damaged': 648, 'point': 1659, 'happens': 1056, 'alot': 271, 'healed': 1072, 'admiration': 243, 'beyond': 383, 'reasonable': 1758, 'proportion': 1704, 'piano': 1633, 'instrumentation': 1190, 'turkey': 2231, 'realy': 1755, 'beatiful': 357, '339m': 107, 'ana': 284, 'via': 2304, 'promised': 1702, 'lied': 1304, 'bruuuhhh': 437, 'anybody': 293, 'recomend': 1763, 'plis': 1656, 'cries': 619, 'helped': 1087, 'absolute': 216, 'piece': 1636, 'deam': 664, 'vampires': 2295, 'af': 247, 'weekly': 2351, 'deadmau5': 663, 'veldt': 2298, 'trick': 2216, 'odel': 1540, 'promising': 1703, 'relation': 1781, 'ruined': 1827, 'surprised': 2097, 'didnt': 711, 'seemed': 1881, 'homies': 1112, 'arthur': 310, 'morgan': 1463, 'mine': 1444, 'stay': 2041, 'regret': 1773, 'failed': 871, 'enough': 806, 'storm': 2052, 'rainbow': 1731, 'especially': 815, 'battled': 351, 'toughest': 2189, 'ease': 765, 'emerge': 790, 'choice': 514, 'carry': 480, 'preventing': 1690, 'born': 409, 'improve': 1165, 'incredibly': 1172, 'red': 1768, 'pandas': 1584, 'diners': 719, 'three': 2160, 'morning': 1464, 'soft': 1982, 'pillows': 1638, 'york': 2427, 'city': 527, 'seeing': 1879, 'trip': 2220, 'garbage': 978, 'country': 601, 'roadtrips': 1817, 'lottery': 1350, 'record': 1766, 'player': 1650, 'top': 2184, 'eiffel': 778, 'tower': 2192, 'cool': 592, 'pictures': 1635, 'meeting': 1415, 'thousands': 2158, 'ice': 1139, 'cream': 613, 'harry': 1064, 'potter': 1674, 'travelling': 2209, 'underwater': 2257, 'randomly': 1735, 'hero': 1093, 'street': 2058, 'hotel': 1121, 'trampolines': 2197, 'sent': 1892, 'joke': 1225, 'survival': 2100, 'treehouse': 2213, 'snorting': 1972, 'caring': 478, 'sees': 1884, 'embrace': 789, 'uniqueness': 2262, 'emperor': 796, 'chocolate': 513, 'nom': 1516, 'stargazing': 2030, 'purpose': 1715, 'ahead': 258, 'end': 798, 'stopping': 2050, 'achieving': 231, 'angels': 286, 'snowmen': 1976, 'snowball': 1974, 'fights': 909, 'exist': 848, 'possible': 1672, 'frowns': 958, 'upside': 2276, 'heroes': 1094, 'ordinary': 1567, 'extraordinary': 862, 'relaxing': 1784, 'bath': 347, 'stressful': 2061, 'lying': 1367, 'smashed': 1963, 'staying': 2042, 'films': 911, 'tea': 2121, 'coffee': 544, 'season': 1873, 'sherlock': 1908, 'cuddling': 633, 'stars': 2033, 'hug': 1129, 'havent': 1068, 'jk': 1223, 'session': 1897, 'crush': 627, 'ps': 1710, 'triggers': 2219, 'plz': 1657, 'classical': 531, 'brother': 434, 'myles': 1481, 'helps': 1089, 'collapsed': 549, 'omg': 1554, 'poetry': 1658, 'carthasis': 482, 'sensibility': 1890, 'connect': 576, 'cr7': 610, 'messi': 1428, 'springand': 2023, 'upon': 2274, 'upoh': 2273, 'loseand': 1342, 'lips': 1314, 'grateful': 1028, 'masterwork': 1399, 'blinks': 399, 'beginning': 369, 'smilling': 1967, 'tried': 2217, 'and': 285, 'jeez': 1219, 'whenever': 2362, 'goes': 1010, 'withe': 2377, 'luck': 1364, 'anyway': 297, 'spectacular': 2016, 'lovetom': 1360, 'lover': 1357, 'suitcase': 2083, 'leaves': 1287, 'empty': 797, 'disappears': 722, 'furniture': 970, 'appear': 301, 'everywhere': 831, 'previous': 1691, 'unable': 2250, 'yelling': 2418, 'hitting': 1102, 'stuck': 2069, 'distant': 733, 'disconnected': 726, 'trapped': 2203, 'incapable': 1167, 'ruins': 1828, 'unsaved': 2271, 'romance': 1820, 'abandoned': 213, 'half': 1045, 'comments': 556, 'gilbert': 996, 'keeper': 1235, 'bragging': 415, 'compared': 560, 'compare': 559, 'granted': 1026, 'salvatore': 1841, 'ahh': 259, 'turkish': 2232, 'disliked': 730, 'missed': 1448, 'buttom': 446, 'late': 1270, 'weeks': 2353, 'greatest': 1030, 'history': 1099, '04': 10, 'looks': 1339, 'deliberately': 683, 'cover': 605, 'mouth': 1465, 'versions': 2302, 'fornite': 941, 'mumble': 1473, 'rap': 1736, 'shorts': 1918, 'shedding': 1907, 'averygrayson': 329, 'laying': 1279, 'volume': 2317, 'ypu': 2432, 'childhood': 510, 'guys': 1039, '000': 0, 'aaaaaaaaaaaaaaaaaaaaa': 210, 'delenaaaaa': 682, 'rejected': 1775, 'judgemental': 1230, 'society': 1979, 'kim': 1245, 'namjoon': 1485, 'retrieve': 1803, 'similar': 1933, 'bitter': 392, 'sweet': 2105, 'symphony': 2107, 'dedicated': 673, 'besides': 378, 'idk': 1144, 'maaaybe': 1371, 'run': 1829, 'lonely': 1332, 'despite': 699, 'sick': 1928, 'lol': 1330, 'wake': 2322, 'sleep': 1953, 'therapist': 2145, 'incredible': 1171, 'longer': 1334, 'builds': 442, 'power': 1677, 'english': 804, 'ears': 763, 'langage': 1267, 'theres': 2146, 'scattered': 1859, 'rhythm': 1810, 'clip': 537, 'experienced': 853, 'sided': 1930, 'seven': 1898, 'loop': 1340, 'endgame': 799, 'debating': 668, 'thr': 2159, 'eye': 863, 'lynd': 1368, 'voglio': 2314, 'portarti': 1667, 'qualche': 1719, 'parte': 1591, 'cos': 598, 'sai': 1839, 'che': 502, 'mi': 1433, 'interessa': 1193, 'fa': 865, 'freddo': 949, 'dove': 739, 'ti': 2165, 'ho': 1103, 'portato': 1668, 'narcisi': 1486, 'una': 2249, 'bella': 374, 'stringa': 2063, 'fioriranno': 919, 'hanno': 1052, 'fatto': 891, 'la': 1263, 'scorsa': 1865, 'primavera': 1692, 'baciarti': 335, 'farti': 887, 'sentire': 1893, 'bene': 375, 'sono': 1998, 'solo': 1984, 'stanco': 2024, 'di': 708, 'condividere': 571, 'le': 1280, 'mie': 1437, 'notti': 1528, 'piangere': 1632, 'amare': 279, 'tutte': 2237, 'lacrime': 1264, 'consumate': 583, 'su': 2074, 'un': 2248, 'altro': 276, 'amore': 282, 'usate': 2281, 'se': 1870, 'qualcuno': 1720, 'ferisce': 902, 'combattere': 550, 'mia': 1434, 'mano': 1388, 'stata': 2038, 'rotta': 1825, 'volta': 2316, 'troppo': 2221, 'quindi': 1725, 'user': 2285, 'voce': 2313, 'sar': 1843, 'fottutamente': 942, 'maleducato': 1383, 'parole': 1589, 'vincono': 2310, 'sempre': 1887, 'perder': 1612, 'canterei': 469, 'canzone': 470, 'sarebbe': 1844, 'nostra': 1525, 'li': 1301, 'cantati': 468, 'tutti': 2238, 'cuore': 634, 'imparare': 1161, 'ad': 241, 'cantare': 467, 'innamorarmi': 1180, 'undrrstand': 2258, 'saturday': 1845, 'apologize': 300, 'scared': 1856, 'acted': 235, 'circumstances': 526, 'passionate': 1600, 'persevering': 1619, 'attitude': 322, 'carlos': 479, 'chords': 517, 'case': 483, 'goosebumps': 1016, 'arms': 307, 'definition': 678, 'magic': 1376, 'paula': 1604, 'passionnate': 1601, 'official': 1544, 'audio': 323, 'june': 1231, 'truck': 2222, 'lukaz': 1365, 'am': 278, 'euphoria': 821, 'understaning': 2256, 'express': 858, 'write': 2400, 'moves': 1467, 'patient': 1603, 'warmth': 2333, 'worse': 2394, 'mess': 1425, 'coldness': 547, 'weak': 2344, 'memorized': 1419, 'math': 1403, 'equations': 810, 'hahaha': 1041, 'submit': 2076, 'corrections': 597, 'bgm': 384, 'waste': 2335, 'ill': 1150, 'taday': 2110, 'ya': 2411, '333m': 106, 'privilege': 1693, 'wonder': 2382, 'stare': 2029, 'wall': 2327, 'perfec': 1613, 'uwu': 2288, 'wooooooow': 2385, 'yep': 2419, 'exactly': 839, 'drama': 742, 'sound': 2008, 'crack': 611, 'verge': 2299, 'teenager': 2129, 'touches': 2187, 'yeah': 2414, 'reminded': 1795, 'secretly': 1875, 'hermione': 1092, '08': 14, 'min': 1441, 'straight': 2055, 'update': 2272, 'march': 1390, 'walks': 2326, 'kissed': 1252, 'home': 1111, 'beside': 377, 'river': 1814, 'doubt': 737, 'louder': 1352, 'realising': 1748, 'turning': 2235, 'ughhh': 2245, 'master': 1393, 'omgg': 1556, 'tysm': 2243, 'muppets': 1474, 'lots': 1349, 'balling': 342, 'masterpierce': 1398, 'becomes': 364, 'unpleasant': 2268, 'stuff': 2072, 'insecure': 1182, 'immune': 1159, 'experiences': 854, 'intentions': 1192, 'essence': 816, 'count': 600, 'sobbed': 1977, 'lestin': 1295, 'parker': 1588, 'blonde': 400, 'hair': 1042, 'slow': 1957, 'transition': 2200, 'silence': 1932, 'frustration': 959, 'bubbled': 439, 'needs': 1496, 'despacito': 697, 'quit': 1727, 'lovee': 1356, 'affection': 248, 'return': 1804, 'complaints': 562, 'actions': 237, 'hairs': 1044, 'stick': 2045, 'recommend': 1764, 'amount': 283, 'bowling': 412, 'masterpice': 1395, 'reel': 1769, 'bar': 344, 'thnk': 2152, 'ilygsm': 1153, 'mwah': 1480, 'dies': 714, 'becoming': 365, 'numb': 1532, 'traumatised': 2206, 'disappointment': 723, 'towards': 2191, 'discovering': 727, '4th': 135, 'narcissist': 1487, 'saying': 1851, 'bye': 450, 'bonds': 404, 'declare': 671, 'free': 950, 'mercy': 1423, 'choir': 515, 'shivers': 1913, 'smiling': 1966, 'overwhelming': 1578, 'refuse': 1770, 'church': 524, 'extra': 861, 'transmits': 2201, 'unimaginable': 2260, 'depart': 686, 'wife': 2370, '8years': 194, 'okey': 1550, 'sharing': 1905, 'connected': 577, 'eachother': 760, 'someway': 1992, 'memory': 1420, 'mom': 1453, 'watering': 2340, 'shared': 1904, 'instrumental': 1189, 'vocals': 2312, 'sensitive': 1891, 'klaus': 1255, 'musics': 1478, 'fraser': 948, 'excuse': 843, 'increased': 1170, 'decade': 669, 'listenning': 1318, 'neither': 1497, 'writen': 2401, 'yestreday': 2423, 'flies': 926, 'simplest': 1935, 'disappeared': 721, 'noor': 1519, 'dubai': 755, 'social': 1978, 'media': 1413, 'abusive': 221, 'timeless': 2170, 'bc': 353, 'novel': 1529, 'pun': 1713, 'omgeee': 1555, 'cuss': 641, 'soo': 1999, 'raining': 1732, 'fu': 960, 'unbelievably': 2251, 'met': 1429, 'kennedy': 1237, 'studio': 2070, 'sigh': 1931, 'inspires': 1185, 'escalates': 812, 'easy': 768, 'throwing': 2163, 'lake': 1266, 'chose': 519, '2010s': 70, 'masterpieces': 1397, 'kind': 1246, 'remaind': 1790, 'james': 1214, 'blunt': 402, 'exsist': 860, 'showing': 1924, 'fallen': 875, 'soldiers': 1983, 'ww2': 2408, 'buzzin': 449, 'singers': 1941, 'loses': 1343, 'accent': 222, 'sits': 1947, 'knows': 1260, 'powerless': 1679, 'portrays': 1669, 'perfectly': 1616, 'ive': 1211, 'releasing': 1786, 'shocked': 1914, 'fucks': 963, 'soooooo': 2002, 'notes': 1526, 'window': 2373, 'rearview': 1756, 'mirror': 1446, 'bring': 427, 'hundred': 1132, 'pure': 1714, 'course': 603, 'tragic': 2195, 'grief': 1031, 'grieving': 1032, 'invest': 1203, 'jealous': 1218, 'irritated': 1206, 'treating': 2211, 'security': 1877, 'blanket': 395, 'shanarra': 1902, 'chronicle': 523, 'lmao': 1327, '3rd': 118, 'pleasure': 1654, 'thai': 2138, 'responsibilities': 1801, 'expected': 851, 'excited': 842, 'solving': 1986, 'abt': 218, 'cuz': 644, 'cute': 643, 'grades': 1022, 'arent': 305, 'wear': 2346, 'judged': 1229, 'harassed': 1060, 'concious': 569, 'wieght': 2369, 'fit': 923, 'standars': 2026, 'heartless': 1079, 'forgive': 937, 'thnx': 2153, 'jabr': 1213, 'sacrifice': 1834, 'all': 265, 'eternally': 820, 'musical': 1476, 'industry': 1176, 'desperately': 698, 'sincere': 1938, 'falseness': 877, 'faking': 873, 'vanity': 2296, 'lies': 1305, 'mainstream': 1379, 'evokes': 835, 'act': 234, 'infront': 1179, 'terrible': 2136, 'ignored': 1148, 'ending': 800, 'damiano': 649, 'david': 657, 'neskin': 1500, 'stefan': 2044, 'evidence': 832, 'men': 1421, 'rare': 1739, 'perfection': 1615, 'miusic': 1450, 'call': 455, 'drowning': 751, 'water': 2339, 'sun': 2085, 'mask': 1391, 'yawn': 2413, 'interested': 1194, 'exi': 847, 'survived': 2102, 'worldwide': 2390, 'pandemic': 1585, 'prefiro': 1685, 'composer': 566, 'offfff': 1543, 'offff': 1542, 'cok': 545, 'guzelsin': 1040, 'instead': 1188, 'son': 1994}\n"
          ]
        }
      ]
    },
    {
      "cell_type": "code",
      "metadata": {
        "id": "4W8CYAucPaUO"
      },
      "source": [
        "vocab = vect.vocabulary_"
      ],
      "execution_count": 18,
      "outputs": []
    },
    {
      "cell_type": "code",
      "metadata": {
        "colab": {
          "base_uri": "https://localhost:8080/"
        },
        "id": "y3D1zMx5PfuB",
        "outputId": "10d8b285-5989-4aa5-da43-d35c5b148d90"
      },
      "source": [
        "from sklearn.linear_model import LogisticRegression\n",
        "lr = LogisticRegression()\n",
        "lr.fit(tf_train,y_train)"
      ],
      "execution_count": 19,
      "outputs": [
        {
          "output_type": "execute_result",
          "data": {
            "text/plain": [
              "LogisticRegression(C=1.0, class_weight=None, dual=False, fit_intercept=True,\n",
              "                   intercept_scaling=1, l1_ratio=None, max_iter=100,\n",
              "                   multi_class='auto', n_jobs=None, penalty='l2',\n",
              "                   random_state=None, solver='lbfgs', tol=0.0001, verbose=0,\n",
              "                   warm_start=False)"
            ]
          },
          "metadata": {},
          "execution_count": 19
        }
      ]
    },
    {
      "cell_type": "markdown",
      "metadata": {
        "id": "asEO9XOIPkrN"
      },
      "source": [
        "**Accuracy score on training dataset**"
      ]
    },
    {
      "cell_type": "code",
      "metadata": {
        "colab": {
          "base_uri": "https://localhost:8080/"
        },
        "id": "EzKEEqrwPhW2",
        "outputId": "2a22585e-967b-40f6-8037-ff83123e3dd1"
      },
      "source": [
        "lr.score(tf_train,y_train)"
      ],
      "execution_count": 20,
      "outputs": [
        {
          "output_type": "execute_result",
          "data": {
            "text/plain": [
              "0.9753521126760564"
            ]
          },
          "metadata": {},
          "execution_count": 20
        }
      ]
    },
    {
      "cell_type": "markdown",
      "metadata": {
        "id": "X8j22NanPq3e"
      },
      "source": [
        "**Accuracy score on test dataset i.e got from the splitting**"
      ]
    },
    {
      "cell_type": "code",
      "metadata": {
        "colab": {
          "base_uri": "https://localhost:8080/"
        },
        "id": "t5FFTb6CPo-j",
        "outputId": "00827ac7-4df9-4f8e-b980-5f75cf999893"
      },
      "source": [
        "lr.score(tf_test,y_test)"
      ],
      "execution_count": 21,
      "outputs": [
        {
          "output_type": "execute_result",
          "data": {
            "text/plain": [
              "0.8356807511737089"
            ]
          },
          "metadata": {},
          "execution_count": 21
        }
      ]
    },
    {
      "cell_type": "markdown",
      "metadata": {
        "id": "g4Nee4c3PwjF"
      },
      "source": [
        "**Make predictions on the test dataset i.e. unseen data to the model**"
      ]
    },
    {
      "cell_type": "code",
      "metadata": {
        "id": "lixrvN6hPt3u"
      },
      "source": [
        "expected = y_test\n",
        "predicted = lr.predict(tf_test)"
      ],
      "execution_count": 22,
      "outputs": []
    },
    {
      "cell_type": "markdown",
      "metadata": {
        "id": "GKQQfZNdP1J1"
      },
      "source": [
        "**plot confusion matrix for the test dataset**"
      ]
    },
    {
      "cell_type": "code",
      "metadata": {
        "id": "1Jk-FHkgPzOK"
      },
      "source": [
        "from mlxtend.plotting import plot_confusion_matrix\n",
        "import matplotlib.pyplot as plt\n",
        "import numpy as np\n",
        "\n",
        "from sklearn import metrics"
      ],
      "execution_count": 26,
      "outputs": []
    },
    {
      "cell_type": "code",
      "metadata": {
        "colab": {
          "base_uri": "https://localhost:8080/"
        },
        "id": "Y2wCHWyMP4Mk",
        "outputId": "cc865495-33ad-4d8b-8bc6-8077cf9d10d8"
      },
      "source": [
        "pip install mlxtend"
      ],
      "execution_count": 27,
      "outputs": [
        {
          "output_type": "stream",
          "name": "stdout",
          "text": [
            "Requirement already satisfied: mlxtend in /usr/local/lib/python3.7/dist-packages (0.14.0)\n",
            "Requirement already satisfied: setuptools in /usr/local/lib/python3.7/dist-packages (from mlxtend) (57.4.0)\n",
            "Requirement already satisfied: scikit-learn>=0.18 in /usr/local/lib/python3.7/dist-packages (from mlxtend) (0.22.2.post1)\n",
            "Requirement already satisfied: pandas>=0.17.1 in /usr/local/lib/python3.7/dist-packages (from mlxtend) (1.1.5)\n",
            "Requirement already satisfied: scipy>=0.17 in /usr/local/lib/python3.7/dist-packages (from mlxtend) (1.4.1)\n",
            "Requirement already satisfied: matplotlib>=1.5.1 in /usr/local/lib/python3.7/dist-packages (from mlxtend) (3.2.2)\n",
            "Requirement already satisfied: numpy>=1.10.4 in /usr/local/lib/python3.7/dist-packages (from mlxtend) (1.19.5)\n",
            "Requirement already satisfied: kiwisolver>=1.0.1 in /usr/local/lib/python3.7/dist-packages (from matplotlib>=1.5.1->mlxtend) (1.3.2)\n",
            "Requirement already satisfied: pyparsing!=2.0.4,!=2.1.2,!=2.1.6,>=2.0.1 in /usr/local/lib/python3.7/dist-packages (from matplotlib>=1.5.1->mlxtend) (2.4.7)\n",
            "Requirement already satisfied: cycler>=0.10 in /usr/local/lib/python3.7/dist-packages (from matplotlib>=1.5.1->mlxtend) (0.11.0)\n",
            "Requirement already satisfied: python-dateutil>=2.1 in /usr/local/lib/python3.7/dist-packages (from matplotlib>=1.5.1->mlxtend) (2.8.2)\n",
            "Requirement already satisfied: pytz>=2017.2 in /usr/local/lib/python3.7/dist-packages (from pandas>=0.17.1->mlxtend) (2018.9)\n",
            "Requirement already satisfied: six>=1.5 in /usr/local/lib/python3.7/dist-packages (from python-dateutil>=2.1->matplotlib>=1.5.1->mlxtend) (1.15.0)\n",
            "Requirement already satisfied: joblib>=0.11 in /usr/local/lib/python3.7/dist-packages (from scikit-learn>=0.18->mlxtend) (1.1.0)\n"
          ]
        }
      ]
    },
    {
      "cell_type": "code",
      "metadata": {
        "colab": {
          "base_uri": "https://localhost:8080/",
          "height": 313
        },
        "id": "tsjb9fGxP6TR",
        "outputId": "3f0fcfe9-d0d6-4c0c-a308-2c8863ac3953"
      },
      "source": [
        "cf = metrics.confusion_matrix(expected,predicted,labels = [1,-1])\n",
        "print(cf)\n",
        "## this command is only for google collab \n",
        "## in the below figure \" 1 is actually showing -1 and 0 is actually showing 1\"\n",
        "fig, ax = plot_confusion_matrix(conf_mat = cf)\n",
        "                                \n",
        "## It canbe used in any platform\n",
        "# fig, ax = plot_confusion_matrix(conf_mat = cf, class_names = [1,-1])\n",
        "plt.show()"
      ],
      "execution_count": 28,
      "outputs": [
        {
          "output_type": "stream",
          "name": "stdout",
          "text": [
            "[[ 77  30]\n",
            " [  5 101]]\n"
          ]
        },
        {
          "output_type": "display_data",
          "data": {
            "image/png": "[encoded data removed]",
            "text/plain": [
              "<Figure size 432x288 with 1 Axes>"
            ]
          },
          "metadata": {
            "needs_background": "light"
          }
        }
      ]
    },
    {
      "cell_type": "code",
      "metadata": {
        "colab": {
          "base_uri": "https://localhost:8080/"
        },
        "id": "mvyyqJu5QEg3",
        "outputId": "c5df431d-245d-4882-e0a4-d988c3ac00c5"
      },
      "source": [
        "from sklearn import metrics\n",
        "print(metrics.classification_report(expected, predicted))\n",
        "# print(metrics.confusion_matrix(expected,predicted))"
      ],
      "execution_count": 29,
      "outputs": [
        {
          "output_type": "stream",
          "name": "stdout",
          "text": [
            "              precision    recall  f1-score   support\n",
            "\n",
            "          -1       0.77      0.95      0.85       106\n",
            "           1       0.94      0.72      0.81       107\n",
            "\n",
            "    accuracy                           0.84       213\n",
            "   macro avg       0.86      0.84      0.83       213\n",
            "weighted avg       0.86      0.84      0.83       213\n",
            "\n"
          ]
        }
      ]
    },
    {
      "cell_type": "markdown",
      "metadata": {
        "id": "cHgUm1hkQU1B"
      },
      "source": [
        "**find the F1 score**"
      ]
    },
    {
      "cell_type": "code",
      "metadata": {
        "colab": {
          "base_uri": "https://localhost:8080/"
        },
        "id": "V_V3UiHrQQwq",
        "outputId": "61e9c1f6-1993-436f-9f24-e80d90cb5282"
      },
      "source": [
        "from sklearn.metrics import f1_score\n",
        "f1_score(expected, predicted, average='macro')"
      ],
      "execution_count": 30,
      "outputs": [
        {
          "output_type": "execute_result",
          "data": {
            "text/plain": [
              "0.83356774496015"
            ]
          },
          "metadata": {},
          "execution_count": 30
        }
      ]
    },
    {
      "cell_type": "code",
      "metadata": {
        "id": "-qKrhrlNQYZz"
      },
      "source": [
        ""
      ],
      "execution_count": null,
      "outputs": []
    }
  ]
}