{
  "nbformat": 4,
  "nbformat_minor": 0,
  "metadata": {
    "colab": {
      "name": "Naive_bayes.ipynb",
      "provenance": [],
      "collapsed_sections": [],
      "authorship_tag": "ABX9TyP0R83WxH5vLpYHO67aYjU2",
      "include_colab_link": true
    },
    "kernelspec": {
      "name": "python3",
      "display_name": "Python 3"
    },
    "language_info": {
      "name": "python"
    }
  },
  "cells": [
    {
      "cell_type": "markdown",
      "metadata": {
        "id": "view-in-github",
        "colab_type": "text"
      },
      "source": [
        "<a href=\"https://colab.research.google.com/github/calzateu/Numerical_Analysis/blob/main/code/Sentiment_analysis/Naive_bayes.ipynb\" target=\"_parent\"><img src=\"https://colab.research.google.com/assets/colab-badge.svg\" alt=\"Open In Colab\"/></a>"
      ]
    },
    {
      "cell_type": "code",
      "metadata": {
        "id": "bqfRjS6Ca6Bh"
      },
      "source": [
        "import pandas as pd"
      ],
      "execution_count": 1,
      "outputs": []
    },
    {
      "cell_type": "code",
      "metadata": {
        "id": "jBpPMshuegbG"
      },
      "source": [
        ""
      ],
      "execution_count": 1,
      "outputs": []
    },
    {
      "cell_type": "code",
      "metadata": {
        "id": "m5nVLS5QfT6U"
      },
      "source": [
        "data = pd.read_csv('Dataset-with-sentiments.csv')"
      ],
      "execution_count": 2,
      "outputs": []
    },
    {
      "cell_type": "code",
      "metadata": {
        "colab": {
          "base_uri": "https://localhost:8080/",
          "height": 255
        },
        "id": "Tie1NMm4fhn7",
        "outputId": "3cb7c541-7612-40f5-8fae-a46e743b3d34"
      },
      "source": [
        "data.head(5)"
      ],
      "execution_count": 3,
      "outputs": [
        {
          "output_type": "execute_result",
          "data": {
            "text/html": [
              "<div>\n",
              "<style scoped>\n",
              "    .dataframe tbody tr th:only-of-type {\n",
              "        vertical-align: middle;\n",
              "    }\n",
              "\n",
              "    .dataframe tbody tr th {\n",
              "        vertical-align: top;\n",
              "    }\n",
              "\n",
              "    .dataframe thead th {\n",
              "        text-align: right;\n",
              "    }\n",
              "</style>\n",
              "<table border=\"1\" class=\"dataframe\">\n",
              "  <thead>\n",
              "    <tr style=\"text-align: right;\">\n",
              "      <th></th>\n",
              "      <th>Video ID</th>\n",
              "      <th>Comment ID</th>\n",
              "      <th>comments</th>\n",
              "      <th>Likes</th>\n",
              "      <th>polarity</th>\n",
              "      <th>pol_cat</th>\n",
              "      <th>stop_comments</th>\n",
              "    </tr>\n",
              "  </thead>\n",
              "  <tbody>\n",
              "    <tr>\n",
              "      <th>0</th>\n",
              "      <td>MwpMEbgC7DA</td>\n",
              "      <td>UgzSCaG-BeNW0LkW2px4AaABAg</td>\n",
              "      <td>that  s  beautiful</td>\n",
              "      <td>0</td>\n",
              "      <td>0.850000</td>\n",
              "      <td>1</td>\n",
              "      <td>beautiful</td>\n",
              "    </tr>\n",
              "    <tr>\n",
              "      <th>1</th>\n",
              "      <td>MwpMEbgC7DA</td>\n",
              "      <td>Ugw6J6RLt2VGaKMAz4h4AaABAg</td>\n",
              "      <td>imagine  being  able  to  listen  to  this  so...</td>\n",
              "      <td>176</td>\n",
              "      <td>0.375000</td>\n",
              "      <td>1</td>\n",
              "      <td>imagine able listen song like first time ever ...</td>\n",
              "    </tr>\n",
              "    <tr>\n",
              "      <th>2</th>\n",
              "      <td>MwpMEbgC7DA</td>\n",
              "      <td>UgwyFvqt1jZGR1l32sl4AaABAg</td>\n",
              "      <td>i've  memorized  this  song  more  than  math ...</td>\n",
              "      <td>4</td>\n",
              "      <td>0.333333</td>\n",
              "      <td>1</td>\n",
              "      <td>'ve memorized song math equations think song m...</td>\n",
              "    </tr>\n",
              "    <tr>\n",
              "      <th>3</th>\n",
              "      <td>MwpMEbgC7DA</td>\n",
              "      <td>UgzzG2fg2Aq8HjJAQUB4AaABAg</td>\n",
              "      <td>every  time  i  listen  to  this  reminds  me ...</td>\n",
              "      <td>0</td>\n",
              "      <td>0.850000</td>\n",
              "      <td>1</td>\n",
              "      <td>every time listen reminds tvd elena damon rain...</td>\n",
              "    </tr>\n",
              "    <tr>\n",
              "      <th>4</th>\n",
              "      <td>MwpMEbgC7DA</td>\n",
              "      <td>Ugwx9ephHmJlIN8Sc614AaABAg</td>\n",
              "      <td>forever  my  cry  song</td>\n",
              "      <td>2</td>\n",
              "      <td>0.000000</td>\n",
              "      <td>0</td>\n",
              "      <td>forever cry song</td>\n",
              "    </tr>\n",
              "  </tbody>\n",
              "</table>\n",
              "</div>"
            ],
            "text/plain": [
              "      Video ID  ...                                      stop_comments\n",
              "0  MwpMEbgC7DA  ...                                          beautiful\n",
              "1  MwpMEbgC7DA  ...  imagine able listen song like first time ever ...\n",
              "2  MwpMEbgC7DA  ...  've memorized song math equations think song m...\n",
              "3  MwpMEbgC7DA  ...  every time listen reminds tvd elena damon rain...\n",
              "4  MwpMEbgC7DA  ...                                   forever cry song\n",
              "\n",
              "[5 rows x 7 columns]"
            ]
          },
          "metadata": {},
          "execution_count": 3
        }
      ]
    },
    {
      "cell_type": "code",
      "metadata": {
        "colab": {
          "base_uri": "https://localhost:8080/"
        },
        "id": "UDHBlDfefjYy",
        "outputId": "3a3d48f9-f108-4a17-c9e6-17e1f0064e71"
      },
      "source": [
        "sum(data['stop_comments'].isnull())"
      ],
      "execution_count": 4,
      "outputs": [
        {
          "output_type": "execute_result",
          "data": {
            "text/plain": [
              "2"
            ]
          },
          "metadata": {},
          "execution_count": 4
        }
      ]
    },
    {
      "cell_type": "code",
      "metadata": {
        "id": "YkhVNDkbhDB5"
      },
      "source": [
        "data = data[data['stop_comments'].notnull()]"
      ],
      "execution_count": 5,
      "outputs": []
    },
    {
      "cell_type": "code",
      "metadata": {
        "colab": {
          "base_uri": "https://localhost:8080/"
        },
        "id": "AxR2AG-WhL9w",
        "outputId": "a6d40fbf-3b77-486a-d3e5-7213e384b281"
      },
      "source": [
        "sum(data['stop_comments'].isnull())"
      ],
      "execution_count": 6,
      "outputs": [
        {
          "output_type": "execute_result",
          "data": {
            "text/plain": [
              "0"
            ]
          },
          "metadata": {},
          "execution_count": 6
        }
      ]
    },
    {
      "cell_type": "code",
      "metadata": {
        "id": "Cb0f3e_jhNq9"
      },
      "source": [
        "from sklearn.model_selection import train_test_split"
      ],
      "execution_count": 7,
      "outputs": []
    },
    {
      "cell_type": "code",
      "metadata": {
        "id": "3GntkfxIhUk2"
      },
      "source": [
        "X_train,X_test,y_train,y_test = train_test_split(data['stop_comments'],data['pol_cat'],test_size = 0.2,random_state = 324)"
      ],
      "execution_count": 8,
      "outputs": []
    },
    {
      "cell_type": "code",
      "metadata": {
        "colab": {
          "base_uri": "https://localhost:8080/"
        },
        "id": "nfuCfSwthWEt",
        "outputId": "6054371c-5458-4e7c-a1ce-0fa67eb4423b"
      },
      "source": [
        "X_train.shape"
      ],
      "execution_count": 9,
      "outputs": [
        {
          "output_type": "execute_result",
          "data": {
            "text/plain": [
              "(1801,)"
            ]
          },
          "metadata": {},
          "execution_count": 9
        }
      ]
    },
    {
      "cell_type": "code",
      "metadata": {
        "colab": {
          "base_uri": "https://localhost:8080/"
        },
        "id": "vxvhrIJOhYH_",
        "outputId": "7be98cea-3089-4727-b7e4-61d6fccd0977"
      },
      "source": [
        "X_test.shape"
      ],
      "execution_count": 10,
      "outputs": [
        {
          "output_type": "execute_result",
          "data": {
            "text/plain": [
              "(451,)"
            ]
          },
          "metadata": {},
          "execution_count": 10
        }
      ]
    },
    {
      "cell_type": "code",
      "metadata": {
        "colab": {
          "base_uri": "https://localhost:8080/"
        },
        "id": "0xbbagPshabW",
        "outputId": "c184c1a9-a80a-4cc2-9e91-cdf2fe852dca"
      },
      "source": [
        "data['pol_cat'].value_counts()"
      ],
      "execution_count": 11,
      "outputs": [
        {
          "output_type": "execute_result",
          "data": {
            "text/plain": [
              "1    1217\n",
              "0    1035\n",
              "Name: pol_cat, dtype: int64"
            ]
          },
          "metadata": {},
          "execution_count": 11
        }
      ]
    },
    {
      "cell_type": "markdown",
      "metadata": {
        "id": "UoG5uLHwhfab"
      },
      "source": [
        "## **Gonna apply Naive Bayes**"
      ]
    },
    {
      "cell_type": "code",
      "metadata": {
        "id": "8XgLSXMghmij"
      },
      "source": [
        "from sklearn.feature_extraction.text import CountVectorizer, TfidfVectorizer \n",
        "#vect = CountVectorizer()\n",
        "#tf_train = vect.fit_transform(X_train)\n",
        "#tf_test = vect.transform(X_test)\n",
        "\n",
        "vect = TfidfVectorizer()\n",
        "tf_train = vect.fit_transform(X_train)\n",
        "tf_test = vect.transform(X_test)"
      ],
      "execution_count": 12,
      "outputs": []
    },
    {
      "cell_type": "code",
      "metadata": {
        "colab": {
          "base_uri": "https://localhost:8080/"
        },
        "id": "oP8QcFJYho44",
        "outputId": "baa24acd-e78d-4fe1-f2de-adfd2373638a"
      },
      "source": [
        "tf_train"
      ],
      "execution_count": 13,
      "outputs": [
        {
          "output_type": "execute_result",
          "data": {
            "text/plain": [
              "<1801x3368 sparse matrix of type '<class 'numpy.float64'>'\n",
              "\twith 15902 stored elements in Compressed Sparse Row format>"
            ]
          },
          "metadata": {},
          "execution_count": 13
        }
      ]
    },
    {
      "cell_type": "code",
      "metadata": {
        "colab": {
          "base_uri": "https://localhost:8080/"
        },
        "id": "elLBWcohhtGZ",
        "outputId": "4d6e92fb-68b6-4f18-e156-0010736a0d79"
      },
      "source": [
        "tf_train.shape"
      ],
      "execution_count": 14,
      "outputs": [
        {
          "output_type": "execute_result",
          "data": {
            "text/plain": [
              "(1801, 3368)"
            ]
          },
          "metadata": {},
          "execution_count": 14
        }
      ]
    },
    {
      "cell_type": "code",
      "metadata": {
        "id": "hao8LQ6hhu8a"
      },
      "source": [
        "#print(vect.vocabulary_)"
      ],
      "execution_count": 15,
      "outputs": []
    },
    {
      "cell_type": "code",
      "metadata": {
        "id": "7IjIaRKPhxJI"
      },
      "source": [
        "#vocab = vect.vocabulary_"
      ],
      "execution_count": 17,
      "outputs": []
    },
    {
      "cell_type": "code",
      "metadata": {
        "id": "1ElqRDtjiiV2"
      },
      "source": [
        ""
      ],
      "execution_count": null,
      "outputs": []
    },
    {
      "cell_type": "code",
      "metadata": {
        "id": "_biqw0FviicD"
      },
      "source": [
        ""
      ],
      "execution_count": 17,
      "outputs": []
    },
    {
      "cell_type": "markdown",
      "metadata": {
        "id": "Iu_c1c6WMx2F"
      },
      "source": [
        "Aplicando lo de TfidfTransformer mejora considerablemente. Buscar por qué"
      ]
    },
    {
      "cell_type": "code",
      "metadata": {
        "id": "KbMh8rMDDnmz"
      },
      "source": [
        "# Create model(naive bayes) and training. \n",
        "from sklearn.naive_bayes import MultinomialNB\n",
        "clf = MultinomialNB().fit(tf_train, y_train)"
      ],
      "execution_count": 20,
      "outputs": []
    },
    {
      "cell_type": "markdown",
      "metadata": {
        "id": "F7QE42oWFg77"
      },
      "source": [
        "**Accuracy score on training dataset**"
      ]
    },
    {
      "cell_type": "code",
      "metadata": {
        "colab": {
          "base_uri": "https://localhost:8080/"
        },
        "id": "1ZgHEsuGFkAD",
        "outputId": "8626418f-2005-476f-af57-0fa6fbb77528"
      },
      "source": [
        "clf.score(tf_train, y_train)"
      ],
      "execution_count": 21,
      "outputs": [
        {
          "output_type": "execute_result",
          "data": {
            "text/plain": [
              "0.9156024430871738"
            ]
          },
          "metadata": {},
          "execution_count": 21
        }
      ]
    },
    {
      "cell_type": "markdown",
      "metadata": {
        "id": "gCInoQ9cFqNi"
      },
      "source": [
        "**Accuracy score on test dataset i.e got from the splitting**"
      ]
    },
    {
      "cell_type": "code",
      "metadata": {
        "colab": {
          "base_uri": "https://localhost:8080/"
        },
        "id": "RcmwiAgHE8Z4",
        "outputId": "2d56405c-eebe-40e9-f817-b1d1da104903"
      },
      "source": [
        "clf.score(tf_test, y_test)"
      ],
      "execution_count": 22,
      "outputs": [
        {
          "output_type": "execute_result",
          "data": {
            "text/plain": [
              "0.753880266075388"
            ]
          },
          "metadata": {},
          "execution_count": 22
        }
      ]
    },
    {
      "cell_type": "markdown",
      "metadata": {
        "id": "F_M2iwQ-Fyr9"
      },
      "source": [
        "**Make predictions on the test dataset i.e. unseen data to the model**"
      ]
    },
    {
      "cell_type": "code",
      "metadata": {
        "id": "jLyVfmssFY5j"
      },
      "source": [
        "expected = y_test\n",
        "predicted = clf.predict(tf_test)"
      ],
      "execution_count": 23,
      "outputs": []
    },
    {
      "cell_type": "markdown",
      "metadata": {
        "id": "Zj5oBRyNF-B5"
      },
      "source": [
        "**plot confusion matrix for the test dataset**"
      ]
    },
    {
      "cell_type": "code",
      "metadata": {
        "id": "QUihu8HWFdrH"
      },
      "source": [
        "from mlxtend.plotting import plot_confusion_matrix\n",
        "import matplotlib.pyplot as plt\n",
        "import numpy as np\n",
        "\n",
        "from sklearn import metrics"
      ],
      "execution_count": 24,
      "outputs": []
    },
    {
      "cell_type": "code",
      "metadata": {
        "colab": {
          "base_uri": "https://localhost:8080/"
        },
        "id": "HkmvQAxnGByb",
        "outputId": "e8758522-234e-4e46-f194-0b1b6fed808e"
      },
      "source": [
        "pip install mlxtend"
      ],
      "execution_count": 25,
      "outputs": [
        {
          "output_type": "stream",
          "name": "stdout",
          "text": [
            "Requirement already satisfied: mlxtend in /usr/local/lib/python3.7/dist-packages (0.14.0)\n",
            "Requirement already satisfied: pandas>=0.17.1 in /usr/local/lib/python3.7/dist-packages (from mlxtend) (1.1.5)\n",
            "Requirement already satisfied: setuptools in /usr/local/lib/python3.7/dist-packages (from mlxtend) (57.4.0)\n",
            "Requirement already satisfied: scipy>=0.17 in /usr/local/lib/python3.7/dist-packages (from mlxtend) (1.4.1)\n",
            "Requirement already satisfied: numpy>=1.10.4 in /usr/local/lib/python3.7/dist-packages (from mlxtend) (1.19.5)\n",
            "Requirement already satisfied: scikit-learn>=0.18 in /usr/local/lib/python3.7/dist-packages (from mlxtend) (1.0.1)\n",
            "Requirement already satisfied: matplotlib>=1.5.1 in /usr/local/lib/python3.7/dist-packages (from mlxtend) (3.2.2)\n",
            "Requirement already satisfied: kiwisolver>=1.0.1 in /usr/local/lib/python3.7/dist-packages (from matplotlib>=1.5.1->mlxtend) (1.3.2)\n",
            "Requirement already satisfied: cycler>=0.10 in /usr/local/lib/python3.7/dist-packages (from matplotlib>=1.5.1->mlxtend) (0.11.0)\n",
            "Requirement already satisfied: python-dateutil>=2.1 in /usr/local/lib/python3.7/dist-packages (from matplotlib>=1.5.1->mlxtend) (2.8.2)\n",
            "Requirement already satisfied: pyparsing!=2.0.4,!=2.1.2,!=2.1.6,>=2.0.1 in /usr/local/lib/python3.7/dist-packages (from matplotlib>=1.5.1->mlxtend) (3.0.6)\n",
            "Requirement already satisfied: pytz>=2017.2 in /usr/local/lib/python3.7/dist-packages (from pandas>=0.17.1->mlxtend) (2018.9)\n",
            "Requirement already satisfied: six>=1.5 in /usr/local/lib/python3.7/dist-packages (from python-dateutil>=2.1->matplotlib>=1.5.1->mlxtend) (1.15.0)\n",
            "Requirement already satisfied: joblib>=0.11 in /usr/local/lib/python3.7/dist-packages (from scikit-learn>=0.18->mlxtend) (1.1.0)\n",
            "Requirement already satisfied: threadpoolctl>=2.0.0 in /usr/local/lib/python3.7/dist-packages (from scikit-learn>=0.18->mlxtend) (3.0.0)\n"
          ]
        }
      ]
    },
    {
      "cell_type": "code",
      "metadata": {
        "colab": {
          "base_uri": "https://localhost:8080/",
          "height": 367
        },
        "id": "McMSf7OQGDrP",
        "outputId": "6a821830-9b69-44e2-ac40-47043d065a91"
      },
      "source": [
        "cf = metrics.confusion_matrix(expected,predicted,labels = [1,-1])\n",
        "print(cf)\n",
        "## this command is only for google collab \n",
        "## in the below figure \" 1 is actually showing -1 and 0 is actually showing 1\"\n",
        "fig, ax = plot_confusion_matrix(conf_mat = cf)\n",
        "                                \n",
        "## It canbe used in any platform\n",
        "# fig, ax = plot_confusion_matrix(conf_mat = cf, class_names = [1,-1])\n",
        "plt.show()"
      ],
      "execution_count": 26,
      "outputs": [
        {
          "output_type": "stream",
          "name": "stdout",
          "text": [
            "[[232   0]\n",
            " [  0   0]]\n"
          ]
        },
        {
          "output_type": "stream",
          "name": "stderr",
          "text": [
            "/usr/local/lib/python3.7/dist-packages/mlxtend/plotting/plot_confusion_matrix.py:59: RuntimeWarning: invalid value encountered in true_divide\n",
            "  normed_conf_mat = conf_mat.astype('float') / total_samples\n"
          ]
        },
        {
          "output_type": "display_data",
          "data": {
            "image/png": "[encoded data removed]",
            "text/plain": [
              "<Figure size 432x288 with 1 Axes>"
            ]
          },
          "metadata": {
            "needs_background": "light"
          }
        }
      ]
    },
    {
      "cell_type": "code",
      "metadata": {
        "colab": {
          "base_uri": "https://localhost:8080/"
        },
        "id": "h0dph9WNGHtn",
        "outputId": "ac2da10a-6fa9-4095-863c-3af711e58cb0"
      },
      "source": [
        "from sklearn import metrics\n",
        "print(metrics.classification_report(expected, predicted))\n",
        "# print(metrics.confusion_matrix(expected,predicted))"
      ],
      "execution_count": 27,
      "outputs": [
        {
          "output_type": "stream",
          "name": "stdout",
          "text": [
            "              precision    recall  f1-score   support\n",
            "\n",
            "           0       0.96      0.50      0.66       215\n",
            "           1       0.68      0.98      0.81       236\n",
            "\n",
            "    accuracy                           0.75       451\n",
            "   macro avg       0.82      0.74      0.73       451\n",
            "weighted avg       0.82      0.75      0.74       451\n",
            "\n"
          ]
        }
      ]
    },
    {
      "cell_type": "markdown",
      "metadata": {
        "id": "-3Hs_MdiGjPr"
      },
      "source": [
        "**find the F1 score**"
      ]
    },
    {
      "cell_type": "code",
      "metadata": {
        "colab": {
          "base_uri": "https://localhost:8080/"
        },
        "id": "H9D3_w7GGgbD",
        "outputId": "19740513-94d8-40d9-f580-f5300cfbf518"
      },
      "source": [
        "from sklearn.metrics import f1_score\n",
        "f1_score(expected, predicted, average='macro')"
      ],
      "execution_count": 28,
      "outputs": [
        {
          "output_type": "execute_result",
          "data": {
            "text/plain": [
              "0.7337534902273635"
            ]
          },
          "metadata": {},
          "execution_count": 28
        }
      ]
    },
    {
      "cell_type": "code",
      "metadata": {
        "id": "PCGYfoqWGmMT"
      },
      "source": [
        ""
      ],
      "execution_count": null,
      "outputs": []
    },
    {
      "cell_type": "markdown",
      "metadata": {
        "id": "j6DBgsCgfcFT"
      },
      "source": [
        "# **Test the model with the comments of the other video**"
      ]
    },
    {
      "cell_type": "code",
      "metadata": {
        "id": "SDsQKPeVfWJu"
      },
      "source": [
        "data_test = pd.read_csv('Video_2/Dataset-with-sentiments.csv')"
      ],
      "execution_count": 29,
      "outputs": []
    },
    {
      "cell_type": "code",
      "metadata": {
        "id": "m0FzZHOtfWMP",
        "outputId": "f37ad681-5542-411a-8f9b-23cdbbf60011",
        "colab": {
          "base_uri": "https://localhost:8080/"
        }
      },
      "source": [
        "sum(data_test['stop_comments'].isnull())"
      ],
      "execution_count": 30,
      "outputs": [
        {
          "output_type": "execute_result",
          "data": {
            "text/plain": [
              "0"
            ]
          },
          "metadata": {},
          "execution_count": 30
        }
      ]
    },
    {
      "cell_type": "code",
      "metadata": {
        "id": "ygLliTaIffOS"
      },
      "source": [
        "data_test = data_test[data_test['stop_comments'].notnull()]"
      ],
      "execution_count": 31,
      "outputs": []
    },
    {
      "cell_type": "code",
      "metadata": {
        "id": "YODFJnhQfg6A",
        "outputId": "a2aded0f-3cc5-4312-d3ae-11d31046848c",
        "colab": {
          "base_uri": "https://localhost:8080/"
        }
      },
      "source": [
        "sum(data_test['stop_comments'].isnull())"
      ],
      "execution_count": 32,
      "outputs": [
        {
          "output_type": "execute_result",
          "data": {
            "text/plain": [
              "0"
            ]
          },
          "metadata": {},
          "execution_count": 32
        }
      ]
    },
    {
      "cell_type": "code",
      "metadata": {
        "id": "zb4IY210fiKj",
        "outputId": "cedaca62-0a74-473d-8f92-7bc321bbe58c",
        "colab": {
          "base_uri": "https://localhost:8080/"
        }
      },
      "source": [
        "data_test['pol_cat'].value_counts()"
      ],
      "execution_count": 33,
      "outputs": [
        {
          "output_type": "execute_result",
          "data": {
            "text/plain": [
              "1    738\n",
              "0    738\n",
              "Name: pol_cat, dtype: int64"
            ]
          },
          "metadata": {},
          "execution_count": 33
        }
      ]
    },
    {
      "cell_type": "code",
      "metadata": {
        "id": "RyOaPvykfkFe"
      },
      "source": [
        "tf_test = vect.transform(data_test['stop_comments'])"
      ],
      "execution_count": 34,
      "outputs": []
    },
    {
      "cell_type": "code",
      "metadata": {
        "id": "9LQl6umYfp2F",
        "outputId": "fc2f997c-ecfd-47a0-ce84-e6fe3d06db89",
        "colab": {
          "base_uri": "https://localhost:8080/"
        }
      },
      "source": [
        "tf_test"
      ],
      "execution_count": 35,
      "outputs": [
        {
          "output_type": "execute_result",
          "data": {
            "text/plain": [
              "<1476x3368 sparse matrix of type '<class 'numpy.float64'>'\n",
              "\twith 8985 stored elements in Compressed Sparse Row format>"
            ]
          },
          "metadata": {},
          "execution_count": 35
        }
      ]
    },
    {
      "cell_type": "code",
      "metadata": {
        "id": "STHZnV87fr7U",
        "outputId": "1c564db5-fa66-4567-e3a3-6693bfb217b8",
        "colab": {
          "base_uri": "https://localhost:8080/"
        }
      },
      "source": [
        "tf_test.toarray()[0].sum()"
      ],
      "execution_count": 36,
      "outputs": [
        {
          "output_type": "execute_result",
          "data": {
            "text/plain": [
              "2.218952813335892"
            ]
          },
          "metadata": {},
          "execution_count": 36
        }
      ]
    },
    {
      "cell_type": "code",
      "metadata": {
        "id": "EJcinRWIftGZ",
        "outputId": "eb9c5b90-438d-4506-dc8f-b09df40353d4",
        "colab": {
          "base_uri": "https://localhost:8080/"
        }
      },
      "source": [
        "tf_train.toarray().shape"
      ],
      "execution_count": 37,
      "outputs": [
        {
          "output_type": "execute_result",
          "data": {
            "text/plain": [
              "(1801, 3368)"
            ]
          },
          "metadata": {},
          "execution_count": 37
        }
      ]
    },
    {
      "cell_type": "code",
      "metadata": {
        "id": "odSjFmKHfvFd",
        "outputId": "6ac0e895-fafc-44a9-b29d-fb25851bac29",
        "colab": {
          "base_uri": "https://localhost:8080/"
        }
      },
      "source": [
        "tf_test.toarray().shape"
      ],
      "execution_count": 38,
      "outputs": [
        {
          "output_type": "execute_result",
          "data": {
            "text/plain": [
              "(1476, 3368)"
            ]
          },
          "metadata": {},
          "execution_count": 38
        }
      ]
    },
    {
      "cell_type": "code",
      "metadata": {
        "id": "WOip_f9FfwcD",
        "outputId": "fc208af0-2841-4b6f-f425-ca8e8401324b",
        "colab": {
          "base_uri": "https://localhost:8080/"
        }
      },
      "source": [
        "clf.score(tf_test, data_test['pol_cat'])"
      ],
      "execution_count": 41,
      "outputs": [
        {
          "output_type": "execute_result",
          "data": {
            "text/plain": [
              "0.6897018970189702"
            ]
          },
          "metadata": {},
          "execution_count": 41
        }
      ]
    },
    {
      "cell_type": "code",
      "metadata": {
        "id": "1PiBigosf_kF"
      },
      "source": [
        ""
      ],
      "execution_count": null,
      "outputs": []
    }
  ]
}