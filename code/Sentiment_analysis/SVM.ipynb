{
  "nbformat": 4,
  "nbformat_minor": 0,
  "metadata": {
    "colab": {
      "name": "SVM.ipynb",
      "provenance": [],
      "authorship_tag": "ABX9TyN0j4UkzuAF72k9B79roNJZ",
      "include_colab_link": true
    },
    "kernelspec": {
      "name": "python3",
      "display_name": "Python 3"
    },
    "language_info": {
      "name": "python"
    }
  },
  "cells": [
    {
      "cell_type": "markdown",
      "metadata": {
        "id": "view-in-github",
        "colab_type": "text"
      },
      "source": [
        "<a href=\"https://colab.research.google.com/github/calzateu/Numerical_Analysis/blob/main/code/Sentiment_analysis/SVM.ipynb\" target=\"_parent\"><img src=\"https://colab.research.google.com/assets/colab-badge.svg\" alt=\"Open In Colab\"/></a>"
      ]
    },
    {
      "cell_type": "code",
      "metadata": {
        "id": "F5kX_ALzHloj"
      },
      "source": [
        "import pandas as pd"
      ],
      "execution_count": 202,
      "outputs": []
    },
    {
      "cell_type": "code",
      "metadata": {
        "id": "ZrmJ6UamsZOt"
      },
      "source": [
        ""
      ],
      "execution_count": 202,
      "outputs": []
    },
    {
      "cell_type": "code",
      "metadata": {
        "id": "3PrkksPeNXZX"
      },
      "source": [
        "data = pd.read_csv('Dataset-with-sentiments_f.csv')"
      ],
      "execution_count": 203,
      "outputs": []
    },
    {
      "cell_type": "code",
      "metadata": {
        "colab": {
          "base_uri": "https://localhost:8080/"
        },
        "id": "3YYdeLgDNZR4",
        "outputId": "6c6d1df0-e0c7-4167-e9d1-8477e8d3e126"
      },
      "source": [
        "sum(data['stop_comments'].isnull())"
      ],
      "execution_count": 204,
      "outputs": [
        {
          "output_type": "execute_result",
          "data": {
            "text/plain": [
              "8"
            ]
          },
          "metadata": {},
          "execution_count": 204
        }
      ]
    },
    {
      "cell_type": "code",
      "metadata": {
        "id": "mleKOWayNdkx"
      },
      "source": [
        "data = data[data['stop_comments'].notnull()]"
      ],
      "execution_count": 205,
      "outputs": []
    },
    {
      "cell_type": "code",
      "metadata": {
        "colab": {
          "base_uri": "https://localhost:8080/"
        },
        "id": "SIba_zl2NgNB",
        "outputId": "8296830b-7438-4159-f0c7-1aff6c14181a"
      },
      "source": [
        "sum(data['stop_comments'].isnull())"
      ],
      "execution_count": 206,
      "outputs": [
        {
          "output_type": "execute_result",
          "data": {
            "text/plain": [
              "0"
            ]
          },
          "metadata": {},
          "execution_count": 206
        }
      ]
    },
    {
      "cell_type": "code",
      "metadata": {
        "id": "ylkTdNWqNhxU"
      },
      "source": [
        "from sklearn.model_selection import train_test_split"
      ],
      "execution_count": 207,
      "outputs": []
    },
    {
      "cell_type": "code",
      "metadata": {
        "id": "CGImf2LJNjcV"
      },
      "source": [
        "X_train,X_test,y_train,y_test = train_test_split(data['stop_comments'],data['pol_cat'],test_size = 0.2,random_state = 324)"
      ],
      "execution_count": 208,
      "outputs": []
    },
    {
      "cell_type": "code",
      "metadata": {
        "colab": {
          "base_uri": "https://localhost:8080/"
        },
        "id": "CMPCz52ANk6z",
        "outputId": "66a85b6e-c52e-4676-f5ce-aef5957683f8"
      },
      "source": [
        "X_train.shape"
      ],
      "execution_count": 209,
      "outputs": [
        {
          "output_type": "execute_result",
          "data": {
            "text/plain": [
              "(6507,)"
            ]
          },
          "metadata": {},
          "execution_count": 209
        }
      ]
    },
    {
      "cell_type": "code",
      "metadata": {
        "colab": {
          "base_uri": "https://localhost:8080/"
        },
        "id": "XkXV9IW6Nmrd",
        "outputId": "71471be1-bcf4-4feb-b820-84712f76a935"
      },
      "source": [
        "X_test.shape"
      ],
      "execution_count": 210,
      "outputs": [
        {
          "output_type": "execute_result",
          "data": {
            "text/plain": [
              "(1627,)"
            ]
          },
          "metadata": {},
          "execution_count": 210
        }
      ]
    },
    {
      "cell_type": "code",
      "metadata": {
        "colab": {
          "base_uri": "https://localhost:8080/"
        },
        "id": "AIAcoHwYNod6",
        "outputId": "ea96c452-ce2b-4a76-e414-e31c908273c4"
      },
      "source": [
        "data['pol_cat'].value_counts()"
      ],
      "execution_count": 211,
      "outputs": [
        {
          "output_type": "execute_result",
          "data": {
            "text/plain": [
              "0    4900\n",
              "1    3234\n",
              "Name: pol_cat, dtype: int64"
            ]
          },
          "metadata": {},
          "execution_count": 211
        }
      ]
    },
    {
      "cell_type": "markdown",
      "metadata": {
        "id": "DXsyy6SaNvDU"
      },
      "source": [
        "## **Gonna Apply SVM**"
      ]
    },
    {
      "cell_type": "code",
      "metadata": {
        "id": "yYebhI4-NqJI"
      },
      "source": [
        "from sklearn.feature_extraction.text import CountVectorizer"
      ],
      "execution_count": 212,
      "outputs": []
    },
    {
      "cell_type": "code",
      "metadata": {
        "id": "_RSmaajYOzuF"
      },
      "source": [
        "#from sklearn.feature_extraction.text import CountVectorizer, TfidfVectorizer \n",
        "#vect = CountVectorizer()\n",
        "#tf_train = vect.fit_transform(X_train)\n",
        "#tf_test = vect.transform(X_test)"
      ],
      "execution_count": 213,
      "outputs": []
    },
    {
      "cell_type": "code",
      "metadata": {
        "id": "e4SOFX4Liaup"
      },
      "source": [
        "from sklearn.feature_extraction.text import CountVectorizer, TfidfVectorizer \n",
        "vect = TfidfVectorizer()\n",
        "tf_train = vect.fit_transform(X_train)\n",
        "tf_test = vect.transform(X_test)"
      ],
      "execution_count": 214,
      "outputs": []
    },
    {
      "cell_type": "code",
      "metadata": {
        "colab": {
          "base_uri": "https://localhost:8080/"
        },
        "id": "tipNaNdHPB9e",
        "outputId": "837573b9-9e78-4fbb-c044-489047a5a26e"
      },
      "source": [
        "tf_train"
      ],
      "execution_count": 215,
      "outputs": [
        {
          "output_type": "execute_result",
          "data": {
            "text/plain": [
              "<6507x6746 sparse matrix of type '<class 'numpy.float64'>'\n",
              "\twith 44161 stored elements in Compressed Sparse Row format>"
            ]
          },
          "metadata": {},
          "execution_count": 215
        }
      ]
    },
    {
      "cell_type": "code",
      "metadata": {
        "colab": {
          "base_uri": "https://localhost:8080/"
        },
        "id": "cajxhm3ag00d",
        "outputId": "03fae26c-79ec-4654-8a4a-eac5917b25d1"
      },
      "source": [
        "tf_train.toarray()[0].sum()"
      ],
      "execution_count": 216,
      "outputs": [
        {
          "output_type": "execute_result",
          "data": {
            "text/plain": [
              "3.8864748009710217"
            ]
          },
          "metadata": {},
          "execution_count": 216
        }
      ]
    },
    {
      "cell_type": "code",
      "metadata": {
        "id": "-mSx2n5Jhurf"
      },
      "source": [
        "#vect?"
      ],
      "execution_count": 217,
      "outputs": []
    },
    {
      "cell_type": "code",
      "metadata": {
        "id": "gh-XyUDIi15P"
      },
      "source": [
        "#vect.get_feature_names()"
      ],
      "execution_count": 218,
      "outputs": []
    },
    {
      "cell_type": "code",
      "metadata": {
        "id": "oRvy-A6Ihp4e"
      },
      "source": [
        "#X_train[0]"
      ],
      "execution_count": 219,
      "outputs": []
    },
    {
      "cell_type": "code",
      "metadata": {
        "id": "yZWr8N3ChVeb"
      },
      "source": [
        "#for i in tf_train.toarray()[0]:\n",
        "#  if (i != 0):\n",
        "#    print(i)"
      ],
      "execution_count": 220,
      "outputs": []
    },
    {
      "cell_type": "code",
      "metadata": {
        "colab": {
          "base_uri": "https://localhost:8080/"
        },
        "id": "BeCfNr6tPIyE",
        "outputId": "5c866de8-8539-4a67-dc99-f4b43495fdfe"
      },
      "source": [
        "tf_train.shape"
      ],
      "execution_count": 221,
      "outputs": [
        {
          "output_type": "execute_result",
          "data": {
            "text/plain": [
              "(6507, 6746)"
            ]
          },
          "metadata": {},
          "execution_count": 221
        }
      ]
    },
    {
      "cell_type": "markdown",
      "metadata": {
        "id": "F7Pugi10PV5n"
      },
      "source": [
        "**Print the Vocabulary**"
      ]
    },
    {
      "cell_type": "code",
      "metadata": {
        "id": "IfF_OxHFPLs9"
      },
      "source": [
        "#print(vect.vocabulary_)"
      ],
      "execution_count": 222,
      "outputs": []
    },
    {
      "cell_type": "code",
      "metadata": {
        "id": "4W8CYAucPaUO"
      },
      "source": [
        "#vocab = vect.vocabulary_"
      ],
      "execution_count": 223,
      "outputs": []
    },
    {
      "cell_type": "code",
      "metadata": {
        "id": "g1gRJ492sEhE"
      },
      "source": [
        "import time\n",
        "from sklearn import svm\n",
        "from sklearn.metrics import classification_report"
      ],
      "execution_count": 224,
      "outputs": []
    },
    {
      "cell_type": "code",
      "metadata": {
        "id": "9xMl9X6XwVWN",
        "colab": {
          "base_uri": "https://localhost:8080/"
        },
        "outputId": "5b7ed601-c8cd-4686-c979-8fb6e455331d"
      },
      "source": [
        "# Perform classification with SVM, kernel=linear\n",
        "classifier_linear = svm.SVC(kernel='linear')\n",
        "classifier_linear.fit(tf_train, y_train)"
      ],
      "execution_count": 225,
      "outputs": [
        {
          "output_type": "execute_result",
          "data": {
            "text/plain": [
              "SVC(kernel='linear')"
            ]
          },
          "metadata": {},
          "execution_count": 225
        }
      ]
    },
    {
      "cell_type": "markdown",
      "metadata": {
        "id": "asEO9XOIPkrN"
      },
      "source": [
        "**Accuracy score on training dataset**"
      ]
    },
    {
      "cell_type": "code",
      "metadata": {
        "colab": {
          "base_uri": "https://localhost:8080/"
        },
        "id": "EzKEEqrwPhW2",
        "outputId": "3ac87a17-f375-45b8-ad11-e7259adbc0dd"
      },
      "source": [
        "prediction_linear = classifier_linear.predict(tf_test)\n",
        "# results\n",
        "report = classification_report(y_test, prediction_linear, output_dict=True)\n",
        "print('positive: ', report['1'])\n",
        "print('negative: ', report['0'])"
      ],
      "execution_count": 226,
      "outputs": [
        {
          "output_type": "stream",
          "name": "stdout",
          "text": [
            "positive:  {'precision': 0.8988391376451078, 'recall': 0.8312883435582822, 'f1-score': 0.8637450199203187, 'support': 652}\n",
            "negative:  {'precision': 0.892578125, 'recall': 0.9374358974358974, 'f1-score': 0.9144572286143071, 'support': 975}\n"
          ]
        }
      ]
    },
    {
      "cell_type": "markdown",
      "metadata": {
        "id": "X8j22NanPq3e"
      },
      "source": [
        "**Accuracy score on test dataset i.e got from the splitting**"
      ]
    },
    {
      "cell_type": "code",
      "metadata": {
        "colab": {
          "base_uri": "https://localhost:8080/"
        },
        "id": "t5FFTb6CPo-j",
        "outputId": "cb9799de-84bb-45ca-bfc1-9b127936889a"
      },
      "source": [
        " classifier_linear.score(tf_test, y_test)"
      ],
      "execution_count": 227,
      "outputs": [
        {
          "output_type": "execute_result",
          "data": {
            "text/plain": [
              "0.8948985863552551"
            ]
          },
          "metadata": {},
          "execution_count": 227
        }
      ]
    },
    {
      "cell_type": "markdown",
      "metadata": {
        "id": "g4Nee4c3PwjF"
      },
      "source": [
        "**Make predictions on the test dataset i.e. unseen data to the model**"
      ]
    },
    {
      "cell_type": "code",
      "metadata": {
        "id": "lixrvN6hPt3u"
      },
      "source": [
        "expected = y_test\n",
        "predicted = classifier_linear.predict(tf_test)"
      ],
      "execution_count": 228,
      "outputs": []
    },
    {
      "cell_type": "markdown",
      "metadata": {
        "id": "GKQQfZNdP1J1"
      },
      "source": [
        "**plot confusion matrix for the test dataset**"
      ]
    },
    {
      "cell_type": "code",
      "metadata": {
        "id": "1Jk-FHkgPzOK"
      },
      "source": [
        "from mlxtend.plotting import plot_confusion_matrix\n",
        "import matplotlib.pyplot as plt\n",
        "import numpy as np\n",
        "\n",
        "from sklearn import metrics"
      ],
      "execution_count": 229,
      "outputs": []
    },
    {
      "cell_type": "code",
      "metadata": {
        "colab": {
          "base_uri": "https://localhost:8080/"
        },
        "id": "Y2wCHWyMP4Mk",
        "outputId": "18bcd64f-966e-461e-8ccc-878407a0b6ef"
      },
      "source": [
        "pip install mlxtend"
      ],
      "execution_count": 230,
      "outputs": [
        {
          "output_type": "stream",
          "name": "stdout",
          "text": [
            "Requirement already satisfied: mlxtend in /usr/local/lib/python3.7/dist-packages (0.14.0)\n",
            "Requirement already satisfied: setuptools in /usr/local/lib/python3.7/dist-packages (from mlxtend) (57.4.0)\n",
            "Requirement already satisfied: pandas>=0.17.1 in /usr/local/lib/python3.7/dist-packages (from mlxtend) (1.1.5)\n",
            "Requirement already satisfied: numpy>=1.10.4 in /usr/local/lib/python3.7/dist-packages (from mlxtend) (1.19.5)\n",
            "Requirement already satisfied: matplotlib>=1.5.1 in /usr/local/lib/python3.7/dist-packages (from mlxtend) (3.2.2)\n",
            "Requirement already satisfied: scikit-learn>=0.18 in /usr/local/lib/python3.7/dist-packages (from mlxtend) (1.0.1)\n",
            "Requirement already satisfied: scipy>=0.17 in /usr/local/lib/python3.7/dist-packages (from mlxtend) (1.4.1)\n",
            "Requirement already satisfied: python-dateutil>=2.1 in /usr/local/lib/python3.7/dist-packages (from matplotlib>=1.5.1->mlxtend) (2.8.2)\n",
            "Requirement already satisfied: cycler>=0.10 in /usr/local/lib/python3.7/dist-packages (from matplotlib>=1.5.1->mlxtend) (0.11.0)\n",
            "Requirement already satisfied: kiwisolver>=1.0.1 in /usr/local/lib/python3.7/dist-packages (from matplotlib>=1.5.1->mlxtend) (1.3.2)\n",
            "Requirement already satisfied: pyparsing!=2.0.4,!=2.1.2,!=2.1.6,>=2.0.1 in /usr/local/lib/python3.7/dist-packages (from matplotlib>=1.5.1->mlxtend) (3.0.6)\n",
            "Requirement already satisfied: pytz>=2017.2 in /usr/local/lib/python3.7/dist-packages (from pandas>=0.17.1->mlxtend) (2018.9)\n",
            "Requirement already satisfied: six>=1.5 in /usr/local/lib/python3.7/dist-packages (from python-dateutil>=2.1->matplotlib>=1.5.1->mlxtend) (1.15.0)\n",
            "Requirement already satisfied: joblib>=0.11 in /usr/local/lib/python3.7/dist-packages (from scikit-learn>=0.18->mlxtend) (1.1.0)\n",
            "Requirement already satisfied: threadpoolctl>=2.0.0 in /usr/local/lib/python3.7/dist-packages (from scikit-learn>=0.18->mlxtend) (3.0.0)\n"
          ]
        }
      ]
    },
    {
      "cell_type": "code",
      "metadata": {
        "colab": {
          "base_uri": "https://localhost:8080/",
          "height": 313
        },
        "id": "tsjb9fGxP6TR",
        "outputId": "9040be0f-be70-4294-c11d-e3f3d91a4873"
      },
      "source": [
        "cf = metrics.confusion_matrix(expected,predicted,labels = [1,0])\n",
        "print(cf)\n",
        "## this command is only for google collab \n",
        "## in the below figure \" 1 is actually showing -1 and 0 is actually showing 1\"\n",
        "fig, ax = plot_confusion_matrix(conf_mat = cf)\n",
        "                                \n",
        "## It canbe used in any platform\n",
        "# fig, ax = plot_confusion_matrix(conf_mat = cf, class_names = [1,-1])\n",
        "plt.show()"
      ],
      "execution_count": 231,
      "outputs": [
        {
          "output_type": "stream",
          "name": "stdout",
          "text": [
            "[[542 110]\n",
            " [ 61 914]]\n"
          ]
        },
        {
          "output_type": "display_data",
          "data": {
            "image/png": "[encoded data removed]",
            "text/plain": [
              "<Figure size 432x288 with 1 Axes>"
            ]
          },
          "metadata": {
            "needs_background": "light"
          }
        }
      ]
    },
    {
      "cell_type": "code",
      "metadata": {
        "colab": {
          "base_uri": "https://localhost:8080/"
        },
        "id": "mvyyqJu5QEg3",
        "outputId": "77911d96-bfeb-4460-c357-aeec894fc576"
      },
      "source": [
        "from sklearn import metrics\n",
        "print(metrics.classification_report(expected, predicted))\n",
        "# print(metrics.confusion_matrix(expected,predicted))"
      ],
      "execution_count": 232,
      "outputs": [
        {
          "output_type": "stream",
          "name": "stdout",
          "text": [
            "              precision    recall  f1-score   support\n",
            "\n",
            "           0       0.89      0.94      0.91       975\n",
            "           1       0.90      0.83      0.86       652\n",
            "\n",
            "    accuracy                           0.89      1627\n",
            "   macro avg       0.90      0.88      0.89      1627\n",
            "weighted avg       0.90      0.89      0.89      1627\n",
            "\n"
          ]
        }
      ]
    },
    {
      "cell_type": "markdown",
      "metadata": {
        "id": "cHgUm1hkQU1B"
      },
      "source": [
        "**find the F1 score**"
      ]
    },
    {
      "cell_type": "code",
      "metadata": {
        "colab": {
          "base_uri": "https://localhost:8080/"
        },
        "id": "V_V3UiHrQQwq",
        "outputId": "a9e1410d-b015-435b-dc6b-631f5a03999a"
      },
      "source": [
        "from sklearn.metrics import f1_score\n",
        "f1_score(expected, predicted, average='macro')"
      ],
      "execution_count": 233,
      "outputs": [
        {
          "output_type": "execute_result",
          "data": {
            "text/plain": [
              "0.8891011242673129"
            ]
          },
          "metadata": {},
          "execution_count": 233
        }
      ]
    },
    {
      "cell_type": "code",
      "metadata": {
        "id": "-qKrhrlNQYZz"
      },
      "source": [
        ""
      ],
      "execution_count": 233,
      "outputs": []
    },
    {
      "cell_type": "markdown",
      "metadata": {
        "id": "MkH-siBEW_CK"
      },
      "source": [
        "# **Test the model with the comments of the other video**"
      ]
    },
    {
      "cell_type": "code",
      "metadata": {
        "id": "49aYl4abW-Q_"
      },
      "source": [
        "data_test = pd.read_csv('Video_2/Dataset-with-sentiments.csv')"
      ],
      "execution_count": 234,
      "outputs": []
    },
    {
      "cell_type": "code",
      "metadata": {
        "colab": {
          "base_uri": "https://localhost:8080/"
        },
        "id": "7x-Lg57dW-TR",
        "outputId": "053a58ad-96ac-49f9-c1f6-08104ddf3ca3"
      },
      "source": [
        "sum(data_test['stop_comments'].isnull())"
      ],
      "execution_count": 235,
      "outputs": [
        {
          "output_type": "execute_result",
          "data": {
            "text/plain": [
              "1"
            ]
          },
          "metadata": {},
          "execution_count": 235
        }
      ]
    },
    {
      "cell_type": "code",
      "metadata": {
        "id": "2sZagICvW-V4"
      },
      "source": [
        "data_test = data_test[data_test['stop_comments'].notnull()]"
      ],
      "execution_count": 236,
      "outputs": []
    },
    {
      "cell_type": "code",
      "metadata": {
        "colab": {
          "base_uri": "https://localhost:8080/"
        },
        "id": "ZTVY0bXoXUiU",
        "outputId": "5093369f-65b7-4cbc-b8b4-6f91919c687c"
      },
      "source": [
        "sum(data_test['stop_comments'].isnull())"
      ],
      "execution_count": 237,
      "outputs": [
        {
          "output_type": "execute_result",
          "data": {
            "text/plain": [
              "0"
            ]
          },
          "metadata": {},
          "execution_count": 237
        }
      ]
    },
    {
      "cell_type": "code",
      "metadata": {
        "colab": {
          "base_uri": "https://localhost:8080/"
        },
        "id": "FyuQy3KlXauP",
        "outputId": "6d442ac0-6038-4fd1-9956-8086efbf0ce9"
      },
      "source": [
        "data_test['pol_cat'].value_counts()"
      ],
      "execution_count": 238,
      "outputs": [
        {
          "output_type": "execute_result",
          "data": {
            "text/plain": [
              "1    832\n",
              "0    673\n",
              "Name: pol_cat, dtype: int64"
            ]
          },
          "metadata": {},
          "execution_count": 238
        }
      ]
    },
    {
      "cell_type": "code",
      "metadata": {
        "id": "TJ__6hRSXUpa"
      },
      "source": [
        "tf_test = vect.transform(data_test['stop_comments'])"
      ],
      "execution_count": 239,
      "outputs": []
    },
    {
      "cell_type": "code",
      "metadata": {
        "colab": {
          "base_uri": "https://localhost:8080/"
        },
        "id": "V9mqYkrpXh6m",
        "outputId": "b5fb6a57-fb1c-4e6d-be27-d264bc360fdb"
      },
      "source": [
        "tf_test"
      ],
      "execution_count": 240,
      "outputs": [
        {
          "output_type": "execute_result",
          "data": {
            "text/plain": [
              "<1505x6746 sparse matrix of type '<class 'numpy.float64'>'\n",
              "\twith 12934 stored elements in Compressed Sparse Row format>"
            ]
          },
          "metadata": {},
          "execution_count": 240
        }
      ]
    },
    {
      "cell_type": "code",
      "metadata": {
        "colab": {
          "base_uri": "https://localhost:8080/"
        },
        "id": "-GPQ1HUOXh81",
        "outputId": "6cdcf325-0757-4732-f283-c1548dbfb1be"
      },
      "source": [
        "tf_test.toarray()[0].sum()"
      ],
      "execution_count": 241,
      "outputs": [
        {
          "output_type": "execute_result",
          "data": {
            "text/plain": [
              "1.0"
            ]
          },
          "metadata": {},
          "execution_count": 241
        }
      ]
    },
    {
      "cell_type": "code",
      "metadata": {
        "colab": {
          "base_uri": "https://localhost:8080/"
        },
        "id": "ChzcASkeZJoL",
        "outputId": "0b1c5cd8-df9f-4615-a62b-1dc966a509c5"
      },
      "source": [
        "tf_train.toarray().shape"
      ],
      "execution_count": 242,
      "outputs": [
        {
          "output_type": "execute_result",
          "data": {
            "text/plain": [
              "(6507, 6746)"
            ]
          },
          "metadata": {},
          "execution_count": 242
        }
      ]
    },
    {
      "cell_type": "code",
      "metadata": {
        "colab": {
          "base_uri": "https://localhost:8080/"
        },
        "id": "8-B07HAkZQ8G",
        "outputId": "1b7251d2-d961-475f-c405-875c41495473"
      },
      "source": [
        "tf_test.toarray().shape"
      ],
      "execution_count": 243,
      "outputs": [
        {
          "output_type": "execute_result",
          "data": {
            "text/plain": [
              "(1505, 6746)"
            ]
          },
          "metadata": {},
          "execution_count": 243
        }
      ]
    },
    {
      "cell_type": "code",
      "metadata": {
        "id": "FkTGNgXX2kYt"
      },
      "source": [
        "predicted = classifier_linear.predict(tf_test)"
      ],
      "execution_count": 244,
      "outputs": []
    },
    {
      "cell_type": "code",
      "metadata": {
        "id": "rxrfjrut7PL4"
      },
      "source": [
        "expected = data_test['pol_cat']"
      ],
      "execution_count": 245,
      "outputs": []
    },
    {
      "cell_type": "code",
      "metadata": {
        "id": "fLhODahE7PPD",
        "colab": {
          "base_uri": "https://localhost:8080/",
          "height": 313
        },
        "outputId": "1b784615-bfd3-4456-f483-9b36fe66d659"
      },
      "source": [
        "cf = metrics.confusion_matrix(expected,predicted,labels = [1,0])\n",
        "print(cf)\n",
        "## this command is only for google collab \n",
        "## in the below figure \" 1 is actually showing -1 and 0 is actually showing 1\"\n",
        "fig, ax = plot_confusion_matrix(conf_mat = cf)\n",
        "                                \n",
        "## It canbe used in any platform\n",
        "# fig, ax = plot_confusion_matrix(conf_mat = cf, class_names = [1,-1])\n",
        "plt.show()"
      ],
      "execution_count": 246,
      "outputs": [
        {
          "output_type": "stream",
          "name": "stdout",
          "text": [
            "[[697 135]\n",
            " [ 49 624]]\n"
          ]
        },
        {
          "output_type": "display_data",
          "data": {
            "image/png": "[encoded data removed]",
            "text/plain": [
              "<Figure size 432x288 with 1 Axes>"
            ]
          },
          "metadata": {
            "needs_background": "light"
          }
        }
      ]
    },
    {
      "cell_type": "code",
      "metadata": {
        "id": "ih-ZatLs7TQl",
        "colab": {
          "base_uri": "https://localhost:8080/"
        },
        "outputId": "b838ad09-bd7e-4ffa-e5ac-c1f35f694b61"
      },
      "source": [
        "from sklearn import metrics\n",
        "print(metrics.classification_report(expected, predicted))\n",
        "# print(metrics.confusion_matrix(expected,predicted))"
      ],
      "execution_count": 247,
      "outputs": [
        {
          "output_type": "stream",
          "name": "stdout",
          "text": [
            "              precision    recall  f1-score   support\n",
            "\n",
            "           0       0.82      0.93      0.87       673\n",
            "           1       0.93      0.84      0.88       832\n",
            "\n",
            "    accuracy                           0.88      1505\n",
            "   macro avg       0.88      0.88      0.88      1505\n",
            "weighted avg       0.88      0.88      0.88      1505\n",
            "\n"
          ]
        }
      ]
    },
    {
      "cell_type": "code",
      "metadata": {
        "id": "9icfbKcJ7WNr",
        "colab": {
          "base_uri": "https://localhost:8080/"
        },
        "outputId": "c617fb8e-8fec-4b18-f067-7b47562f7b42"
      },
      "source": [
        "from sklearn.metrics import f1_score\n",
        "f1_score(expected, predicted, average='macro')"
      ],
      "execution_count": 248,
      "outputs": [
        {
          "output_type": "execute_result",
          "data": {
            "text/plain": [
              "0.8774525422888744"
            ]
          },
          "metadata": {},
          "execution_count": 248
        }
      ]
    },
    {
      "cell_type": "code",
      "metadata": {
        "id": "iu9aH1ak7ZOz"
      },
      "source": [
        ""
      ],
      "execution_count": 248,
      "outputs": []
    },
    {
      "cell_type": "code",
      "metadata": {
        "colab": {
          "base_uri": "https://localhost:8080/"
        },
        "id": "Kj2u3qRSXiBA",
        "outputId": "97bb37af-cf9e-43b1-e127-930cadde5994"
      },
      "source": [
        "classifier_linear.score(tf_test, data_test['pol_cat'])"
      ],
      "execution_count": 249,
      "outputs": [
        {
          "output_type": "execute_result",
          "data": {
            "text/plain": [
              "0.8777408637873754"
            ]
          },
          "metadata": {},
          "execution_count": 249
        }
      ]
    },
    {
      "cell_type": "markdown",
      "metadata": {
        "id": "HNk52ta6wr6W"
      },
      "source": [
        "# **Now we are going to study the impact of the video**"
      ]
    },
    {
      "cell_type": "code",
      "metadata": {
        "id": "x9MH1CJA2Ko8",
        "outputId": "fd9eee17-fd53-4c52-d6ae-00a54bdafa00",
        "colab": {
          "base_uri": "https://localhost:8080/"
        }
      },
      "source": [
        "predicted"
      ],
      "execution_count": 250,
      "outputs": [
        {
          "output_type": "execute_result",
          "data": {
            "text/plain": [
              "array([0, 0, 1, ..., 0, 0, 1])"
            ]
          },
          "metadata": {},
          "execution_count": 250
        }
      ]
    },
    {
      "cell_type": "code",
      "metadata": {
        "id": "6scmN0b_2LcJ",
        "outputId": "5c6ea071-efe8-4a9a-a94a-af465619dd4a",
        "colab": {
          "base_uri": "https://localhost:8080/"
        }
      },
      "source": [
        "likes = np.array(list(data_test['Likes']))\n",
        "likes"
      ],
      "execution_count": 251,
      "outputs": [
        {
          "output_type": "execute_result",
          "data": {
            "text/plain": [
              "array([1, 0, 3, ..., 0, 0, 3])"
            ]
          },
          "metadata": {},
          "execution_count": 251
        }
      ]
    },
    {
      "cell_type": "code",
      "metadata": {
        "id": "acZctMEE2MxH",
        "outputId": "7fdb7bd2-7435-4ca4-a187-f6ed5f4bf49d",
        "colab": {
          "base_uri": "https://localhost:8080/"
        }
      },
      "source": [
        "ponderacion = np.dot(predicted, likes)\n",
        "ponderacion"
      ],
      "execution_count": 252,
      "outputs": [
        {
          "output_type": "execute_result",
          "data": {
            "text/plain": [
              "358451"
            ]
          },
          "metadata": {},
          "execution_count": 252
        }
      ]
    },
    {
      "cell_type": "code",
      "metadata": {
        "id": "Yys-zahs2N3b",
        "outputId": "e71d7183-e96b-4af8-ce60-fd5bc1908c80",
        "colab": {
          "base_uri": "https://localhost:8080/"
        }
      },
      "source": [
        "num_comentarios_pos = sum(predicted[predicted==1])\n",
        "num_comentarios_pos"
      ],
      "execution_count": 253,
      "outputs": [
        {
          "output_type": "execute_result",
          "data": {
            "text/plain": [
              "746"
            ]
          },
          "metadata": {},
          "execution_count": 253
        }
      ]
    },
    {
      "cell_type": "code",
      "metadata": {
        "id": "R1TL4Ihb3CN6",
        "outputId": "d0c183f4-a2ed-4742-8c0b-6ee91aad4c82",
        "colab": {
          "base_uri": "https://localhost:8080/"
        }
      },
      "source": [
        "num_com_num_likes = sum(predicted[predicted==1])*sum(likes[predicted==1])\n",
        "num_com_num_likes"
      ],
      "execution_count": 254,
      "outputs": [
        {
          "output_type": "execute_result",
          "data": {
            "text/plain": [
              "267404446"
            ]
          },
          "metadata": {},
          "execution_count": 254
        }
      ]
    },
    {
      "cell_type": "code",
      "metadata": {
        "id": "42UjAaiW3Dp_",
        "outputId": "be83fff4-1ebc-4edf-80fb-f013c554e7cd",
        "colab": {
          "base_uri": "https://localhost:8080/"
        }
      },
      "source": [
        "num_com = len(predicted)\n",
        "num_com"
      ],
      "execution_count": 255,
      "outputs": [
        {
          "output_type": "execute_result",
          "data": {
            "text/plain": [
              "1505"
            ]
          },
          "metadata": {},
          "execution_count": 255
        }
      ]
    },
    {
      "cell_type": "code",
      "metadata": {
        "id": "g_wVHick3FVY",
        "outputId": "55228020-8edd-4016-b6f6-a89b1b350a65",
        "colab": {
          "base_uri": "https://localhost:8080/"
        }
      },
      "source": [
        "num_likes = sum(likes)\n",
        "num_likes"
      ],
      "execution_count": 257,
      "outputs": [
        {
          "output_type": "execute_result",
          "data": {
            "text/plain": [
              "672310"
            ]
          },
          "metadata": {},
          "execution_count": 257
        }
      ]
    },
    {
      "cell_type": "code",
      "metadata": {
        "id": "t3PzxhI_3GuX",
        "outputId": "864df4b5-dc06-4a68-bd7f-9228357acbcb",
        "colab": {
          "base_uri": "https://localhost:8080/"
        }
      },
      "source": [
        "(num_comentarios_pos + num_likes)/(num_com + num_likes)"
      ],
      "execution_count": 258,
      "outputs": [
        {
          "output_type": "execute_result",
          "data": {
            "text/plain": [
              "0.9988735780592596"
            ]
          },
          "metadata": {},
          "execution_count": 258
        }
      ]
    },
    {
      "cell_type": "code",
      "metadata": {
        "id": "P7KSIai63Isy"
      },
      "source": [
        ""
      ],
      "execution_count": null,
      "outputs": []
    }
  ]
}