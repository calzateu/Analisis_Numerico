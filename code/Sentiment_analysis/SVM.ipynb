{
  "nbformat": 4,
  "nbformat_minor": 0,
  "metadata": {
    "colab": {
      "name": "Logistic_regression.ipynb",
      "provenance": [],
      "authorship_tag": "ABX9TyOOyEmBzgMuOkyNpijWxxTO",
      "include_colab_link": true
    },
    "kernelspec": {
      "name": "python3",
      "display_name": "Python 3"
    },
    "language_info": {
      "name": "python"
    }
  },
  "cells": [
    {
      "cell_type": "markdown",
      "metadata": {
        "id": "view-in-github",
        "colab_type": "text"
      },
      "source": [
        "<a href=\"https://colab.research.google.com/github/calzateu/Numerical_Analysis/blob/main/code/Sentiment_analysis/SVM.ipynb\" target=\"_parent\"><img src=\"https://colab.research.google.com/assets/colab-badge.svg\" alt=\"Open In Colab\"/></a>"
      ]
    },
    {
      "cell_type": "code",
      "metadata": {
        "id": "F5kX_ALzHloj"
      },
      "source": [
        "import pandas as pd"
      ],
      "execution_count": 28,
      "outputs": []
    },
    {
      "cell_type": "code",
      "metadata": {
        "id": "ZrmJ6UamsZOt"
      },
      "source": [
        ""
      ],
      "execution_count": 28,
      "outputs": []
    },
    {
      "cell_type": "code",
      "metadata": {
        "id": "3PrkksPeNXZX"
      },
      "source": [
        "data = pd.read_csv('Dataset-with-sentiments.csv')"
      ],
      "execution_count": 29,
      "outputs": []
    },
    {
      "cell_type": "code",
      "metadata": {
        "colab": {
          "base_uri": "https://localhost:8080/"
        },
        "id": "3YYdeLgDNZR4",
        "outputId": "a141753a-8b0f-481e-9eae-70c6b03cc73a"
      },
      "source": [
        "sum(data['stop_comments'].isnull())"
      ],
      "execution_count": 30,
      "outputs": [
        {
          "output_type": "execute_result",
          "data": {
            "text/plain": [
              "0"
            ]
          },
          "metadata": {},
          "execution_count": 30
        }
      ]
    },
    {
      "cell_type": "code",
      "metadata": {
        "id": "mleKOWayNdkx"
      },
      "source": [
        "data = data[data['stop_comments'].notnull()]"
      ],
      "execution_count": 31,
      "outputs": []
    },
    {
      "cell_type": "code",
      "metadata": {
        "colab": {
          "base_uri": "https://localhost:8080/"
        },
        "id": "SIba_zl2NgNB",
        "outputId": "ad524b51-f06e-4d6b-a0dc-50c661315467"
      },
      "source": [
        "sum(data['stop_comments'].isnull())"
      ],
      "execution_count": 32,
      "outputs": [
        {
          "output_type": "execute_result",
          "data": {
            "text/plain": [
              "0"
            ]
          },
          "metadata": {},
          "execution_count": 32
        }
      ]
    },
    {
      "cell_type": "code",
      "metadata": {
        "id": "ylkTdNWqNhxU"
      },
      "source": [
        "from sklearn.model_selection import train_test_split"
      ],
      "execution_count": 33,
      "outputs": []
    },
    {
      "cell_type": "code",
      "metadata": {
        "id": "CGImf2LJNjcV"
      },
      "source": [
        "X_train,X_test,y_train,y_test = train_test_split(data['stop_comments'],data['pol_cat'],test_size = 0.2,random_state = 324)"
      ],
      "execution_count": 34,
      "outputs": []
    },
    {
      "cell_type": "code",
      "metadata": {
        "colab": {
          "base_uri": "https://localhost:8080/"
        },
        "id": "CMPCz52ANk6z",
        "outputId": "fbf2e3bf-dcad-427e-b01b-49707e6f6b57"
      },
      "source": [
        "X_train.shape"
      ],
      "execution_count": 35,
      "outputs": [
        {
          "output_type": "execute_result",
          "data": {
            "text/plain": [
              "(5794,)"
            ]
          },
          "metadata": {},
          "execution_count": 35
        }
      ]
    },
    {
      "cell_type": "code",
      "metadata": {
        "colab": {
          "base_uri": "https://localhost:8080/"
        },
        "id": "XkXV9IW6Nmrd",
        "outputId": "d01aa63f-33f5-4fa4-b27d-10b951e94b19"
      },
      "source": [
        "X_test.shape"
      ],
      "execution_count": 36,
      "outputs": [
        {
          "output_type": "execute_result",
          "data": {
            "text/plain": [
              "(1449,)"
            ]
          },
          "metadata": {},
          "execution_count": 36
        }
      ]
    },
    {
      "cell_type": "code",
      "metadata": {
        "colab": {
          "base_uri": "https://localhost:8080/"
        },
        "id": "AIAcoHwYNod6",
        "outputId": "31d5a591-0bfc-4736-8a55-402581927771"
      },
      "source": [
        "data['pol_cat'].value_counts()"
      ],
      "execution_count": 37,
      "outputs": [
        {
          "output_type": "execute_result",
          "data": {
            "text/plain": [
              "1    3715\n",
              "0    3528\n",
              "Name: pol_cat, dtype: int64"
            ]
          },
          "metadata": {},
          "execution_count": 37
        }
      ]
    },
    {
      "cell_type": "markdown",
      "metadata": {
        "id": "DXsyy6SaNvDU"
      },
      "source": [
        "## **Gonna Apply Logistic Regression**"
      ]
    },
    {
      "cell_type": "code",
      "metadata": {
        "id": "yYebhI4-NqJI"
      },
      "source": [
        "from sklearn.feature_extraction.text import CountVectorizer"
      ],
      "execution_count": 38,
      "outputs": []
    },
    {
      "cell_type": "code",
      "metadata": {
        "id": "_RSmaajYOzuF"
      },
      "source": [
        "#from sklearn.feature_extraction.text import CountVectorizer, TfidfVectorizer \n",
        "#vect = CountVectorizer()\n",
        "#tf_train = vect.fit_transform(X_train)\n",
        "#tf_test = vect.transform(X_test)"
      ],
      "execution_count": 39,
      "outputs": []
    },
    {
      "cell_type": "code",
      "metadata": {
        "id": "e4SOFX4Liaup"
      },
      "source": [
        "from sklearn.feature_extraction.text import CountVectorizer, TfidfVectorizer \n",
        "vect = TfidfVectorizer()\n",
        "tf_train = vect.fit_transform(X_train)\n",
        "tf_test = vect.transform(X_test)"
      ],
      "execution_count": 40,
      "outputs": []
    },
    {
      "cell_type": "code",
      "metadata": {
        "colab": {
          "base_uri": "https://localhost:8080/"
        },
        "id": "tipNaNdHPB9e",
        "outputId": "72d4a690-cce1-4efc-b94c-90dcd421c78e"
      },
      "source": [
        "tf_train"
      ],
      "execution_count": 41,
      "outputs": [
        {
          "output_type": "execute_result",
          "data": {
            "text/plain": [
              "<5794x8118 sparse matrix of type '<class 'numpy.float64'>'\n",
              "\twith 69820 stored elements in Compressed Sparse Row format>"
            ]
          },
          "metadata": {},
          "execution_count": 41
        }
      ]
    },
    {
      "cell_type": "code",
      "metadata": {
        "colab": {
          "base_uri": "https://localhost:8080/"
        },
        "id": "cajxhm3ag00d",
        "outputId": "657946d1-a490-4dc9-f494-04e3a9a89da7"
      },
      "source": [
        "tf_train.toarray()[0].sum()"
      ],
      "execution_count": 42,
      "outputs": [
        {
          "output_type": "execute_result",
          "data": {
            "text/plain": [
              "3.109511739791509"
            ]
          },
          "metadata": {},
          "execution_count": 42
        }
      ]
    },
    {
      "cell_type": "code",
      "metadata": {
        "id": "-mSx2n5Jhurf"
      },
      "source": [
        "#vect?"
      ],
      "execution_count": 43,
      "outputs": []
    },
    {
      "cell_type": "code",
      "metadata": {
        "id": "gh-XyUDIi15P"
      },
      "source": [
        "#vect.get_feature_names()"
      ],
      "execution_count": 44,
      "outputs": []
    },
    {
      "cell_type": "code",
      "metadata": {
        "id": "oRvy-A6Ihp4e"
      },
      "source": [
        "#X_train[0]"
      ],
      "execution_count": 45,
      "outputs": []
    },
    {
      "cell_type": "code",
      "metadata": {
        "id": "yZWr8N3ChVeb"
      },
      "source": [
        "#for i in tf_train.toarray()[0]:\n",
        "#  if (i != 0):\n",
        "#    print(i)"
      ],
      "execution_count": 46,
      "outputs": []
    },
    {
      "cell_type": "code",
      "metadata": {
        "colab": {
          "base_uri": "https://localhost:8080/"
        },
        "id": "BeCfNr6tPIyE",
        "outputId": "c2ac4d78-1df0-447e-dfe0-1645f518d51a"
      },
      "source": [
        "tf_train.shape"
      ],
      "execution_count": 47,
      "outputs": [
        {
          "output_type": "execute_result",
          "data": {
            "text/plain": [
              "(5794, 8118)"
            ]
          },
          "metadata": {},
          "execution_count": 47
        }
      ]
    },
    {
      "cell_type": "markdown",
      "metadata": {
        "id": "F7Pugi10PV5n"
      },
      "source": [
        "**Print the Vocabulary**"
      ]
    },
    {
      "cell_type": "code",
      "metadata": {
        "id": "IfF_OxHFPLs9"
      },
      "source": [
        "#print(vect.vocabulary_)"
      ],
      "execution_count": 48,
      "outputs": []
    },
    {
      "cell_type": "code",
      "metadata": {
        "id": "4W8CYAucPaUO"
      },
      "source": [
        "#vocab = vect.vocabulary_"
      ],
      "execution_count": 49,
      "outputs": []
    },
    {
      "cell_type": "code",
      "metadata": {
        "id": "g1gRJ492sEhE"
      },
      "source": [
        "import time\n",
        "from sklearn import svm\n",
        "from sklearn.metrics import classification_report"
      ],
      "execution_count": 50,
      "outputs": []
    },
    {
      "cell_type": "code",
      "metadata": {
        "id": "9xMl9X6XwVWN",
        "colab": {
          "base_uri": "https://localhost:8080/"
        },
        "outputId": "0ba8db76-8ccd-499e-c9d5-cdacd004370c"
      },
      "source": [
        "# Perform classification with SVM, kernel=linear\n",
        "classifier_linear = svm.SVC(kernel='linear')\n",
        "classifier_linear.fit(tf_train, y_train)"
      ],
      "execution_count": 51,
      "outputs": [
        {
          "output_type": "execute_result",
          "data": {
            "text/plain": [
              "SVC(kernel='linear')"
            ]
          },
          "metadata": {},
          "execution_count": 51
        }
      ]
    },
    {
      "cell_type": "markdown",
      "metadata": {
        "id": "asEO9XOIPkrN"
      },
      "source": [
        "**Accuracy score on training dataset**"
      ]
    },
    {
      "cell_type": "code",
      "metadata": {
        "colab": {
          "base_uri": "https://localhost:8080/"
        },
        "id": "EzKEEqrwPhW2",
        "outputId": "8e6b1a84-24f4-4cc8-8541-028dcca296b2"
      },
      "source": [
        "prediction_linear = classifier_linear.predict(tf_test)\n",
        "# results\n",
        "report = classification_report(y_test, prediction_linear, output_dict=True)\n",
        "print('positive: ', report['1'])\n",
        "print('negative: ', report['0'])"
      ],
      "execution_count": 52,
      "outputs": [
        {
          "output_type": "stream",
          "name": "stdout",
          "text": [
            "positive:  {'precision': 0.9232914923291492, 'recall': 0.8664921465968587, 'f1-score': 0.8939905469277515, 'support': 764}\n",
            "negative:  {'precision': 0.860655737704918, 'recall': 0.9197080291970803, 'f1-score': 0.8892025405786873, 'support': 685}\n"
          ]
        }
      ]
    },
    {
      "cell_type": "markdown",
      "metadata": {
        "id": "X8j22NanPq3e"
      },
      "source": [
        "**Accuracy score on test dataset i.e got from the splitting**"
      ]
    },
    {
      "cell_type": "code",
      "metadata": {
        "colab": {
          "base_uri": "https://localhost:8080/"
        },
        "id": "t5FFTb6CPo-j",
        "outputId": "9a96de39-84aa-4cce-baaf-cc86b342450a"
      },
      "source": [
        " classifier_linear.score(tf_test, y_test)"
      ],
      "execution_count": 53,
      "outputs": [
        {
          "output_type": "execute_result",
          "data": {
            "text/plain": [
              "0.8916494133885439"
            ]
          },
          "metadata": {},
          "execution_count": 53
        }
      ]
    },
    {
      "cell_type": "markdown",
      "metadata": {
        "id": "g4Nee4c3PwjF"
      },
      "source": [
        "**Make predictions on the test dataset i.e. unseen data to the model**"
      ]
    },
    {
      "cell_type": "code",
      "metadata": {
        "id": "lixrvN6hPt3u"
      },
      "source": [
        "expected = y_test\n",
        "predicted = classifier_linear.predict(tf_test)"
      ],
      "execution_count": 54,
      "outputs": []
    },
    {
      "cell_type": "markdown",
      "metadata": {
        "id": "GKQQfZNdP1J1"
      },
      "source": [
        "**plot confusion matrix for the test dataset**"
      ]
    },
    {
      "cell_type": "code",
      "metadata": {
        "id": "1Jk-FHkgPzOK"
      },
      "source": [
        "from mlxtend.plotting import plot_confusion_matrix\n",
        "import matplotlib.pyplot as plt\n",
        "import numpy as np\n",
        "\n",
        "from sklearn import metrics"
      ],
      "execution_count": 55,
      "outputs": []
    },
    {
      "cell_type": "code",
      "metadata": {
        "colab": {
          "base_uri": "https://localhost:8080/"
        },
        "id": "Y2wCHWyMP4Mk",
        "outputId": "af4fc82e-ac44-4276-c5f2-c8f90c703404"
      },
      "source": [
        "pip install mlxtend"
      ],
      "execution_count": 56,
      "outputs": [
        {
          "output_type": "stream",
          "name": "stdout",
          "text": [
            "Requirement already satisfied: mlxtend in /usr/local/lib/python3.7/dist-packages (0.14.0)\n",
            "Requirement already satisfied: matplotlib>=1.5.1 in /usr/local/lib/python3.7/dist-packages (from mlxtend) (3.2.2)\n",
            "Requirement already satisfied: numpy>=1.10.4 in /usr/local/lib/python3.7/dist-packages (from mlxtend) (1.19.5)\n",
            "Requirement already satisfied: pandas>=0.17.1 in /usr/local/lib/python3.7/dist-packages (from mlxtend) (1.1.5)\n",
            "Requirement already satisfied: scikit-learn>=0.18 in /usr/local/lib/python3.7/dist-packages (from mlxtend) (1.0.1)\n",
            "Requirement already satisfied: setuptools in /usr/local/lib/python3.7/dist-packages (from mlxtend) (57.4.0)\n",
            "Requirement already satisfied: scipy>=0.17 in /usr/local/lib/python3.7/dist-packages (from mlxtend) (1.4.1)\n",
            "Requirement already satisfied: kiwisolver>=1.0.1 in /usr/local/lib/python3.7/dist-packages (from matplotlib>=1.5.1->mlxtend) (1.3.2)\n",
            "Requirement already satisfied: pyparsing!=2.0.4,!=2.1.2,!=2.1.6,>=2.0.1 in /usr/local/lib/python3.7/dist-packages (from matplotlib>=1.5.1->mlxtend) (3.0.6)\n",
            "Requirement already satisfied: cycler>=0.10 in /usr/local/lib/python3.7/dist-packages (from matplotlib>=1.5.1->mlxtend) (0.11.0)\n",
            "Requirement already satisfied: python-dateutil>=2.1 in /usr/local/lib/python3.7/dist-packages (from matplotlib>=1.5.1->mlxtend) (2.8.2)\n",
            "Requirement already satisfied: pytz>=2017.2 in /usr/local/lib/python3.7/dist-packages (from pandas>=0.17.1->mlxtend) (2018.9)\n",
            "Requirement already satisfied: six>=1.5 in /usr/local/lib/python3.7/dist-packages (from python-dateutil>=2.1->matplotlib>=1.5.1->mlxtend) (1.15.0)\n",
            "Requirement already satisfied: threadpoolctl>=2.0.0 in /usr/local/lib/python3.7/dist-packages (from scikit-learn>=0.18->mlxtend) (3.0.0)\n",
            "Requirement already satisfied: joblib>=0.11 in /usr/local/lib/python3.7/dist-packages (from scikit-learn>=0.18->mlxtend) (1.1.0)\n"
          ]
        }
      ]
    },
    {
      "cell_type": "code",
      "metadata": {
        "colab": {
          "base_uri": "https://localhost:8080/",
          "height": 313
        },
        "id": "tsjb9fGxP6TR",
        "outputId": "12bd541a-58e4-4100-d7d8-241f73e7bc0c"
      },
      "source": [
        "cf = metrics.confusion_matrix(expected,predicted,labels = [1,0])\n",
        "print(cf)\n",
        "## this command is only for google collab \n",
        "## in the below figure \" 1 is actually showing -1 and 0 is actually showing 1\"\n",
        "fig, ax = plot_confusion_matrix(conf_mat = cf)\n",
        "                                \n",
        "## It canbe used in any platform\n",
        "# fig, ax = plot_confusion_matrix(conf_mat = cf, class_names = [1,-1])\n",
        "plt.show()"
      ],
      "execution_count": 57,
      "outputs": [
        {
          "output_type": "stream",
          "name": "stdout",
          "text": [
            "[[662 102]\n",
            " [ 55 630]]\n"
          ]
        },
        {
          "output_type": "display_data",
          "data": {
            "image/png": "[encoded data removed]",
            "text/plain": [
              "<Figure size 432x288 with 1 Axes>"
            ]
          },
          "metadata": {
            "needs_background": "light"
          }
        }
      ]
    },
    {
      "cell_type": "code",
      "metadata": {
        "colab": {
          "base_uri": "https://localhost:8080/"
        },
        "id": "mvyyqJu5QEg3",
        "outputId": "02db8e9e-4896-4a04-a575-f1fc317e935a"
      },
      "source": [
        "from sklearn import metrics\n",
        "print(metrics.classification_report(expected, predicted))\n",
        "# print(metrics.confusion_matrix(expected,predicted))"
      ],
      "execution_count": 58,
      "outputs": [
        {
          "output_type": "stream",
          "name": "stdout",
          "text": [
            "              precision    recall  f1-score   support\n",
            "\n",
            "           0       0.86      0.92      0.89       685\n",
            "           1       0.92      0.87      0.89       764\n",
            "\n",
            "    accuracy                           0.89      1449\n",
            "   macro avg       0.89      0.89      0.89      1449\n",
            "weighted avg       0.89      0.89      0.89      1449\n",
            "\n"
          ]
        }
      ]
    },
    {
      "cell_type": "markdown",
      "metadata": {
        "id": "cHgUm1hkQU1B"
      },
      "source": [
        "**find the F1 score**"
      ]
    },
    {
      "cell_type": "code",
      "metadata": {
        "colab": {
          "base_uri": "https://localhost:8080/"
        },
        "id": "V_V3UiHrQQwq",
        "outputId": "fd7d7213-23f8-40d4-cf40-49885efa4a0c"
      },
      "source": [
        "from sklearn.metrics import f1_score\n",
        "f1_score(expected, predicted, average='macro')"
      ],
      "execution_count": 59,
      "outputs": [
        {
          "output_type": "execute_result",
          "data": {
            "text/plain": [
              "0.8915965437532194"
            ]
          },
          "metadata": {},
          "execution_count": 59
        }
      ]
    },
    {
      "cell_type": "code",
      "metadata": {
        "id": "-qKrhrlNQYZz"
      },
      "source": [
        ""
      ],
      "execution_count": 59,
      "outputs": []
    },
    {
      "cell_type": "markdown",
      "metadata": {
        "id": "MkH-siBEW_CK"
      },
      "source": [
        "# **Test the model with the comments of the other video**"
      ]
    },
    {
      "cell_type": "code",
      "metadata": {
        "id": "49aYl4abW-Q_"
      },
      "source": [
        "data_test = pd.read_csv('Video_2/Dataset-with-sentiments.csv')"
      ],
      "execution_count": 60,
      "outputs": []
    },
    {
      "cell_type": "code",
      "metadata": {
        "colab": {
          "base_uri": "https://localhost:8080/"
        },
        "id": "7x-Lg57dW-TR",
        "outputId": "0c05af6e-696d-4cac-b3d7-e5934db8ae4c"
      },
      "source": [
        "sum(data_test['stop_comments'].isnull())"
      ],
      "execution_count": 61,
      "outputs": [
        {
          "output_type": "execute_result",
          "data": {
            "text/plain": [
              "1"
            ]
          },
          "metadata": {},
          "execution_count": 61
        }
      ]
    },
    {
      "cell_type": "code",
      "metadata": {
        "id": "2sZagICvW-V4"
      },
      "source": [
        "data_test = data_test[data_test['stop_comments'].notnull()]"
      ],
      "execution_count": 62,
      "outputs": []
    },
    {
      "cell_type": "code",
      "metadata": {
        "colab": {
          "base_uri": "https://localhost:8080/"
        },
        "id": "ZTVY0bXoXUiU",
        "outputId": "78702f89-ce8e-4157-a5db-afa30eabcb98"
      },
      "source": [
        "sum(data_test['stop_comments'].isnull())"
      ],
      "execution_count": 63,
      "outputs": [
        {
          "output_type": "execute_result",
          "data": {
            "text/plain": [
              "0"
            ]
          },
          "metadata": {},
          "execution_count": 63
        }
      ]
    },
    {
      "cell_type": "code",
      "metadata": {
        "colab": {
          "base_uri": "https://localhost:8080/"
        },
        "id": "FyuQy3KlXauP",
        "outputId": "c5c634ad-a8a2-4152-f20f-debe5b22ec90"
      },
      "source": [
        "data_test['pol_cat'].value_counts()"
      ],
      "execution_count": 64,
      "outputs": [
        {
          "output_type": "execute_result",
          "data": {
            "text/plain": [
              "1    832\n",
              "0    673\n",
              "Name: pol_cat, dtype: int64"
            ]
          },
          "metadata": {},
          "execution_count": 64
        }
      ]
    },
    {
      "cell_type": "code",
      "metadata": {
        "id": "TJ__6hRSXUpa"
      },
      "source": [
        "tf_test = vect.transform(data_test['stop_comments'])"
      ],
      "execution_count": 65,
      "outputs": []
    },
    {
      "cell_type": "code",
      "metadata": {
        "colab": {
          "base_uri": "https://localhost:8080/"
        },
        "id": "V9mqYkrpXh6m",
        "outputId": "39234412-dbdc-44dd-f076-344eeda053a5"
      },
      "source": [
        "tf_test"
      ],
      "execution_count": 66,
      "outputs": [
        {
          "output_type": "execute_result",
          "data": {
            "text/plain": [
              "<1505x8118 sparse matrix of type '<class 'numpy.float64'>'\n",
              "\twith 13797 stored elements in Compressed Sparse Row format>"
            ]
          },
          "metadata": {},
          "execution_count": 66
        }
      ]
    },
    {
      "cell_type": "code",
      "metadata": {
        "colab": {
          "base_uri": "https://localhost:8080/"
        },
        "id": "-GPQ1HUOXh81",
        "outputId": "ea348db0-adf7-426a-d75c-b785c0784c28"
      },
      "source": [
        "tf_test.toarray()[0].sum()"
      ],
      "execution_count": 67,
      "outputs": [
        {
          "output_type": "execute_result",
          "data": {
            "text/plain": [
              "1.2038758500686517"
            ]
          },
          "metadata": {},
          "execution_count": 67
        }
      ]
    },
    {
      "cell_type": "code",
      "metadata": {
        "colab": {
          "base_uri": "https://localhost:8080/"
        },
        "id": "ChzcASkeZJoL",
        "outputId": "3bbfb973-4912-412c-9d12-6677bab29250"
      },
      "source": [
        "tf_train.toarray().shape"
      ],
      "execution_count": 68,
      "outputs": [
        {
          "output_type": "execute_result",
          "data": {
            "text/plain": [
              "(5794, 8118)"
            ]
          },
          "metadata": {},
          "execution_count": 68
        }
      ]
    },
    {
      "cell_type": "code",
      "metadata": {
        "colab": {
          "base_uri": "https://localhost:8080/"
        },
        "id": "8-B07HAkZQ8G",
        "outputId": "997243af-9299-4656-db21-77936caf4e95"
      },
      "source": [
        "tf_test.toarray().shape"
      ],
      "execution_count": 69,
      "outputs": [
        {
          "output_type": "execute_result",
          "data": {
            "text/plain": [
              "(1505, 8118)"
            ]
          },
          "metadata": {},
          "execution_count": 69
        }
      ]
    },
    {
      "cell_type": "code",
      "metadata": {
        "id": "rxrfjrut7PL4"
      },
      "source": [
        ""
      ],
      "execution_count": 69,
      "outputs": []
    },
    {
      "cell_type": "code",
      "metadata": {
        "id": "fLhODahE7PPD",
        "outputId": "b577a5e2-f7a2-4202-e3d3-9f3e7c57999f",
        "colab": {
          "base_uri": "https://localhost:8080/",
          "height": 313
        }
      },
      "source": [
        "cf = metrics.confusion_matrix(expected,predicted,labels = [1,0])\n",
        "print(cf)\n",
        "## this command is only for google collab \n",
        "## in the below figure \" 1 is actually showing -1 and 0 is actually showing 1\"\n",
        "fig, ax = plot_confusion_matrix(conf_mat = cf)\n",
        "                                \n",
        "## It canbe used in any platform\n",
        "# fig, ax = plot_confusion_matrix(conf_mat = cf, class_names = [1,-1])\n",
        "plt.show()"
      ],
      "execution_count": 70,
      "outputs": [
        {
          "output_type": "stream",
          "name": "stdout",
          "text": [
            "[[662 102]\n",
            " [ 55 630]]\n"
          ]
        },
        {
          "output_type": "display_data",
          "data": {
            "image/png": "[encoded data removed]",
            "text/plain": [
              "<Figure size 432x288 with 1 Axes>"
            ]
          },
          "metadata": {
            "needs_background": "light"
          }
        }
      ]
    },
    {
      "cell_type": "code",
      "metadata": {
        "id": "ih-ZatLs7TQl",
        "outputId": "17c29620-9d76-4f6b-f21e-014d3e8c2ca0",
        "colab": {
          "base_uri": "https://localhost:8080/"
        }
      },
      "source": [
        "from sklearn import metrics\n",
        "print(metrics.classification_report(expected, predicted))\n",
        "# print(metrics.confusion_matrix(expected,predicted))"
      ],
      "execution_count": 71,
      "outputs": [
        {
          "output_type": "stream",
          "name": "stdout",
          "text": [
            "              precision    recall  f1-score   support\n",
            "\n",
            "           0       0.86      0.92      0.89       685\n",
            "           1       0.92      0.87      0.89       764\n",
            "\n",
            "    accuracy                           0.89      1449\n",
            "   macro avg       0.89      0.89      0.89      1449\n",
            "weighted avg       0.89      0.89      0.89      1449\n",
            "\n"
          ]
        }
      ]
    },
    {
      "cell_type": "code",
      "metadata": {
        "id": "9icfbKcJ7WNr",
        "outputId": "1ea1447e-c3cd-4f56-c03d-4323a3361a32",
        "colab": {
          "base_uri": "https://localhost:8080/"
        }
      },
      "source": [
        "from sklearn.metrics import f1_score\n",
        "f1_score(expected, predicted, average='macro')"
      ],
      "execution_count": 72,
      "outputs": [
        {
          "output_type": "execute_result",
          "data": {
            "text/plain": [
              "0.8915965437532194"
            ]
          },
          "metadata": {},
          "execution_count": 72
        }
      ]
    },
    {
      "cell_type": "code",
      "metadata": {
        "id": "iu9aH1ak7ZOz"
      },
      "source": [
        ""
      ],
      "execution_count": 72,
      "outputs": []
    },
    {
      "cell_type": "code",
      "metadata": {
        "colab": {
          "base_uri": "https://localhost:8080/"
        },
        "id": "Kj2u3qRSXiBA",
        "outputId": "49702be2-b170-49e2-c5c6-cca43e019b02"
      },
      "source": [
        "classifier_linear.score(tf_test, data_test['pol_cat'])"
      ],
      "execution_count": 73,
      "outputs": [
        {
          "output_type": "execute_result",
          "data": {
            "text/plain": [
              "0.9222591362126246"
            ]
          },
          "metadata": {},
          "execution_count": 73
        }
      ]
    },
    {
      "cell_type": "code",
      "metadata": {
        "id": "54vd9k-0bDCx"
      },
      "source": [
        ""
      ],
      "execution_count": 73,
      "outputs": []
    }
  ]
}